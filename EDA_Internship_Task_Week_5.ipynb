{
  "nbformat": 4,
  "nbformat_minor": 0,
  "metadata": {
    "colab": {
      "provenance": []
    },
    "kernelspec": {
      "name": "python3",
      "display_name": "Python 3"
    },
    "language_info": {
      "name": "python"
    }
  },
  "cells": [
    {
      "cell_type": "markdown",
      "source": [
        "**Instagram Post Analysis**"
      ],
      "metadata": {
        "id": "tYFruwLHMKLo"
      }
    },
    {
      "cell_type": "code",
      "execution_count": 1,
      "metadata": {
        "id": "jo4bTELqsaHD"
      },
      "outputs": [],
      "source": [
        "import pandas as pd\n",
        "import plotly.express as px\n",
        "import plotly.graph_objects as go\n",
        "import plotly.io as pio\n",
        "from wordcloud import WordCloud\n",
        "pio.templates.default = \"plotly_white\""
      ]
    },
    {
      "cell_type": "code",
      "source": [
        "df = pd.read_csv(\"/content/Instagram.csv\", encoding='latin-1')"
      ],
      "metadata": {
        "id": "FvFk4ksmF9bc"
      },
      "execution_count": 11,
      "outputs": []
    },
    {
      "cell_type": "markdown",
      "source": [
        "**Q.1: Show column names and have a look at their info.**"
      ],
      "metadata": {
        "id": "BEUNEDCyMNVx"
      }
    },
    {
      "cell_type": "code",
      "source": [
        "print(\"Column Names:\")\n",
        "print(df.columns)\n"
      ],
      "metadata": {
        "colab": {
          "base_uri": "https://localhost:8080/"
        },
        "id": "Sz8OOZW1GARv",
        "outputId": "0f934bc7-accd-4da5-fe4d-9d80bc456263"
      },
      "execution_count": 13,
      "outputs": [
        {
          "output_type": "stream",
          "name": "stdout",
          "text": [
            "Column Names:\n",
            "Index(['Impressions', 'From Home', 'From Hashtags', 'From Explore',\n",
            "       'From Other', 'Saves', 'Comments', 'Shares', 'Likes', 'Profile Visits',\n",
            "       'Follows', 'Caption', 'Hashtags'],\n",
            "      dtype='object')\n"
          ]
        }
      ]
    },
    {
      "cell_type": "code",
      "source": [
        "# Display column info\n",
        "print(\"\\nColumn Info:\")\n",
        "print(df.info())"
      ],
      "metadata": {
        "colab": {
          "base_uri": "https://localhost:8080/"
        },
        "id": "hGd6yAa5IEbr",
        "outputId": "b56648b9-e61d-4e72-b9b3-642ca06774c0"
      },
      "execution_count": 14,
      "outputs": [
        {
          "output_type": "stream",
          "name": "stdout",
          "text": [
            "\n",
            "Column Info:\n",
            "<class 'pandas.core.frame.DataFrame'>\n",
            "RangeIndex: 119 entries, 0 to 118\n",
            "Data columns (total 13 columns):\n",
            " #   Column          Non-Null Count  Dtype \n",
            "---  ------          --------------  ----- \n",
            " 0   Impressions     119 non-null    int64 \n",
            " 1   From Home       119 non-null    int64 \n",
            " 2   From Hashtags   119 non-null    int64 \n",
            " 3   From Explore    119 non-null    int64 \n",
            " 4   From Other      119 non-null    int64 \n",
            " 5   Saves           119 non-null    int64 \n",
            " 6   Comments        119 non-null    int64 \n",
            " 7   Shares          119 non-null    int64 \n",
            " 8   Likes           119 non-null    int64 \n",
            " 9   Profile Visits  119 non-null    int64 \n",
            " 10  Follows         119 non-null    int64 \n",
            " 11  Caption         119 non-null    object\n",
            " 12  Hashtags        119 non-null    object\n",
            "dtypes: int64(11), object(2)\n",
            "memory usage: 12.2+ KB\n",
            "None\n"
          ]
        }
      ]
    },
    {
      "cell_type": "code",
      "source": [
        "df.head()"
      ],
      "metadata": {
        "colab": {
          "base_uri": "https://localhost:8080/",
          "height": 571
        },
        "id": "hAWtK7sLIFlB",
        "outputId": "e1c3f106-3a75-4f22-91b6-dc1a4f4d4f3c"
      },
      "execution_count": 15,
      "outputs": [
        {
          "output_type": "execute_result",
          "data": {
            "text/plain": [
              "   Impressions  From Home  From Hashtags  From Explore  From Other  Saves  \\\n",
              "0         3920       2586           1028           619          56     98   \n",
              "1         5394       2727           1838          1174          78    194   \n",
              "2         4021       2085           1188             0         533     41   \n",
              "3         4528       2700            621           932          73    172   \n",
              "4         2518       1704            255           279          37     96   \n",
              "\n",
              "   Comments  Shares  Likes  Profile Visits  Follows  \\\n",
              "0         9       5    162              35        2   \n",
              "1         7      14    224              48       10   \n",
              "2        11       1    131              62       12   \n",
              "3        10       7    213              23        8   \n",
              "4         5       4    123               8        0   \n",
              "\n",
              "                                             Caption  \\\n",
              "0  Here are some of the most important data visua...   \n",
              "1  Here are some of the best data science project...   \n",
              "2  Learn how to train a machine learning model an...   \n",
              "3  Heres how you can write a Python program to d...   \n",
              "4  Plotting annotations while visualizing your da...   \n",
              "\n",
              "                                            Hashtags  \n",
              "0  #finance #money #business #investing #investme...  \n",
              "1  #healthcare #health #covid #data #datascience ...  \n",
              "2  #data #datascience #dataanalysis #dataanalytic...  \n",
              "3  #python #pythonprogramming #pythonprojects #py...  \n",
              "4  #datavisualization #datascience #data #dataana...  "
            ],
            "text/html": [
              "\n",
              "  <div id=\"df-7eac7efe-ceeb-4a20-8082-b50b7c09ba36\" class=\"colab-df-container\">\n",
              "    <div>\n",
              "<style scoped>\n",
              "    .dataframe tbody tr th:only-of-type {\n",
              "        vertical-align: middle;\n",
              "    }\n",
              "\n",
              "    .dataframe tbody tr th {\n",
              "        vertical-align: top;\n",
              "    }\n",
              "\n",
              "    .dataframe thead th {\n",
              "        text-align: right;\n",
              "    }\n",
              "</style>\n",
              "<table border=\"1\" class=\"dataframe\">\n",
              "  <thead>\n",
              "    <tr style=\"text-align: right;\">\n",
              "      <th></th>\n",
              "      <th>Impressions</th>\n",
              "      <th>From Home</th>\n",
              "      <th>From Hashtags</th>\n",
              "      <th>From Explore</th>\n",
              "      <th>From Other</th>\n",
              "      <th>Saves</th>\n",
              "      <th>Comments</th>\n",
              "      <th>Shares</th>\n",
              "      <th>Likes</th>\n",
              "      <th>Profile Visits</th>\n",
              "      <th>Follows</th>\n",
              "      <th>Caption</th>\n",
              "      <th>Hashtags</th>\n",
              "    </tr>\n",
              "  </thead>\n",
              "  <tbody>\n",
              "    <tr>\n",
              "      <th>0</th>\n",
              "      <td>3920</td>\n",
              "      <td>2586</td>\n",
              "      <td>1028</td>\n",
              "      <td>619</td>\n",
              "      <td>56</td>\n",
              "      <td>98</td>\n",
              "      <td>9</td>\n",
              "      <td>5</td>\n",
              "      <td>162</td>\n",
              "      <td>35</td>\n",
              "      <td>2</td>\n",
              "      <td>Here are some of the most important data visua...</td>\n",
              "      <td>#finance #money #business #investing #investme...</td>\n",
              "    </tr>\n",
              "    <tr>\n",
              "      <th>1</th>\n",
              "      <td>5394</td>\n",
              "      <td>2727</td>\n",
              "      <td>1838</td>\n",
              "      <td>1174</td>\n",
              "      <td>78</td>\n",
              "      <td>194</td>\n",
              "      <td>7</td>\n",
              "      <td>14</td>\n",
              "      <td>224</td>\n",
              "      <td>48</td>\n",
              "      <td>10</td>\n",
              "      <td>Here are some of the best data science project...</td>\n",
              "      <td>#healthcare #health #covid #data #datascience ...</td>\n",
              "    </tr>\n",
              "    <tr>\n",
              "      <th>2</th>\n",
              "      <td>4021</td>\n",
              "      <td>2085</td>\n",
              "      <td>1188</td>\n",
              "      <td>0</td>\n",
              "      <td>533</td>\n",
              "      <td>41</td>\n",
              "      <td>11</td>\n",
              "      <td>1</td>\n",
              "      <td>131</td>\n",
              "      <td>62</td>\n",
              "      <td>12</td>\n",
              "      <td>Learn how to train a machine learning model an...</td>\n",
              "      <td>#data #datascience #dataanalysis #dataanalytic...</td>\n",
              "    </tr>\n",
              "    <tr>\n",
              "      <th>3</th>\n",
              "      <td>4528</td>\n",
              "      <td>2700</td>\n",
              "      <td>621</td>\n",
              "      <td>932</td>\n",
              "      <td>73</td>\n",
              "      <td>172</td>\n",
              "      <td>10</td>\n",
              "      <td>7</td>\n",
              "      <td>213</td>\n",
              "      <td>23</td>\n",
              "      <td>8</td>\n",
              "      <td>Heres how you can write a Python program to d...</td>\n",
              "      <td>#python #pythonprogramming #pythonprojects #py...</td>\n",
              "    </tr>\n",
              "    <tr>\n",
              "      <th>4</th>\n",
              "      <td>2518</td>\n",
              "      <td>1704</td>\n",
              "      <td>255</td>\n",
              "      <td>279</td>\n",
              "      <td>37</td>\n",
              "      <td>96</td>\n",
              "      <td>5</td>\n",
              "      <td>4</td>\n",
              "      <td>123</td>\n",
              "      <td>8</td>\n",
              "      <td>0</td>\n",
              "      <td>Plotting annotations while visualizing your da...</td>\n",
              "      <td>#datavisualization #datascience #data #dataana...</td>\n",
              "    </tr>\n",
              "  </tbody>\n",
              "</table>\n",
              "</div>\n",
              "    <div class=\"colab-df-buttons\">\n",
              "\n",
              "  <div class=\"colab-df-container\">\n",
              "    <button class=\"colab-df-convert\" onclick=\"convertToInteractive('df-7eac7efe-ceeb-4a20-8082-b50b7c09ba36')\"\n",
              "            title=\"Convert this dataframe to an interactive table.\"\n",
              "            style=\"display:none;\">\n",
              "\n",
              "  <svg xmlns=\"http://www.w3.org/2000/svg\" height=\"24px\" viewBox=\"0 -960 960 960\">\n",
              "    <path d=\"M120-120v-720h720v720H120Zm60-500h600v-160H180v160Zm220 220h160v-160H400v160Zm0 220h160v-160H400v160ZM180-400h160v-160H180v160Zm440 0h160v-160H620v160ZM180-180h160v-160H180v160Zm440 0h160v-160H620v160Z\"/>\n",
              "  </svg>\n",
              "    </button>\n",
              "\n",
              "  <style>\n",
              "    .colab-df-container {\n",
              "      display:flex;\n",
              "      gap: 12px;\n",
              "    }\n",
              "\n",
              "    .colab-df-convert {\n",
              "      background-color: #E8F0FE;\n",
              "      border: none;\n",
              "      border-radius: 50%;\n",
              "      cursor: pointer;\n",
              "      display: none;\n",
              "      fill: #1967D2;\n",
              "      height: 32px;\n",
              "      padding: 0 0 0 0;\n",
              "      width: 32px;\n",
              "    }\n",
              "\n",
              "    .colab-df-convert:hover {\n",
              "      background-color: #E2EBFA;\n",
              "      box-shadow: 0px 1px 2px rgba(60, 64, 67, 0.3), 0px 1px 3px 1px rgba(60, 64, 67, 0.15);\n",
              "      fill: #174EA6;\n",
              "    }\n",
              "\n",
              "    .colab-df-buttons div {\n",
              "      margin-bottom: 4px;\n",
              "    }\n",
              "\n",
              "    [theme=dark] .colab-df-convert {\n",
              "      background-color: #3B4455;\n",
              "      fill: #D2E3FC;\n",
              "    }\n",
              "\n",
              "    [theme=dark] .colab-df-convert:hover {\n",
              "      background-color: #434B5C;\n",
              "      box-shadow: 0px 1px 3px 1px rgba(0, 0, 0, 0.15);\n",
              "      filter: drop-shadow(0px 1px 2px rgba(0, 0, 0, 0.3));\n",
              "      fill: #FFFFFF;\n",
              "    }\n",
              "  </style>\n",
              "\n",
              "    <script>\n",
              "      const buttonEl =\n",
              "        document.querySelector('#df-7eac7efe-ceeb-4a20-8082-b50b7c09ba36 button.colab-df-convert');\n",
              "      buttonEl.style.display =\n",
              "        google.colab.kernel.accessAllowed ? 'block' : 'none';\n",
              "\n",
              "      async function convertToInteractive(key) {\n",
              "        const element = document.querySelector('#df-7eac7efe-ceeb-4a20-8082-b50b7c09ba36');\n",
              "        const dataTable =\n",
              "          await google.colab.kernel.invokeFunction('convertToInteractive',\n",
              "                                                    [key], {});\n",
              "        if (!dataTable) return;\n",
              "\n",
              "        const docLinkHtml = 'Like what you see? Visit the ' +\n",
              "          '<a target=\"_blank\" href=https://colab.research.google.com/notebooks/data_table.ipynb>data table notebook</a>'\n",
              "          + ' to learn more about interactive tables.';\n",
              "        element.innerHTML = '';\n",
              "        dataTable['output_type'] = 'display_data';\n",
              "        await google.colab.output.renderOutput(dataTable, element);\n",
              "        const docLink = document.createElement('div');\n",
              "        docLink.innerHTML = docLinkHtml;\n",
              "        element.appendChild(docLink);\n",
              "      }\n",
              "    </script>\n",
              "  </div>\n",
              "\n",
              "\n",
              "<div id=\"df-17d03215-1bc3-4dc8-9cb6-dfc8d7947f8e\">\n",
              "  <button class=\"colab-df-quickchart\" onclick=\"quickchart('df-17d03215-1bc3-4dc8-9cb6-dfc8d7947f8e')\"\n",
              "            title=\"Suggest charts\"\n",
              "            style=\"display:none;\">\n",
              "\n",
              "<svg xmlns=\"http://www.w3.org/2000/svg\" height=\"24px\"viewBox=\"0 0 24 24\"\n",
              "     width=\"24px\">\n",
              "    <g>\n",
              "        <path d=\"M19 3H5c-1.1 0-2 .9-2 2v14c0 1.1.9 2 2 2h14c1.1 0 2-.9 2-2V5c0-1.1-.9-2-2-2zM9 17H7v-7h2v7zm4 0h-2V7h2v10zm4 0h-2v-4h2v4z\"/>\n",
              "    </g>\n",
              "</svg>\n",
              "  </button>\n",
              "\n",
              "<style>\n",
              "  .colab-df-quickchart {\n",
              "      --bg-color: #E8F0FE;\n",
              "      --fill-color: #1967D2;\n",
              "      --hover-bg-color: #E2EBFA;\n",
              "      --hover-fill-color: #174EA6;\n",
              "      --disabled-fill-color: #AAA;\n",
              "      --disabled-bg-color: #DDD;\n",
              "  }\n",
              "\n",
              "  [theme=dark] .colab-df-quickchart {\n",
              "      --bg-color: #3B4455;\n",
              "      --fill-color: #D2E3FC;\n",
              "      --hover-bg-color: #434B5C;\n",
              "      --hover-fill-color: #FFFFFF;\n",
              "      --disabled-bg-color: #3B4455;\n",
              "      --disabled-fill-color: #666;\n",
              "  }\n",
              "\n",
              "  .colab-df-quickchart {\n",
              "    background-color: var(--bg-color);\n",
              "    border: none;\n",
              "    border-radius: 50%;\n",
              "    cursor: pointer;\n",
              "    display: none;\n",
              "    fill: var(--fill-color);\n",
              "    height: 32px;\n",
              "    padding: 0;\n",
              "    width: 32px;\n",
              "  }\n",
              "\n",
              "  .colab-df-quickchart:hover {\n",
              "    background-color: var(--hover-bg-color);\n",
              "    box-shadow: 0 1px 2px rgba(60, 64, 67, 0.3), 0 1px 3px 1px rgba(60, 64, 67, 0.15);\n",
              "    fill: var(--button-hover-fill-color);\n",
              "  }\n",
              "\n",
              "  .colab-df-quickchart-complete:disabled,\n",
              "  .colab-df-quickchart-complete:disabled:hover {\n",
              "    background-color: var(--disabled-bg-color);\n",
              "    fill: var(--disabled-fill-color);\n",
              "    box-shadow: none;\n",
              "  }\n",
              "\n",
              "  .colab-df-spinner {\n",
              "    border: 2px solid var(--fill-color);\n",
              "    border-color: transparent;\n",
              "    border-bottom-color: var(--fill-color);\n",
              "    animation:\n",
              "      spin 1s steps(1) infinite;\n",
              "  }\n",
              "\n",
              "  @keyframes spin {\n",
              "    0% {\n",
              "      border-color: transparent;\n",
              "      border-bottom-color: var(--fill-color);\n",
              "      border-left-color: var(--fill-color);\n",
              "    }\n",
              "    20% {\n",
              "      border-color: transparent;\n",
              "      border-left-color: var(--fill-color);\n",
              "      border-top-color: var(--fill-color);\n",
              "    }\n",
              "    30% {\n",
              "      border-color: transparent;\n",
              "      border-left-color: var(--fill-color);\n",
              "      border-top-color: var(--fill-color);\n",
              "      border-right-color: var(--fill-color);\n",
              "    }\n",
              "    40% {\n",
              "      border-color: transparent;\n",
              "      border-right-color: var(--fill-color);\n",
              "      border-top-color: var(--fill-color);\n",
              "    }\n",
              "    60% {\n",
              "      border-color: transparent;\n",
              "      border-right-color: var(--fill-color);\n",
              "    }\n",
              "    80% {\n",
              "      border-color: transparent;\n",
              "      border-right-color: var(--fill-color);\n",
              "      border-bottom-color: var(--fill-color);\n",
              "    }\n",
              "    90% {\n",
              "      border-color: transparent;\n",
              "      border-bottom-color: var(--fill-color);\n",
              "    }\n",
              "  }\n",
              "</style>\n",
              "\n",
              "  <script>\n",
              "    async function quickchart(key) {\n",
              "      const quickchartButtonEl =\n",
              "        document.querySelector('#' + key + ' button');\n",
              "      quickchartButtonEl.disabled = true;  // To prevent multiple clicks.\n",
              "      quickchartButtonEl.classList.add('colab-df-spinner');\n",
              "      try {\n",
              "        const charts = await google.colab.kernel.invokeFunction(\n",
              "            'suggestCharts', [key], {});\n",
              "      } catch (error) {\n",
              "        console.error('Error during call to suggestCharts:', error);\n",
              "      }\n",
              "      quickchartButtonEl.classList.remove('colab-df-spinner');\n",
              "      quickchartButtonEl.classList.add('colab-df-quickchart-complete');\n",
              "    }\n",
              "    (() => {\n",
              "      let quickchartButtonEl =\n",
              "        document.querySelector('#df-17d03215-1bc3-4dc8-9cb6-dfc8d7947f8e button');\n",
              "      quickchartButtonEl.style.display =\n",
              "        google.colab.kernel.accessAllowed ? 'block' : 'none';\n",
              "    })();\n",
              "  </script>\n",
              "</div>\n",
              "\n",
              "    </div>\n",
              "  </div>\n"
            ],
            "application/vnd.google.colaboratory.intrinsic+json": {
              "type": "dataframe",
              "variable_name": "df",
              "summary": "{\n  \"name\": \"df\",\n  \"rows\": 119,\n  \"fields\": [\n    {\n      \"column\": \"Impressions\",\n      \"properties\": {\n        \"dtype\": \"number\",\n        \"std\": 4843,\n        \"min\": 1941,\n        \"max\": 36919,\n        \"num_unique_values\": 101,\n        \"samples\": [\n          4150,\n          4978,\n          10933\n        ],\n        \"semantic_type\": \"\",\n        \"description\": \"\"\n      }\n    },\n    {\n      \"column\": \"From Home\",\n      \"properties\": {\n        \"dtype\": \"number\",\n        \"std\": 1489,\n        \"min\": 1133,\n        \"max\": 13473,\n        \"num_unique_values\": 97,\n        \"samples\": [\n          3717,\n          3144,\n          1923\n        ],\n        \"semantic_type\": \"\",\n        \"description\": \"\"\n      }\n    },\n    {\n      \"column\": \"From Hashtags\",\n      \"properties\": {\n        \"dtype\": \"number\",\n        \"std\": 1884,\n        \"min\": 116,\n        \"max\": 11817,\n        \"num_unique_values\": 100,\n        \"samples\": [\n          5055,\n          6564,\n          1699\n        ],\n        \"semantic_type\": \"\",\n        \"description\": \"\"\n      }\n    },\n    {\n      \"column\": \"From Explore\",\n      \"properties\": {\n        \"dtype\": \"number\",\n        \"std\": 2613,\n        \"min\": 0,\n        \"max\": 17414,\n        \"num_unique_values\": 95,\n        \"samples\": [\n          213,\n          2081,\n          217\n        ],\n        \"semantic_type\": \"\",\n        \"description\": \"\"\n      }\n    },\n    {\n      \"column\": \"From Other\",\n      \"properties\": {\n        \"dtype\": \"number\",\n        \"std\": 289,\n        \"min\": 9,\n        \"max\": 2547,\n        \"num_unique_values\": 84,\n        \"samples\": [\n          309,\n          56,\n          168\n        ],\n        \"semantic_type\": \"\",\n        \"description\": \"\"\n      }\n    },\n    {\n      \"column\": \"Saves\",\n      \"properties\": {\n        \"dtype\": \"number\",\n        \"std\": 156,\n        \"min\": 22,\n        \"max\": 1095,\n        \"num_unique_values\": 84,\n        \"samples\": [\n          73,\n          98,\n          104\n        ],\n        \"semantic_type\": \"\",\n        \"description\": \"\"\n      }\n    },\n    {\n      \"column\": \"Comments\",\n      \"properties\": {\n        \"dtype\": \"number\",\n        \"std\": 3,\n        \"min\": 0,\n        \"max\": 19,\n        \"num_unique_values\": 15,\n        \"samples\": [\n          3,\n          2,\n          9\n        ],\n        \"semantic_type\": \"\",\n        \"description\": \"\"\n      }\n    },\n    {\n      \"column\": \"Shares\",\n      \"properties\": {\n        \"dtype\": \"number\",\n        \"std\": 10,\n        \"min\": 0,\n        \"max\": 75,\n        \"num_unique_values\": 28,\n        \"samples\": [\n          11,\n          38,\n          3\n        ],\n        \"semantic_type\": \"\",\n        \"description\": \"\"\n      }\n    },\n    {\n      \"column\": \"Likes\",\n      \"properties\": {\n        \"dtype\": \"number\",\n        \"std\": 82,\n        \"min\": 72,\n        \"max\": 549,\n        \"num_unique_values\": 85,\n        \"samples\": [\n          163,\n          162,\n          250\n        ],\n        \"semantic_type\": \"\",\n        \"description\": \"\"\n      }\n    },\n    {\n      \"column\": \"Profile Visits\",\n      \"properties\": {\n        \"dtype\": \"number\",\n        \"std\": 87,\n        \"min\": 4,\n        \"max\": 611,\n        \"num_unique_values\": 59,\n        \"samples\": [\n          35,\n          9,\n          39\n        ],\n        \"semantic_type\": \"\",\n        \"description\": \"\"\n      }\n    },\n    {\n      \"column\": \"Follows\",\n      \"properties\": {\n        \"dtype\": \"number\",\n        \"std\": 40,\n        \"min\": 0,\n        \"max\": 260,\n        \"num_unique_values\": 29,\n        \"samples\": [\n          214,\n          74,\n          26\n        ],\n        \"semantic_type\": \"\",\n        \"description\": \"\"\n      }\n    },\n    {\n      \"column\": \"Caption\",\n      \"properties\": {\n        \"dtype\": \"string\",\n        \"num_unique_values\": 90,\n        \"samples\": [\n          \"280 Machine Learning Projects Solved & Explained using Python programming language: Link in Bio\",\n          \"Learn how to send automatic emails using the Python programming language: Link in bio.\",\n          \"Here are some of the most important data visualizations that every data scientist must know.\"\n        ],\n        \"semantic_type\": \"\",\n        \"description\": \"\"\n      }\n    },\n    {\n      \"column\": \"Hashtags\",\n      \"properties\": {\n        \"dtype\": \"category\",\n        \"num_unique_values\": 54,\n        \"samples\": [\n          \"#programming\\u00a0#coding\\u00a0#programmer\\u00a0#python\\u00a0#developer\\u00a0#javascript\\u00a0#technology\\u00a0#code\\u00a0#coder\\u00a0#java\\u00a0#html\\u00a0#computerscience\\u00a0#tech\\u00a0#css\\u00a0#webdeveloper\\u00a0#software\\u00a0#webdevelopment\\u00a0#codinglife\\u00a0#softwaredeveloper\\u00a0#linux\\u00a0#programmingmemes\\u00a0#webdesign\\u00a0#programmers\\u00a0#php\\u00a0#programminglife\\u00a0#machinelearning\\u00a0#hacking\\u00a0#pythonprogramming\\u00a0#thecleverprogrammer\\u00a0#amankharwal\",\n          \"#sql\\u00a0#mysql\\u00a0#datascience\\u00a0#datasciencejobs\\u00a0#datasciencetraining\\u00a0#datascienceeducation\\u00a0#datasciencecourse\\u00a0#data\\u00a0#dataanalysis\\u00a0#dataanalytics\\u00a0#datascientist\\u00a0#machinelearning\\u00a0#artificialintelligence\\u00a0#ai\\u00a0#deeplearning\\u00a0#machinelearningprojects\\u00a0#datascienceprojects\\u00a0#amankharwal\\u00a0#thecleverprogrammer\",\n          \"#datascience\\u00a0#datasciencejobs\\u00a0#datasciencetraining\\u00a0#datascienceeducation\\u00a0#datasciencecourse\\u00a0#data\\u00a0#dataanalysis\\u00a0#dataanalytics\\u00a0#datascientist\\u00a0#machinelearning\\u00a0#artificialintelligence\\u00a0#ai\\u00a0#deeplearning\\u00a0#machinelearningprojects\\u00a0#datascienceprojects\\u00a0#amankharwal\\u00a0#thecleverprogrammer\"\n        ],\n        \"semantic_type\": \"\",\n        \"description\": \"\"\n      }\n    }\n  ]\n}"
            }
          },
          "metadata": {},
          "execution_count": 15
        }
      ]
    },
    {
      "cell_type": "markdown",
      "source": [
        "**Q.2: Show the descriptive statistics of the data.**"
      ],
      "metadata": {
        "id": "Zmx8-gBNMTf7"
      }
    },
    {
      "cell_type": "code",
      "source": [
        "df.describe()"
      ],
      "metadata": {
        "colab": {
          "base_uri": "https://localhost:8080/",
          "height": 300
        },
        "id": "JZsm3At4INkV",
        "outputId": "558ea0df-2ebd-4f0e-92cc-6543b25a6150"
      },
      "execution_count": 16,
      "outputs": [
        {
          "output_type": "execute_result",
          "data": {
            "text/plain": [
              "        Impressions     From Home  From Hashtags  From Explore   From Other  \\\n",
              "count    119.000000    119.000000     119.000000    119.000000   119.000000   \n",
              "mean    5703.991597   2475.789916    1887.512605   1078.100840   171.092437   \n",
              "std     4843.780105   1489.386348    1884.361443   2613.026132   289.431031   \n",
              "min     1941.000000   1133.000000     116.000000      0.000000     9.000000   \n",
              "25%     3467.000000   1945.000000     726.000000    157.500000    38.000000   \n",
              "50%     4289.000000   2207.000000    1278.000000    326.000000    74.000000   \n",
              "75%     6138.000000   2602.500000    2363.500000    689.500000   196.000000   \n",
              "max    36919.000000  13473.000000   11817.000000  17414.000000  2547.000000   \n",
              "\n",
              "             Saves    Comments      Shares       Likes  Profile Visits  \\\n",
              "count   119.000000  119.000000  119.000000  119.000000      119.000000   \n",
              "mean    153.310924    6.663866    9.361345  173.781513       50.621849   \n",
              "std     156.317731    3.544576   10.089205   82.378947       87.088402   \n",
              "min      22.000000    0.000000    0.000000   72.000000        4.000000   \n",
              "25%      65.000000    4.000000    3.000000  121.500000       15.000000   \n",
              "50%     109.000000    6.000000    6.000000  151.000000       23.000000   \n",
              "75%     169.000000    8.000000   13.500000  204.000000       42.000000   \n",
              "max    1095.000000   19.000000   75.000000  549.000000      611.000000   \n",
              "\n",
              "          Follows  \n",
              "count  119.000000  \n",
              "mean    20.756303  \n",
              "std     40.921580  \n",
              "min      0.000000  \n",
              "25%      4.000000  \n",
              "50%      8.000000  \n",
              "75%     18.000000  \n",
              "max    260.000000  "
            ],
            "text/html": [
              "\n",
              "  <div id=\"df-55036be7-2ee6-423a-825e-0c9ca07a4134\" class=\"colab-df-container\">\n",
              "    <div>\n",
              "<style scoped>\n",
              "    .dataframe tbody tr th:only-of-type {\n",
              "        vertical-align: middle;\n",
              "    }\n",
              "\n",
              "    .dataframe tbody tr th {\n",
              "        vertical-align: top;\n",
              "    }\n",
              "\n",
              "    .dataframe thead th {\n",
              "        text-align: right;\n",
              "    }\n",
              "</style>\n",
              "<table border=\"1\" class=\"dataframe\">\n",
              "  <thead>\n",
              "    <tr style=\"text-align: right;\">\n",
              "      <th></th>\n",
              "      <th>Impressions</th>\n",
              "      <th>From Home</th>\n",
              "      <th>From Hashtags</th>\n",
              "      <th>From Explore</th>\n",
              "      <th>From Other</th>\n",
              "      <th>Saves</th>\n",
              "      <th>Comments</th>\n",
              "      <th>Shares</th>\n",
              "      <th>Likes</th>\n",
              "      <th>Profile Visits</th>\n",
              "      <th>Follows</th>\n",
              "    </tr>\n",
              "  </thead>\n",
              "  <tbody>\n",
              "    <tr>\n",
              "      <th>count</th>\n",
              "      <td>119.000000</td>\n",
              "      <td>119.000000</td>\n",
              "      <td>119.000000</td>\n",
              "      <td>119.000000</td>\n",
              "      <td>119.000000</td>\n",
              "      <td>119.000000</td>\n",
              "      <td>119.000000</td>\n",
              "      <td>119.000000</td>\n",
              "      <td>119.000000</td>\n",
              "      <td>119.000000</td>\n",
              "      <td>119.000000</td>\n",
              "    </tr>\n",
              "    <tr>\n",
              "      <th>mean</th>\n",
              "      <td>5703.991597</td>\n",
              "      <td>2475.789916</td>\n",
              "      <td>1887.512605</td>\n",
              "      <td>1078.100840</td>\n",
              "      <td>171.092437</td>\n",
              "      <td>153.310924</td>\n",
              "      <td>6.663866</td>\n",
              "      <td>9.361345</td>\n",
              "      <td>173.781513</td>\n",
              "      <td>50.621849</td>\n",
              "      <td>20.756303</td>\n",
              "    </tr>\n",
              "    <tr>\n",
              "      <th>std</th>\n",
              "      <td>4843.780105</td>\n",
              "      <td>1489.386348</td>\n",
              "      <td>1884.361443</td>\n",
              "      <td>2613.026132</td>\n",
              "      <td>289.431031</td>\n",
              "      <td>156.317731</td>\n",
              "      <td>3.544576</td>\n",
              "      <td>10.089205</td>\n",
              "      <td>82.378947</td>\n",
              "      <td>87.088402</td>\n",
              "      <td>40.921580</td>\n",
              "    </tr>\n",
              "    <tr>\n",
              "      <th>min</th>\n",
              "      <td>1941.000000</td>\n",
              "      <td>1133.000000</td>\n",
              "      <td>116.000000</td>\n",
              "      <td>0.000000</td>\n",
              "      <td>9.000000</td>\n",
              "      <td>22.000000</td>\n",
              "      <td>0.000000</td>\n",
              "      <td>0.000000</td>\n",
              "      <td>72.000000</td>\n",
              "      <td>4.000000</td>\n",
              "      <td>0.000000</td>\n",
              "    </tr>\n",
              "    <tr>\n",
              "      <th>25%</th>\n",
              "      <td>3467.000000</td>\n",
              "      <td>1945.000000</td>\n",
              "      <td>726.000000</td>\n",
              "      <td>157.500000</td>\n",
              "      <td>38.000000</td>\n",
              "      <td>65.000000</td>\n",
              "      <td>4.000000</td>\n",
              "      <td>3.000000</td>\n",
              "      <td>121.500000</td>\n",
              "      <td>15.000000</td>\n",
              "      <td>4.000000</td>\n",
              "    </tr>\n",
              "    <tr>\n",
              "      <th>50%</th>\n",
              "      <td>4289.000000</td>\n",
              "      <td>2207.000000</td>\n",
              "      <td>1278.000000</td>\n",
              "      <td>326.000000</td>\n",
              "      <td>74.000000</td>\n",
              "      <td>109.000000</td>\n",
              "      <td>6.000000</td>\n",
              "      <td>6.000000</td>\n",
              "      <td>151.000000</td>\n",
              "      <td>23.000000</td>\n",
              "      <td>8.000000</td>\n",
              "    </tr>\n",
              "    <tr>\n",
              "      <th>75%</th>\n",
              "      <td>6138.000000</td>\n",
              "      <td>2602.500000</td>\n",
              "      <td>2363.500000</td>\n",
              "      <td>689.500000</td>\n",
              "      <td>196.000000</td>\n",
              "      <td>169.000000</td>\n",
              "      <td>8.000000</td>\n",
              "      <td>13.500000</td>\n",
              "      <td>204.000000</td>\n",
              "      <td>42.000000</td>\n",
              "      <td>18.000000</td>\n",
              "    </tr>\n",
              "    <tr>\n",
              "      <th>max</th>\n",
              "      <td>36919.000000</td>\n",
              "      <td>13473.000000</td>\n",
              "      <td>11817.000000</td>\n",
              "      <td>17414.000000</td>\n",
              "      <td>2547.000000</td>\n",
              "      <td>1095.000000</td>\n",
              "      <td>19.000000</td>\n",
              "      <td>75.000000</td>\n",
              "      <td>549.000000</td>\n",
              "      <td>611.000000</td>\n",
              "      <td>260.000000</td>\n",
              "    </tr>\n",
              "  </tbody>\n",
              "</table>\n",
              "</div>\n",
              "    <div class=\"colab-df-buttons\">\n",
              "\n",
              "  <div class=\"colab-df-container\">\n",
              "    <button class=\"colab-df-convert\" onclick=\"convertToInteractive('df-55036be7-2ee6-423a-825e-0c9ca07a4134')\"\n",
              "            title=\"Convert this dataframe to an interactive table.\"\n",
              "            style=\"display:none;\">\n",
              "\n",
              "  <svg xmlns=\"http://www.w3.org/2000/svg\" height=\"24px\" viewBox=\"0 -960 960 960\">\n",
              "    <path d=\"M120-120v-720h720v720H120Zm60-500h600v-160H180v160Zm220 220h160v-160H400v160Zm0 220h160v-160H400v160ZM180-400h160v-160H180v160Zm440 0h160v-160H620v160ZM180-180h160v-160H180v160Zm440 0h160v-160H620v160Z\"/>\n",
              "  </svg>\n",
              "    </button>\n",
              "\n",
              "  <style>\n",
              "    .colab-df-container {\n",
              "      display:flex;\n",
              "      gap: 12px;\n",
              "    }\n",
              "\n",
              "    .colab-df-convert {\n",
              "      background-color: #E8F0FE;\n",
              "      border: none;\n",
              "      border-radius: 50%;\n",
              "      cursor: pointer;\n",
              "      display: none;\n",
              "      fill: #1967D2;\n",
              "      height: 32px;\n",
              "      padding: 0 0 0 0;\n",
              "      width: 32px;\n",
              "    }\n",
              "\n",
              "    .colab-df-convert:hover {\n",
              "      background-color: #E2EBFA;\n",
              "      box-shadow: 0px 1px 2px rgba(60, 64, 67, 0.3), 0px 1px 3px 1px rgba(60, 64, 67, 0.15);\n",
              "      fill: #174EA6;\n",
              "    }\n",
              "\n",
              "    .colab-df-buttons div {\n",
              "      margin-bottom: 4px;\n",
              "    }\n",
              "\n",
              "    [theme=dark] .colab-df-convert {\n",
              "      background-color: #3B4455;\n",
              "      fill: #D2E3FC;\n",
              "    }\n",
              "\n",
              "    [theme=dark] .colab-df-convert:hover {\n",
              "      background-color: #434B5C;\n",
              "      box-shadow: 0px 1px 3px 1px rgba(0, 0, 0, 0.15);\n",
              "      filter: drop-shadow(0px 1px 2px rgba(0, 0, 0, 0.3));\n",
              "      fill: #FFFFFF;\n",
              "    }\n",
              "  </style>\n",
              "\n",
              "    <script>\n",
              "      const buttonEl =\n",
              "        document.querySelector('#df-55036be7-2ee6-423a-825e-0c9ca07a4134 button.colab-df-convert');\n",
              "      buttonEl.style.display =\n",
              "        google.colab.kernel.accessAllowed ? 'block' : 'none';\n",
              "\n",
              "      async function convertToInteractive(key) {\n",
              "        const element = document.querySelector('#df-55036be7-2ee6-423a-825e-0c9ca07a4134');\n",
              "        const dataTable =\n",
              "          await google.colab.kernel.invokeFunction('convertToInteractive',\n",
              "                                                    [key], {});\n",
              "        if (!dataTable) return;\n",
              "\n",
              "        const docLinkHtml = 'Like what you see? Visit the ' +\n",
              "          '<a target=\"_blank\" href=https://colab.research.google.com/notebooks/data_table.ipynb>data table notebook</a>'\n",
              "          + ' to learn more about interactive tables.';\n",
              "        element.innerHTML = '';\n",
              "        dataTable['output_type'] = 'display_data';\n",
              "        await google.colab.output.renderOutput(dataTable, element);\n",
              "        const docLink = document.createElement('div');\n",
              "        docLink.innerHTML = docLinkHtml;\n",
              "        element.appendChild(docLink);\n",
              "      }\n",
              "    </script>\n",
              "  </div>\n",
              "\n",
              "\n",
              "<div id=\"df-2e1c7e1e-5745-4d63-86a9-c213654358ba\">\n",
              "  <button class=\"colab-df-quickchart\" onclick=\"quickchart('df-2e1c7e1e-5745-4d63-86a9-c213654358ba')\"\n",
              "            title=\"Suggest charts\"\n",
              "            style=\"display:none;\">\n",
              "\n",
              "<svg xmlns=\"http://www.w3.org/2000/svg\" height=\"24px\"viewBox=\"0 0 24 24\"\n",
              "     width=\"24px\">\n",
              "    <g>\n",
              "        <path d=\"M19 3H5c-1.1 0-2 .9-2 2v14c0 1.1.9 2 2 2h14c1.1 0 2-.9 2-2V5c0-1.1-.9-2-2-2zM9 17H7v-7h2v7zm4 0h-2V7h2v10zm4 0h-2v-4h2v4z\"/>\n",
              "    </g>\n",
              "</svg>\n",
              "  </button>\n",
              "\n",
              "<style>\n",
              "  .colab-df-quickchart {\n",
              "      --bg-color: #E8F0FE;\n",
              "      --fill-color: #1967D2;\n",
              "      --hover-bg-color: #E2EBFA;\n",
              "      --hover-fill-color: #174EA6;\n",
              "      --disabled-fill-color: #AAA;\n",
              "      --disabled-bg-color: #DDD;\n",
              "  }\n",
              "\n",
              "  [theme=dark] .colab-df-quickchart {\n",
              "      --bg-color: #3B4455;\n",
              "      --fill-color: #D2E3FC;\n",
              "      --hover-bg-color: #434B5C;\n",
              "      --hover-fill-color: #FFFFFF;\n",
              "      --disabled-bg-color: #3B4455;\n",
              "      --disabled-fill-color: #666;\n",
              "  }\n",
              "\n",
              "  .colab-df-quickchart {\n",
              "    background-color: var(--bg-color);\n",
              "    border: none;\n",
              "    border-radius: 50%;\n",
              "    cursor: pointer;\n",
              "    display: none;\n",
              "    fill: var(--fill-color);\n",
              "    height: 32px;\n",
              "    padding: 0;\n",
              "    width: 32px;\n",
              "  }\n",
              "\n",
              "  .colab-df-quickchart:hover {\n",
              "    background-color: var(--hover-bg-color);\n",
              "    box-shadow: 0 1px 2px rgba(60, 64, 67, 0.3), 0 1px 3px 1px rgba(60, 64, 67, 0.15);\n",
              "    fill: var(--button-hover-fill-color);\n",
              "  }\n",
              "\n",
              "  .colab-df-quickchart-complete:disabled,\n",
              "  .colab-df-quickchart-complete:disabled:hover {\n",
              "    background-color: var(--disabled-bg-color);\n",
              "    fill: var(--disabled-fill-color);\n",
              "    box-shadow: none;\n",
              "  }\n",
              "\n",
              "  .colab-df-spinner {\n",
              "    border: 2px solid var(--fill-color);\n",
              "    border-color: transparent;\n",
              "    border-bottom-color: var(--fill-color);\n",
              "    animation:\n",
              "      spin 1s steps(1) infinite;\n",
              "  }\n",
              "\n",
              "  @keyframes spin {\n",
              "    0% {\n",
              "      border-color: transparent;\n",
              "      border-bottom-color: var(--fill-color);\n",
              "      border-left-color: var(--fill-color);\n",
              "    }\n",
              "    20% {\n",
              "      border-color: transparent;\n",
              "      border-left-color: var(--fill-color);\n",
              "      border-top-color: var(--fill-color);\n",
              "    }\n",
              "    30% {\n",
              "      border-color: transparent;\n",
              "      border-left-color: var(--fill-color);\n",
              "      border-top-color: var(--fill-color);\n",
              "      border-right-color: var(--fill-color);\n",
              "    }\n",
              "    40% {\n",
              "      border-color: transparent;\n",
              "      border-right-color: var(--fill-color);\n",
              "      border-top-color: var(--fill-color);\n",
              "    }\n",
              "    60% {\n",
              "      border-color: transparent;\n",
              "      border-right-color: var(--fill-color);\n",
              "    }\n",
              "    80% {\n",
              "      border-color: transparent;\n",
              "      border-right-color: var(--fill-color);\n",
              "      border-bottom-color: var(--fill-color);\n",
              "    }\n",
              "    90% {\n",
              "      border-color: transparent;\n",
              "      border-bottom-color: var(--fill-color);\n",
              "    }\n",
              "  }\n",
              "</style>\n",
              "\n",
              "  <script>\n",
              "    async function quickchart(key) {\n",
              "      const quickchartButtonEl =\n",
              "        document.querySelector('#' + key + ' button');\n",
              "      quickchartButtonEl.disabled = true;  // To prevent multiple clicks.\n",
              "      quickchartButtonEl.classList.add('colab-df-spinner');\n",
              "      try {\n",
              "        const charts = await google.colab.kernel.invokeFunction(\n",
              "            'suggestCharts', [key], {});\n",
              "      } catch (error) {\n",
              "        console.error('Error during call to suggestCharts:', error);\n",
              "      }\n",
              "      quickchartButtonEl.classList.remove('colab-df-spinner');\n",
              "      quickchartButtonEl.classList.add('colab-df-quickchart-complete');\n",
              "    }\n",
              "    (() => {\n",
              "      let quickchartButtonEl =\n",
              "        document.querySelector('#df-2e1c7e1e-5745-4d63-86a9-c213654358ba button');\n",
              "      quickchartButtonEl.style.display =\n",
              "        google.colab.kernel.accessAllowed ? 'block' : 'none';\n",
              "    })();\n",
              "  </script>\n",
              "</div>\n",
              "\n",
              "    </div>\n",
              "  </div>\n"
            ],
            "application/vnd.google.colaboratory.intrinsic+json": {
              "type": "dataframe",
              "summary": "{\n  \"name\": \"df\",\n  \"rows\": 8,\n  \"fields\": [\n    {\n      \"column\": \"Impressions\",\n      \"properties\": {\n        \"dtype\": \"number\",\n        \"std\": 11881.007036668983,\n        \"min\": 119.0,\n        \"max\": 36919.0,\n        \"num_unique_values\": 8,\n        \"samples\": [\n          5703.991596638655,\n          4289.0,\n          119.0\n        ],\n        \"semantic_type\": \"\",\n        \"description\": \"\"\n      }\n    },\n    {\n      \"column\": \"From Home\",\n      \"properties\": {\n        \"dtype\": \"number\",\n        \"std\": 4237.002358141817,\n        \"min\": 119.0,\n        \"max\": 13473.0,\n        \"num_unique_values\": 8,\n        \"samples\": [\n          2475.7899159663866,\n          2207.0,\n          119.0\n        ],\n        \"semantic_type\": \"\",\n        \"description\": \"\"\n      }\n    },\n    {\n      \"column\": \"From Hashtags\",\n      \"properties\": {\n        \"dtype\": \"number\",\n        \"std\": 3846.4765303238546,\n        \"min\": 116.0,\n        \"max\": 11817.0,\n        \"num_unique_values\": 8,\n        \"samples\": [\n          1887.5126050420167,\n          1278.0,\n          119.0\n        ],\n        \"semantic_type\": \"\",\n        \"description\": \"\"\n      }\n    },\n    {\n      \"column\": \"From Explore\",\n      \"properties\": {\n        \"dtype\": \"number\",\n        \"std\": 5966.026967177398,\n        \"min\": 0.0,\n        \"max\": 17414.0,\n        \"num_unique_values\": 8,\n        \"samples\": [\n          1078.1008403361345,\n          326.0,\n          119.0\n        ],\n        \"semantic_type\": \"\",\n        \"description\": \"\"\n      }\n    },\n    {\n      \"column\": \"From Other\",\n      \"properties\": {\n        \"dtype\": \"number\",\n        \"std\": 860.033073225639,\n        \"min\": 9.0,\n        \"max\": 2547.0,\n        \"num_unique_values\": 8,\n        \"samples\": [\n          171.0924369747899,\n          74.0,\n          119.0\n        ],\n        \"semantic_type\": \"\",\n        \"description\": \"\"\n      }\n    },\n    {\n      \"column\": \"Saves\",\n      \"properties\": {\n        \"dtype\": \"number\",\n        \"std\": 350.5937204689051,\n        \"min\": 22.0,\n        \"max\": 1095.0,\n        \"num_unique_values\": 8,\n        \"samples\": [\n          153.3109243697479,\n          109.0,\n          119.0\n        ],\n        \"semantic_type\": \"\",\n        \"description\": \"\"\n      }\n    },\n    {\n      \"column\": \"Comments\",\n      \"properties\": {\n        \"dtype\": \"number\",\n        \"std\": 40.0746007062046,\n        \"min\": 0.0,\n        \"max\": 119.0,\n        \"num_unique_values\": 8,\n        \"samples\": [\n          6.663865546218488,\n          6.0,\n          119.0\n        ],\n        \"semantic_type\": \"\",\n        \"description\": \"\"\n      }\n    },\n    {\n      \"column\": \"Shares\",\n      \"properties\": {\n        \"dtype\": \"number\",\n        \"std\": 43.49645980755421,\n        \"min\": 0.0,\n        \"max\": 119.0,\n        \"num_unique_values\": 8,\n        \"samples\": [\n          9.361344537815127,\n          6.0,\n          119.0\n        ],\n        \"semantic_type\": \"\",\n        \"description\": \"\"\n      }\n    },\n    {\n      \"column\": \"Likes\",\n      \"properties\": {\n        \"dtype\": \"number\",\n        \"std\": 153.9111299486121,\n        \"min\": 72.0,\n        \"max\": 549.0,\n        \"num_unique_values\": 8,\n        \"samples\": [\n          173.78151260504202,\n          151.0,\n          119.0\n        ],\n        \"semantic_type\": \"\",\n        \"description\": \"\"\n      }\n    },\n    {\n      \"column\": \"Profile Visits\",\n      \"properties\": {\n        \"dtype\": \"number\",\n        \"std\": 202.46478042569677,\n        \"min\": 4.0,\n        \"max\": 611.0,\n        \"num_unique_values\": 8,\n        \"samples\": [\n          50.621848739495796,\n          23.0,\n          119.0\n        ],\n        \"semantic_type\": \"\",\n        \"description\": \"\"\n      }\n    },\n    {\n      \"column\": \"Follows\",\n      \"properties\": {\n        \"dtype\": \"number\",\n        \"std\": 89.9032743491064,\n        \"min\": 0.0,\n        \"max\": 260.0,\n        \"num_unique_values\": 8,\n        \"samples\": [\n          20.756302521008404,\n          8.0,\n          119.0\n        ],\n        \"semantic_type\": \"\",\n        \"description\": \"\"\n      }\n    }\n  ]\n}"
            }
          },
          "metadata": {},
          "execution_count": 16
        }
      ]
    },
    {
      "cell_type": "markdown",
      "source": [
        "**Q.3: Check if your data contains any missing values**"
      ],
      "metadata": {
        "id": "YfU3V-ROMY8y"
      }
    },
    {
      "cell_type": "code",
      "source": [
        "print(\"\\nMissing Values Check:\")\n",
        "print(df.isnull().sum())"
      ],
      "metadata": {
        "colab": {
          "base_uri": "https://localhost:8080/"
        },
        "id": "S-S87NKfIURY",
        "outputId": "702ae306-2b47-4546-c76f-e1c3e04745aa"
      },
      "execution_count": 17,
      "outputs": [
        {
          "output_type": "stream",
          "name": "stdout",
          "text": [
            "\n",
            "Missing Values Check:\n",
            "Impressions       0\n",
            "From Home         0\n",
            "From Hashtags     0\n",
            "From Explore      0\n",
            "From Other        0\n",
            "Saves             0\n",
            "Comments          0\n",
            "Shares            0\n",
            "Likes             0\n",
            "Profile Visits    0\n",
            "Follows           0\n",
            "Caption           0\n",
            "Hashtags          0\n",
            "dtype: int64\n"
          ]
        }
      ]
    },
    {
      "cell_type": "markdown",
      "source": [
        "**Q.4: When you start exploring your data, always start by exploring the main feature of your data. For\n",
        "example, as we are working on a dataset based on Instagram Reach, we should start by exploring the\n",
        "feature that contains data about reach. In our data, the Impressions column contains the data about the\n",
        "reach of an Instagram post. So let’s have a look at the distribution of the Impressions:**"
      ],
      "metadata": {
        "id": "nQvoLj4wMdQk"
      }
    },
    {
      "cell_type": "code",
      "source": [
        "# Plotting the distribution of Impressions\n",
        "fig = px.histogram(df, x='Impressions', title='Distribution of Impressions')\n",
        "fig.update_layout(bargap=0.1)  # Adjusts the gap between bars\n",
        "fig.show()"
      ],
      "metadata": {
        "colab": {
          "base_uri": "https://localhost:8080/",
          "height": 542
        },
        "id": "QVSDJfQaIuVo",
        "outputId": "a6c97000-0baf-4745-f71f-97be69cd46ef"
      },
      "execution_count": 18,
      "outputs": [
        {
          "output_type": "display_data",
          "data": {
            "text/html": [
              "<html>\n",
              "<head><meta charset=\"utf-8\" /></head>\n",
              "<body>\n",
              "    <div>            <script src=\"https://cdnjs.cloudflare.com/ajax/libs/mathjax/2.7.5/MathJax.js?config=TeX-AMS-MML_SVG\"></script><script type=\"text/javascript\">if (window.MathJax && window.MathJax.Hub && window.MathJax.Hub.Config) {window.MathJax.Hub.Config({SVG: {font: \"STIX-Web\"}});}</script>                <script type=\"text/javascript\">window.PlotlyConfig = {MathJaxConfig: 'local'};</script>\n",
              "        <script charset=\"utf-8\" src=\"https://cdn.plot.ly/plotly-2.24.1.min.js\"></script>                <div id=\"7885acd5-0fcf-4d24-b7c9-5a6b59ccaba4\" class=\"plotly-graph-div\" style=\"height:525px; width:100%;\"></div>            <script type=\"text/javascript\">                                    window.PLOTLYENV=window.PLOTLYENV || {};                                    if (document.getElementById(\"7885acd5-0fcf-4d24-b7c9-5a6b59ccaba4\")) {                    Plotly.newPlot(                        \"7885acd5-0fcf-4d24-b7c9-5a6b59ccaba4\",                        [{\"alignmentgroup\":\"True\",\"bingroup\":\"x\",\"hovertemplate\":\"Impressions=%{x}\\u003cbr\\u003ecount=%{y}\\u003cextra\\u003e\\u003c\\u002fextra\\u003e\",\"legendgroup\":\"\",\"marker\":{\"color\":\"#636efa\",\"pattern\":{\"shape\":\"\"}},\"name\":\"\",\"offsetgroup\":\"\",\"orientation\":\"v\",\"showlegend\":false,\"x\":[3920,5394,4021,4528,2518,3884,2621,3541,3749,4115,2218,3234,4344,3216,9453,5055,4002,3169,6168,2407,2064,3973,7281,3052,4628,4082,5394,2766,3924,3015,6666,3854,4355,4343,6108,2523,2327,3990,2191,1941,16062,4998,4289,3880,3786,4298,3630,2826,7407,10386,2998,7018,2941,6432,10667,3988,4978,3388,4467,3246,5072,6339,4239,3454,7571,3333,3818,10933,5058,3601,3480,3525,3606,5542,6559,3623,10493,4446,2957,5538,4681,5273,5055,4002,3169,6168,2407,3630,2826,7407,10386,2998,3052,4628,4082,5394,2766,3924,3015,5409,5323,8001,4150,4609,6348,11068,7231,17396,6814,17713,5563,4842,11149,10206,13700,5731,4139,32695,36919],\"xaxis\":\"x\",\"yaxis\":\"y\",\"type\":\"histogram\"}],                        {\"template\":{\"data\":{\"histogram2dcontour\":[{\"type\":\"histogram2dcontour\",\"colorbar\":{\"outlinewidth\":0,\"ticks\":\"\"},\"colorscale\":[[0.0,\"#0d0887\"],[0.1111111111111111,\"#46039f\"],[0.2222222222222222,\"#7201a8\"],[0.3333333333333333,\"#9c179e\"],[0.4444444444444444,\"#bd3786\"],[0.5555555555555556,\"#d8576b\"],[0.6666666666666666,\"#ed7953\"],[0.7777777777777778,\"#fb9f3a\"],[0.8888888888888888,\"#fdca26\"],[1.0,\"#f0f921\"]]}],\"choropleth\":[{\"type\":\"choropleth\",\"colorbar\":{\"outlinewidth\":0,\"ticks\":\"\"}}],\"histogram2d\":[{\"type\":\"histogram2d\",\"colorbar\":{\"outlinewidth\":0,\"ticks\":\"\"},\"colorscale\":[[0.0,\"#0d0887\"],[0.1111111111111111,\"#46039f\"],[0.2222222222222222,\"#7201a8\"],[0.3333333333333333,\"#9c179e\"],[0.4444444444444444,\"#bd3786\"],[0.5555555555555556,\"#d8576b\"],[0.6666666666666666,\"#ed7953\"],[0.7777777777777778,\"#fb9f3a\"],[0.8888888888888888,\"#fdca26\"],[1.0,\"#f0f921\"]]}],\"heatmap\":[{\"type\":\"heatmap\",\"colorbar\":{\"outlinewidth\":0,\"ticks\":\"\"},\"colorscale\":[[0.0,\"#0d0887\"],[0.1111111111111111,\"#46039f\"],[0.2222222222222222,\"#7201a8\"],[0.3333333333333333,\"#9c179e\"],[0.4444444444444444,\"#bd3786\"],[0.5555555555555556,\"#d8576b\"],[0.6666666666666666,\"#ed7953\"],[0.7777777777777778,\"#fb9f3a\"],[0.8888888888888888,\"#fdca26\"],[1.0,\"#f0f921\"]]}],\"heatmapgl\":[{\"type\":\"heatmapgl\",\"colorbar\":{\"outlinewidth\":0,\"ticks\":\"\"},\"colorscale\":[[0.0,\"#0d0887\"],[0.1111111111111111,\"#46039f\"],[0.2222222222222222,\"#7201a8\"],[0.3333333333333333,\"#9c179e\"],[0.4444444444444444,\"#bd3786\"],[0.5555555555555556,\"#d8576b\"],[0.6666666666666666,\"#ed7953\"],[0.7777777777777778,\"#fb9f3a\"],[0.8888888888888888,\"#fdca26\"],[1.0,\"#f0f921\"]]}],\"contourcarpet\":[{\"type\":\"contourcarpet\",\"colorbar\":{\"outlinewidth\":0,\"ticks\":\"\"}}],\"contour\":[{\"type\":\"contour\",\"colorbar\":{\"outlinewidth\":0,\"ticks\":\"\"},\"colorscale\":[[0.0,\"#0d0887\"],[0.1111111111111111,\"#46039f\"],[0.2222222222222222,\"#7201a8\"],[0.3333333333333333,\"#9c179e\"],[0.4444444444444444,\"#bd3786\"],[0.5555555555555556,\"#d8576b\"],[0.6666666666666666,\"#ed7953\"],[0.7777777777777778,\"#fb9f3a\"],[0.8888888888888888,\"#fdca26\"],[1.0,\"#f0f921\"]]}],\"surface\":[{\"type\":\"surface\",\"colorbar\":{\"outlinewidth\":0,\"ticks\":\"\"},\"colorscale\":[[0.0,\"#0d0887\"],[0.1111111111111111,\"#46039f\"],[0.2222222222222222,\"#7201a8\"],[0.3333333333333333,\"#9c179e\"],[0.4444444444444444,\"#bd3786\"],[0.5555555555555556,\"#d8576b\"],[0.6666666666666666,\"#ed7953\"],[0.7777777777777778,\"#fb9f3a\"],[0.8888888888888888,\"#fdca26\"],[1.0,\"#f0f921\"]]}],\"mesh3d\":[{\"type\":\"mesh3d\",\"colorbar\":{\"outlinewidth\":0,\"ticks\":\"\"}}],\"scatter\":[{\"fillpattern\":{\"fillmode\":\"overlay\",\"size\":10,\"solidity\":0.2},\"type\":\"scatter\"}],\"parcoords\":[{\"type\":\"parcoords\",\"line\":{\"colorbar\":{\"outlinewidth\":0,\"ticks\":\"\"}}}],\"scatterpolargl\":[{\"type\":\"scatterpolargl\",\"marker\":{\"colorbar\":{\"outlinewidth\":0,\"ticks\":\"\"}}}],\"bar\":[{\"error_x\":{\"color\":\"#2a3f5f\"},\"error_y\":{\"color\":\"#2a3f5f\"},\"marker\":{\"line\":{\"color\":\"white\",\"width\":0.5},\"pattern\":{\"fillmode\":\"overlay\",\"size\":10,\"solidity\":0.2}},\"type\":\"bar\"}],\"scattergeo\":[{\"type\":\"scattergeo\",\"marker\":{\"colorbar\":{\"outlinewidth\":0,\"ticks\":\"\"}}}],\"scatterpolar\":[{\"type\":\"scatterpolar\",\"marker\":{\"colorbar\":{\"outlinewidth\":0,\"ticks\":\"\"}}}],\"histogram\":[{\"marker\":{\"pattern\":{\"fillmode\":\"overlay\",\"size\":10,\"solidity\":0.2}},\"type\":\"histogram\"}],\"scattergl\":[{\"type\":\"scattergl\",\"marker\":{\"colorbar\":{\"outlinewidth\":0,\"ticks\":\"\"}}}],\"scatter3d\":[{\"type\":\"scatter3d\",\"line\":{\"colorbar\":{\"outlinewidth\":0,\"ticks\":\"\"}},\"marker\":{\"colorbar\":{\"outlinewidth\":0,\"ticks\":\"\"}}}],\"scattermapbox\":[{\"type\":\"scattermapbox\",\"marker\":{\"colorbar\":{\"outlinewidth\":0,\"ticks\":\"\"}}}],\"scatterternary\":[{\"type\":\"scatterternary\",\"marker\":{\"colorbar\":{\"outlinewidth\":0,\"ticks\":\"\"}}}],\"scattercarpet\":[{\"type\":\"scattercarpet\",\"marker\":{\"colorbar\":{\"outlinewidth\":0,\"ticks\":\"\"}}}],\"carpet\":[{\"aaxis\":{\"endlinecolor\":\"#2a3f5f\",\"gridcolor\":\"#C8D4E3\",\"linecolor\":\"#C8D4E3\",\"minorgridcolor\":\"#C8D4E3\",\"startlinecolor\":\"#2a3f5f\"},\"baxis\":{\"endlinecolor\":\"#2a3f5f\",\"gridcolor\":\"#C8D4E3\",\"linecolor\":\"#C8D4E3\",\"minorgridcolor\":\"#C8D4E3\",\"startlinecolor\":\"#2a3f5f\"},\"type\":\"carpet\"}],\"table\":[{\"cells\":{\"fill\":{\"color\":\"#EBF0F8\"},\"line\":{\"color\":\"white\"}},\"header\":{\"fill\":{\"color\":\"#C8D4E3\"},\"line\":{\"color\":\"white\"}},\"type\":\"table\"}],\"barpolar\":[{\"marker\":{\"line\":{\"color\":\"white\",\"width\":0.5},\"pattern\":{\"fillmode\":\"overlay\",\"size\":10,\"solidity\":0.2}},\"type\":\"barpolar\"}],\"pie\":[{\"automargin\":true,\"type\":\"pie\"}]},\"layout\":{\"autotypenumbers\":\"strict\",\"colorway\":[\"#636efa\",\"#EF553B\",\"#00cc96\",\"#ab63fa\",\"#FFA15A\",\"#19d3f3\",\"#FF6692\",\"#B6E880\",\"#FF97FF\",\"#FECB52\"],\"font\":{\"color\":\"#2a3f5f\"},\"hovermode\":\"closest\",\"hoverlabel\":{\"align\":\"left\"},\"paper_bgcolor\":\"white\",\"plot_bgcolor\":\"white\",\"polar\":{\"bgcolor\":\"white\",\"angularaxis\":{\"gridcolor\":\"#EBF0F8\",\"linecolor\":\"#EBF0F8\",\"ticks\":\"\"},\"radialaxis\":{\"gridcolor\":\"#EBF0F8\",\"linecolor\":\"#EBF0F8\",\"ticks\":\"\"}},\"ternary\":{\"bgcolor\":\"white\",\"aaxis\":{\"gridcolor\":\"#DFE8F3\",\"linecolor\":\"#A2B1C6\",\"ticks\":\"\"},\"baxis\":{\"gridcolor\":\"#DFE8F3\",\"linecolor\":\"#A2B1C6\",\"ticks\":\"\"},\"caxis\":{\"gridcolor\":\"#DFE8F3\",\"linecolor\":\"#A2B1C6\",\"ticks\":\"\"}},\"coloraxis\":{\"colorbar\":{\"outlinewidth\":0,\"ticks\":\"\"}},\"colorscale\":{\"sequential\":[[0.0,\"#0d0887\"],[0.1111111111111111,\"#46039f\"],[0.2222222222222222,\"#7201a8\"],[0.3333333333333333,\"#9c179e\"],[0.4444444444444444,\"#bd3786\"],[0.5555555555555556,\"#d8576b\"],[0.6666666666666666,\"#ed7953\"],[0.7777777777777778,\"#fb9f3a\"],[0.8888888888888888,\"#fdca26\"],[1.0,\"#f0f921\"]],\"sequentialminus\":[[0.0,\"#0d0887\"],[0.1111111111111111,\"#46039f\"],[0.2222222222222222,\"#7201a8\"],[0.3333333333333333,\"#9c179e\"],[0.4444444444444444,\"#bd3786\"],[0.5555555555555556,\"#d8576b\"],[0.6666666666666666,\"#ed7953\"],[0.7777777777777778,\"#fb9f3a\"],[0.8888888888888888,\"#fdca26\"],[1.0,\"#f0f921\"]],\"diverging\":[[0,\"#8e0152\"],[0.1,\"#c51b7d\"],[0.2,\"#de77ae\"],[0.3,\"#f1b6da\"],[0.4,\"#fde0ef\"],[0.5,\"#f7f7f7\"],[0.6,\"#e6f5d0\"],[0.7,\"#b8e186\"],[0.8,\"#7fbc41\"],[0.9,\"#4d9221\"],[1,\"#276419\"]]},\"xaxis\":{\"gridcolor\":\"#EBF0F8\",\"linecolor\":\"#EBF0F8\",\"ticks\":\"\",\"title\":{\"standoff\":15},\"zerolinecolor\":\"#EBF0F8\",\"automargin\":true,\"zerolinewidth\":2},\"yaxis\":{\"gridcolor\":\"#EBF0F8\",\"linecolor\":\"#EBF0F8\",\"ticks\":\"\",\"title\":{\"standoff\":15},\"zerolinecolor\":\"#EBF0F8\",\"automargin\":true,\"zerolinewidth\":2},\"scene\":{\"xaxis\":{\"backgroundcolor\":\"white\",\"gridcolor\":\"#DFE8F3\",\"linecolor\":\"#EBF0F8\",\"showbackground\":true,\"ticks\":\"\",\"zerolinecolor\":\"#EBF0F8\",\"gridwidth\":2},\"yaxis\":{\"backgroundcolor\":\"white\",\"gridcolor\":\"#DFE8F3\",\"linecolor\":\"#EBF0F8\",\"showbackground\":true,\"ticks\":\"\",\"zerolinecolor\":\"#EBF0F8\",\"gridwidth\":2},\"zaxis\":{\"backgroundcolor\":\"white\",\"gridcolor\":\"#DFE8F3\",\"linecolor\":\"#EBF0F8\",\"showbackground\":true,\"ticks\":\"\",\"zerolinecolor\":\"#EBF0F8\",\"gridwidth\":2}},\"shapedefaults\":{\"line\":{\"color\":\"#2a3f5f\"}},\"annotationdefaults\":{\"arrowcolor\":\"#2a3f5f\",\"arrowhead\":0,\"arrowwidth\":1},\"geo\":{\"bgcolor\":\"white\",\"landcolor\":\"white\",\"subunitcolor\":\"#C8D4E3\",\"showland\":true,\"showlakes\":true,\"lakecolor\":\"white\"},\"title\":{\"x\":0.05},\"mapbox\":{\"style\":\"light\"}}},\"xaxis\":{\"anchor\":\"y\",\"domain\":[0.0,1.0],\"title\":{\"text\":\"Impressions\"}},\"yaxis\":{\"anchor\":\"x\",\"domain\":[0.0,1.0],\"title\":{\"text\":\"count\"}},\"legend\":{\"tracegroupgap\":0},\"title\":{\"text\":\"Distribution of Impressions\"},\"barmode\":\"relative\",\"bargap\":0.1},                        {\"responsive\": true}                    ).then(function(){\n",
              "                            \n",
              "var gd = document.getElementById('7885acd5-0fcf-4d24-b7c9-5a6b59ccaba4');\n",
              "var x = new MutationObserver(function (mutations, observer) {{\n",
              "        var display = window.getComputedStyle(gd).display;\n",
              "        if (!display || display === 'none') {{\n",
              "            console.log([gd, 'removed!']);\n",
              "            Plotly.purge(gd);\n",
              "            observer.disconnect();\n",
              "        }}\n",
              "}});\n",
              "\n",
              "// Listen for the removal of the full notebook cells\n",
              "var notebookContainer = gd.closest('#notebook-container');\n",
              "if (notebookContainer) {{\n",
              "    x.observe(notebookContainer, {childList: true});\n",
              "}}\n",
              "\n",
              "// Listen for the clearing of the current output cell\n",
              "var outputEl = gd.closest('.output');\n",
              "if (outputEl) {{\n",
              "    x.observe(outputEl, {childList: true});\n",
              "}}\n",
              "\n",
              "                        })                };                            </script>        </div>\n",
              "</body>\n",
              "</html>"
            ]
          },
          "metadata": {}
        }
      ]
    },
    {
      "cell_type": "markdown",
      "source": [
        "**Q.5: Have a look at the number of impressions on each post over time as shown below**"
      ],
      "metadata": {
        "id": "rhvkYDNjMn1Q"
      }
    },
    {
      "cell_type": "code",
      "source": [
        "fig = px.line(df, x=df.index, y='Impressions', title='Number of Impressions Over Time')\n",
        "fig.show()"
      ],
      "metadata": {
        "colab": {
          "base_uri": "https://localhost:8080/",
          "height": 542
        },
        "id": "m8K2CkdCIyyg",
        "outputId": "98d18412-28cd-45bc-8ab8-bbb5a0aae9b6"
      },
      "execution_count": 19,
      "outputs": [
        {
          "output_type": "display_data",
          "data": {
            "text/html": [
              "<html>\n",
              "<head><meta charset=\"utf-8\" /></head>\n",
              "<body>\n",
              "    <div>            <script src=\"https://cdnjs.cloudflare.com/ajax/libs/mathjax/2.7.5/MathJax.js?config=TeX-AMS-MML_SVG\"></script><script type=\"text/javascript\">if (window.MathJax && window.MathJax.Hub && window.MathJax.Hub.Config) {window.MathJax.Hub.Config({SVG: {font: \"STIX-Web\"}});}</script>                <script type=\"text/javascript\">window.PlotlyConfig = {MathJaxConfig: 'local'};</script>\n",
              "        <script charset=\"utf-8\" src=\"https://cdn.plot.ly/plotly-2.24.1.min.js\"></script>                <div id=\"4c5696eb-5344-4305-b6c0-409c9a1afcc4\" class=\"plotly-graph-div\" style=\"height:525px; width:100%;\"></div>            <script type=\"text/javascript\">                                    window.PLOTLYENV=window.PLOTLYENV || {};                                    if (document.getElementById(\"4c5696eb-5344-4305-b6c0-409c9a1afcc4\")) {                    Plotly.newPlot(                        \"4c5696eb-5344-4305-b6c0-409c9a1afcc4\",                        [{\"hovertemplate\":\"index=%{x}\\u003cbr\\u003eImpressions=%{y}\\u003cextra\\u003e\\u003c\\u002fextra\\u003e\",\"legendgroup\":\"\",\"line\":{\"color\":\"#636efa\",\"dash\":\"solid\"},\"marker\":{\"symbol\":\"circle\"},\"mode\":\"lines\",\"name\":\"\",\"orientation\":\"v\",\"showlegend\":false,\"x\":[0,1,2,3,4,5,6,7,8,9,10,11,12,13,14,15,16,17,18,19,20,21,22,23,24,25,26,27,28,29,30,31,32,33,34,35,36,37,38,39,40,41,42,43,44,45,46,47,48,49,50,51,52,53,54,55,56,57,58,59,60,61,62,63,64,65,66,67,68,69,70,71,72,73,74,75,76,77,78,79,80,81,82,83,84,85,86,87,88,89,90,91,92,93,94,95,96,97,98,99,100,101,102,103,104,105,106,107,108,109,110,111,112,113,114,115,116,117,118],\"xaxis\":\"x\",\"y\":[3920,5394,4021,4528,2518,3884,2621,3541,3749,4115,2218,3234,4344,3216,9453,5055,4002,3169,6168,2407,2064,3973,7281,3052,4628,4082,5394,2766,3924,3015,6666,3854,4355,4343,6108,2523,2327,3990,2191,1941,16062,4998,4289,3880,3786,4298,3630,2826,7407,10386,2998,7018,2941,6432,10667,3988,4978,3388,4467,3246,5072,6339,4239,3454,7571,3333,3818,10933,5058,3601,3480,3525,3606,5542,6559,3623,10493,4446,2957,5538,4681,5273,5055,4002,3169,6168,2407,3630,2826,7407,10386,2998,3052,4628,4082,5394,2766,3924,3015,5409,5323,8001,4150,4609,6348,11068,7231,17396,6814,17713,5563,4842,11149,10206,13700,5731,4139,32695,36919],\"yaxis\":\"y\",\"type\":\"scatter\"}],                        {\"template\":{\"data\":{\"histogram2dcontour\":[{\"type\":\"histogram2dcontour\",\"colorbar\":{\"outlinewidth\":0,\"ticks\":\"\"},\"colorscale\":[[0.0,\"#0d0887\"],[0.1111111111111111,\"#46039f\"],[0.2222222222222222,\"#7201a8\"],[0.3333333333333333,\"#9c179e\"],[0.4444444444444444,\"#bd3786\"],[0.5555555555555556,\"#d8576b\"],[0.6666666666666666,\"#ed7953\"],[0.7777777777777778,\"#fb9f3a\"],[0.8888888888888888,\"#fdca26\"],[1.0,\"#f0f921\"]]}],\"choropleth\":[{\"type\":\"choropleth\",\"colorbar\":{\"outlinewidth\":0,\"ticks\":\"\"}}],\"histogram2d\":[{\"type\":\"histogram2d\",\"colorbar\":{\"outlinewidth\":0,\"ticks\":\"\"},\"colorscale\":[[0.0,\"#0d0887\"],[0.1111111111111111,\"#46039f\"],[0.2222222222222222,\"#7201a8\"],[0.3333333333333333,\"#9c179e\"],[0.4444444444444444,\"#bd3786\"],[0.5555555555555556,\"#d8576b\"],[0.6666666666666666,\"#ed7953\"],[0.7777777777777778,\"#fb9f3a\"],[0.8888888888888888,\"#fdca26\"],[1.0,\"#f0f921\"]]}],\"heatmap\":[{\"type\":\"heatmap\",\"colorbar\":{\"outlinewidth\":0,\"ticks\":\"\"},\"colorscale\":[[0.0,\"#0d0887\"],[0.1111111111111111,\"#46039f\"],[0.2222222222222222,\"#7201a8\"],[0.3333333333333333,\"#9c179e\"],[0.4444444444444444,\"#bd3786\"],[0.5555555555555556,\"#d8576b\"],[0.6666666666666666,\"#ed7953\"],[0.7777777777777778,\"#fb9f3a\"],[0.8888888888888888,\"#fdca26\"],[1.0,\"#f0f921\"]]}],\"heatmapgl\":[{\"type\":\"heatmapgl\",\"colorbar\":{\"outlinewidth\":0,\"ticks\":\"\"},\"colorscale\":[[0.0,\"#0d0887\"],[0.1111111111111111,\"#46039f\"],[0.2222222222222222,\"#7201a8\"],[0.3333333333333333,\"#9c179e\"],[0.4444444444444444,\"#bd3786\"],[0.5555555555555556,\"#d8576b\"],[0.6666666666666666,\"#ed7953\"],[0.7777777777777778,\"#fb9f3a\"],[0.8888888888888888,\"#fdca26\"],[1.0,\"#f0f921\"]]}],\"contourcarpet\":[{\"type\":\"contourcarpet\",\"colorbar\":{\"outlinewidth\":0,\"ticks\":\"\"}}],\"contour\":[{\"type\":\"contour\",\"colorbar\":{\"outlinewidth\":0,\"ticks\":\"\"},\"colorscale\":[[0.0,\"#0d0887\"],[0.1111111111111111,\"#46039f\"],[0.2222222222222222,\"#7201a8\"],[0.3333333333333333,\"#9c179e\"],[0.4444444444444444,\"#bd3786\"],[0.5555555555555556,\"#d8576b\"],[0.6666666666666666,\"#ed7953\"],[0.7777777777777778,\"#fb9f3a\"],[0.8888888888888888,\"#fdca26\"],[1.0,\"#f0f921\"]]}],\"surface\":[{\"type\":\"surface\",\"colorbar\":{\"outlinewidth\":0,\"ticks\":\"\"},\"colorscale\":[[0.0,\"#0d0887\"],[0.1111111111111111,\"#46039f\"],[0.2222222222222222,\"#7201a8\"],[0.3333333333333333,\"#9c179e\"],[0.4444444444444444,\"#bd3786\"],[0.5555555555555556,\"#d8576b\"],[0.6666666666666666,\"#ed7953\"],[0.7777777777777778,\"#fb9f3a\"],[0.8888888888888888,\"#fdca26\"],[1.0,\"#f0f921\"]]}],\"mesh3d\":[{\"type\":\"mesh3d\",\"colorbar\":{\"outlinewidth\":0,\"ticks\":\"\"}}],\"scatter\":[{\"fillpattern\":{\"fillmode\":\"overlay\",\"size\":10,\"solidity\":0.2},\"type\":\"scatter\"}],\"parcoords\":[{\"type\":\"parcoords\",\"line\":{\"colorbar\":{\"outlinewidth\":0,\"ticks\":\"\"}}}],\"scatterpolargl\":[{\"type\":\"scatterpolargl\",\"marker\":{\"colorbar\":{\"outlinewidth\":0,\"ticks\":\"\"}}}],\"bar\":[{\"error_x\":{\"color\":\"#2a3f5f\"},\"error_y\":{\"color\":\"#2a3f5f\"},\"marker\":{\"line\":{\"color\":\"white\",\"width\":0.5},\"pattern\":{\"fillmode\":\"overlay\",\"size\":10,\"solidity\":0.2}},\"type\":\"bar\"}],\"scattergeo\":[{\"type\":\"scattergeo\",\"marker\":{\"colorbar\":{\"outlinewidth\":0,\"ticks\":\"\"}}}],\"scatterpolar\":[{\"type\":\"scatterpolar\",\"marker\":{\"colorbar\":{\"outlinewidth\":0,\"ticks\":\"\"}}}],\"histogram\":[{\"marker\":{\"pattern\":{\"fillmode\":\"overlay\",\"size\":10,\"solidity\":0.2}},\"type\":\"histogram\"}],\"scattergl\":[{\"type\":\"scattergl\",\"marker\":{\"colorbar\":{\"outlinewidth\":0,\"ticks\":\"\"}}}],\"scatter3d\":[{\"type\":\"scatter3d\",\"line\":{\"colorbar\":{\"outlinewidth\":0,\"ticks\":\"\"}},\"marker\":{\"colorbar\":{\"outlinewidth\":0,\"ticks\":\"\"}}}],\"scattermapbox\":[{\"type\":\"scattermapbox\",\"marker\":{\"colorbar\":{\"outlinewidth\":0,\"ticks\":\"\"}}}],\"scatterternary\":[{\"type\":\"scatterternary\",\"marker\":{\"colorbar\":{\"outlinewidth\":0,\"ticks\":\"\"}}}],\"scattercarpet\":[{\"type\":\"scattercarpet\",\"marker\":{\"colorbar\":{\"outlinewidth\":0,\"ticks\":\"\"}}}],\"carpet\":[{\"aaxis\":{\"endlinecolor\":\"#2a3f5f\",\"gridcolor\":\"#C8D4E3\",\"linecolor\":\"#C8D4E3\",\"minorgridcolor\":\"#C8D4E3\",\"startlinecolor\":\"#2a3f5f\"},\"baxis\":{\"endlinecolor\":\"#2a3f5f\",\"gridcolor\":\"#C8D4E3\",\"linecolor\":\"#C8D4E3\",\"minorgridcolor\":\"#C8D4E3\",\"startlinecolor\":\"#2a3f5f\"},\"type\":\"carpet\"}],\"table\":[{\"cells\":{\"fill\":{\"color\":\"#EBF0F8\"},\"line\":{\"color\":\"white\"}},\"header\":{\"fill\":{\"color\":\"#C8D4E3\"},\"line\":{\"color\":\"white\"}},\"type\":\"table\"}],\"barpolar\":[{\"marker\":{\"line\":{\"color\":\"white\",\"width\":0.5},\"pattern\":{\"fillmode\":\"overlay\",\"size\":10,\"solidity\":0.2}},\"type\":\"barpolar\"}],\"pie\":[{\"automargin\":true,\"type\":\"pie\"}]},\"layout\":{\"autotypenumbers\":\"strict\",\"colorway\":[\"#636efa\",\"#EF553B\",\"#00cc96\",\"#ab63fa\",\"#FFA15A\",\"#19d3f3\",\"#FF6692\",\"#B6E880\",\"#FF97FF\",\"#FECB52\"],\"font\":{\"color\":\"#2a3f5f\"},\"hovermode\":\"closest\",\"hoverlabel\":{\"align\":\"left\"},\"paper_bgcolor\":\"white\",\"plot_bgcolor\":\"white\",\"polar\":{\"bgcolor\":\"white\",\"angularaxis\":{\"gridcolor\":\"#EBF0F8\",\"linecolor\":\"#EBF0F8\",\"ticks\":\"\"},\"radialaxis\":{\"gridcolor\":\"#EBF0F8\",\"linecolor\":\"#EBF0F8\",\"ticks\":\"\"}},\"ternary\":{\"bgcolor\":\"white\",\"aaxis\":{\"gridcolor\":\"#DFE8F3\",\"linecolor\":\"#A2B1C6\",\"ticks\":\"\"},\"baxis\":{\"gridcolor\":\"#DFE8F3\",\"linecolor\":\"#A2B1C6\",\"ticks\":\"\"},\"caxis\":{\"gridcolor\":\"#DFE8F3\",\"linecolor\":\"#A2B1C6\",\"ticks\":\"\"}},\"coloraxis\":{\"colorbar\":{\"outlinewidth\":0,\"ticks\":\"\"}},\"colorscale\":{\"sequential\":[[0.0,\"#0d0887\"],[0.1111111111111111,\"#46039f\"],[0.2222222222222222,\"#7201a8\"],[0.3333333333333333,\"#9c179e\"],[0.4444444444444444,\"#bd3786\"],[0.5555555555555556,\"#d8576b\"],[0.6666666666666666,\"#ed7953\"],[0.7777777777777778,\"#fb9f3a\"],[0.8888888888888888,\"#fdca26\"],[1.0,\"#f0f921\"]],\"sequentialminus\":[[0.0,\"#0d0887\"],[0.1111111111111111,\"#46039f\"],[0.2222222222222222,\"#7201a8\"],[0.3333333333333333,\"#9c179e\"],[0.4444444444444444,\"#bd3786\"],[0.5555555555555556,\"#d8576b\"],[0.6666666666666666,\"#ed7953\"],[0.7777777777777778,\"#fb9f3a\"],[0.8888888888888888,\"#fdca26\"],[1.0,\"#f0f921\"]],\"diverging\":[[0,\"#8e0152\"],[0.1,\"#c51b7d\"],[0.2,\"#de77ae\"],[0.3,\"#f1b6da\"],[0.4,\"#fde0ef\"],[0.5,\"#f7f7f7\"],[0.6,\"#e6f5d0\"],[0.7,\"#b8e186\"],[0.8,\"#7fbc41\"],[0.9,\"#4d9221\"],[1,\"#276419\"]]},\"xaxis\":{\"gridcolor\":\"#EBF0F8\",\"linecolor\":\"#EBF0F8\",\"ticks\":\"\",\"title\":{\"standoff\":15},\"zerolinecolor\":\"#EBF0F8\",\"automargin\":true,\"zerolinewidth\":2},\"yaxis\":{\"gridcolor\":\"#EBF0F8\",\"linecolor\":\"#EBF0F8\",\"ticks\":\"\",\"title\":{\"standoff\":15},\"zerolinecolor\":\"#EBF0F8\",\"automargin\":true,\"zerolinewidth\":2},\"scene\":{\"xaxis\":{\"backgroundcolor\":\"white\",\"gridcolor\":\"#DFE8F3\",\"linecolor\":\"#EBF0F8\",\"showbackground\":true,\"ticks\":\"\",\"zerolinecolor\":\"#EBF0F8\",\"gridwidth\":2},\"yaxis\":{\"backgroundcolor\":\"white\",\"gridcolor\":\"#DFE8F3\",\"linecolor\":\"#EBF0F8\",\"showbackground\":true,\"ticks\":\"\",\"zerolinecolor\":\"#EBF0F8\",\"gridwidth\":2},\"zaxis\":{\"backgroundcolor\":\"white\",\"gridcolor\":\"#DFE8F3\",\"linecolor\":\"#EBF0F8\",\"showbackground\":true,\"ticks\":\"\",\"zerolinecolor\":\"#EBF0F8\",\"gridwidth\":2}},\"shapedefaults\":{\"line\":{\"color\":\"#2a3f5f\"}},\"annotationdefaults\":{\"arrowcolor\":\"#2a3f5f\",\"arrowhead\":0,\"arrowwidth\":1},\"geo\":{\"bgcolor\":\"white\",\"landcolor\":\"white\",\"subunitcolor\":\"#C8D4E3\",\"showland\":true,\"showlakes\":true,\"lakecolor\":\"white\"},\"title\":{\"x\":0.05},\"mapbox\":{\"style\":\"light\"}}},\"xaxis\":{\"anchor\":\"y\",\"domain\":[0.0,1.0],\"title\":{\"text\":\"index\"}},\"yaxis\":{\"anchor\":\"x\",\"domain\":[0.0,1.0],\"title\":{\"text\":\"Impressions\"}},\"legend\":{\"tracegroupgap\":0},\"title\":{\"text\":\"Number of Impressions Over Time\"}},                        {\"responsive\": true}                    ).then(function(){\n",
              "                            \n",
              "var gd = document.getElementById('4c5696eb-5344-4305-b6c0-409c9a1afcc4');\n",
              "var x = new MutationObserver(function (mutations, observer) {{\n",
              "        var display = window.getComputedStyle(gd).display;\n",
              "        if (!display || display === 'none') {{\n",
              "            console.log([gd, 'removed!']);\n",
              "            Plotly.purge(gd);\n",
              "            observer.disconnect();\n",
              "        }}\n",
              "}});\n",
              "\n",
              "// Listen for the removal of the full notebook cells\n",
              "var notebookContainer = gd.closest('#notebook-container');\n",
              "if (notebookContainer) {{\n",
              "    x.observe(notebookContainer, {childList: true});\n",
              "}}\n",
              "\n",
              "// Listen for the clearing of the current output cell\n",
              "var outputEl = gd.closest('.output');\n",
              "if (outputEl) {{\n",
              "    x.observe(outputEl, {childList: true});\n",
              "}}\n",
              "\n",
              "                        })                };                            </script>        </div>\n",
              "</body>\n",
              "</html>"
            ]
          },
          "metadata": {}
        }
      ]
    },
    {
      "cell_type": "markdown",
      "source": [
        "**Q.6: Have a look at all the metrics like Likes, Saves, and Follows from each post over time as\n",
        "shown below**"
      ],
      "metadata": {
        "id": "SqdxBTOPNBx3"
      }
    },
    {
      "cell_type": "code",
      "source": [
        "# Create a line plot with multiple metrics over time\n",
        "fig = go.Figure()\n",
        "\n",
        "# Adding traces for each metric\n",
        "fig.add_trace(go.Scatter(x=df.index, y=df['Likes'], mode='lines', name='Likes'))\n",
        "fig.add_trace(go.Scatter(x=df.index, y=df['Saves'], mode='lines', name='Saves'))\n",
        "fig.add_trace(go.Scatter(x=df.index, y=df['Follows'], mode='lines', name='Follows'))\n",
        "\n",
        "# Update layout\n",
        "fig.update_layout(title='Metrics Over Time',\n",
        "                  xaxis_title='Date',\n",
        "                  yaxis_title='Metrics',\n",
        "                  legend_title='Metrics')\n",
        "\n",
        "fig.show()"
      ],
      "metadata": {
        "colab": {
          "base_uri": "https://localhost:8080/",
          "height": 542
        },
        "id": "NLwXCi-VJBUA",
        "outputId": "22ab25c6-e7e8-488f-bc86-de5ce797afab"
      },
      "execution_count": 24,
      "outputs": [
        {
          "output_type": "display_data",
          "data": {
            "text/html": [
              "<html>\n",
              "<head><meta charset=\"utf-8\" /></head>\n",
              "<body>\n",
              "    <div>            <script src=\"https://cdnjs.cloudflare.com/ajax/libs/mathjax/2.7.5/MathJax.js?config=TeX-AMS-MML_SVG\"></script><script type=\"text/javascript\">if (window.MathJax && window.MathJax.Hub && window.MathJax.Hub.Config) {window.MathJax.Hub.Config({SVG: {font: \"STIX-Web\"}});}</script>                <script type=\"text/javascript\">window.PlotlyConfig = {MathJaxConfig: 'local'};</script>\n",
              "        <script charset=\"utf-8\" src=\"https://cdn.plot.ly/plotly-2.24.1.min.js\"></script>                <div id=\"dea77b9c-4c26-49f4-af08-fad9d1dc6a90\" class=\"plotly-graph-div\" style=\"height:525px; width:100%;\"></div>            <script type=\"text/javascript\">                                    window.PLOTLYENV=window.PLOTLYENV || {};                                    if (document.getElementById(\"dea77b9c-4c26-49f4-af08-fad9d1dc6a90\")) {                    Plotly.newPlot(                        \"dea77b9c-4c26-49f4-af08-fad9d1dc6a90\",                        [{\"mode\":\"lines\",\"name\":\"Likes\",\"x\":[0,1,2,3,4,5,6,7,8,9,10,11,12,13,14,15,16,17,18,19,20,21,22,23,24,25,26,27,28,29,30,31,32,33,34,35,36,37,38,39,40,41,42,43,44,45,46,47,48,49,50,51,52,53,54,55,56,57,58,59,60,61,62,63,64,65,66,67,68,69,70,71,72,73,74,75,76,77,78,79,80,81,82,83,84,85,86,87,88,89,90,91,92,93,94,95,96,97,98,99,100,101,102,103,104,105,106,107,108,109,110,111,112,113,114,115,116,117,118],\"y\":[162,224,131,213,123,144,76,124,159,191,81,151,162,142,294,159,205,121,151,72,76,91,195,129,160,175,147,114,151,92,214,150,122,152,196,86,85,156,72,82,416,180,150,127,167,225,137,114,263,328,126,236,99,212,297,142,186,112,149,132,115,248,178,107,269,96,134,301,187,94,114,96,138,122,257,95,244,190,118,178,170,250,159,205,121,151,72,137,114,263,328,126,129,160,175,147,114,151,92,275,192,203,145,168,194,250,171,416,249,308,163,86,210,172,373,148,92,549,443],\"type\":\"scatter\"},{\"mode\":\"lines\",\"name\":\"Saves\",\"x\":[0,1,2,3,4,5,6,7,8,9,10,11,12,13,14,15,16,17,18,19,20,21,22,23,24,25,26,27,28,29,30,31,32,33,34,35,36,37,38,39,40,41,42,43,44,45,46,47,48,49,50,51,52,53,54,55,56,57,58,59,60,61,62,63,64,65,66,67,68,69,70,71,72,73,74,75,76,77,78,79,80,81,82,83,84,85,86,87,88,89,90,91,92,93,94,95,96,97,98,99,100,101,102,103,104,105,106,107,108,109,110,111,112,113,114,115,116,117,118],\"y\":[98,194,41,172,96,74,22,135,155,122,28,122,119,121,100,101,111,106,82,40,49,72,167,63,144,135,61,40,139,52,84,81,79,105,90,34,45,98,35,49,252,167,111,90,144,263,137,67,288,668,42,342,48,250,219,118,143,99,89,148,42,171,109,38,421,38,116,225,144,51,104,33,174,46,179,34,99,174,70,149,207,318,101,111,106,82,40,137,67,288,668,42,63,144,135,61,40,139,52,393,152,83,74,94,188,214,73,285,469,504,149,55,273,182,573,135,36,1095,653],\"type\":\"scatter\"},{\"mode\":\"lines\",\"name\":\"Follows\",\"x\":[0,1,2,3,4,5,6,7,8,9,10,11,12,13,14,15,16,17,18,19,20,21,22,23,24,25,26,27,28,29,30,31,32,33,34,35,36,37,38,39,40,41,42,43,44,45,46,47,48,49,50,51,52,53,54,55,56,57,58,59,60,61,62,63,64,65,66,67,68,69,70,71,72,73,74,75,76,77,78,79,80,81,82,83,84,85,86,87,88,89,90,91,92,93,94,95,96,97,98,99,100,101,102,103,104,105,106,107,108,109,110,111,112,113,114,115,116,117,118],\"y\":[2,10,12,8,0,2,0,6,4,6,4,0,2,4,42,6,2,2,30,0,0,24,100,2,4,6,6,6,2,2,20,2,4,8,26,2,2,4,0,2,94,8,18,10,4,4,4,4,18,38,10,12,4,4,74,0,6,6,0,6,12,10,8,8,46,12,10,94,6,10,6,4,12,16,12,8,32,8,16,6,10,10,6,2,2,30,0,4,4,18,38,10,2,4,6,6,6,2,2,14,8,14,28,18,12,34,26,260,16,96,20,30,58,100,80,18,10,214,228],\"type\":\"scatter\"}],                        {\"template\":{\"data\":{\"histogram2dcontour\":[{\"type\":\"histogram2dcontour\",\"colorbar\":{\"outlinewidth\":0,\"ticks\":\"\"},\"colorscale\":[[0.0,\"#0d0887\"],[0.1111111111111111,\"#46039f\"],[0.2222222222222222,\"#7201a8\"],[0.3333333333333333,\"#9c179e\"],[0.4444444444444444,\"#bd3786\"],[0.5555555555555556,\"#d8576b\"],[0.6666666666666666,\"#ed7953\"],[0.7777777777777778,\"#fb9f3a\"],[0.8888888888888888,\"#fdca26\"],[1.0,\"#f0f921\"]]}],\"choropleth\":[{\"type\":\"choropleth\",\"colorbar\":{\"outlinewidth\":0,\"ticks\":\"\"}}],\"histogram2d\":[{\"type\":\"histogram2d\",\"colorbar\":{\"outlinewidth\":0,\"ticks\":\"\"},\"colorscale\":[[0.0,\"#0d0887\"],[0.1111111111111111,\"#46039f\"],[0.2222222222222222,\"#7201a8\"],[0.3333333333333333,\"#9c179e\"],[0.4444444444444444,\"#bd3786\"],[0.5555555555555556,\"#d8576b\"],[0.6666666666666666,\"#ed7953\"],[0.7777777777777778,\"#fb9f3a\"],[0.8888888888888888,\"#fdca26\"],[1.0,\"#f0f921\"]]}],\"heatmap\":[{\"type\":\"heatmap\",\"colorbar\":{\"outlinewidth\":0,\"ticks\":\"\"},\"colorscale\":[[0.0,\"#0d0887\"],[0.1111111111111111,\"#46039f\"],[0.2222222222222222,\"#7201a8\"],[0.3333333333333333,\"#9c179e\"],[0.4444444444444444,\"#bd3786\"],[0.5555555555555556,\"#d8576b\"],[0.6666666666666666,\"#ed7953\"],[0.7777777777777778,\"#fb9f3a\"],[0.8888888888888888,\"#fdca26\"],[1.0,\"#f0f921\"]]}],\"heatmapgl\":[{\"type\":\"heatmapgl\",\"colorbar\":{\"outlinewidth\":0,\"ticks\":\"\"},\"colorscale\":[[0.0,\"#0d0887\"],[0.1111111111111111,\"#46039f\"],[0.2222222222222222,\"#7201a8\"],[0.3333333333333333,\"#9c179e\"],[0.4444444444444444,\"#bd3786\"],[0.5555555555555556,\"#d8576b\"],[0.6666666666666666,\"#ed7953\"],[0.7777777777777778,\"#fb9f3a\"],[0.8888888888888888,\"#fdca26\"],[1.0,\"#f0f921\"]]}],\"contourcarpet\":[{\"type\":\"contourcarpet\",\"colorbar\":{\"outlinewidth\":0,\"ticks\":\"\"}}],\"contour\":[{\"type\":\"contour\",\"colorbar\":{\"outlinewidth\":0,\"ticks\":\"\"},\"colorscale\":[[0.0,\"#0d0887\"],[0.1111111111111111,\"#46039f\"],[0.2222222222222222,\"#7201a8\"],[0.3333333333333333,\"#9c179e\"],[0.4444444444444444,\"#bd3786\"],[0.5555555555555556,\"#d8576b\"],[0.6666666666666666,\"#ed7953\"],[0.7777777777777778,\"#fb9f3a\"],[0.8888888888888888,\"#fdca26\"],[1.0,\"#f0f921\"]]}],\"surface\":[{\"type\":\"surface\",\"colorbar\":{\"outlinewidth\":0,\"ticks\":\"\"},\"colorscale\":[[0.0,\"#0d0887\"],[0.1111111111111111,\"#46039f\"],[0.2222222222222222,\"#7201a8\"],[0.3333333333333333,\"#9c179e\"],[0.4444444444444444,\"#bd3786\"],[0.5555555555555556,\"#d8576b\"],[0.6666666666666666,\"#ed7953\"],[0.7777777777777778,\"#fb9f3a\"],[0.8888888888888888,\"#fdca26\"],[1.0,\"#f0f921\"]]}],\"mesh3d\":[{\"type\":\"mesh3d\",\"colorbar\":{\"outlinewidth\":0,\"ticks\":\"\"}}],\"scatter\":[{\"fillpattern\":{\"fillmode\":\"overlay\",\"size\":10,\"solidity\":0.2},\"type\":\"scatter\"}],\"parcoords\":[{\"type\":\"parcoords\",\"line\":{\"colorbar\":{\"outlinewidth\":0,\"ticks\":\"\"}}}],\"scatterpolargl\":[{\"type\":\"scatterpolargl\",\"marker\":{\"colorbar\":{\"outlinewidth\":0,\"ticks\":\"\"}}}],\"bar\":[{\"error_x\":{\"color\":\"#2a3f5f\"},\"error_y\":{\"color\":\"#2a3f5f\"},\"marker\":{\"line\":{\"color\":\"white\",\"width\":0.5},\"pattern\":{\"fillmode\":\"overlay\",\"size\":10,\"solidity\":0.2}},\"type\":\"bar\"}],\"scattergeo\":[{\"type\":\"scattergeo\",\"marker\":{\"colorbar\":{\"outlinewidth\":0,\"ticks\":\"\"}}}],\"scatterpolar\":[{\"type\":\"scatterpolar\",\"marker\":{\"colorbar\":{\"outlinewidth\":0,\"ticks\":\"\"}}}],\"histogram\":[{\"marker\":{\"pattern\":{\"fillmode\":\"overlay\",\"size\":10,\"solidity\":0.2}},\"type\":\"histogram\"}],\"scattergl\":[{\"type\":\"scattergl\",\"marker\":{\"colorbar\":{\"outlinewidth\":0,\"ticks\":\"\"}}}],\"scatter3d\":[{\"type\":\"scatter3d\",\"line\":{\"colorbar\":{\"outlinewidth\":0,\"ticks\":\"\"}},\"marker\":{\"colorbar\":{\"outlinewidth\":0,\"ticks\":\"\"}}}],\"scattermapbox\":[{\"type\":\"scattermapbox\",\"marker\":{\"colorbar\":{\"outlinewidth\":0,\"ticks\":\"\"}}}],\"scatterternary\":[{\"type\":\"scatterternary\",\"marker\":{\"colorbar\":{\"outlinewidth\":0,\"ticks\":\"\"}}}],\"scattercarpet\":[{\"type\":\"scattercarpet\",\"marker\":{\"colorbar\":{\"outlinewidth\":0,\"ticks\":\"\"}}}],\"carpet\":[{\"aaxis\":{\"endlinecolor\":\"#2a3f5f\",\"gridcolor\":\"#C8D4E3\",\"linecolor\":\"#C8D4E3\",\"minorgridcolor\":\"#C8D4E3\",\"startlinecolor\":\"#2a3f5f\"},\"baxis\":{\"endlinecolor\":\"#2a3f5f\",\"gridcolor\":\"#C8D4E3\",\"linecolor\":\"#C8D4E3\",\"minorgridcolor\":\"#C8D4E3\",\"startlinecolor\":\"#2a3f5f\"},\"type\":\"carpet\"}],\"table\":[{\"cells\":{\"fill\":{\"color\":\"#EBF0F8\"},\"line\":{\"color\":\"white\"}},\"header\":{\"fill\":{\"color\":\"#C8D4E3\"},\"line\":{\"color\":\"white\"}},\"type\":\"table\"}],\"barpolar\":[{\"marker\":{\"line\":{\"color\":\"white\",\"width\":0.5},\"pattern\":{\"fillmode\":\"overlay\",\"size\":10,\"solidity\":0.2}},\"type\":\"barpolar\"}],\"pie\":[{\"automargin\":true,\"type\":\"pie\"}]},\"layout\":{\"autotypenumbers\":\"strict\",\"colorway\":[\"#636efa\",\"#EF553B\",\"#00cc96\",\"#ab63fa\",\"#FFA15A\",\"#19d3f3\",\"#FF6692\",\"#B6E880\",\"#FF97FF\",\"#FECB52\"],\"font\":{\"color\":\"#2a3f5f\"},\"hovermode\":\"closest\",\"hoverlabel\":{\"align\":\"left\"},\"paper_bgcolor\":\"white\",\"plot_bgcolor\":\"white\",\"polar\":{\"bgcolor\":\"white\",\"angularaxis\":{\"gridcolor\":\"#EBF0F8\",\"linecolor\":\"#EBF0F8\",\"ticks\":\"\"},\"radialaxis\":{\"gridcolor\":\"#EBF0F8\",\"linecolor\":\"#EBF0F8\",\"ticks\":\"\"}},\"ternary\":{\"bgcolor\":\"white\",\"aaxis\":{\"gridcolor\":\"#DFE8F3\",\"linecolor\":\"#A2B1C6\",\"ticks\":\"\"},\"baxis\":{\"gridcolor\":\"#DFE8F3\",\"linecolor\":\"#A2B1C6\",\"ticks\":\"\"},\"caxis\":{\"gridcolor\":\"#DFE8F3\",\"linecolor\":\"#A2B1C6\",\"ticks\":\"\"}},\"coloraxis\":{\"colorbar\":{\"outlinewidth\":0,\"ticks\":\"\"}},\"colorscale\":{\"sequential\":[[0.0,\"#0d0887\"],[0.1111111111111111,\"#46039f\"],[0.2222222222222222,\"#7201a8\"],[0.3333333333333333,\"#9c179e\"],[0.4444444444444444,\"#bd3786\"],[0.5555555555555556,\"#d8576b\"],[0.6666666666666666,\"#ed7953\"],[0.7777777777777778,\"#fb9f3a\"],[0.8888888888888888,\"#fdca26\"],[1.0,\"#f0f921\"]],\"sequentialminus\":[[0.0,\"#0d0887\"],[0.1111111111111111,\"#46039f\"],[0.2222222222222222,\"#7201a8\"],[0.3333333333333333,\"#9c179e\"],[0.4444444444444444,\"#bd3786\"],[0.5555555555555556,\"#d8576b\"],[0.6666666666666666,\"#ed7953\"],[0.7777777777777778,\"#fb9f3a\"],[0.8888888888888888,\"#fdca26\"],[1.0,\"#f0f921\"]],\"diverging\":[[0,\"#8e0152\"],[0.1,\"#c51b7d\"],[0.2,\"#de77ae\"],[0.3,\"#f1b6da\"],[0.4,\"#fde0ef\"],[0.5,\"#f7f7f7\"],[0.6,\"#e6f5d0\"],[0.7,\"#b8e186\"],[0.8,\"#7fbc41\"],[0.9,\"#4d9221\"],[1,\"#276419\"]]},\"xaxis\":{\"gridcolor\":\"#EBF0F8\",\"linecolor\":\"#EBF0F8\",\"ticks\":\"\",\"title\":{\"standoff\":15},\"zerolinecolor\":\"#EBF0F8\",\"automargin\":true,\"zerolinewidth\":2},\"yaxis\":{\"gridcolor\":\"#EBF0F8\",\"linecolor\":\"#EBF0F8\",\"ticks\":\"\",\"title\":{\"standoff\":15},\"zerolinecolor\":\"#EBF0F8\",\"automargin\":true,\"zerolinewidth\":2},\"scene\":{\"xaxis\":{\"backgroundcolor\":\"white\",\"gridcolor\":\"#DFE8F3\",\"linecolor\":\"#EBF0F8\",\"showbackground\":true,\"ticks\":\"\",\"zerolinecolor\":\"#EBF0F8\",\"gridwidth\":2},\"yaxis\":{\"backgroundcolor\":\"white\",\"gridcolor\":\"#DFE8F3\",\"linecolor\":\"#EBF0F8\",\"showbackground\":true,\"ticks\":\"\",\"zerolinecolor\":\"#EBF0F8\",\"gridwidth\":2},\"zaxis\":{\"backgroundcolor\":\"white\",\"gridcolor\":\"#DFE8F3\",\"linecolor\":\"#EBF0F8\",\"showbackground\":true,\"ticks\":\"\",\"zerolinecolor\":\"#EBF0F8\",\"gridwidth\":2}},\"shapedefaults\":{\"line\":{\"color\":\"#2a3f5f\"}},\"annotationdefaults\":{\"arrowcolor\":\"#2a3f5f\",\"arrowhead\":0,\"arrowwidth\":1},\"geo\":{\"bgcolor\":\"white\",\"landcolor\":\"white\",\"subunitcolor\":\"#C8D4E3\",\"showland\":true,\"showlakes\":true,\"lakecolor\":\"white\"},\"title\":{\"x\":0.05},\"mapbox\":{\"style\":\"light\"}}},\"title\":{\"text\":\"Metrics Over Time\"},\"xaxis\":{\"title\":{\"text\":\"Date\"}},\"yaxis\":{\"title\":{\"text\":\"Metrics\"}},\"legend\":{\"title\":{\"text\":\"Metrics\"}}},                        {\"responsive\": true}                    ).then(function(){\n",
              "                            \n",
              "var gd = document.getElementById('dea77b9c-4c26-49f4-af08-fad9d1dc6a90');\n",
              "var x = new MutationObserver(function (mutations, observer) {{\n",
              "        var display = window.getComputedStyle(gd).display;\n",
              "        if (!display || display === 'none') {{\n",
              "            console.log([gd, 'removed!']);\n",
              "            Plotly.purge(gd);\n",
              "            observer.disconnect();\n",
              "        }}\n",
              "}});\n",
              "\n",
              "// Listen for the removal of the full notebook cells\n",
              "var notebookContainer = gd.closest('#notebook-container');\n",
              "if (notebookContainer) {{\n",
              "    x.observe(notebookContainer, {childList: true});\n",
              "}}\n",
              "\n",
              "// Listen for the clearing of the current output cell\n",
              "var outputEl = gd.closest('.output');\n",
              "if (outputEl) {{\n",
              "    x.observe(outputEl, {childList: true});\n",
              "}}\n",
              "\n",
              "                        })                };                            </script>        </div>\n",
              "</body>\n",
              "</html>"
            ]
          },
          "metadata": {}
        }
      ]
    },
    {
      "cell_type": "markdown",
      "source": [
        "**Q.7: Have a look at the distribution of reach from different sources as shown below**"
      ],
      "metadata": {
        "id": "ZCKh-e3INH33"
      }
    },
    {
      "cell_type": "code",
      "source": [
        "reach_sources = ['From Home', 'From Hashtags', 'From Explore', 'From Other']\n",
        "reach_counts = [df[source].sum() for source in reach_sources]\n",
        "\n",
        "colors = ['#FFB6C1', '#87CEFA', '#90EE90', '#FFDAB9']\n",
        "\n",
        "fig = px.pie(data_frame=df, names=reach_sources,\n",
        "             values=reach_counts,\n",
        "             title='Reach from Different Sources',\n",
        "             color_discrete_sequence=colors)\n",
        "fig.show()"
      ],
      "metadata": {
        "colab": {
          "base_uri": "https://localhost:8080/",
          "height": 542
        },
        "id": "voJub_AdJkMn",
        "outputId": "dca0dee4-9d7e-49f5-db43-fadb3c3fd8d1"
      },
      "execution_count": 27,
      "outputs": [
        {
          "output_type": "display_data",
          "data": {
            "text/html": [
              "<html>\n",
              "<head><meta charset=\"utf-8\" /></head>\n",
              "<body>\n",
              "    <div>            <script src=\"https://cdnjs.cloudflare.com/ajax/libs/mathjax/2.7.5/MathJax.js?config=TeX-AMS-MML_SVG\"></script><script type=\"text/javascript\">if (window.MathJax && window.MathJax.Hub && window.MathJax.Hub.Config) {window.MathJax.Hub.Config({SVG: {font: \"STIX-Web\"}});}</script>                <script type=\"text/javascript\">window.PlotlyConfig = {MathJaxConfig: 'local'};</script>\n",
              "        <script charset=\"utf-8\" src=\"https://cdn.plot.ly/plotly-2.24.1.min.js\"></script>                <div id=\"ff645852-f5ad-4500-b49a-ccc49012d3fe\" class=\"plotly-graph-div\" style=\"height:525px; width:100%;\"></div>            <script type=\"text/javascript\">                                    window.PLOTLYENV=window.PLOTLYENV || {};                                    if (document.getElementById(\"ff645852-f5ad-4500-b49a-ccc49012d3fe\")) {                    Plotly.newPlot(                        \"ff645852-f5ad-4500-b49a-ccc49012d3fe\",                        [{\"domain\":{\"x\":[0.0,1.0],\"y\":[0.0,1.0]},\"hovertemplate\":\"label=%{label}\\u003cbr\\u003evalue=%{value}\\u003cextra\\u003e\\u003c\\u002fextra\\u003e\",\"labels\":[\"From Home\",\"From Hashtags\",\"From Explore\",\"From Other\"],\"legendgroup\":\"\",\"name\":\"\",\"showlegend\":true,\"values\":[294619,224614,128294,20360],\"type\":\"pie\"}],                        {\"template\":{\"data\":{\"histogram2dcontour\":[{\"type\":\"histogram2dcontour\",\"colorbar\":{\"outlinewidth\":0,\"ticks\":\"\"},\"colorscale\":[[0.0,\"#0d0887\"],[0.1111111111111111,\"#46039f\"],[0.2222222222222222,\"#7201a8\"],[0.3333333333333333,\"#9c179e\"],[0.4444444444444444,\"#bd3786\"],[0.5555555555555556,\"#d8576b\"],[0.6666666666666666,\"#ed7953\"],[0.7777777777777778,\"#fb9f3a\"],[0.8888888888888888,\"#fdca26\"],[1.0,\"#f0f921\"]]}],\"choropleth\":[{\"type\":\"choropleth\",\"colorbar\":{\"outlinewidth\":0,\"ticks\":\"\"}}],\"histogram2d\":[{\"type\":\"histogram2d\",\"colorbar\":{\"outlinewidth\":0,\"ticks\":\"\"},\"colorscale\":[[0.0,\"#0d0887\"],[0.1111111111111111,\"#46039f\"],[0.2222222222222222,\"#7201a8\"],[0.3333333333333333,\"#9c179e\"],[0.4444444444444444,\"#bd3786\"],[0.5555555555555556,\"#d8576b\"],[0.6666666666666666,\"#ed7953\"],[0.7777777777777778,\"#fb9f3a\"],[0.8888888888888888,\"#fdca26\"],[1.0,\"#f0f921\"]]}],\"heatmap\":[{\"type\":\"heatmap\",\"colorbar\":{\"outlinewidth\":0,\"ticks\":\"\"},\"colorscale\":[[0.0,\"#0d0887\"],[0.1111111111111111,\"#46039f\"],[0.2222222222222222,\"#7201a8\"],[0.3333333333333333,\"#9c179e\"],[0.4444444444444444,\"#bd3786\"],[0.5555555555555556,\"#d8576b\"],[0.6666666666666666,\"#ed7953\"],[0.7777777777777778,\"#fb9f3a\"],[0.8888888888888888,\"#fdca26\"],[1.0,\"#f0f921\"]]}],\"heatmapgl\":[{\"type\":\"heatmapgl\",\"colorbar\":{\"outlinewidth\":0,\"ticks\":\"\"},\"colorscale\":[[0.0,\"#0d0887\"],[0.1111111111111111,\"#46039f\"],[0.2222222222222222,\"#7201a8\"],[0.3333333333333333,\"#9c179e\"],[0.4444444444444444,\"#bd3786\"],[0.5555555555555556,\"#d8576b\"],[0.6666666666666666,\"#ed7953\"],[0.7777777777777778,\"#fb9f3a\"],[0.8888888888888888,\"#fdca26\"],[1.0,\"#f0f921\"]]}],\"contourcarpet\":[{\"type\":\"contourcarpet\",\"colorbar\":{\"outlinewidth\":0,\"ticks\":\"\"}}],\"contour\":[{\"type\":\"contour\",\"colorbar\":{\"outlinewidth\":0,\"ticks\":\"\"},\"colorscale\":[[0.0,\"#0d0887\"],[0.1111111111111111,\"#46039f\"],[0.2222222222222222,\"#7201a8\"],[0.3333333333333333,\"#9c179e\"],[0.4444444444444444,\"#bd3786\"],[0.5555555555555556,\"#d8576b\"],[0.6666666666666666,\"#ed7953\"],[0.7777777777777778,\"#fb9f3a\"],[0.8888888888888888,\"#fdca26\"],[1.0,\"#f0f921\"]]}],\"surface\":[{\"type\":\"surface\",\"colorbar\":{\"outlinewidth\":0,\"ticks\":\"\"},\"colorscale\":[[0.0,\"#0d0887\"],[0.1111111111111111,\"#46039f\"],[0.2222222222222222,\"#7201a8\"],[0.3333333333333333,\"#9c179e\"],[0.4444444444444444,\"#bd3786\"],[0.5555555555555556,\"#d8576b\"],[0.6666666666666666,\"#ed7953\"],[0.7777777777777778,\"#fb9f3a\"],[0.8888888888888888,\"#fdca26\"],[1.0,\"#f0f921\"]]}],\"mesh3d\":[{\"type\":\"mesh3d\",\"colorbar\":{\"outlinewidth\":0,\"ticks\":\"\"}}],\"scatter\":[{\"fillpattern\":{\"fillmode\":\"overlay\",\"size\":10,\"solidity\":0.2},\"type\":\"scatter\"}],\"parcoords\":[{\"type\":\"parcoords\",\"line\":{\"colorbar\":{\"outlinewidth\":0,\"ticks\":\"\"}}}],\"scatterpolargl\":[{\"type\":\"scatterpolargl\",\"marker\":{\"colorbar\":{\"outlinewidth\":0,\"ticks\":\"\"}}}],\"bar\":[{\"error_x\":{\"color\":\"#2a3f5f\"},\"error_y\":{\"color\":\"#2a3f5f\"},\"marker\":{\"line\":{\"color\":\"white\",\"width\":0.5},\"pattern\":{\"fillmode\":\"overlay\",\"size\":10,\"solidity\":0.2}},\"type\":\"bar\"}],\"scattergeo\":[{\"type\":\"scattergeo\",\"marker\":{\"colorbar\":{\"outlinewidth\":0,\"ticks\":\"\"}}}],\"scatterpolar\":[{\"type\":\"scatterpolar\",\"marker\":{\"colorbar\":{\"outlinewidth\":0,\"ticks\":\"\"}}}],\"histogram\":[{\"marker\":{\"pattern\":{\"fillmode\":\"overlay\",\"size\":10,\"solidity\":0.2}},\"type\":\"histogram\"}],\"scattergl\":[{\"type\":\"scattergl\",\"marker\":{\"colorbar\":{\"outlinewidth\":0,\"ticks\":\"\"}}}],\"scatter3d\":[{\"type\":\"scatter3d\",\"line\":{\"colorbar\":{\"outlinewidth\":0,\"ticks\":\"\"}},\"marker\":{\"colorbar\":{\"outlinewidth\":0,\"ticks\":\"\"}}}],\"scattermapbox\":[{\"type\":\"scattermapbox\",\"marker\":{\"colorbar\":{\"outlinewidth\":0,\"ticks\":\"\"}}}],\"scatterternary\":[{\"type\":\"scatterternary\",\"marker\":{\"colorbar\":{\"outlinewidth\":0,\"ticks\":\"\"}}}],\"scattercarpet\":[{\"type\":\"scattercarpet\",\"marker\":{\"colorbar\":{\"outlinewidth\":0,\"ticks\":\"\"}}}],\"carpet\":[{\"aaxis\":{\"endlinecolor\":\"#2a3f5f\",\"gridcolor\":\"#C8D4E3\",\"linecolor\":\"#C8D4E3\",\"minorgridcolor\":\"#C8D4E3\",\"startlinecolor\":\"#2a3f5f\"},\"baxis\":{\"endlinecolor\":\"#2a3f5f\",\"gridcolor\":\"#C8D4E3\",\"linecolor\":\"#C8D4E3\",\"minorgridcolor\":\"#C8D4E3\",\"startlinecolor\":\"#2a3f5f\"},\"type\":\"carpet\"}],\"table\":[{\"cells\":{\"fill\":{\"color\":\"#EBF0F8\"},\"line\":{\"color\":\"white\"}},\"header\":{\"fill\":{\"color\":\"#C8D4E3\"},\"line\":{\"color\":\"white\"}},\"type\":\"table\"}],\"barpolar\":[{\"marker\":{\"line\":{\"color\":\"white\",\"width\":0.5},\"pattern\":{\"fillmode\":\"overlay\",\"size\":10,\"solidity\":0.2}},\"type\":\"barpolar\"}],\"pie\":[{\"automargin\":true,\"type\":\"pie\"}]},\"layout\":{\"autotypenumbers\":\"strict\",\"colorway\":[\"#636efa\",\"#EF553B\",\"#00cc96\",\"#ab63fa\",\"#FFA15A\",\"#19d3f3\",\"#FF6692\",\"#B6E880\",\"#FF97FF\",\"#FECB52\"],\"font\":{\"color\":\"#2a3f5f\"},\"hovermode\":\"closest\",\"hoverlabel\":{\"align\":\"left\"},\"paper_bgcolor\":\"white\",\"plot_bgcolor\":\"white\",\"polar\":{\"bgcolor\":\"white\",\"angularaxis\":{\"gridcolor\":\"#EBF0F8\",\"linecolor\":\"#EBF0F8\",\"ticks\":\"\"},\"radialaxis\":{\"gridcolor\":\"#EBF0F8\",\"linecolor\":\"#EBF0F8\",\"ticks\":\"\"}},\"ternary\":{\"bgcolor\":\"white\",\"aaxis\":{\"gridcolor\":\"#DFE8F3\",\"linecolor\":\"#A2B1C6\",\"ticks\":\"\"},\"baxis\":{\"gridcolor\":\"#DFE8F3\",\"linecolor\":\"#A2B1C6\",\"ticks\":\"\"},\"caxis\":{\"gridcolor\":\"#DFE8F3\",\"linecolor\":\"#A2B1C6\",\"ticks\":\"\"}},\"coloraxis\":{\"colorbar\":{\"outlinewidth\":0,\"ticks\":\"\"}},\"colorscale\":{\"sequential\":[[0.0,\"#0d0887\"],[0.1111111111111111,\"#46039f\"],[0.2222222222222222,\"#7201a8\"],[0.3333333333333333,\"#9c179e\"],[0.4444444444444444,\"#bd3786\"],[0.5555555555555556,\"#d8576b\"],[0.6666666666666666,\"#ed7953\"],[0.7777777777777778,\"#fb9f3a\"],[0.8888888888888888,\"#fdca26\"],[1.0,\"#f0f921\"]],\"sequentialminus\":[[0.0,\"#0d0887\"],[0.1111111111111111,\"#46039f\"],[0.2222222222222222,\"#7201a8\"],[0.3333333333333333,\"#9c179e\"],[0.4444444444444444,\"#bd3786\"],[0.5555555555555556,\"#d8576b\"],[0.6666666666666666,\"#ed7953\"],[0.7777777777777778,\"#fb9f3a\"],[0.8888888888888888,\"#fdca26\"],[1.0,\"#f0f921\"]],\"diverging\":[[0,\"#8e0152\"],[0.1,\"#c51b7d\"],[0.2,\"#de77ae\"],[0.3,\"#f1b6da\"],[0.4,\"#fde0ef\"],[0.5,\"#f7f7f7\"],[0.6,\"#e6f5d0\"],[0.7,\"#b8e186\"],[0.8,\"#7fbc41\"],[0.9,\"#4d9221\"],[1,\"#276419\"]]},\"xaxis\":{\"gridcolor\":\"#EBF0F8\",\"linecolor\":\"#EBF0F8\",\"ticks\":\"\",\"title\":{\"standoff\":15},\"zerolinecolor\":\"#EBF0F8\",\"automargin\":true,\"zerolinewidth\":2},\"yaxis\":{\"gridcolor\":\"#EBF0F8\",\"linecolor\":\"#EBF0F8\",\"ticks\":\"\",\"title\":{\"standoff\":15},\"zerolinecolor\":\"#EBF0F8\",\"automargin\":true,\"zerolinewidth\":2},\"scene\":{\"xaxis\":{\"backgroundcolor\":\"white\",\"gridcolor\":\"#DFE8F3\",\"linecolor\":\"#EBF0F8\",\"showbackground\":true,\"ticks\":\"\",\"zerolinecolor\":\"#EBF0F8\",\"gridwidth\":2},\"yaxis\":{\"backgroundcolor\":\"white\",\"gridcolor\":\"#DFE8F3\",\"linecolor\":\"#EBF0F8\",\"showbackground\":true,\"ticks\":\"\",\"zerolinecolor\":\"#EBF0F8\",\"gridwidth\":2},\"zaxis\":{\"backgroundcolor\":\"white\",\"gridcolor\":\"#DFE8F3\",\"linecolor\":\"#EBF0F8\",\"showbackground\":true,\"ticks\":\"\",\"zerolinecolor\":\"#EBF0F8\",\"gridwidth\":2}},\"shapedefaults\":{\"line\":{\"color\":\"#2a3f5f\"}},\"annotationdefaults\":{\"arrowcolor\":\"#2a3f5f\",\"arrowhead\":0,\"arrowwidth\":1},\"geo\":{\"bgcolor\":\"white\",\"landcolor\":\"white\",\"subunitcolor\":\"#C8D4E3\",\"showland\":true,\"showlakes\":true,\"lakecolor\":\"white\"},\"title\":{\"x\":0.05},\"mapbox\":{\"style\":\"light\"}}},\"legend\":{\"tracegroupgap\":0},\"title\":{\"text\":\"Reach from Different Sources\"},\"piecolorway\":[\"#FFB6C1\",\"#87CEFA\",\"#90EE90\",\"#FFDAB9\"]},                        {\"responsive\": true}                    ).then(function(){\n",
              "                            \n",
              "var gd = document.getElementById('ff645852-f5ad-4500-b49a-ccc49012d3fe');\n",
              "var x = new MutationObserver(function (mutations, observer) {{\n",
              "        var display = window.getComputedStyle(gd).display;\n",
              "        if (!display || display === 'none') {{\n",
              "            console.log([gd, 'removed!']);\n",
              "            Plotly.purge(gd);\n",
              "            observer.disconnect();\n",
              "        }}\n",
              "}});\n",
              "\n",
              "// Listen for the removal of the full notebook cells\n",
              "var notebookContainer = gd.closest('#notebook-container');\n",
              "if (notebookContainer) {{\n",
              "    x.observe(notebookContainer, {childList: true});\n",
              "}}\n",
              "\n",
              "// Listen for the clearing of the current output cell\n",
              "var outputEl = gd.closest('.output');\n",
              "if (outputEl) {{\n",
              "    x.observe(outputEl, {childList: true});\n",
              "}}\n",
              "\n",
              "                        })                };                            </script>        </div>\n",
              "</body>\n",
              "</html>"
            ]
          },
          "metadata": {}
        }
      ]
    },
    {
      "cell_type": "markdown",
      "source": [
        "**Q.8: Have a look at the distribution of engagement sources as shown below**"
      ],
      "metadata": {
        "id": "9P3uARh7NKGK"
      }
    },
    {
      "cell_type": "code",
      "source": [
        "engagement_metrics = ['Saves', 'Comments', 'Shares', 'Likes']\n",
        "engagement_counts = [df[metric].sum() for metric in engagement_metrics]\n",
        "\n",
        "colors = ['#FFB6C1', '#87CEFA', '#90EE90', '#FFDAB9']\n",
        "\n",
        "fig = px.pie(data_frame=df, names=engagement_metrics,\n",
        "             values=engagement_counts,\n",
        "             title='Engagement Sources',\n",
        "             color_discrete_sequence=colors)\n",
        "fig.show()"
      ],
      "metadata": {
        "colab": {
          "base_uri": "https://localhost:8080/",
          "height": 542
        },
        "id": "98Gz9iUmJ-wG",
        "outputId": "c1a553e4-b27f-4ffd-801a-ff874a380705"
      },
      "execution_count": 28,
      "outputs": [
        {
          "output_type": "display_data",
          "data": {
            "text/html": [
              "<html>\n",
              "<head><meta charset=\"utf-8\" /></head>\n",
              "<body>\n",
              "    <div>            <script src=\"https://cdnjs.cloudflare.com/ajax/libs/mathjax/2.7.5/MathJax.js?config=TeX-AMS-MML_SVG\"></script><script type=\"text/javascript\">if (window.MathJax && window.MathJax.Hub && window.MathJax.Hub.Config) {window.MathJax.Hub.Config({SVG: {font: \"STIX-Web\"}});}</script>                <script type=\"text/javascript\">window.PlotlyConfig = {MathJaxConfig: 'local'};</script>\n",
              "        <script charset=\"utf-8\" src=\"https://cdn.plot.ly/plotly-2.24.1.min.js\"></script>                <div id=\"6bfe670f-24d4-4781-96af-610625fc787b\" class=\"plotly-graph-div\" style=\"height:525px; width:100%;\"></div>            <script type=\"text/javascript\">                                    window.PLOTLYENV=window.PLOTLYENV || {};                                    if (document.getElementById(\"6bfe670f-24d4-4781-96af-610625fc787b\")) {                    Plotly.newPlot(                        \"6bfe670f-24d4-4781-96af-610625fc787b\",                        [{\"domain\":{\"x\":[0.0,1.0],\"y\":[0.0,1.0]},\"hovertemplate\":\"label=%{label}\\u003cbr\\u003evalue=%{value}\\u003cextra\\u003e\\u003c\\u002fextra\\u003e\",\"labels\":[\"Saves\",\"Comments\",\"Shares\",\"Likes\"],\"legendgroup\":\"\",\"name\":\"\",\"showlegend\":true,\"values\":[18244,793,1114,20680],\"type\":\"pie\"}],                        {\"template\":{\"data\":{\"histogram2dcontour\":[{\"type\":\"histogram2dcontour\",\"colorbar\":{\"outlinewidth\":0,\"ticks\":\"\"},\"colorscale\":[[0.0,\"#0d0887\"],[0.1111111111111111,\"#46039f\"],[0.2222222222222222,\"#7201a8\"],[0.3333333333333333,\"#9c179e\"],[0.4444444444444444,\"#bd3786\"],[0.5555555555555556,\"#d8576b\"],[0.6666666666666666,\"#ed7953\"],[0.7777777777777778,\"#fb9f3a\"],[0.8888888888888888,\"#fdca26\"],[1.0,\"#f0f921\"]]}],\"choropleth\":[{\"type\":\"choropleth\",\"colorbar\":{\"outlinewidth\":0,\"ticks\":\"\"}}],\"histogram2d\":[{\"type\":\"histogram2d\",\"colorbar\":{\"outlinewidth\":0,\"ticks\":\"\"},\"colorscale\":[[0.0,\"#0d0887\"],[0.1111111111111111,\"#46039f\"],[0.2222222222222222,\"#7201a8\"],[0.3333333333333333,\"#9c179e\"],[0.4444444444444444,\"#bd3786\"],[0.5555555555555556,\"#d8576b\"],[0.6666666666666666,\"#ed7953\"],[0.7777777777777778,\"#fb9f3a\"],[0.8888888888888888,\"#fdca26\"],[1.0,\"#f0f921\"]]}],\"heatmap\":[{\"type\":\"heatmap\",\"colorbar\":{\"outlinewidth\":0,\"ticks\":\"\"},\"colorscale\":[[0.0,\"#0d0887\"],[0.1111111111111111,\"#46039f\"],[0.2222222222222222,\"#7201a8\"],[0.3333333333333333,\"#9c179e\"],[0.4444444444444444,\"#bd3786\"],[0.5555555555555556,\"#d8576b\"],[0.6666666666666666,\"#ed7953\"],[0.7777777777777778,\"#fb9f3a\"],[0.8888888888888888,\"#fdca26\"],[1.0,\"#f0f921\"]]}],\"heatmapgl\":[{\"type\":\"heatmapgl\",\"colorbar\":{\"outlinewidth\":0,\"ticks\":\"\"},\"colorscale\":[[0.0,\"#0d0887\"],[0.1111111111111111,\"#46039f\"],[0.2222222222222222,\"#7201a8\"],[0.3333333333333333,\"#9c179e\"],[0.4444444444444444,\"#bd3786\"],[0.5555555555555556,\"#d8576b\"],[0.6666666666666666,\"#ed7953\"],[0.7777777777777778,\"#fb9f3a\"],[0.8888888888888888,\"#fdca26\"],[1.0,\"#f0f921\"]]}],\"contourcarpet\":[{\"type\":\"contourcarpet\",\"colorbar\":{\"outlinewidth\":0,\"ticks\":\"\"}}],\"contour\":[{\"type\":\"contour\",\"colorbar\":{\"outlinewidth\":0,\"ticks\":\"\"},\"colorscale\":[[0.0,\"#0d0887\"],[0.1111111111111111,\"#46039f\"],[0.2222222222222222,\"#7201a8\"],[0.3333333333333333,\"#9c179e\"],[0.4444444444444444,\"#bd3786\"],[0.5555555555555556,\"#d8576b\"],[0.6666666666666666,\"#ed7953\"],[0.7777777777777778,\"#fb9f3a\"],[0.8888888888888888,\"#fdca26\"],[1.0,\"#f0f921\"]]}],\"surface\":[{\"type\":\"surface\",\"colorbar\":{\"outlinewidth\":0,\"ticks\":\"\"},\"colorscale\":[[0.0,\"#0d0887\"],[0.1111111111111111,\"#46039f\"],[0.2222222222222222,\"#7201a8\"],[0.3333333333333333,\"#9c179e\"],[0.4444444444444444,\"#bd3786\"],[0.5555555555555556,\"#d8576b\"],[0.6666666666666666,\"#ed7953\"],[0.7777777777777778,\"#fb9f3a\"],[0.8888888888888888,\"#fdca26\"],[1.0,\"#f0f921\"]]}],\"mesh3d\":[{\"type\":\"mesh3d\",\"colorbar\":{\"outlinewidth\":0,\"ticks\":\"\"}}],\"scatter\":[{\"fillpattern\":{\"fillmode\":\"overlay\",\"size\":10,\"solidity\":0.2},\"type\":\"scatter\"}],\"parcoords\":[{\"type\":\"parcoords\",\"line\":{\"colorbar\":{\"outlinewidth\":0,\"ticks\":\"\"}}}],\"scatterpolargl\":[{\"type\":\"scatterpolargl\",\"marker\":{\"colorbar\":{\"outlinewidth\":0,\"ticks\":\"\"}}}],\"bar\":[{\"error_x\":{\"color\":\"#2a3f5f\"},\"error_y\":{\"color\":\"#2a3f5f\"},\"marker\":{\"line\":{\"color\":\"white\",\"width\":0.5},\"pattern\":{\"fillmode\":\"overlay\",\"size\":10,\"solidity\":0.2}},\"type\":\"bar\"}],\"scattergeo\":[{\"type\":\"scattergeo\",\"marker\":{\"colorbar\":{\"outlinewidth\":0,\"ticks\":\"\"}}}],\"scatterpolar\":[{\"type\":\"scatterpolar\",\"marker\":{\"colorbar\":{\"outlinewidth\":0,\"ticks\":\"\"}}}],\"histogram\":[{\"marker\":{\"pattern\":{\"fillmode\":\"overlay\",\"size\":10,\"solidity\":0.2}},\"type\":\"histogram\"}],\"scattergl\":[{\"type\":\"scattergl\",\"marker\":{\"colorbar\":{\"outlinewidth\":0,\"ticks\":\"\"}}}],\"scatter3d\":[{\"type\":\"scatter3d\",\"line\":{\"colorbar\":{\"outlinewidth\":0,\"ticks\":\"\"}},\"marker\":{\"colorbar\":{\"outlinewidth\":0,\"ticks\":\"\"}}}],\"scattermapbox\":[{\"type\":\"scattermapbox\",\"marker\":{\"colorbar\":{\"outlinewidth\":0,\"ticks\":\"\"}}}],\"scatterternary\":[{\"type\":\"scatterternary\",\"marker\":{\"colorbar\":{\"outlinewidth\":0,\"ticks\":\"\"}}}],\"scattercarpet\":[{\"type\":\"scattercarpet\",\"marker\":{\"colorbar\":{\"outlinewidth\":0,\"ticks\":\"\"}}}],\"carpet\":[{\"aaxis\":{\"endlinecolor\":\"#2a3f5f\",\"gridcolor\":\"#C8D4E3\",\"linecolor\":\"#C8D4E3\",\"minorgridcolor\":\"#C8D4E3\",\"startlinecolor\":\"#2a3f5f\"},\"baxis\":{\"endlinecolor\":\"#2a3f5f\",\"gridcolor\":\"#C8D4E3\",\"linecolor\":\"#C8D4E3\",\"minorgridcolor\":\"#C8D4E3\",\"startlinecolor\":\"#2a3f5f\"},\"type\":\"carpet\"}],\"table\":[{\"cells\":{\"fill\":{\"color\":\"#EBF0F8\"},\"line\":{\"color\":\"white\"}},\"header\":{\"fill\":{\"color\":\"#C8D4E3\"},\"line\":{\"color\":\"white\"}},\"type\":\"table\"}],\"barpolar\":[{\"marker\":{\"line\":{\"color\":\"white\",\"width\":0.5},\"pattern\":{\"fillmode\":\"overlay\",\"size\":10,\"solidity\":0.2}},\"type\":\"barpolar\"}],\"pie\":[{\"automargin\":true,\"type\":\"pie\"}]},\"layout\":{\"autotypenumbers\":\"strict\",\"colorway\":[\"#636efa\",\"#EF553B\",\"#00cc96\",\"#ab63fa\",\"#FFA15A\",\"#19d3f3\",\"#FF6692\",\"#B6E880\",\"#FF97FF\",\"#FECB52\"],\"font\":{\"color\":\"#2a3f5f\"},\"hovermode\":\"closest\",\"hoverlabel\":{\"align\":\"left\"},\"paper_bgcolor\":\"white\",\"plot_bgcolor\":\"white\",\"polar\":{\"bgcolor\":\"white\",\"angularaxis\":{\"gridcolor\":\"#EBF0F8\",\"linecolor\":\"#EBF0F8\",\"ticks\":\"\"},\"radialaxis\":{\"gridcolor\":\"#EBF0F8\",\"linecolor\":\"#EBF0F8\",\"ticks\":\"\"}},\"ternary\":{\"bgcolor\":\"white\",\"aaxis\":{\"gridcolor\":\"#DFE8F3\",\"linecolor\":\"#A2B1C6\",\"ticks\":\"\"},\"baxis\":{\"gridcolor\":\"#DFE8F3\",\"linecolor\":\"#A2B1C6\",\"ticks\":\"\"},\"caxis\":{\"gridcolor\":\"#DFE8F3\",\"linecolor\":\"#A2B1C6\",\"ticks\":\"\"}},\"coloraxis\":{\"colorbar\":{\"outlinewidth\":0,\"ticks\":\"\"}},\"colorscale\":{\"sequential\":[[0.0,\"#0d0887\"],[0.1111111111111111,\"#46039f\"],[0.2222222222222222,\"#7201a8\"],[0.3333333333333333,\"#9c179e\"],[0.4444444444444444,\"#bd3786\"],[0.5555555555555556,\"#d8576b\"],[0.6666666666666666,\"#ed7953\"],[0.7777777777777778,\"#fb9f3a\"],[0.8888888888888888,\"#fdca26\"],[1.0,\"#f0f921\"]],\"sequentialminus\":[[0.0,\"#0d0887\"],[0.1111111111111111,\"#46039f\"],[0.2222222222222222,\"#7201a8\"],[0.3333333333333333,\"#9c179e\"],[0.4444444444444444,\"#bd3786\"],[0.5555555555555556,\"#d8576b\"],[0.6666666666666666,\"#ed7953\"],[0.7777777777777778,\"#fb9f3a\"],[0.8888888888888888,\"#fdca26\"],[1.0,\"#f0f921\"]],\"diverging\":[[0,\"#8e0152\"],[0.1,\"#c51b7d\"],[0.2,\"#de77ae\"],[0.3,\"#f1b6da\"],[0.4,\"#fde0ef\"],[0.5,\"#f7f7f7\"],[0.6,\"#e6f5d0\"],[0.7,\"#b8e186\"],[0.8,\"#7fbc41\"],[0.9,\"#4d9221\"],[1,\"#276419\"]]},\"xaxis\":{\"gridcolor\":\"#EBF0F8\",\"linecolor\":\"#EBF0F8\",\"ticks\":\"\",\"title\":{\"standoff\":15},\"zerolinecolor\":\"#EBF0F8\",\"automargin\":true,\"zerolinewidth\":2},\"yaxis\":{\"gridcolor\":\"#EBF0F8\",\"linecolor\":\"#EBF0F8\",\"ticks\":\"\",\"title\":{\"standoff\":15},\"zerolinecolor\":\"#EBF0F8\",\"automargin\":true,\"zerolinewidth\":2},\"scene\":{\"xaxis\":{\"backgroundcolor\":\"white\",\"gridcolor\":\"#DFE8F3\",\"linecolor\":\"#EBF0F8\",\"showbackground\":true,\"ticks\":\"\",\"zerolinecolor\":\"#EBF0F8\",\"gridwidth\":2},\"yaxis\":{\"backgroundcolor\":\"white\",\"gridcolor\":\"#DFE8F3\",\"linecolor\":\"#EBF0F8\",\"showbackground\":true,\"ticks\":\"\",\"zerolinecolor\":\"#EBF0F8\",\"gridwidth\":2},\"zaxis\":{\"backgroundcolor\":\"white\",\"gridcolor\":\"#DFE8F3\",\"linecolor\":\"#EBF0F8\",\"showbackground\":true,\"ticks\":\"\",\"zerolinecolor\":\"#EBF0F8\",\"gridwidth\":2}},\"shapedefaults\":{\"line\":{\"color\":\"#2a3f5f\"}},\"annotationdefaults\":{\"arrowcolor\":\"#2a3f5f\",\"arrowhead\":0,\"arrowwidth\":1},\"geo\":{\"bgcolor\":\"white\",\"landcolor\":\"white\",\"subunitcolor\":\"#C8D4E3\",\"showland\":true,\"showlakes\":true,\"lakecolor\":\"white\"},\"title\":{\"x\":0.05},\"mapbox\":{\"style\":\"light\"}}},\"legend\":{\"tracegroupgap\":0},\"title\":{\"text\":\"Engagement Sources\"},\"piecolorway\":[\"#FFB6C1\",\"#87CEFA\",\"#90EE90\",\"#FFDAB9\"]},                        {\"responsive\": true}                    ).then(function(){\n",
              "                            \n",
              "var gd = document.getElementById('6bfe670f-24d4-4781-96af-610625fc787b');\n",
              "var x = new MutationObserver(function (mutations, observer) {{\n",
              "        var display = window.getComputedStyle(gd).display;\n",
              "        if (!display || display === 'none') {{\n",
              "            console.log([gd, 'removed!']);\n",
              "            Plotly.purge(gd);\n",
              "            observer.disconnect();\n",
              "        }}\n",
              "}});\n",
              "\n",
              "// Listen for the removal of the full notebook cells\n",
              "var notebookContainer = gd.closest('#notebook-container');\n",
              "if (notebookContainer) {{\n",
              "    x.observe(notebookContainer, {childList: true});\n",
              "}}\n",
              "\n",
              "// Listen for the clearing of the current output cell\n",
              "var outputEl = gd.closest('.output');\n",
              "if (outputEl) {{\n",
              "    x.observe(outputEl, {childList: true});\n",
              "}}\n",
              "\n",
              "                        })                };                            </script>        </div>\n",
              "</body>\n",
              "</html>"
            ]
          },
          "metadata": {}
        }
      ]
    },
    {
      "cell_type": "markdown",
      "source": [
        "**Q.9: Have a look at the relationship between the number of profile visits and follows as shown\n",
        "below**"
      ],
      "metadata": {
        "id": "8lxUhAw8NTK8"
      }
    },
    {
      "cell_type": "code",
      "source": [
        "fig = px.scatter(df,\n",
        "                 x='Profile Visits',\n",
        "                 y='Follows',\n",
        "                 trendline = 'ols',\n",
        "                 title='Profile Visits vs. Follows')\n",
        "fig.show()"
      ],
      "metadata": {
        "colab": {
          "base_uri": "https://localhost:8080/",
          "height": 542
        },
        "id": "XANbcSfKKNn3",
        "outputId": "ef50d64b-ac98-43e6-8a01-098e67f9c002"
      },
      "execution_count": 29,
      "outputs": [
        {
          "output_type": "display_data",
          "data": {
            "text/html": [
              "<html>\n",
              "<head><meta charset=\"utf-8\" /></head>\n",
              "<body>\n",
              "    <div>            <script src=\"https://cdnjs.cloudflare.com/ajax/libs/mathjax/2.7.5/MathJax.js?config=TeX-AMS-MML_SVG\"></script><script type=\"text/javascript\">if (window.MathJax && window.MathJax.Hub && window.MathJax.Hub.Config) {window.MathJax.Hub.Config({SVG: {font: \"STIX-Web\"}});}</script>                <script type=\"text/javascript\">window.PlotlyConfig = {MathJaxConfig: 'local'};</script>\n",
              "        <script charset=\"utf-8\" src=\"https://cdn.plot.ly/plotly-2.24.1.min.js\"></script>                <div id=\"6da3964b-6c83-4731-9906-47d55eac3093\" class=\"plotly-graph-div\" style=\"height:525px; width:100%;\"></div>            <script type=\"text/javascript\">                                    window.PLOTLYENV=window.PLOTLYENV || {};                                    if (document.getElementById(\"6da3964b-6c83-4731-9906-47d55eac3093\")) {                    Plotly.newPlot(                        \"6da3964b-6c83-4731-9906-47d55eac3093\",                        [{\"hovertemplate\":\"Profile Visits=%{x}\\u003cbr\\u003eFollows=%{y}\\u003cextra\\u003e\\u003c\\u002fextra\\u003e\",\"legendgroup\":\"\",\"marker\":{\"color\":\"#636efa\",\"symbol\":\"circle\"},\"mode\":\"markers\",\"name\":\"\",\"orientation\":\"v\",\"showlegend\":false,\"x\":[35,48,62,23,8,9,26,12,36,31,29,15,8,20,181,17,16,21,77,10,9,11,144,14,10,19,69,11,19,9,57,13,11,24,81,4,7,14,18,8,330,21,19,32,19,21,14,30,39,42,31,20,12,22,306,13,26,16,15,15,39,21,8,45,50,37,25,347,26,48,16,26,17,52,22,41,155,12,22,20,23,25,17,16,21,77,10,14,30,39,42,31,14,10,19,69,11,19,9,38,42,92,75,21,26,39,74,467,24,70,22,46,61,237,73,20,34,148,611],\"xaxis\":\"x\",\"y\":[2,10,12,8,0,2,0,6,4,6,4,0,2,4,42,6,2,2,30,0,0,24,100,2,4,6,6,6,2,2,20,2,4,8,26,2,2,4,0,2,94,8,18,10,4,4,4,4,18,38,10,12,4,4,74,0,6,6,0,6,12,10,8,8,46,12,10,94,6,10,6,4,12,16,12,8,32,8,16,6,10,10,6,2,2,30,0,4,4,18,38,10,2,4,6,6,6,2,2,14,8,14,28,18,12,34,26,260,16,96,20,30,58,100,80,18,10,214,228],\"yaxis\":\"y\",\"type\":\"scatter\"},{\"hovertemplate\":\"\\u003cb\\u003eOLS trendline\\u003c\\u002fb\\u003e\\u003cbr\\u003eFollows = 0.400884 * Profile Visits + 0.46283\\u003cbr\\u003eR\\u003csup\\u003e2\\u003c\\u002fsup\\u003e=0.727868\\u003cbr\\u003e\\u003cbr\\u003eProfile Visits=%{x}\\u003cbr\\u003eFollows=%{y} \\u003cb\\u003e(trend)\\u003c\\u002fb\\u003e\\u003cextra\\u003e\\u003c\\u002fextra\\u003e\",\"legendgroup\":\"\",\"marker\":{\"color\":\"#636efa\",\"symbol\":\"circle\"},\"mode\":\"lines\",\"name\":\"\",\"showlegend\":false,\"x\":[4,7,8,8,8,8,9,9,9,9,10,10,10,10,11,11,11,11,12,12,12,13,13,14,14,14,14,14,15,15,15,16,16,16,16,17,17,17,18,19,19,19,19,19,19,20,20,20,20,21,21,21,21,21,21,22,22,22,22,23,23,24,24,25,25,26,26,26,26,26,29,30,30,31,31,31,32,34,35,36,37,38,39,39,39,39,41,42,42,42,45,46,48,48,50,52,57,61,62,69,69,70,73,74,75,77,77,81,92,144,148,155,181,237,306,330,347,467,611],\"xaxis\":\"x\",\"y\":[2.066365070422533,3.269016056338026,3.669899718309857,3.669899718309857,3.669899718309857,3.669899718309857,4.0707833802816875,4.0707833802816875,4.0707833802816875,4.0707833802816875,4.471667042253519,4.471667042253519,4.471667042253519,4.471667042253519,4.87255070422535,4.87255070422535,4.87255070422535,4.87255070422535,5.273434366197181,5.273434366197181,5.273434366197181,5.6743180281690115,5.6743180281690115,6.075201690140843,6.075201690140843,6.075201690140843,6.075201690140843,6.075201690140843,6.476085352112674,6.476085352112674,6.476085352112674,6.876969014084505,6.876969014084505,6.876969014084505,6.876969014084505,7.277852676056336,7.277852676056336,7.277852676056336,7.678736338028167,8.079619999999998,8.079619999999998,8.079619999999998,8.079619999999998,8.079619999999998,8.079619999999998,8.480503661971829,8.480503661971829,8.480503661971829,8.480503661971829,8.88138732394366,8.88138732394366,8.88138732394366,8.88138732394366,8.88138732394366,8.88138732394366,9.282270985915492,9.282270985915492,9.282270985915492,9.282270985915492,9.683154647887322,9.683154647887322,10.084038309859153,10.084038309859153,10.484921971830984,10.484921971830984,10.885805633802814,10.885805633802814,10.885805633802814,10.885805633802814,10.885805633802814,12.088456619718308,12.48934028169014,12.48934028169014,12.89022394366197,12.89022394366197,12.89022394366197,13.291107605633801,14.092874929577462,14.493758591549295,14.894642253521125,15.295525915492956,15.696409577464788,16.097293239436617,16.097293239436617,16.097293239436617,16.097293239436617,16.89906056338028,17.29994422535211,17.29994422535211,17.29994422535211,18.502595211267604,18.903478873239436,19.705246197183097,19.705246197183097,20.50701352112676,21.30878084507042,23.313199154929578,24.9167338028169,25.317617464788732,28.123803098591548,28.123803098591548,28.52468676056338,29.727337746478874,30.128221408450703,30.529105070422535,31.330872394366196,31.330872394366196,32.934407042253525,37.34412732394367,58.19007774647888,59.79361239436619,62.59979802816902,73.02277323943662,95.47225830985916,123.13323098591549,132.75443887323945,139.56946112676056,187.6755005633803,245.40274788732395],\"yaxis\":\"y\",\"type\":\"scatter\"}],                        {\"template\":{\"data\":{\"histogram2dcontour\":[{\"type\":\"histogram2dcontour\",\"colorbar\":{\"outlinewidth\":0,\"ticks\":\"\"},\"colorscale\":[[0.0,\"#0d0887\"],[0.1111111111111111,\"#46039f\"],[0.2222222222222222,\"#7201a8\"],[0.3333333333333333,\"#9c179e\"],[0.4444444444444444,\"#bd3786\"],[0.5555555555555556,\"#d8576b\"],[0.6666666666666666,\"#ed7953\"],[0.7777777777777778,\"#fb9f3a\"],[0.8888888888888888,\"#fdca26\"],[1.0,\"#f0f921\"]]}],\"choropleth\":[{\"type\":\"choropleth\",\"colorbar\":{\"outlinewidth\":0,\"ticks\":\"\"}}],\"histogram2d\":[{\"type\":\"histogram2d\",\"colorbar\":{\"outlinewidth\":0,\"ticks\":\"\"},\"colorscale\":[[0.0,\"#0d0887\"],[0.1111111111111111,\"#46039f\"],[0.2222222222222222,\"#7201a8\"],[0.3333333333333333,\"#9c179e\"],[0.4444444444444444,\"#bd3786\"],[0.5555555555555556,\"#d8576b\"],[0.6666666666666666,\"#ed7953\"],[0.7777777777777778,\"#fb9f3a\"],[0.8888888888888888,\"#fdca26\"],[1.0,\"#f0f921\"]]}],\"heatmap\":[{\"type\":\"heatmap\",\"colorbar\":{\"outlinewidth\":0,\"ticks\":\"\"},\"colorscale\":[[0.0,\"#0d0887\"],[0.1111111111111111,\"#46039f\"],[0.2222222222222222,\"#7201a8\"],[0.3333333333333333,\"#9c179e\"],[0.4444444444444444,\"#bd3786\"],[0.5555555555555556,\"#d8576b\"],[0.6666666666666666,\"#ed7953\"],[0.7777777777777778,\"#fb9f3a\"],[0.8888888888888888,\"#fdca26\"],[1.0,\"#f0f921\"]]}],\"heatmapgl\":[{\"type\":\"heatmapgl\",\"colorbar\":{\"outlinewidth\":0,\"ticks\":\"\"},\"colorscale\":[[0.0,\"#0d0887\"],[0.1111111111111111,\"#46039f\"],[0.2222222222222222,\"#7201a8\"],[0.3333333333333333,\"#9c179e\"],[0.4444444444444444,\"#bd3786\"],[0.5555555555555556,\"#d8576b\"],[0.6666666666666666,\"#ed7953\"],[0.7777777777777778,\"#fb9f3a\"],[0.8888888888888888,\"#fdca26\"],[1.0,\"#f0f921\"]]}],\"contourcarpet\":[{\"type\":\"contourcarpet\",\"colorbar\":{\"outlinewidth\":0,\"ticks\":\"\"}}],\"contour\":[{\"type\":\"contour\",\"colorbar\":{\"outlinewidth\":0,\"ticks\":\"\"},\"colorscale\":[[0.0,\"#0d0887\"],[0.1111111111111111,\"#46039f\"],[0.2222222222222222,\"#7201a8\"],[0.3333333333333333,\"#9c179e\"],[0.4444444444444444,\"#bd3786\"],[0.5555555555555556,\"#d8576b\"],[0.6666666666666666,\"#ed7953\"],[0.7777777777777778,\"#fb9f3a\"],[0.8888888888888888,\"#fdca26\"],[1.0,\"#f0f921\"]]}],\"surface\":[{\"type\":\"surface\",\"colorbar\":{\"outlinewidth\":0,\"ticks\":\"\"},\"colorscale\":[[0.0,\"#0d0887\"],[0.1111111111111111,\"#46039f\"],[0.2222222222222222,\"#7201a8\"],[0.3333333333333333,\"#9c179e\"],[0.4444444444444444,\"#bd3786\"],[0.5555555555555556,\"#d8576b\"],[0.6666666666666666,\"#ed7953\"],[0.7777777777777778,\"#fb9f3a\"],[0.8888888888888888,\"#fdca26\"],[1.0,\"#f0f921\"]]}],\"mesh3d\":[{\"type\":\"mesh3d\",\"colorbar\":{\"outlinewidth\":0,\"ticks\":\"\"}}],\"scatter\":[{\"fillpattern\":{\"fillmode\":\"overlay\",\"size\":10,\"solidity\":0.2},\"type\":\"scatter\"}],\"parcoords\":[{\"type\":\"parcoords\",\"line\":{\"colorbar\":{\"outlinewidth\":0,\"ticks\":\"\"}}}],\"scatterpolargl\":[{\"type\":\"scatterpolargl\",\"marker\":{\"colorbar\":{\"outlinewidth\":0,\"ticks\":\"\"}}}],\"bar\":[{\"error_x\":{\"color\":\"#2a3f5f\"},\"error_y\":{\"color\":\"#2a3f5f\"},\"marker\":{\"line\":{\"color\":\"white\",\"width\":0.5},\"pattern\":{\"fillmode\":\"overlay\",\"size\":10,\"solidity\":0.2}},\"type\":\"bar\"}],\"scattergeo\":[{\"type\":\"scattergeo\",\"marker\":{\"colorbar\":{\"outlinewidth\":0,\"ticks\":\"\"}}}],\"scatterpolar\":[{\"type\":\"scatterpolar\",\"marker\":{\"colorbar\":{\"outlinewidth\":0,\"ticks\":\"\"}}}],\"histogram\":[{\"marker\":{\"pattern\":{\"fillmode\":\"overlay\",\"size\":10,\"solidity\":0.2}},\"type\":\"histogram\"}],\"scattergl\":[{\"type\":\"scattergl\",\"marker\":{\"colorbar\":{\"outlinewidth\":0,\"ticks\":\"\"}}}],\"scatter3d\":[{\"type\":\"scatter3d\",\"line\":{\"colorbar\":{\"outlinewidth\":0,\"ticks\":\"\"}},\"marker\":{\"colorbar\":{\"outlinewidth\":0,\"ticks\":\"\"}}}],\"scattermapbox\":[{\"type\":\"scattermapbox\",\"marker\":{\"colorbar\":{\"outlinewidth\":0,\"ticks\":\"\"}}}],\"scatterternary\":[{\"type\":\"scatterternary\",\"marker\":{\"colorbar\":{\"outlinewidth\":0,\"ticks\":\"\"}}}],\"scattercarpet\":[{\"type\":\"scattercarpet\",\"marker\":{\"colorbar\":{\"outlinewidth\":0,\"ticks\":\"\"}}}],\"carpet\":[{\"aaxis\":{\"endlinecolor\":\"#2a3f5f\",\"gridcolor\":\"#C8D4E3\",\"linecolor\":\"#C8D4E3\",\"minorgridcolor\":\"#C8D4E3\",\"startlinecolor\":\"#2a3f5f\"},\"baxis\":{\"endlinecolor\":\"#2a3f5f\",\"gridcolor\":\"#C8D4E3\",\"linecolor\":\"#C8D4E3\",\"minorgridcolor\":\"#C8D4E3\",\"startlinecolor\":\"#2a3f5f\"},\"type\":\"carpet\"}],\"table\":[{\"cells\":{\"fill\":{\"color\":\"#EBF0F8\"},\"line\":{\"color\":\"white\"}},\"header\":{\"fill\":{\"color\":\"#C8D4E3\"},\"line\":{\"color\":\"white\"}},\"type\":\"table\"}],\"barpolar\":[{\"marker\":{\"line\":{\"color\":\"white\",\"width\":0.5},\"pattern\":{\"fillmode\":\"overlay\",\"size\":10,\"solidity\":0.2}},\"type\":\"barpolar\"}],\"pie\":[{\"automargin\":true,\"type\":\"pie\"}]},\"layout\":{\"autotypenumbers\":\"strict\",\"colorway\":[\"#636efa\",\"#EF553B\",\"#00cc96\",\"#ab63fa\",\"#FFA15A\",\"#19d3f3\",\"#FF6692\",\"#B6E880\",\"#FF97FF\",\"#FECB52\"],\"font\":{\"color\":\"#2a3f5f\"},\"hovermode\":\"closest\",\"hoverlabel\":{\"align\":\"left\"},\"paper_bgcolor\":\"white\",\"plot_bgcolor\":\"white\",\"polar\":{\"bgcolor\":\"white\",\"angularaxis\":{\"gridcolor\":\"#EBF0F8\",\"linecolor\":\"#EBF0F8\",\"ticks\":\"\"},\"radialaxis\":{\"gridcolor\":\"#EBF0F8\",\"linecolor\":\"#EBF0F8\",\"ticks\":\"\"}},\"ternary\":{\"bgcolor\":\"white\",\"aaxis\":{\"gridcolor\":\"#DFE8F3\",\"linecolor\":\"#A2B1C6\",\"ticks\":\"\"},\"baxis\":{\"gridcolor\":\"#DFE8F3\",\"linecolor\":\"#A2B1C6\",\"ticks\":\"\"},\"caxis\":{\"gridcolor\":\"#DFE8F3\",\"linecolor\":\"#A2B1C6\",\"ticks\":\"\"}},\"coloraxis\":{\"colorbar\":{\"outlinewidth\":0,\"ticks\":\"\"}},\"colorscale\":{\"sequential\":[[0.0,\"#0d0887\"],[0.1111111111111111,\"#46039f\"],[0.2222222222222222,\"#7201a8\"],[0.3333333333333333,\"#9c179e\"],[0.4444444444444444,\"#bd3786\"],[0.5555555555555556,\"#d8576b\"],[0.6666666666666666,\"#ed7953\"],[0.7777777777777778,\"#fb9f3a\"],[0.8888888888888888,\"#fdca26\"],[1.0,\"#f0f921\"]],\"sequentialminus\":[[0.0,\"#0d0887\"],[0.1111111111111111,\"#46039f\"],[0.2222222222222222,\"#7201a8\"],[0.3333333333333333,\"#9c179e\"],[0.4444444444444444,\"#bd3786\"],[0.5555555555555556,\"#d8576b\"],[0.6666666666666666,\"#ed7953\"],[0.7777777777777778,\"#fb9f3a\"],[0.8888888888888888,\"#fdca26\"],[1.0,\"#f0f921\"]],\"diverging\":[[0,\"#8e0152\"],[0.1,\"#c51b7d\"],[0.2,\"#de77ae\"],[0.3,\"#f1b6da\"],[0.4,\"#fde0ef\"],[0.5,\"#f7f7f7\"],[0.6,\"#e6f5d0\"],[0.7,\"#b8e186\"],[0.8,\"#7fbc41\"],[0.9,\"#4d9221\"],[1,\"#276419\"]]},\"xaxis\":{\"gridcolor\":\"#EBF0F8\",\"linecolor\":\"#EBF0F8\",\"ticks\":\"\",\"title\":{\"standoff\":15},\"zerolinecolor\":\"#EBF0F8\",\"automargin\":true,\"zerolinewidth\":2},\"yaxis\":{\"gridcolor\":\"#EBF0F8\",\"linecolor\":\"#EBF0F8\",\"ticks\":\"\",\"title\":{\"standoff\":15},\"zerolinecolor\":\"#EBF0F8\",\"automargin\":true,\"zerolinewidth\":2},\"scene\":{\"xaxis\":{\"backgroundcolor\":\"white\",\"gridcolor\":\"#DFE8F3\",\"linecolor\":\"#EBF0F8\",\"showbackground\":true,\"ticks\":\"\",\"zerolinecolor\":\"#EBF0F8\",\"gridwidth\":2},\"yaxis\":{\"backgroundcolor\":\"white\",\"gridcolor\":\"#DFE8F3\",\"linecolor\":\"#EBF0F8\",\"showbackground\":true,\"ticks\":\"\",\"zerolinecolor\":\"#EBF0F8\",\"gridwidth\":2},\"zaxis\":{\"backgroundcolor\":\"white\",\"gridcolor\":\"#DFE8F3\",\"linecolor\":\"#EBF0F8\",\"showbackground\":true,\"ticks\":\"\",\"zerolinecolor\":\"#EBF0F8\",\"gridwidth\":2}},\"shapedefaults\":{\"line\":{\"color\":\"#2a3f5f\"}},\"annotationdefaults\":{\"arrowcolor\":\"#2a3f5f\",\"arrowhead\":0,\"arrowwidth\":1},\"geo\":{\"bgcolor\":\"white\",\"landcolor\":\"white\",\"subunitcolor\":\"#C8D4E3\",\"showland\":true,\"showlakes\":true,\"lakecolor\":\"white\"},\"title\":{\"x\":0.05},\"mapbox\":{\"style\":\"light\"}}},\"xaxis\":{\"anchor\":\"y\",\"domain\":[0.0,1.0],\"title\":{\"text\":\"Profile Visits\"}},\"yaxis\":{\"anchor\":\"x\",\"domain\":[0.0,1.0],\"title\":{\"text\":\"Follows\"}},\"legend\":{\"tracegroupgap\":0},\"title\":{\"text\":\"Profile Visits vs. Follows\"}},                        {\"responsive\": true}                    ).then(function(){\n",
              "                            \n",
              "var gd = document.getElementById('6da3964b-6c83-4731-9906-47d55eac3093');\n",
              "var x = new MutationObserver(function (mutations, observer) {{\n",
              "        var display = window.getComputedStyle(gd).display;\n",
              "        if (!display || display === 'none') {{\n",
              "            console.log([gd, 'removed!']);\n",
              "            Plotly.purge(gd);\n",
              "            observer.disconnect();\n",
              "        }}\n",
              "}});\n",
              "\n",
              "// Listen for the removal of the full notebook cells\n",
              "var notebookContainer = gd.closest('#notebook-container');\n",
              "if (notebookContainer) {{\n",
              "    x.observe(notebookContainer, {childList: true});\n",
              "}}\n",
              "\n",
              "// Listen for the clearing of the current output cell\n",
              "var outputEl = gd.closest('.output');\n",
              "if (outputEl) {{\n",
              "    x.observe(outputEl, {childList: true});\n",
              "}}\n",
              "\n",
              "                        })                };                            </script>        </div>\n",
              "</body>\n",
              "</html>"
            ]
          },
          "metadata": {}
        }
      ]
    },
    {
      "cell_type": "markdown",
      "source": [
        "**Q.10: Have a look at the type of hashtags used in the posts using a wordcloud as shown below**"
      ],
      "metadata": {
        "id": "s8Yg9GSHNYfL"
      }
    },
    {
      "cell_type": "code",
      "source": [
        "from wordcloud import WordCloud\n",
        "\n",
        "hashtags = ' '.join(df['Hashtags'].astype(str))\n",
        "wordcloud = WordCloud().generate(hashtags)\n",
        "\n",
        "fig = px.imshow(wordcloud, title='Hashtags Word Cloud')\n",
        "fig.show()"
      ],
      "metadata": {
        "colab": {
          "base_uri": "https://localhost:8080/",
          "height": 542
        },
        "id": "7FmAfh9VKXQ2",
        "outputId": "9f4cfb29-6583-40d6-c063-d906609a4f28"
      },
      "execution_count": 31,
      "outputs": [
        {
          "output_type": "display_data",
          "data": {
            "text/html": [
              "<html>\n",
              "<head><meta charset=\"utf-8\" /></head>\n",
              "<body>\n",
              "    <div>            <script src=\"https://cdnjs.cloudflare.com/ajax/libs/mathjax/2.7.5/MathJax.js?config=TeX-AMS-MML_SVG\"></script><script type=\"text/javascript\">if (window.MathJax && window.MathJax.Hub && window.MathJax.Hub.Config) {window.MathJax.Hub.Config({SVG: {font: \"STIX-Web\"}});}</script>                <script type=\"text/javascript\">window.PlotlyConfig = {MathJaxConfig: 'local'};</script>\n",
              "        <script charset=\"utf-8\" src=\"https://cdn.plot.ly/plotly-2.24.1.min.js\"></script>                <div id=\"977a1e70-b632-4cce-8fa0-63fa44e13ddd\" class=\"plotly-graph-div\" style=\"height:525px; width:100%;\"></div>            <script type=\"text/javascript\">                                    window.PLOTLYENV=window.PLOTLYENV || {};                                    if (document.getElementById(\"977a1e70-b632-4cce-8fa0-63fa44e13ddd\")) {                    Plotly.newPlot(                        \"977a1e70-b632-4cce-8fa0-63fa44e13ddd\",                        [{\"name\":\"0\",\"source\":\"data:image\\u002fpng;base64,iVBORw0KGgoAAAANSUhEUgAAAZAAAADICAIAAABJdyC1AACrU0lEQVR4Xuydd5QcxbXwb3XuyXlmc87KWUICISGECCIZjAEHnME2YPs5h\\u002few\\u002fZzxsz9wNsbZxuScoxCgiPJKK6202pwnx07fHzXq7e2d6Q1aCUne39HR6bp17617q2dqq6urewBmmGGGGWaYYYac8N5ivSgPiKRslbMZu1tfMWEQSdFWp156cjB2D8GwanEiTZxpibAOr150lkDoBTPMcIrxzF2lF+VBkSWQJVtFk75iwhAUTZuseunJYa+azVhdanEiTZxpiUxk6LRXz0XojBsfKL1gBkNIEmQZFEUvzwdNI0VRRFEv\\u002fw+E5MyBpeuFeBgASIbzLlyLSDJ4cLsQGVaPU4Pdjpp5tNXFWB1D+95ODfUI8TDj8OhMxHjEO381yZkGd28S4mHP7JUEyyV62sKtexw18xi7m7Y6w4d3xXuOeeadnw4OJPratfLkYI9v0UUkzaSGewd3b9IG6Z6zknV4MpEgyXBDezerraSGewNLNyCKjncdAQBnw2KCZnRNAMCoVvo7tXmNm0hqqIfkTGouiCAmm4i267TdEu9u9S5YAwgN739HjEdcTctYlz96\\u002fKAumNRQj5qjEA97569mHd54d2tqsMe\\u002fbAOAEmzenhzo1HbX6eeMG0HPZEw8uuoyk89L+rwkANTX0ssWsyYe4SI+sFiIAj+pCr1u4porzBYLQdOIZRDLoNJiChvqnJ\\u002fzOOsXDTdvG9qzGZGUs2GJEA\\u002fHOlp8iy7SHgMAbXUmeo51v\\u002fmEZ975o8w1amIyNrh3c6yr1VY5CxEk6\\u002fT2vPlEuHVP1ryvo2fT4876RYokhVreZaxOndxcUJ7obQsf3ScmotomAIBzFwSbtyuSSNCMthVbWUM6PNDz5uORY\\u002fsBIHr84NgmYHQrurxU8iUCANpcppCItuu0rtxzVg3te6v3rae8Cy6UMqmBd19Tp07aYLQ5Jvs7U8O9AztfiXcfIzkTyfIDO155z0crmBmwJsX7rzH7faTfS37t83YAKAyQHIuqK2lcxAe3fcxy2XpeFXb3SrKsXHkpv34NR5JwxQZ+7iwaG+qcn\\u002fMQNCMLaVnIgCKTDCdnUoooDux4WXuMNWVRUCQJEaTWXKvmrFvoqJknp5OIIABAiIW1mmIiKosCgL6HVXms84izbgHvKYy0Net0FElQZEkWM4CQthWC4aRkXFXL14S2amxeGINEYHQu+VoxSETbdaorgmbkTFqRZV2XwuhgdDmq1xGZyHDv2894F66xltaN1L5HnJWXhLfuuOnoy+3Pf3nUZF5lyW1zF35s1gPXPz3cGtLXnRyiqDjs5IqlbCIpA8DRNnH1Sq6+FuEilrd3Sn39kqpTW0031NEPPZ5YdyH\\u002f1PPJliPiZev5fz4UX72Swz5XfH7B3Jsb8PHhZ9te+ubmbGPTx6nrkLEYpBNu3eNfvC4dHJBFIXhwm3\\u002fp+nR4KNnfoT3Gmq6mZQAQbt3LOn3O+sWMw5Me7teqKbLE2D0ExYBsdHHO2D2uxqWcu8A21KOVEzRD8hbKbDMXVETbD2qrtGhbibYdKLrwfXygNNmXDRKjbSLSdkBbpQ34tCWidp1WbfjAlsCyDbKYCR\\u002fZrZXD6CC1OeJJVsF5V4SO7JYzaXvVHERQY4fOGSbErTtuWv\\u002fjvAu3S26be+uOm1xVDn3FdEAQgDRnTVvUyrXHALDmfK6pgcbH+E\\u002fpiT+owLs4\\u002f2xP1bqyW3fcdNH3zstKp5VT2iE6jNNBiNB+6LV\\u002f8NVj74ILWadPnXHoUNUQqZ8sTJzCVVeRnBkAlVz0AX3daHStjJ2hjEs+k1ORiGHXIe0KeuklH9JU5T4RAIDI7IQGkWQet6ebs3KG9R4iy3mL2pV43ar8K2+k1GNsohomh1PJ4VSoLaIqTJk5N9bH+hJHX27XV5xGjNNRlFHdp8jS2ON0aEAW0oquo0+gqinSiO1kCR7c5p1\\u002fgSJLg7vf0NeNRteKNuAJks\\u002fkVCRi2HWKoigAYC2tt5TUhFp2jqrLdSIAQJGyd4tOJsjpZWbAOndoel9N86NH9NKzjcjRfXrRdJMc6EoOdOmlZyG6RCbSddH2gwZXwWc+Z8Q0b4aTx1podpTZ9NIZZjg7oRlEUgghsDtHjVGTmGGVn19Ue1mlt8Fl8ZmEpDjQPLz993t73u0HAHuJ9cbHNj5087Pnf22Js8K++2\\u002fN+x5sueSn57uqHUeea3vjh9uUE2uKBk4AYMltc5uurfn7lY8v+9z8yjUltImKdMX2\\u002fbtl\\u002f8OHIf+ipKPMtvE3ayVBfvLWlyNdMSykOPL8ry3J58Q4DMyKzy+oXFv6t8sfa3pfzZwP1FsLLZlYpvnx1i337vroq9cdfPLoWz\\u002fbAQBlK4su\\u002fcXqjrd7nvrsKwBgK7Lc9MSVL3xlU+tL7RNs6CSZ\\u002f+HGmksrnBV2AFh+54Lldy7A8h337dv6q5FFVuMOwTReU930vlpnhU3KyL27B7b9dk\\u002f\\u002f\\u002fiGtgqPctuCWpqLFAZOLE5JitCd+6Mmje\\u002f45ub\\u002fY+VphbcyHn7+2\\u002fa2u57446kqtYnXJJXef\\u002f+ZPtu\\u002f91yFVmM8JxuDcYYVln5tfd0XFv9731PI7FlRcWExx1MCBoXfu2dW7e2DiTiiWnP+Rpur1ZbZCSzomdG7p2frr3ZHO7CcQQzLkgluaqteX2YosBDXy3Xv75zt3\\u002fbUZJtAKGH6Kxv3q2YosxgrqdxNOulenkUARtWKNSRQURYFH\\u002fjqywjCJAWvuzY28kz32WmesN27xmxqurr70F6sfuO6pWF8CK6z97orWl9qljLTok7OLlwYGDw5He+KN19a0vdF1\\u002fM3sxHVcJ5yD3fjrtQRN7n\\u002fosCTIdZdVnP+1JVJGPvhEK1bQ4ay0b\\u002fzN2lQo89RnXo4PJFX5hf+9XJGVfE7GDQNj9vBLbp1Ts6Gi9cX2ZDDlqXVmYhkA6D8w5Kl1YJ2C+d50NOOf7QEEoIC71gkA6mmeYEMnQ8+ugUhXzFFuW3Lr3ENPHT2+KdvVwWOjbvYbdwgArPrK4lnX1x7f1HX4uTbGTNVdXnn1fRc\\u002fedvL3Tuzw2vhQv9l\\u002f281IojDzx0LHg3TJrpwoZ+gJzdJN2glHckce62jck0J72STwbRqUndFpZSRW545NhEnqk6+c6dicvNX\\u002fGptMpja9ecDnINtvKZm42\\u002fWPnrLCwMHh1UdAycERVz+yzUF831HX25vfqzV5ObqN1aVrih89GMvBI+O9Pz5X1tcu6Fi22\\u002f39O0b8s9yL\\u002f70nHB79MWvvRnuiKo6Bq1gxv0UGXz1Qscjxgrqd3NaenW66O0UIyFJkkB3T2ISA9Yzd74qJEa2bPcfGFr3\\u002fZUlywuaH8t+6Lu29W37zZ6j1Y7rH7gsExc2\\u002fXg7baJrLin3NrrUThnXCQAoCjz8oWeljAwAzY8evvmpq+qvrNINWJIgA4C7xnHFry+Kdsee\\u002ftyrqfDIRxwAxJT42MdfyOdkImEAAEETpSsKH7juKTE9atGxf\\u002f9Q0\\u002ftq8HFgnu\\u002fQk0fn3FjvqnQMt4Y8dc5kMB3tye5nmWBDJwOeFBTM8wLA8JEQntmNxbhDCuZ5Z11fu\\u002ftvzW\\u002f9X3Y5du8DLTc9vvG8\\u002f1r04I3PAABBogv\\u002fexki0MMffHboSCjrdJKM20rzY63VF5fVbKjY84\\u002fsrI1zsGUrC4++0pGOZL8Y4zrB5Dt3WsLt0Re\\u002f\\u002fiY+bn2p\\u002fdq\\u002fXLL41jnP3PGaqmDgpOl9NQXzfVvu3bXz\\u002fv1YsveBQzc8dMXqby599KMvYAlrY+o3VjU\\u002fdgTrdG3rtZfZ6i+vTAyntA4NWsGM+yky+OrhActAAX83p7FXpwVBUF5\\u002fLsGb0NDAqIYm8edR22VwYhJhLTCrEvyHJdIdB4DBg8MAICQEISEyFkbVGdcJAOx94BD+XgFAMpgOtkVsRRatAgAIccFd67zyd+uCR0NPfPpl3WgF4zmZSBiYnX86MPbcDBwY4uys2WciaMLX6Dq+qSs+kAzM8QCAp841cGBI1Zx4Q6ca4w6pXl8OAPsfPqxKksOpvr2Dnjon72QBwDfLYyuyHHzi6JRHK5hAK51be6I98fqNVapC7YYKgiK04\\u002fu4TlRynjst2llb\\u002f\\u002f6hgYPDRYsDBDlqT0o+J9UXl8mCrA6sABDtjre+eDww12stzJ5fe4kVAIZbRyZcwdYQILD4TKoEk68VzLifonG\\u002feuMqTGOvTgseP3nxVebKupGhAzOJGZa91DrrutrAXK\\u002fFb6LNNMWSAKDdcZRJCAAgizIAZGICFiqyon2CclwnABBuH5ktA4CUlkhGP7Cydvbyey9kbczbv3hXSGTb0mLsZCJhYEJtoy6sMPgT465xZGICSZMDB4f79w\\u002f653oPPHrEU+c8+PjIt2viDZ1qjDvEUWYFgBsf3TiicQLOySWD6ex37yRGK5hAK6DAoSePLvrkbE+dc\\u002fBQEADqrqiM9sS7tvWqmuM7OUHOc6cl1pudCGOiXTFvvYtzcImhkbWFfE5sxZZYf0L31Q0djwKAo9QW7Y4DQDKYgtEji7XQAgCR7lHrXJC\\u002fFcy4n6Jxv3rjKkxjr04LiZhid5LJhH7peqIDln+2Z+Nv1qYjmb0PHBo6HEqHM7yL3fB\\u002fq0cpaTci5dq5OyEnY\\u002f6e5KTqotLDz7WVLCtY\\u002f+NVD33wueTwyEYnjIGTCYaBUWclWuIDycRg0lVpVxQItoXTkUzfnsH6jVWsjbH4TX37BrHapBo61Rh0CED207\\u002fpx9sVSZ9vYnDk2yvnOq2TYAKtHHyideHHZ9VvrHrzJ9vdNQ5PnXP77\\u002faO+jhNwAkm57kzABEIAPB+JZVJOcFjiOog2h1v39zdcHX1cGt4oHnI2+Cu31jZ8vQx9fJWxaCVCX2Kxvvqja9wynp1angDZE+HWFZN6+QTHbDm3lRPcdQjt7ww1BLEksKFvtEq4zMtTjDHXut86RubA3O9G39z0aU\\u002fX\\u002f34J16c+DR1WsLo3z9kL7PRHNWzawAAevcMLvvc\\u002fMAcLwAMNA9jnWlpaIJM\\u002fAUSOQm3R4uXBLq392qvX7Tg26+uSru+YjKM2woA4PlU9fryt362o2ZDBSigW76ciJMJYikwa69wrYUWMS2lQvrlhZyE2qKBuR6Ko8TUyF8Ce6kVACKdI5PZl76x+co\\u002frDv\\u002f60sUSYn1xnf\\u002frXnnH7NrXhPk9HyKprFXp4WhAenNlxIH9+ofA9BfauUD35GNa+5taRcaJsi0OMHgvwO9uwde+Z+3fI3uNd9ZMfHnnKYljP4DQ45Sm6fO2btrAAAGDgzJkly5tiTaE1ene9PS0ATBXzNLYOTqY1IcfvYYACz82GxdN9Km7J+0vr2Dsb5Ew1VVJ7Pba9xWMM2PtfJOtmhJoOqiUryqpa2doJOJUHd5perE1+T21Dm7tvXmnoCM4fCzxwiKmHtTvSqxFpqr1pX17x9S99YAQNVFpfZiywPXP\\u002fW75f\\u002f8x9VPbP31non\\u002fZcWcnk\\u002fRNPbqtMDx6OKrzP5Cfev6cj6Ov9ldcWHJxT9aeeipY7SJqlhdTJvoCZ5alWlxouPI88ftxdYlt81detvcLb\\u002fcra\\u002fOxbSE0b9\\u002faO5NDYyFxtthxLQ0eChYfkFx17Y+VWfchiiWtJdaGQtj9vIAYPabSpYXZGJCOpLBN3cmTrgjGjoeabymRhblSHecMdN9ewe1Sz\\u002fG9Owa2PWXA\\u002fM+1GgrtrRv7s7EBbOXL1zoHzw0\\u002fNp3twCALMqvffedDT9bfd0\\u002fNrQ8fSzUHqV5yl3jEJLiK\\u002f\\u002f9NnYybjrjtoI59lpHOpKZ\\u002f5EmW5Fl7B6fCTqZCO4ax8bfXNTxdg9rYxqvqZYy0rZf79Er5aH58daKC0uW3DbXU+fs2zvIu\\u002fn6jZWyIL\\u002f2vVExFC0JpMKZca7HDRn3UzQtTGOvTgsnu4bV\\u002fNgR1sY0XVuz+ptLk6H00Zfbt\\u002fxy99X3rdPrGTItTsay4759tmLLgo\\u002fOCh2PHnrqqL56DNMSxsCBYdbGxAeS6p\\u002fTvr2Dvia39hbhuA35Znmu\\u002fN1FarFwga9wwRoASA6n\\u002frTuYVU+ERRZefbzr6\\u002f4woK6KyoZE50YSkbHrOwa8\\u002fYv3u3bNzT7\\u002fbVzbqonaTIxmOzfP3joqWOqQsfbPQ9\\u002f+LkFH2kqX13MOTghLoQ7onsfGNnMOZF0xm0FAPCuq9k31OGdWdoqzEScTISXvr551g118z\\u002fcSHFk\\u002f\\u002f6hd+7Zpd2EZYwiK89+4fV5H2qsu7yi\\u002fILiTEzo3NK77Td7dH9pDjx8uHJt6YeevRoXMzFh8FBwyy9H7VA1ZtxP0XQxXb06LgiQYrARHAAAEnH5z\\u002feGKEp\\u002f3aQvzzDDfwLLPjd\\u002f\\u002fkca\\u002f3nNk5OdyU6K0vMK1353RcfbPf37hiRBQgixdrb+ikrOwf594+Nj9+Kcq9DAcMgUV6I0MGlIFqLyIaUvDaPW8nWUVdF1s9iyavr3dwf1daeav+5oWrHBrpfm4jS8QrppqeXe5+vei30FE+WM6q6cFFex97\\u002fd+NDBOfe91aivmxKn\\u002f6Qs+9z8W3fc5CjPux6HpuNv+Yefv0Z\\u002fOw+g+uKyW3fcVLwkoJOfw1BAFxNVJURNIVHBAFtBNBQTVaTh5Z3FRpjMRGml\\u002fi7he\\u002fSRz8M9z9WTo7ftnQpE8WTvqZ0hnJ7uGktna\\u002fqW5Qfu+WqOi7Upc0adFJKgA7Z6ljIzlBkALKzHyReTBI2LGJrkzIybRBRLWVQdtRYACBKZ3PzYTYKBuV44sUXrPwQRBEkRFZBpYGSQAYACRgGj7REMg279qvOKG6w6udEgd5px++niqlF7ak8F+7fE7rxsZNnl7OX0dNfp4Uw7KYW2JgJRLGUpts890PcCHpLMjAsXsY6iyDbO7zaXS3JmINaKdbTIknLs9c6a9eVCQuzbMyBLCu\\u002fiSlcUFC8tOPZqx9DhkE7\\u002fHMaO3DLIPXIrXr06JjePu4yViMtP\\u002fDM6dwmH0Ki\\u002fZKdkwKJo9Km7ildd4Ugl5Ed\\u002f159JZRusnWe68c5A9WwTSaO25uTv7uo6diAJAAyLfvBgTUkVCwAPNs\\u002fGyu9r2CtLSj4TAEAEfPC\\u002fClZf5bQ6qdCg8Nqjwb\\u002f\\u002fLHtTbNZSy01fCFTN4mUZOltT3\\u002f3YsfCQ6C1kfvRQtdVJCWn5xnn7sKbK1Z\\u002fwXfZhj8VOHt2fvO97Xa37kgDwpy1Nv7+r64pbPFWzTEO9wl9\\u002f2rP56ZBqkrOVfK4MOD3dla8qX4759PPRtNTy3\\u002fdXfmTp\\u002fkQ0e9v+83eXAsD\\u002ffbEd8p+sfCcln\\u002f7pQVZkluKcfLGkCACQyITc5jIL48ZFDEtZLKwnJURokpcVCeuMuAAAgJe\\u002fuXnOTQ3VF5dWry+jOCodyQy3ht74wdZz4LVlkyKsDIVhCADUQcp4tAKAdEo5fCBz+IB+h+0p4frP+H+\\u002fqaGqiXcH6C\\u002ffW\\u002f7o4bl4UaawnF1zrctTQNvd1O0\\u002fKbn78VqtVd1802Otc3XXOAYmq692\\u002fva1hsIK1mwj6+ab5p6XnT0WlLEPHZzzgTsD3kLG6aOXXzJqPWjRGts\\u002fds3SSgDgoutd9z5fV9nIWx3U+271\\u002fXVHk81JAcCftjT9bcesRWtsVgd19Sd9\\u002f94\\u002f2+bKDvH5WsnnyoDT0135qvLlmE9f5YKrnLo1rF+9VH\\u002fxDW58TDPoH7tnzVmenXfkO1mYsSfFWP80oFvDMljSUqsMdGaYLL4CqnHu6bqA+O1rDVfc4sXH3kLmsdbsN1BL\\u002fQLzw4fmaNdZc34DtehMLrnR\\u002fdvXGlx+\\u002fbLcp79b\\u002fL\\u002f\\u002fyLuzbux3AwB+9VL9qiscavFvO2atucYFAH\\u002fa0vTRbxRiISLg4UNz1G9gvlbyuTLg9HSXFm2VQY4qOV2NHbCu+ZTvBw9U4+MlF9l+93rDuCcLM\\u002fakGOvPcM7D8eiqm6zrr9Z\\u002fFMf54z8FSBJ5C+nO1uya4kB3JpPOTv\\u002fsbuq6z\\u002fjnrLCYLCQigKQQQSBJMpocGpi89lhw4Wrbb19reOeF8BP3DRzek90KXFLNHdw5am+0MRSNCsrYL\\u002f687Is\\u002fH5nSe4uyX5X2lmwiigzppMxbss8K5GzF2FVOTlt3GVTlzNFAPx+vPDx80xcC\\u002fhKmryNz3gbHK48E1dWHfCcrH5PVnyCBb94eeuz51L7TsV52OtvS4fviJ0P\\u002ffirT0a2vOHuobWI728SCEoogRv1ywvQPWACAENKuk0litvDVX5cnotJdHz461CfULzD\\u002f8MHsX2MDDExSCfl\\u002fP3msahZ\\u002f6Qc9P3yw+p8\\u002f733o1\\u002f0AQBCTu99EEAAIvvPRo\\u002fveGdlpeeLt+5BO5r6XkbMVY1f5OD3dZVCVM0cD\\u002fXyEBsXtr0YuvNr50K\\u002f7F62xfWFji1qV72TlY7L60wVTWkR5XImde\\u002fUVp4BT11b\\u002f3b\\u002fTi842ImHJG6C2b07qflJj+rc1SJIy0J3BS8IA4PBQvJkAAIZF9QvMT\\u002fxxcKhPAIDCCv0FKv5ia38VaVwTAGjdl7znKx0\\u002f\\u002f2L7dZ\\u002fxY0nHkVTNHH60lhGZtNJzPF3RwGfSivrPeCoBeVqZgqvT010GVTmZrL7Kiw8Mr7zcOfc869EDyb4O\\u002fYrp2JNlzGT1x8foVAAA8PMaKe84l\\u002fAT5XS2dc4Rj8oXXW6urmd0vy52SmZYLz04vPGj3gPb4sFB8YNfKpAlBQAyaSU0KM5eZtm\\u002fNVZez7\\u002fvVv0T570daUlUVl7mePv5sNlGDvUKxiZLLrLFo3JHSwoRULfArH49nrh\\u002f8BdP177vNt8rDwdlSambZ967JabeusrJv+\\u002ft+\\u002fg3i9oPp5q3xy12cu551tcfD6YSOeYdKvlamYKr09BdBlU5may+ys43ord+j9hwk\\u002fvlh0Y945LvZOVjsvoGsFVlrg9eizg21XxYnRVbVi6xXXIBYhhFFMNPvhh\\u002feyfpcrg\\u002feC1TVQaiZF65BAB6\\u002fvtufDUyVlnrX8spaoupKHHdeDVhsyCSSOzYG\\u002fzn4wBAcKz9mg38nAZEkXIy1feDX8qJJD+nwX7FOro40H\\u002f379JH2nAAlM\\u002ftuvFqyu8BWY68uCn22tsAQJj4wLfvjL682XL+EsJkir+5NfToc\\u002fnc5vRwSgkNyz2dosVG5P7RsumFZtDnflTyr72z\\u002f7Sl6bIPeX74YDVeRZ5\\u002fvvVXL9c\\u002fdHDO3U\\u002fUNiwyP9g8R7dmfNH1rvs2Nz6wb\\u002fbPn67DEgOTi65z\\u002ffqV+n\\u002fvn\\u002f2PXbP+58+VpTWc6mf++dafPFLzYPOcf+2d\\u002fcMHq60OCgA+\\u002fu2iP29teujgnMda5\\u002f5r7+z73mpcdKFNNVn\\u002fAfevXqp\\u002f+NCcP21p+sovyxmOAIA\\u002fbWladblD1fnHrllL19nVYs5WII8rA05Pd+WrypdjPn0A+NyPSv6yrenhQ3Mea537zz2z79vcOGvpyOLojZ8P\\u002fGP3LJYflXW+k5XvpOTTnzQEUfjDr5kWzQUAtqqs9Hc\\u002f4mbVAQDlcxMWEwDQBb7iX9ylqrtveb9t\\u002fQVqEZNPWc8pa8vzqZstq5cDAKIodVLm+tC1nk\\u002fehBgaACiXAwsxBXd9ka0uzxYQCnz7TqasGAAIE1\\u002f4w68xFaX4uPT3P7ZfthYASLut+P99hw54IafbPB5OKfh2zdgfb811D2mGGU6CD325wGInf\\u002fWNTn3FewHldRf8zxc6PvMNXCz83peG\\u002f\\u002fVEat8hfk6D9eLzEUIAwNZWtn\\u002fqq3iC477l\\u002fUJ3b+T517VO8inrOHVtcU21rpuvSR08En9rR\\u002frwMaxZ9NNvDvzivkxHj9YcU3DXF4f\\u002f+jCeYVFeV+H\\u002ffkUKR9Ta0CPPxt\\u002feSZj44l\\u002fc1Xn7t+VkCgAC37oj9NDTqeYjY93m86AWTwVFZbTJjApLqE0vJbS\\u002fRXtKLgln+A+EZhBFo5o5pvUfcH\\u002f52sP66jMD\\u002fDZRwmL2fPqDvd\\u002f5udDbT1otRT\\u002f7tl5Pw6SUtUxjW6n9LT3f+ik\\u002fr9FxzQYpGBr83T8AABAx9rZPLpAiSV1f+UHOQRaPVgD4DZAIIKdbIw+niJ5O4bLrrEJG\\u002f8vZY6ZcM8wwJWYvs\\u002fx526w7flr62\\u002f\\u002fu6jp6pryHQBwKyrE4vkxjyoppnwcACI4FUPCUAV9qqcjJJOl2aiUGyjpOXVtMeTEoSmL7nuG\\u002fPszNbsDC1L6DtktWI5oCANJhR1TuyYc4OCz2DdouyV57MiUF+TQxY91O1sO04PKQJAlD\\u002ffql55lLwhnOcdjqctcHr0UMnWo+TNqs0dfeTu075LjucvPiuXIqHX9ru+X8pd3f\\u002fAmePtABn\\u002fuTN5FmXooner\\u002fzc+whn\\u002fJYTlFbrpuv4efPAkmSU+nwky8ltu0CAILnHNddzjXVIoKQ44m+n\\u002fxGjifct7yfLg7QhX4pGJbC0eC\\u002fn8oca6e8Luf7NzIlhUCSQm\\u002f\\u002fwD33K+kMviRs\\u002f8SXcbuBb94eevjZVPPhnG5zesCGpwiTmbjuFltvl\\u002fj8ozF93QwzzDDDmYbZQoxddB8jmGGGGc4hDJ5wRIhAZ+oI4A2Qt3\\u002fLdd5ak27MOuPCNejf00bJ3XeZFszRS3OS81G9Uw8d8BX\\u002f6Ful9\\u002f6w+Iff1NcZkydgrray8H++lK922jmjeng6c8\\u002fvZCqtTEo5FySiAqYaljRxpAUAKMQgRBCIxEWWMAVMNSSiWNJMEQwW4loSURw58sA5TXBW2kMiiiFNqh+1SCCSJ60IkImy40Y50koTrJlyqm4ttMvJFKgOxyXfPqz3eMBCgEzIQgDJIh4ASKD8RCmLODOyAQAFNIt4AggTshLvdag5Kfzv\\u002f8qxV+TUI\\u002fT2d37lu0N\\u002f\\u002fbe+YjwMAlYkKcfTRu81BgFPI9OVu3G0k23F2NtEKDTVM4Sp2NxUbVtKEYyfr\\u002fJxFRXWBbiYkmIASpG5ycOVlphne7lyEtG4ttDUwJIm1Y8CsoMJmClntXUJAGA\\u002f2qKN8RWZGynEAAC2VRTFxvhUtyxpIdAkluoLS6judrG4XP8c7iRcnAoKycqIPFxMFoogDspdPqKEABIUsCFXXImUkrUCZCSQaGDapffgIVJjSIedDkx0C\\u002fiZgEHAqZajPd\\u002f9mV76XmMQ8DQyXbkbRzvZVoy9TRAZZJZgk2IkKgxJshAXg3bGnxJjuGimnBbKnZKiNMERiKAJTgEZ11KICWf6VD+inJEU0ckWSooIANgPR1qyRSHo4ysSYoSnbFFhUFKEcKbPTDktlEsGEbtNiCE3WwITvnuc73cJT3bOeZIUkhWiIjKIJYHqklr9ZAkH5l75eAFZ3iruC5ClGSXFAEchpkNq0RtPH4giXTdcbV48T05nIi+8Zlt7\\u002fvCDTyR27mErSu1XrGfLioEkhc7u4Qcew0\\u002fAI5oKfOmzdIEP0bR6w+j4Z78GspzPBADyVRX\\u002f+NvDDzxmW7OKKSuWguHgY88mduw20FcxL13gvPrSzq9+Dxe52krf5z7R+eW71M01nls+AACD9\\u002f\\u002fTIGDK5Qh85XOE2aQIYsfnv4WrMFxtlWPjeqasGGRZ6B3ov\\u002fc+KRoDAEDIedUG87KFhNkkRWLxLTtCjz+nNRzL6ehhw6hy5mKQOwDYLl5tvfA80mTKdHQN\\u002f\\u002fuJTHsn5DlZBtECQN5W8gRs7G2y4Hd76t7wObYYMNX0Jg5j4djXgTqYAEdae5N5t9flbAUACky1Bm4NyLdx9L0HL1oZvAWtkKwoIWtoNNHnb6eA\\u002fdKLir7\\u002fDaa0iHTavZ\\u002f8YNmvf4xXWCifx7J8EeV0kFaL+8PvL\\u002fj6HVortqKs7Dc\\u002f0U3aDUzyVRX\\u002f+Nsld9\\u002fFz24gzCbbxatL7\\u002fk+aTUb6KuYly7QrWEV3vVly8ql+BhRVMnPv8vVVau1OQPG8LMbSv7vu1oJ5fWU3vtDxxUXUy4HabeZ5mdfbQoA5qULi773VdrvJUw8W1HGNdRo7HJzGnrYICqDXCBX7gBgOW9J4f98iSkpIswm+yVrSu6+i7CYIf\\u002fJgjzRqoxtxSBgGM\\u002fbOQ9BwhU3WC+5Rv8+rPe+O\\u002fCga\\u002fDu1G7pWId0WFAmPJucPJYVi6Mvv5Fp75KC4eBDT6qLnWL\\u002fYOzt7WIwJEVjsTe30EUF466DGpgYVMXe2Z7c2yzHE5EXXweCoAsLjPXzEXtrm2XZQnzMNdbJ8WSqpXW0ykSxrTs\\u002fffR46MkXxOGQFI4k3h15CwrBMgAgp9JyIpk+djzVnPcPr8pp6GGDqAxyyYft4tXhp1\\u002fKdHTJ8UT4uVcAwHRix2bOkzUFDAKeQZbgyX9Fn3tEvwnrPV7DOiMgCMrlEHqyr1sSh0OKkH2FFWm12Des5eprEM8ihBBJAhr9TvwxGJgYVAldJ15YrihKRiB4zlg\\u002fH\\u002fG3tzs2rqc8bnFwyLxwTvzt7cb6BtAF\\u002fnTrcb0UAABiW3bws+qL\\u002fvdriV37Ii+9kWnr0GvoOC09bBCVQS45QRRJ+zyej93o+diNqpB0OfFBzpM1BQwCniFQRNU2MVUNzJ\\u002fvCWkvhWcGLAAAQAg0MztFyl40ez\\u002f9YTmZ6vt\\u002fv5dCYbaqPPClz6g6+TAwMahSMoJ6rGKgnw8pEk3ubTYvWxB57hV+dkPP93+u15gwaHSfaFHSmf5f3c+UFltXrwh86TPhJ1\\u002fAcxAjTn0PG0RlkEtuEAKA\\u002fnvvSx06osoUKfu9yXmypoBBwDMMDUgMi958MTGVbQ0ERRD53x0+EbCHk\\u002fdzSpBlcThEBbKviCNtVoJjAQDRFFtZFnn5DSkUBgD8aJgW\\u002fFwm0qwyGJgYVOVksvoqsc1bzYvmcfU1mY5ucXBYWzU2YAOE3n62rEQv1ZBp7xz6y7+H7v+X\\u002fdKL9HU6TksPY3JGNW4uOhRBFAeGmOICRRDVf+OueY+NdiLkDBgm4w0R5ETUTinTHoPVRsxdwl181STXsBgzZfbyJhdbc3EpADBm2uLjdbUUR5rcnKvSVjDPAwC0iaJYkuJIq98ECHAt9qD6wUJsDgAkTTjKrNgQEQjXYiHJELhF3PSIW5Y0e3hEIHuxRdUhGcJaYMb\\u002fAwBrZZzlNtyK6k0NXkvsra22i1YxpUWk3ea85jL80VQEUYrGuNoqRJFMWbHtkjU6K3FwWJEk06K5iGVJp93YxKAqJ5PVV0nuP0SwrPWCFbG3tumqxgZsQOSlN9jaSvuGtaTdRtqsprlN6rUPP6eJq60kLGbSamEry8TBodGmOTgNPWwQlUEu+Qg9\\u002fZJt3Wp+TiNh4imv27pqGWIZvdJoxkZrjEHAkMcbQTGUyUowLG22qUXKZLHXzgMAgmERQSKSom1OkuVZlw8AcFF1y7r8psIKXEuZrJTJmtWx2FVNXCQohrY6ABBW1ulgWxwAAOAY1PBwGLpIVOWJgH+XsK9b1C1pjnNJOPeG2lQ4c+jZNkVWAGD2+6rTMeHQM21CUlRre\\u002fcONV1defS1LqxTtbo4PpR0lFj7DwajfQlnma3p6srXfrhDkZVYfxLrYGF8IImdV60p4WxMMpiODyWHjoTNHr7p6sq+\\u002fcOcjaF4ylZo3nT3u7hphAC7bbqqMpMUCZLoPzC84EMNWKd8ZYGUkUnGLWXkaE9ckWVfg9O2tjgVzohpibMxu\\u002f+Ve29E5PnXKLcr8MXb5HQ6\\u002fOzLlNeN5UN\\u002fesB1w1W2dauF7t6hvz7ov\\u002fOTWis5nhj+xyPOKze4b7xWGBjEu2wMTAyqcmKg7\\u002f7Q9fzsRsLEIZIs+fn3lGRq8P5\\u002fZtfXZTn21jbr2pUDv\\u002f+rqo\\u002fJGbDr+itNi+cRPI8osvQX35OTqaG\\u002fP5zc2yz09g\\u002f88n77xvX2yy4CScp09qSOHMN+SIvJft3lpMOuiFKmrX3gD38b1UwuTkMPG0SVL5d8uQNAfMsOgqGd115OeVxyPJFubYu9s0N1mJOc0UL+VgwCzueNcXpds5aJ8bCYSoQO7mDsHtesZd2vPoxX\\u002fezVc6R0kqBoWRRjHS28rzg93G+vni2LohAJYre0xQ6Koigy7ysmGY6xe4IHt9sqmhi7K9begjW9Cy9k7K5EX0eqv1OIhrCyvXquVsdePZuxe4IHd+AAhFgYFAWHl+xrl9LJ2PEWW1WTNhJc2\\u002f3qw9o085FK5v5dwnEu0OovLY8PJWN9yfpLy7b8dt\\u002fCWxoVSX73b4ckQVZrXRV2a8C058HDJUsC+x9tbdhY4Si2BNuiB59pA4C5N9RaA6b9jx2tv7Ts4DPHsZ\\u002fZ19VYA6bBlhAeoUqW+lkLI6RER7Fl9wOHa9aVWgOmgZYga2GEpJiOZo690b3oo42KJMf6ktjtrGuraZ5MBtNCQmQsNNbx1DgqLig89np3xQWFW3+331lurb+0PNgWjQ8lTW6OtTB7HjysXcpAiFAUZXKrGxPgFLmFrOdxLkwAwHn1pYSJH\\u002fr7hD4ZUwYRJICijHehNHEQQerffjSaibSo6kxE+azDPW8VY3UkB7rFRDQ11GOvmcdYHcP7tzjqF\\u002fa\\u002f8zzr9FnK62Pth22VTeGWXY6Ghf3vvMC6A7bKpv4tL2APjM1lKa2Ndx11NCxM9nVSZmtqoIt1+qR0MhMJYk1n42IpnSRoNnRwBwCwTp+jYWEmNKjVsVXNpsxWRJCM1dGz6UnW5XPULxQTMcbqCB7YZimvH9zxGuct0kbimrMCK49K6QSsv5Cg6WTncVycs4hjWFRQQj397+jUz2HtJWWIGDPGnRCoVaN0xqgD6IUNl5fPub6Gs7NZQ5RDOLZpXNT+P7aoonpTJQTFuMrn0byV5qwAwNv9Fl8FQTG4iEiKNTsRIlirm2R4zp6dXTMmO0mzDG8DAFyLhafILcWaTM5CACBImuZtnqrFuC3sR20UgyiK4FiurrrkZ9+h\\u002fdkfOgQA1u03FWWvAuDEZB7P8AGylwzZqwA6x1WAqpO9CqCzE3vaYnc0LFCL2usRAMAe1FoMLqqtaAOjrY7ABRsJmsk2jQjG4VYjwYa4xRHnDEtZbHAiQRytqoMPNFdGJOv0ZtM8YYhbUdM8G9B9sEcVLaW1nKcAAPBNgxGMixgsVKsmogOQM56RMMBYeQTKbPWu2+hYuEKVlNfQi1fxBSX6S0B92ZiW547rRTAyk8CXe9oDgDzzjNHC5qfaRpWVHMKxTeNWtP+PLaromwBwVywgSZrmbb7qpW1bH2FMdkVROJsXF10ls2VJsBXUxoc7xVTM7CpOhfsLGi9kLc50bFhMJ4aO7XCVzYsPdxY0LmAtzvbtT0hC6lS4tXhKE8Fub\\u002fVSSUwzvM1R3Dh4dIezuEmWhHQ8qM2Iq6vyfvojciw+\\u002fK9Hhb4BVT5yFeAvTg\\u002f322pmMw6PlE4yNlfPa49bKxsUUWQ9AcbmSvZ1JPtOXAX4i221c7U6lNnKODyh5h2u2cu6X35YiIUVfBUwe1n3yw\\u002fbaubI6SSiaEUUhUgQe0AUjWtxJFg5NdiDW9EGluzrTA32yIJAMIj3F5uKKpN9HQDZWtWPoigAkA2vZo6USoSad2A\\u002fnsUX4mixDg5Pzdpev4DkTATNMDZXJjyEDe1185N9HZ7FC7ChnDnx+s0zF90He1Qx1n5ixUO3L8S4iMFCtWoiOgA54xkJA4yVRyEEB8V4VC1GgvK1HzKlksovvz+s0ZrkgHVOIcskz1t9FZIkAEAqOmgL1PCUHxeTkX5ncVM6NsRaXLIo8HYfIshMIpQM9RA0KySjBMUosshaXFgoiSf2tU63W2yoKBLFmgCAZHhFlrCfYMe+bKMAAJDcf6j9c1\\u002fTSjCZ0KC5tJaOhVmXHxEk\\u002fljIopAe7JGFdHq431bVlIkE04M9BM0me9sBgLbYWZc\\u002fHRrU6qQGegDAXFQpixkAYF0+zh2geAsuJns7rBX1sfbDtqqmyJG92APJmXEtBtvKmTRuRRtYtO2QGI8CKNmmgwOM3ZUa6Nb6wS1GCCKrM9wvJqIEzWA\\u002fQjSUHuyhLTaswzg8nDuQ6u\\u002fCWYMsK5IkpEI4TWyoSCJjd2FDWTiFO5NnMEaMRyN7dhBM9rYGQoAQPPHP6NwlHBpnW94E8FVZyuY7OSvtrbAAgMXNWtwsxRA2HwcAFEM4CnlcpDnSHuARAqys09F6A8jqYG9YByufQhAaNU3NUQSERt9YHD1VztbmmHJPj1uLp9RVNleVjvyvPZgIOZV1riaiAzAqF03RUpbzeiS3skYwRnKC0V2UVy2LQQoAAOBoXOSadx7Jm3U6uc9gHhA5+qydABFjnyjLgigin9UEmaC5QQxnPpTV5li4wlRZi4sECWsvN1\\u002f\\u002fUdtH73ToNktMZYZl83GKAoqsFDbaBo7FGi8KuEpMqajgLDI98+MDdat8Qkb2V1ucRaaufeHu5nC4N4mVmy4OaHVC3UnVG0DWIWuhXSWmXU921a\\u002f2YeV0LLsrevoxniqfuPoYK9SU5LHCiRQn6DY22A6D7ap05H\\u002ftwUTIqaxzNREdANBP7LPF2PGc1yO5lTWCMZITjO6ivGpZDFIAAIDQge16EQCorYwxpMwMyTNSIiNlRISQqchOWThTsX1oe3t6ME6wFG1hpaRAmmgxlvauqAzu6hSiadrOqyYAQNt5AHDNK+rb1Epb2PRQHLsVwknazqcHYyRH0TY+NRDF+WkbNRc7KAsX2tddsK5uaHu7EE1nPZgY0kRnhhN8wJYaimMhyVE4BsrCxtuDWEcIp7iALdUbkQWjWxnvOYggzJV1pMlEZbLLnbIEm19OXHyVJR6VdCvuUxmwhtoTVcvc4d6kt9JKUig6mAYFhLTUdziaSUgDx2L1F\\u002fpD3cm+w1HWRHXuDQGA1ct6K61D7XGtTvPLvao3VafrQBgUoDki3JvCyqMbn2GG00HxxtliPCNnRDGaHtrRznosiqxwXqtvRWXPS4cK1zeISYHzWoRwUpEVgqMAoPyGhXzAFtzbJcYyQ9vby66bzwdsh371hiIrxZc2iUlh8J1jhRsaxXiGsfO4qmBtXeTwQKo\\u002fu3ajbVRKi3gpFjeKSAJ7KL5ithBOypISOdRXvLQcC30rq3AMtlpfvD1Yeu08IZyUMiJt5dof2a1J60xEkeXM8KAQCdEON6DsFWAqqTzxz5ElLZUJzTZ1BLsSOx7tHGyLv3TPIUlUml\\u002fu3frv4+8+3nnwtX5FVnoORl777RFc3PVUFzbByjodrTdVB3vr2B1SldV2xyXfVttly5hXXvXknPWXlpL\\u002ffsjVfMj\\u002f7m7fzR80qXIDk3xMyqSqmtq+09d6zL91+8jtPJVJucLkyz0n+VrPJ1eZQmBnJuMmQlAkbWEjB\\u002ftNxQ4pJSa6QnyBPdkbSXSFSY6SJZm2cbioSDJtYQEgNRAdeOtovD3I+SxSSsBF1m22VLixvizI2C2ukpKCmBTCzSeeTBzdKG4RAHArqodso4LIF9hUIY6BMrPmMheiiBOBKbIonxUbO6RUAiGUONYydqp7LvPqa56cvz+0bBnz\\u002fIsevRQAAH72f\\u002fZ\\u002fPeBye4iCAtLhGPnSG5jkYwom11zD5xwapuAqX+4G5Gs9nxymFNiZybiJBNbWIQK5F5VaKrNqOXfV6I7H1cFudVUqukYNvKnFfE0DQOH6hpKr5tC2U7wQPH0ggtSLzmECAbK9MzDZL+3Dj7juuFP\\u002fvNJpw2BomBRTyz1f6\\u002fnkM8xwimA8PtusBZ4LN6iSQBF1\\u002fsWmW+7QL7pP5kLidDF\\u002fPv23vzv37PMdOOh\\u002f+BFXU1P2vc5NTfSmzd7KSuqRR11Hjvrf3uL1+QgAYFn0zLPuN970AMDh1sCx44FjxwMkCQBQVERu2+E7ctS\\u002fvzn75K3Ks8+5D7b4Fy9hPv8FCzYpKyONTZYvZx5+xNVyxN98yP\\u002fUM263J9t7+UzyJWJAPlc73\\u002fVddjn36GPuI0f9mzZ7L78i+2fTIHcA+PSt5ne2eg+2+B962DV7zvitG5AvMJZFP\\u002fyRDbfS3hk40Oy\\u002f67s2XJWv9Xy5QP4ehvzecmLQ8\\u002fkSOXWQFJrsM\\u002f+T1T\\u002fbEWPRWMv+yJ6Rh5\\u002fyva3hTKSigrzuer6wkHR7iJ\\u002f9n\\u002f3pZ9xY3tREH271\\u002f\\u002fF+54IFtMNBrFw16mHUBQvofLOMtRex+T6djzzquv2OHDOssSbl5WTrMf8XvmgpKiJ9PuLSS\\u002fUz7bEm+RJRyTeXGetq57u+Pft8ay9inU7i1tvMLUf8bvfIlzln7jd8gH\\u002flVU\\u002fTLNrpJD7zWfPuvT6Xa9Tfp3yt55NDrsA+81nz08+4TSZE0+hvf3f+7\\u002fezo5VB6\\u002flyMehhA285GbfnxyYyNTgzafexFEM4\\u002fCwAsCaS5giGI50FLELAcKTVzTj87OLL\\u002fVgT8J4eP1tQba5cYAcAhic5C8XwpN3LqIYLL\\u002fMxHElS\\u002fynDFmVzcEWlOiFnQjSt7wGjs\\u002f5eceyY9OC\\u002fk93d0tCg\\u002fPe\\u002fJxoaaXVxlGXRH\\u002f4Q37lTCIXkNzfpH4w8pXzyU+YdO4Sf3R3r6pL6++Vnnhl\\u002fV7RBIlPgoQeTL7+UDgbl3\\u002f4mTlGorj7X2Kzh07eaf\\u002fGL2P59QjAo\\u002f\\u002fLeOEKwZi2rVzpp5s6j3347k0gogqC8+Wamri4blXHrOXMx6GFjb2OZ3p43YPUHi+escV\\u002f0sZLLPlfOWai5F3mqFtiXXuW3e1lFAV8Ff+lnykJ9aVlRsCZnJrGy3cfQLAEAq24oXHqlf\\u002fk1gYaVLtWQ5cmFl\\u002fkkcRIr0NO+XSunQ0Se7LaynMjJBBcots1eqEq8AfKSqyw3fNw+DfuwTjVuD3H77ZbzVjIWCyIIoCggSRBPbMZqPnDKtmUZUlNL7dg+uTe3GScyWQ4dylrKMiSTitVq9LmhaVReTt1zr+Oee0eExcXTv6h5tFVaupRhGCRJypIlzIEDIkyg9Zy55Ovhcb2NZXp73oDh7lRkMCOk5O6WeDohESSqWezoO5Zo2xMBgOqF9kxK9leaCqvNfccSkcEMw5OhnnR3S3ygPVm33AkAnIWMB2VRUMwOOjqUwYaSqCiKwnBkJpVjWw9hYkmekRJpJSMCgZiAi7RwTIErtuuoOBwlGIowc3IqQ\\u002fCsFIrRPkemL0jQFGHm5ETaurg2vv+4FEtSNpMwFFW9CUNRgmeUjMgUukkLl2jusF8wO7brqBxLEmZODMYIniF4FiEwN5WF327G5gRLEzwjJzOklReGIgTHEDyrpAXKaRGGIgTPisNRRJGMz5EZCCn5t4MRLKeIAmm24G0NJIUWncdbHSSA\\u002fi1kZ+KA9fvfOyJR5eYbg7290sJF9KOPjZrPZzKT+LMzjRCTf0TAOJHJkkxOonmCAITgwx8MvvXWyDxUkibhYYLce09sxXmu7Tu9kYiye5fw05\\u002fEYAKt58wlXw+P620s09vzBmx9og8fIAIpsvLOo734AAtf\\u002f3sXzujJXxw7YQHvPJbVefvhXgB4+p42LNcabnlsZK\\u002fDWFyXLJTjaVkQ5Xgqtuso7baCotBum21Jbej1vc41c+VUhnLZpGhCkeTkkR5QwLluvpzKAEkSLA0AnqtXMD5Hzx9fkBNp7C30+h7b8gY5npLTAj4N2CEiCTmViW4\\u002f7Lx4oRRNhF7fqyiKas74na6LF6SO9yVbe4XBiPvypViHrwzYljfgY9vyBtLCDz+9VZ+GBimVJBhWETK4aUlUtm5KLj2ftzlIghg1Zhn9lX5PYFm0cBHzh9\\u002fHe3slAKisnOiQiv9+EmNu7k4Xh4+Ic+eOs9arZcqJTIGxuafTSlub1NBIpdOK+u9UTDGKi8mCAvKCVYMrVwx85rZQJCLDVFvP18OT9XY6e15FHWu0Owdzjr9wQke3x3DiWw4RRZIWLnmkmylwyWkh0zNM+xzCQCjTEyQ4RhFl0sLjoiJKjN8BCGEhSDJp5gBAGIxEt7XIyYzqTRFl7BB7A4ATHmTSwiuChIu028aV+lRzc1OpnBbkVCZ5uEs1oV1WtsSrxgOSrIjSONvBFCW0463QjndI3owFsYjMm4lUQj7TZ1jptDI4KK9YwW55R2hooD7z2WwC49LeLokiXLGRe+7ZlM1G9PTknX9OjT\\u002f8PvHCi57Pfs784L+TkgwLFtBvv5WJRvN+yKacyBTImfsvfh77n7usLS3itq2Cw4FWrmIffSSZSOQNeGokkwrPw+69PgCIx5U33kh\\u002f4c5wPK5MoXWDHp6Ut9PZ8+8Jmd5geNN+y9yK2LutAJDpC2Ve2qWOjsPP71D3iwNetFKUESFCoCihV3arOtgbKArtssbebc16Awi9thcAYDdkTXARoO\\u002fvrwJkhUNPb9U+NKXXwRAIQCEtvBRNjghHQzuc5ppG\\u002fMvYoe2bASCdUh7+c0Svd2ZywQXs65u8rcf8zzzrXryEOXLUj+9\\u002fNTXR7Z0BsznvHOqGD\\u002fBbtnkPHfarewLv+o7t3V2+1mP+9s5A8yH\\u002f1u1e3WLt2LuEBiYXXMA+8ZT7yFF\\u002f8yH\\u002fo4+5nc7s\\u002fDSfSb5EAOCnd9vf3e072hZo7wwcOOjfss27fDlj4Grnu76NV47cNdvf7F9\\u002fyajblGNzB4Cbbja99obnaFtg57u+3\\u002fzOwXHZrsvXej455AnMYkFbt3uv2MiZTIhlUWEh+dQz7ts+kx0g8rVukEu+Hob83nJi0PM5ExllPMNpB5Gkfe5i2+yFtjmLsKS6gbnyRuv6qy1rLjvX\\u002ft7M8J6xYgXz7m6fVvL\\u002f7nV8\\u002fRsjb+ybYYZxQQRhm7XA2jRfu3HU5iDMFoIgoHHezJ+TGaaJwkKy9Zj\\u002fonUsRYHFiq66ijvY4l+xYtT+uLMOrrSMNI\\u002f6q47UnbgTgC0pIfiRH2qZFgiG5crK9VINk4rQALaklLRkLzhMDY2jKycEaTY7LlxDsJMYZRBBUlY7ADCekT9+3gD5tR95Vq0znQU73Wc4W+julm7\\u002fXPjLX7EeOOh\\u002f623vhz9i\\u002fvwdYe29vLMOrrSULSsjOB6RJFdeQTmcpMXi2nAZV1oGAKoQAJiCAtqb3V5Luz1sSSkgRDAMwTCKIAAAW1RE2e0AQNpstNtDe31azVEKVivt9VIOJ8GwpMXKlZXjZ9nZ4hLSaiU4jgkEpHgMt6Vaqd60EcLowDAjuVitjN\\u002fPBAqAILS5qBEyfj9hMpFWK8EwfHkFFmo1tRFSNhtltyOSJG02VUGKxxVRRCdexTcRFFkSo2EAyAz2q8LQsNzTKVpshG7RfWbAmuGkePqp1MUXDdZW982Z1X\\u002f1VUPPPjv+ftozFtuSpaTVxhYVAwBpsSCSdF2yAZEkaeLxXUlVaKqt46uqKZsdAPjqavPs2XhOocgyX1tHWm3WBQtpn9+59iLSbLavWMkWFTkuWK3VHKVw3irG53dceCETCLjWXYxoChTFtmw5abU4LliNCFKRZev8hTor1Zs2Qm1gKmrYzrUX2VesNNXVm2rrVCEAqBECAO32WBctlk+MuY4LVms1tRFaFiyyLT+Pq6yyzJ6jKkwNymz1X3qtd90VqsRXQG1+OZGIyboHomcGrBlmyEJ7vfH9+1LH2wCALS5hCgpInhfDYSkWS3d3aYXJo62AEJ7UsMUl0R3bk0cOg6IooiiFIwDAFBWTFoswNIwoChEotndPurNTq6lTSBxsTnd2AkDicEvyyBFQFNrlTjQ3p44fp73eTG8PjlBrpXrTRqgNTEUNW4rGMoMDycMtBMepQgBQIwQA25KlyZZDoCiAQA1b1QRNhIooiKGQedYsMRTSKkwBOZMO7XxHDIfgxDb8nk6hfg7Lmwnd7yhNaMD67Osb69YV66W5GPuOi2mnZKH3o49ePMHHC8YlX8BTaCWfq1PNbS9fXn9JiV56gikkkhNXhfW2ly7\\u002fwrZrbn3hMn3d6WK6cslH8sgR1\\u002foNfFU1ANAu18jbTgjStnSZVsgECkBRKJcLABIHm50XrnWcvxqRJO3zceXllnnzEvv3kiYTIBCjUYDsjiytplZBURT7ylXZVaoT2xGSRw4716zlK6vwSITRWmm9qRFqA1MZlUs+4Yl2h5592jxnLmmzqcJ8moooSdEIZbFqFRh\\u002fgCsrt85fqL6gfSLIQibd2xXcuglO7JKQJXj5yfi2TXl3Qhgx8QHrY4+uP9UPmpcs9H7k3+v00qmSL+AptJLP1alm3AFrsokY0HhZ6Xs7YE1jLjnR\\u002ft76qOMTq9qqENGaPa4I5XiDIt6hr0OreULBveGynMq4LUQztNfnOH91VqrV1HgbiVAb2Aly\\u002fo58TmFOxtUcV2GyePzkVTdZF6\\u002fUz9qmc+Ooxce7Kk75Le2OHQN\\u002fuv5FvXRKGAQ82VYMXL23TDaRM5nTkIt2Q\\u002faoYyl7ZaIK8cr6iWpFnXeMkHNvt1bzhEK8+UBOZdwWW1REe72Rd97KSrWaGm8jEWoDO0HOjeY5hTkZV3NcBWMQSYEiK7JC8iYpGQeAREyxO8nkmL3BuQcskiYu+tr8+ktKhKS49U8t4oknMAtmu1be1hRodBIU0d8SevmHu\\u002foPhQCAYskb\\u002f3Shu9IKAF\\u002fYdg1WvnvRI4qs5DMBAESgVZ+b1XR5KW9n48OpA08d33TvflxVssi78jNNgUanLCnDbdGHP\\u002ftmYjhtC5hu+uuFvJ0VM9L\\u002fW\\u002fk41lRZ8uG6BR+o4uxMX3PolZ\\u002fu7jsQBIDbXr785R\\u002fuWnhzTaDBGe1LvHHPvkMvdIJhwPlayRetgSvVVsesjeWFc1yuCqur3PrEl9654M459kLTI3ds7t0fNOguyNMtAOAoMt\\u002f45wt1OeZLBPJ3C+TpRmNymhgk4qtzXPnTZQ99dvOGuxYFGp3x4dTfbn4lPpgyiCpfLvlMKJZc8+W5lecFODtD81QmLux74vjLP9qlGgJB5B5l8FRFOa0\\u002fGZ1qO6YXaUi1HUu1HUMkiQjidEZ1Ohm7091sRYUl1NFDGWL0s4S5Wf6Jhk89d6m\\u002fwWH18xt\\u002fsuy\\u002fdl6LLwmdpZZZG8utAZPJxW747uIP\\u002fWOt1qpwjutLu96nuywyMGm6vOwTT21wlllZK104x1W2NLsLw1li+cK2a867tdEWMJk9XO1FRaoJAFSdX3D7m1dqJQAw++qKjz56sa\\u002fewduZZR+r\\u002f+zrG3kHCwC3vXz5517fWHV+AW9nlnyk7vNbrjY5R3aI5AwYM7aVfNFiDFyNZdbG8js2X+mttV\\u002f6vcW3v3ll4Rz32q\\u002fMu\\u002fR7i8Gwu\\u002fJ1i3GOYxOB\\u002fCb5ulFl7CVhPhODRHx1js9vufqaX5xXOMfF2Rm1J\\u002fNFpTI2l3wmyz5W\\u002f6F\\u002frKV5iqSJ6369at3X52utEMOY588jbVbSbgcARFGk3U5wHC6Sdrtl4QIsRAxDWq3YhHI4CJYl7TYAIHie9vtwEZEk7fWiE1vpEUVRLueI2xMmdMDPVVRgQ9JqzbrNpYMbVYW4iKMCAHxbELeCvWkbPUtBY3a60wz6yOccG64d9RQK5Ft0n31V+fa\\u002fHu5rDkX7kq\\u002fdvUddTg62x\\u002fY90RbtTSSG03seOuqttY+7AmpgQvMkAAgJMR0VuvcMH9+S3YWx6EO13XuGNv\\u002f6QKQ3ER9Mtbw0suiYj6UfqX37d839B0PJcOad+w4igKpVAVy178njrW\\u002f0JMOZbX9pIUjkqbGPNp0o+aKdGsH2+EBLuH1Lf3ww1b1nqHvPkK3ABIbdZdAtU8gxp4lBN+Yjn4lBIgBAseT2vx\\u002fu3jOcCme0PZkzKmNymgSanO3bB4SkKAny8Xf6PdWj\\u002fFgWLiBtVuuyZc4N6wmOs6+50LlhvfW85aamRsQwUjisKAoW0l6vY\\u002f06ALAsXkTabLbzV5lmzSJYFmSZLS7GRfPCBaamBnUaYJozmykqAgDsQTWh7HZEU9jQPGe2fc1qpqgwpw5uVBXiIo4KAExz5\\u002fCNDdlWZJktLtY2epZCmsyIosV4NLJnO5YIGeVP94RefDw+WjHXJSFBIluBafhYBBcjvQkxnb0kNLnY5R9vKF3qY80UIhBBEQSBZMMXfRiY7H+qvXJlwSef3nD4la5tf23p3R\\u002fEJp5KW9fuwVFeDCFpwlFiufwHSy\\u002f\\u002fwVJVaCvMblYePBLGB4qsCCmJNedIeSLki3ZqpGMCAIiCnIpkAEAWFYohwbC7DLplCjmONTHuxpwYmBgkghnQXOqqjI1qdH0OcpoMt0WLF3pJhpBFpXiBp78lpDUBWSZ4XhwOZnp65HRaDIUyPT1MQQFp4kGSaL+PCfiFwaFMTw9XVaFkBABQ0ul0ezvt80qRKGIZguNpv0\\u002foH5AiUdJqUUQJjyYAIPT1m2Y1Jfbuw24JlsUmwuAgX1MjhsK035fu6FQAEE3n1KEDfiUjiMEgFuIYcFQJgsi0d\\u002fAN9cmWw6ZZTUJfP+33IZJUGx2V5tmDnE5rf5cQAMqq6LpZbFk1\\u002ffu7R33R8n4gtFf38ok3H171sxXpmPDgrZti\\u002fcmiue4b\\u002f3zhiFIeDEyEpPjIHZv9jc7576+66c8Xbv71gXfuOwgAQORcW8gLIhBC6KHPvtmxbUAVymL2L56Q6xVoUyBvtFNC8zaSUXKD7jLolinkONbEuBtzYmBilAgAAEhCDs9joxqXnCbv3Hfw+iW+2168PBUVevcPv\\u002fnL7NooJrplq\\u002fbVBbGt2wAhgqZj7+4CRRH6+oPPPAcA2ZtxigIAse071P8BQIpEszoAlsWLAIAwmeR4HAAyXV2Z7m4AwG615yw6vBUURTUEgHTb8Rw6MOrrF9m0GRexIWm3JQ8eyvT0ZLq7VW9qo2cplM0uBIcZr1+VDA1Ib76UOLhXvxsjxyWhLCmR3oS70oaLZjfHmCkAoFiyaK57+19bYv1JAHCWjQyHGDyuIc06zrgmANB3IPjcf29\\u002f+pvbln2iAUuGj0ULZrlGaxkhpqVgR8xX6xDTkvrPeN6HGRvwuIyNFjMFV2Mx7q7JdstkmUI35jMxTuQ0YC80W\\u002f38HzY+9\\u002fvLn33yK1vS0TE3zvCIoI4LihLb+a7+D0KeVXkdsW3bI29uxqNVFo3bEeHYImaszliJhuShlkxPz1i5vnhWMfZHKOxOsqiMqqihJ7TTfe9jbYturvE3OCxe\\u002foI7Z+PpgJiW4kOp0sU+kiYCjc5lH6vTWYW64rIo168vYUyU1c+Pa1K9urBkoZd3sCYXWzTHHe7MnvLtfz1cstCz7OP1Fi9vdnPVqwtZS46tJVre\\u002fl3zkg\\u002fXVl1QwNkYR4ll7vsqaT7v5FFlbMAG5IsWMylX+TDuril0y2SZQjfmNDFO5DQgpCSaoz77+sYv7XrfHW9ddeXdyxnTOInM8B4ip5IAIKeTqiTfTvfcZ3Hrnw7Zi8wf+OPqTEJ85w8HHaXZtfpnv71t7VfnL\\u002f5w7eCRyHP\\u002fs+P6356vtUqFMy\\u002f877urPjtr3TcWhNpjeMuMgQnvYFZ\\u002fcY7Vx0uC3LNv+MmvvIPlQ8cij9y++bzbmlZ8slES5YHD4a53BwFg7Zfn1V9SwlppkibueOuqTEx4\\u002frs7j27qAYD9Tx2nOPLCL8yxF5mT4UzXu0P7nzyuNpSPnAHnayVftAaupoBBd+XrlnzkS0Svp8GgGy+5a1HV+QWclSYo4o7NV6VjwtPf2NqxfSCfiUEiU2BSuTBm6gP3XfDC93a2vtGjyArvZK\\u002f62fL5N1Rv+ePUL+HPcBAgRfsmvUmCEAEAim554jRCWW2W2lmZ4KAYi2KJL0CFh6WqBmZC2xpg3Jt\\u002f5yge18hcwGYtoihOUzkKmjaVl5xPkqy+YjyM3U4EkmTstlK99AQE0l\\u002f2j8VuLaFpk1YyESuVk08hJyefF6Z0sfczr16hlVz+gyUXfH62VnIuQRJ0wNbIUmaGMgOAhfU4TMUkQeMiRTAIERTJmVk3gUietgMASTAkolQdjrIW2JuwDkOaTIwTu2UoM\\u002fYGALiWRBRLWbBbfDAtEAzrXnWR9ldzaAZddIW5plH\\u002ffE\\u002fuS0LGZLe48n50zl4YxmI2+SxmP0IEgUiHrYxjHQDA826btRgBstvKeN5t4j0kyZAEI8siALCMFQuxE6ulgGVtgpCQZJEksxdlWKj1SZIMw1jstlKECNVDPrd2W6ndWkJRHMNYTLxnrAebpYhhLABAkazF5BeEuNooDgCnwNDmqoqL7dYSLLSYA2rYKjZrsc1WQlG8Gq3WSpsCaDyoXaRNQQ1A10Wqsqqg5qVNCgCmMS+VYEectdBVFxQQJGLMdMOG0urVhcfe7NXrnSsU2JtYysxQlirvSgBgKSuJKBPjwkWfrc5rqQZFtnEBv7XOyvkBwG+tdZhKVJ2UGAVFwToKKD5rLQDgWuwNAHBtkXOex1LJkKZS12KftZYi9APK1CA4Pn60JbJ3ZA1LyCgvPRk\\u002ffED\\u002fqqLcA5aYjpudRd6ykQHv3KCiZHVx4TK3s9blrKYZMyLIqvKLnI5Kn7uRIlk8pbaaC8qKVyFEuJzVDGMFgOLCZVhIUVzAN89s8lWUrNbOUEaEJ3wCgMXkryhdQxCUoiiqh5xuA765DG0uKlgiy1JJ4XKzyVtWsgp\\u002fgbGHwsBChrGUFa2kaZOiyIoiB3xztZGoKSCCpCkejyYuZ7XTUaF+8zGFgUUsY7VZCgFAjVZrpU1B9aDtIkWRcQraALRdpCr7fXNVBTUvbbcUFSyerry0RHsTT39966rPzrrjras+9cyG+TdUPfPNbe2a+5jnGIoiUyTnNJXg\\u002fklkgjztGCmmhznaxlJWM+uJZYasnA8AECKc5lJVx8y6zZwX6\\u002fisNUkhjADhWuwNAHCtokg0ycuKlBLCiUyQJKZnFXXs7xK6POQXv+v+zNf1d5lyr2FRjMniLAl279fdcz3byQgxUcqEQsdMJq\\u002fNUsRxDoribZainv53M5kYACAE\\u002fYP7adpEUXw6k72cRgipQqulMJUOJVNBAv\\u002fZAQAAVaj6xPJg6EgwdFTnYazbeKI\\u002f4JsXjffIsoAQGhxuoSkTy9pVD25nTVfPNoKgTLwnHGmPJfo87jptJNoUMkIsGu8BgFC4zWzy2a0lOAaMiXcf6d3OMlYAUKNNpyOqlTYF1YOiyKp\\u002fWRZxCtoAtAmqwdRUXqpVwHmpSQEAz7mmKy8dh17sPPRip156jtIV2qNdw0oKoa7QbrUYSnaFkl0AcKT\\u002fdQCIpfrHmsTTQ7gW\\u002f49pH96OD7pCuwEgnsnqYMPu8D5V8+SRhUxox4mHJQEAIBGXn\\u002fhndO4STjcC5Z1hpePDJMOfS6OVDp5zIkQCwFCwpbzkgtLilbgIoAAASVAOW2nAO5vKrlJl+2Fg6AD+1lEU57CVBnzzSJJRhapPjLqZEJcgj1uESJo2KYqE5x0lRcvtttJkckj1EAwdLS+5wGGviMZGlpnVRjNCTJsCQmRRYDEAWEx+AIXjnKoJAARDR\\u002fGkEkZHq1pphaoHrX+zyYtT0AYAAGoXqcpaBTUv0HTLNOY1NRAi8i3XTvvrB04puhV3gwV4tcpAR8fEnU+ZsS\\u002fwq21i7U4ynVLGvMMiFzRnLZt7hb9qub7i3AIvo2QPR47HAaEcv\\u002fatCifuR6W6Yj1BUIWBRVZLYVX5xTm\\u002fRapbkqBNvKe0eCUWaiIZSUFdnyZyzdi1EWqPVatRwhEPObooZ1cAgKqsKpyGvCYLQTH2unmU2UqZrADAuv2mwgqCYnDR2biYtthxEZEUbXMCACIp2mLX+Znh5CFohg0UOZesUj8h5TX04lV8QYn+ElD\\u002fEVRJxYaEVPbiRUeez+h0chqaANDex1Umfk9XUeSxf2RU4cT9qHR2bynwz0+nw9FY99DwIUWR1dmKiurWail02Mq6erZioSaSkRRkJbt3RZbHbJgcHaH2WLUaJRzxkKOLcnYFAKjKqsIpzYvUf6onhKNhAW2yUSabb9nFAEBb7ARFMU4vLlIWm7WyERft1bN5bzEAeBdd6F9+CcFM\\u002fx3S\\u002f3AIjncuXimEg+r3vu2wsG1TsqdDHKWXb8ASUtHYUFvOAYsEyk+WsYhnEAcAFsLuIHwkULjIII5BHIUYM2GnEM0iHgB0RQIIE7IRQKrmAEAAySITAmRCVgAooCqx8n8CqXSoq2fbUPAwAIQix\\u002fXVowlFjnf37ZAk\\u002fd2TM5zpyqumhlq0mGEYFAiQAECSUFZGXnU17\\u002fePfJKxkGFQUTEJAOqBDkWWCZY3F1UqYgYAMqFBxuZWiwBAsiZcTA33c94CABCiocjR\\u002fbKQ1vqZ4eSREnEhNExyI2tQ+Rbdc09kaM5aWLc6FRvsa31bV1VM1RBABuX+Yqq6ObPVTRYooAhKBhdLqFoeWXukoxbCwSOLoKR7pGMA4CWL1aKPLKWBaRcPKqBg82Gpt5KezSNLSB6IyMNRebiSno2VRSXHHGGG\\u002f1hWrmIUBeYvYIpLyO\\u002fdFbnsCm7vHnHNGjYYkh97NBmPKQDw\\u002fg\\u002fwe\\u002feIVVVkOg0vPJ+6YiOHD\\u002fS+AAAhPC0ev6iu\\u002fZ5bt6HOBBBBWBvnKYrC+gKDrz4LAAiBy0O6vOTcJdzDf46Mv+gO+S8JFZBpxDgJn6RIAJCQozyyqMW0kkwqUQJIM7InlXhCiZJAsYjXFhWQZcjO+bE5AKSUxIDUqYDMIwsCpCqPbjwLfpmZXpoHA83p8nOWstJ1fbV5kV56RmKlXKs9H2QI\\u002fnibVFxC9vRIL7+YSiSUTAZKSsjOLqmtTTTx2b++WNjaKtU3UACgHuRAUUZdpRoU1S\\u002fNKR6tzsyTUmVeuMp9g146baDE8dbo\\u002fnfVfViIgHlLufnLOJuDmOiie8WCa8rmXK6vAIAxC0yTXW8qpCpLqDoaZfeIq+bZRWtDb4hmSIuVstmtcxYAACJJxu1FNE1ZbbiWsjsIjmc8Psbr50srAMA2bzFltZEWK2mxTsEPAGBXOj+IomiHU3V4hkMjNrv9T8OZ+d3IiZVy4wELIPsSc\\u002fXPR86fEMVCVUf3tyZnb5x+coZxZp6UUzxgAQAQNKO+lh4AOB5t\\u002fID1sutGvrMYfX9hJCHVf\\u002fQdq6cSAI36mwMAACd5m7NbPKot6u6zGntj3F77omX9Tz2M\\u002f9BZZy8gTSZFkuRMOt7SbGmck+7pzKT62MJiKR7DOpTdbq6fhRDQTk9k9\\u002fZ0b\\u002fek\\u002fGQG+ymbHRRF54fx+hVRFELB0QGeoTRYV\\u002falj\\u002falj+krzhKi4tBrg3\\u002fFx\\u002fjJMvX5shOvMh8FFqo6uofRzpDeOEPCOBOgrHZLbSPBmYbfegV\\u002fJVNJ5Yl\\u002f5rjCy32ZI0tiPNTde+TNsaPVewtfXqkIGcbjY30BRBAgy4okKbJE8iZFEpVMOtXZTlntrNcvDA\\u002fSTjcAiKGgMDwoRqOZ4UH1B0Um7geRJHal85MZ6Gf9BaOCO1NBgDxMsV76n8oZ0htnSBgT5tSOA3ImTbA8Ighb03x93WhyX38xJgfD2WLD7fqK95zRS562eYsIho3u2yUlEzkWFwzWRyflB\\u002fT6RsJTxir3DUfj73qYUh9bJilCe3L\\u002fkfh2ALBRnhWu920efjAqDmFNK+U+z3XdW8MPR8SBpc6rbJSbRCMbl1rjOw\\u002fHtwLAStf1A5l2ljD72HJFkQYyHQeim0Qle4+szDS7jJ\\u002fNk5akFD2W2NWRbMbyla7rjyV2u5kiH1uhs8oXIQDQiF3rveW1ob\\u002fVmBf52UoAdDyx53B8m3FbJtK23HktRdAICADYGnpiODPymroCrrrKtMBE2lNyrCPZ3JYY2d5tJh21liUuuohEdFqOH0\\u002fubUvsAQCD3gCAMn5WqWkWT1hFRYiKgweib8alkKqZk3wpnzknBfL3hoFDAKg2Lyrlm0hED2SOJ8Swn6vcNPQvXGXQ81ODsto9qy+JteyPtew3\\u002fk7lviQU03FnQQNv9QZ7msVMQl\\u002f9HjI6mciu7PchNwaZT8oP6PWz5BSeShqs5x2KvXMkvs1BB5qsq5JStCt1KCIOhoS+Er7xQHQTVivi6mLicEQcAIDtoacIRK31fGR35KX+9HEAUGDkIqqUn9WW2P1O8BGOsMyxra0yLzwUexvLa8yLD0TfDAv9DtrXYF2FgGhP7sdWjdZVOa0gT4Rqc\\u002fNs67pTh4\\u002fGd7EEL5\\u002f4iBu0lZAiLw\\u002feDwAsYbrQ8yHVDwB4mJIm6wX7o2+EhX4z5ZhtXY0QcTS+EwBYwrzUeVVUHHo38nxKilspV0ZOYiuD3nDRhXWW5bsiL8TEIEPwbqYoLcdPtGZEzpTPnJNi0BsGDou4ukrT\\u002fAPRTUGh18OU1FqWpmT8PINRz0+Zsdsa8pF7wGJMDoKkESI8JfN6W0c94zPDe8hQpqsjeQAA4lLIxRSUmmbh4aA9ub\\u002fRuupQ7B1JERAQhVzNscRubCIpIv7rJyuSNGaPSFgcwNOcGAR70oedtB\\u002fLq80LjyZ2dadaACAuhXjSVmVeqH438llB\\u002fggxw5mu9uQ+XKsKjdvCKKDfs1ptXtie3NeTOgwACSncTh0o5Rrx16aEbwRQdoafw\\u002fkmpLBqZdAbeL6TlhIJKZKQIiGhT1trQL6Uz5CTYtAbBg5L+aae9JHO1EEAiCdDHrbYRNpVq3w9P2UUSQxu3SRnxt\\u002fglnvASseHxUxCkeWxT2OcA5AUAgUkw5f\\u002fnpnExGH1OCoO+dkKfNybPlJvWV7IVXckm71sKU1w+FM4LhGhXz0W5DSFGABgCJ4h+LCmKiz0V5sXsYQZTzpyWmHyRYgJifpRYNy28mGh3A46UGkateSBgFBAtlGesDgwdiAwZjDT3pk6uMx1dVgY6Ewd7E61qBvrjcmX8hlyUvL1hrFDM+XoSR9Rq2JiUB2wDHpeK5kUJ3tJSDNmAERz1p7Db+jrTiM0g+xeJjyQsTjpYF+GM5O8mTTZSLOdbNkRM9lIh4eORyQASETEnDoMT\\u002fBmMp2UeTMZj4q8mQwPCjY33bDEuvOVkJCW8Q1vu5dJREWHh+4+msKNDnal1QAGu9I0gyxOOhmTeDMZ7M8UVfNmO9l5OKkGEB4Ucuq07MhOpKcF3d8PdeFAVuTOZHMJ39iRbC7iagczHWl5QhfyOffl4kf2Ru8vQQAgK9nnJHJaYfJFiMGb9bSM21ZOECASUYfj27qSo14iir8zCKZyta6AciC66Wji3SKurtq8qNI0753gY+rVkwH5Uj5DTkq+3hjXofbcqWO3cc9PFQSKfFKXhKKQJClGFjPj2p9SFl3sEtJycY3bW8z+7fvt6z\\u002fkjwbF\\u002fva0rCgAIEtQ3mQ2WUl\\u002fKRePiDl1Csq5C9\\u002fvC\\u002fVnokHxyK7Yhe\\u002f3\\u002fel\\u002f2oJ9GUWBxeudiYi0d3N44VqnkJb3vRUpbzJ3H03hRvGApR5f9vECbzE70JmOBsXNTwy5\\u002fIysKNoANj02uGCNY6yOLqOTxEI61WMr5UmIYbXYntxfYZ7vpANepmxv9BVVDgD47QjGG9y0pKRYRk7aad9gpgNL7LQvJcUEZfwZu0GEOZlaWwooUXHIQjpTuWZhUWm4iKsjESXlGvWMeyMlxVrjO9oSu1e5P1DE1aoXcQYYpHwmnJR8vWHsMCGFbZRbVbZQLnxg3PNTBCG+rErOpCmHa9wbWbmv+GRJ7D2yue9odiX1vaK7NVlaZxrqzex8JZRKSINd6b7jqd7jKV8xCwBOH11UzYcGhN7jqXw69YutmWRWiI8BoLCSK67hj+2N+8vYTFLGrWBvJIVwURsAAGD\\u002f2A9nIrB\\u002fbQAMR+TUGUlmOnAzxaX8LDPpKOLqC9iq9uQBtSolx\\u002fvTbQ3W8yQQ+9JtIzYACsgJKVzI1ZpJu4m0s0Q2OwNa4zsrTHMLuVoz6SjkastNc9T7fcYYRJiPqbV1JL49wFVVmRdaKJeVchVw1YVcLa5qT+4nETXPvs5BB0yk3c0Ua69M8\\u002fWGn60s5uptlMdE2rxMGY3YuGa5xwCDlM+Ek2LQGwYO25MHCtiaIq7OTDpK+AY3U6Q6NOj5KaLI8ZYDspARw0Hj0QrwJHAsZ862BkSAImf\\u002f1wl15NTRjte6sXv2efbQoNBxKKEqq2iL6rGBTj5hTp0ps8p9Q2\\u002fqqJmye5kySRE7kvvVbQEYN1O02HFFR\\u002fLA\\u002fqj+Qt5JBxqsKy2kM6OkDse24lXhla7re9NH1c9otXlRgK18c\\u002fjfuFjKN5Wb5uIb3m2JvXix3NjKIEK8rWFb6KmhTCeWaMnXlgpDcGs8H9Fta\\u002fAyZVXmBTbKI4Mcl0JH4+\\u002f2pY\\u002fiKivlqjUvdTIFBFBpOX4ssUu7ip+zN3xsWY15CU\\u002faCCCScrQ9uf94Yq9qkg+DlDHv+UkBw97I5xABqjEvLuYbSUT1p48NZjorzfPVbQ0GPf\\u002feQJC0v2r5ufeK5LOaVe4bqswL9FINdtp3ie\\u002fTDs09u9PMuBFOGYbgLvF92sUU6ivea8ZN+T0\\u002fKecYuS8JKcYECjC8HSb06OEMpw2j01HAVsfE4MTvx58ajCKcMnjPgShn9BVnBEYpT9dJQXDiDZEnDs5k1AgnEuqkMso9YElimqQ5vA9LX\\u002fefCkUh8uR+2PkUQSLKRNr8bEUJ39ia2KGvPpvxMCUm0m6hnHWWZSk5HpOCeo0zlQmeFArRLDKpr5OzEHYH6SMRRQCJAJFAcciMaxnEBahyAMAHqgn2QABhImxaQwZxWEgAiV82hzUBALslgGQRjwCZCCuceCEdASSPzLjII7PmTXYmAFAd4uDVwBjE6eLxU2UkUAiIAqpSTRC3iw0pRGtfoodTmwi57xJKQqqv9S2CYnK+YeZkQAShTOR3EQ3heMSbCSGjuLxUe2v2r255DWOxk\\u002fu2Jy02wuWlomEJAGIR2e4iB3tFmkEuLzk8IOEixyObg0zEZZeX6ukQtDrhYYk3E8FByWQmTBYiFskWHR5y3lL+rZfimbSCCHB5yb4uEbfV0yHg4qgoTxc2yrPIcZmkiMcS7\\u002fakRvbOnO0gQA3WlTxhkUEKCwM7Qs9McGPUmcAET0opVS8o6ZA8WEzVNGe2sMikAPjI0oySjMkhH1kSkYdpxOJavM8grSQUUEyEDQuxBwkkGrEZJYUNGcQXUzVheZBGbLvcXEHP5glLXA6LitAjHi2kKiPysI8qERUBARGRhwCgnG7iCcuQ1C0rUlKK+6gSWZGG5V4b4eJR6cib7BDbLjfj4HEMMSXEI2uPeFQbjwxygCrvEo9wyOQji3GCMTkYkYdTSryYrlVAjskhP1nWnNmCM9J2iwG5ByyGtzkLm1KxwfB0D1iWeQuTR1rkVEpRZEWSEEGQFqucSlFWa2agn2BZgmWlRII0maVEnLRYxVAQURQ+UJ0UVzCX32D\\u002f3Y8Ga2ex6oDl8VOyAgAgS1A7izVbicJSOhaRA8X0r743sPRCcyatVNQyuLj2SuvhfenYkUztLPaCDRatTm+ncPkN9p9\\u002fu\\u002f\\u002faWxzhoHTg3RQuDvaKsgznX2KJRiSWIzJppa8rhtuqbmRxUY3wVKAueeoICr0vDtynl74X5ItwaiigbBr6p156hpEv5QmelKQSzyhJJ+mTQASAhBx1kQUKyE7SH5NDIohhebCUrpdANBN2C+FAgEyEzUI4GMRhE+yBQbwMEgKEDbFDBRQZJAWUlBKPiUEL4aQRUkDGbq2Ei0asoKR4ZIlBEOsklbiPLO6XOuJyxEcWx5WwmbDH5UhGSZJAqQ5x8LiVtJwApKgp4HhYZAJQSKC0CeJ2AYBCjKCkLIQDm6ipTWTYyj1gSUKaYswMN\\u002f1LBpTNZm5olDMZKRpN9\\u002fXwldWKICZbW9ii4sxAv33FKjmRIM1myulKHGlRBFEMBc1Ns\\u002fGB6mTOYj6dkt1+qqyaoSgkigoAdB0XFqwwAQCWH9qbVhTIpJSjh9LJhNzemjnvInNfl4iLybjcvDtVUsmUVTNdbYJWx1dApVMyAPR2CsMDEm4LAEqrmIpa5uUno0svMO\\u002fYnDjvIvObL2Tbev3ZGC7OMMOk6BGPAsCQ1IOLSSXWLR5RQMHfXlzbLmS3aB7J7AKAuBzGBxisU0hVAcCA1CmKGQUUbIKFNGK7xVYEiEBUn9imuu0UW3Ar+H+so4ASk4MAEJWHY3JQAUXbFl5pohGL92qpgWnBznVFNUFMq8YnjMnImNyLMgxnswfqKMbUc\\u002fiNcXdGTArn6rUAIEUjlMsTfudNymIzNzbF9uyyzFsYfOUFy5x5UjRK2uxyKikGg+bGpuGXX2ALivCB6iTf5jKC0L\\u002f5SCvEB+PqKMoo57q2Fq00DQ9IRw+ldX5yup3hbGLsuZ\\u002fhbIEg6UD1ef7K5fqKaQHfeVTvP+a8ETkRnRn+AyA4jnTYEUNTTgcghGiatNsQRdJ+L6IoLEcMTdqs+B8A4APCxNMBHwAQHKs1OeGXoLxu7A0AEEObF80lbVYjkxnOAHKfDIrhFUVOxQf1FdMC\\u002fiOm\\u002finL+TdtIjoz\\u002fAdgOX+ZkkwBQpn2TjEYspy3REmnAYAwmSKvvmldsTTT3klYTJaVS4XuXsrjjm\\u002fZyVaV4QO60C\\u002f09lsvXCnHE4ogYJOs2xWLM8c7+POWKOl0cl8zP3cWYhgAYEqL8pmcOkgS5XwU\\u002fwx5Sj9feJhpDJIgkSJnf2Y3n9sc2xoQIuz+WooxM5xNXzfDDKcXRFGEmZfT6XRbBwCAJBFmkyLJiiSComA5W12hZAQpHBUHhhBNqwd0wIdIUhwOCgODqgl2qwgi5XZlvYkSyDJh4gieMzA5FRRV8zULrMs3up0+BgAohnD6GYJEvlIOIbC56SWXurCQM5MkhSiGwEWGJ1wFDELAW0i1yHCEw0sDAEWjQDmn6jA8YffQ+B8A4AOdH4yqg01wJGp4JhtZUMlzZlIbrTZI1VB1i5X1hjQKlHMjbXGEw0szPLF4vcvmobEf1a2naNTzbf+Jl1rF93wj+Pen4u\\u002fs1lecgKuvcH3kqu6v\\u002ffxkPqx0gdf\\u002ftU8QFpMcjXfe8QN99WlhWhKZfnKtQeY7KebF8+Pbd+mWFc1LFxAsG9++S44nsGSsQx3mZQtHmcCJdUfVdoyTHCbTzazz7IqsVM2zxkLCW08Mrf9wwFPEtu6KHd0Xa29OAMCyy9z+Ms5TxB7aHklGpX2bw5fcUuApYo\\u002fti7XtTxzdE7vsEwWJqIQQtO1PVM0xpxLyrtdCcy+wWxxUJiVjndIG04XX+zoPJ32l7ObHBmsWWH2lbCIiaf3geNbe6Mc6gODC633HDySO7ovNW+3E4QHA\\u002fDUObzGnjfYfPzg+9wIHDvIfPzjuLWEvvN7X0ZLAbjfeWoSVtYaLLnZaHJSQVnBbdYusqYRMUojlCc5MYj\\u002fJmLTsMjcACGl5x0tBtcdyXxJaPeUEQbNmV3\\u002fb1nE\\u002fCuckiiSfZOJCz0Dn7d83r5jvfP8l+rrTyMknMu0U\\u002fvDz3V\\u002f\\u002fOUgTukkR3\\u002fauXqQo8XdGb8WcQIJ6Ezjx0xT5lx1ymEw3fcdTTcvtg93p8IDAmoihnnRHS4K3kN5ituNQIlDOF9XwfcdTHS2JyKBQMduSTspYhzOTeJShaMJsR8O9maN7YmWNJrOdkgRZlkDMKKmEjHXqFtnSKTnUn1EUheEIfJBJyVo\\u002fGFWnYrYlnZIFQfYWs2p4JgtZWMX3HEtpo3X4GDXIVELCbalNY1unj9Ya4vDUtkRRMdupREQ02ciBzjT2U1DJF9Xw254fXrDWqR2wcsPb\\u002fHZ\\u002fLWvOvlPiHKP4nm+Yl83VS08N5hXzi3\\u002fxNb30PxjSaSv7yw+A1K9FnM6TckYx+m1a2SIx+pmKnDqY5Ze7tUV8vPIqz9qb\\u002fBZHdjqS75aVzq0W1UQXiY6xTedrS4suPFBtNf\\u002frqlRyz7BSsUHe4nEXzQ71tSTCo\\u002fZQvCdYVi1kqkvoAh9d4B249+\\u002fO92+gvM7+\\u002f\\u002ftL5mgnW1Viv3YdW1EEJCm09wz\\u002f5YlM+0jAXEOl49p1THkRyIrQ099\\u002f95+lSAwAKK8z8K1PMxVF0nA4+OALiS17sD7ldgS+fSthNSkZsePTd6l+iu\\u002f5xvBfn7CtP2+sie3S860XryDNfKate\\u002fjvT2XaulSrfOQzyZcLU1rgvf2m\\u002fp\\u002f+yf2J9zEVRVI41nvXr6RQ1CCqKSSCaMp18xXc3DrSzCOWkZPp+Js7hv\\u002f6pGo7lpJffWvo\\u002fkdtl53PlBYI3QNDf3g409bF1Vf4vvTRzs\\u002f9r5xIYTXPp68HgKH7Hgl861a60AsAZfd9F1cd\\u002f+i31P0gOU8KIknHdevN580nTFzq4NHhPz8h9g9hfYNcThEUhRRQpAk\\u002f0UCQoIw3wdW9zwMXZUnRtpVTB\\u002fP2U9newOCqNx8bdbssXwAGrxJRTeQxy95atB7wcb62tOjCA9VW87+uahxIivWWLzLZAnZ\\u002frb7uvcCyamHJb\\u002f+HKQl4PnV9yW\\u002f+m60udX3wCs+nrgcAKuCxrFpIueykzeL+5HUF3\\u002fmsakX53aV\\u002f\\u002fJ7jmosot4N0WE2LZ2F58T3fKPn1t\\u002fh59YTFZLvs\\u002fNI\\u002ffIe0mlUrAODn1Zf85r+1knwmlgsWFf7w80xZIWEx2a9YXfKrbxGjXY2dYRmY5MuFKS0ove+7vs9\\u002fiK0uJcwmrqkay\\u002fNFpTLxRADAfsXqgu98FrEMokjflz\\u002fq+vCVWsOclPzqW0U\\u002f+wpbXUrare5bri762Zfx1Knwx1+0rF6MdRBFlfz2f7jGKlxkq0vzzbByBua4fn3hDz7PlBWSTpvzpsuLfvJfiMo+y5bTpKqGmr+IsdqIiioKANwewu0hGAb5AiQAMAwqLCJxkeNRoJBECLCyTofjkdtDmC3I6ycBABd9AfLSq0wAYLYgikJYE2DEAy5iOB5dcgXv8ZJuDwEAODDVLTbXGZrMiOWQri2s43ARpeWUGokuTZZDXh+pRnsOo\\u002f\\u002fcYCQxPdS5JxkbCPe16OveI8S+oUxHb2r\\u002fESkcTR9pTx9pJ90OABB7B2ObdojDYSkSi726lS4JqLNS24ZV6SPtoUdeEodCUiia2LZP9RbbtDO566AcS0Se2QQkQZcE1Kp85DSxXXZB+PFXMse75Vgi\\u002fORrgMA0t05vORoDE4NcEE1Fnt+cPtIuxxOp\\u002fSPPpuWMyph8Jkxlcar5qJLOKKKU2neEKR7fFQDE3tiePtIuhaPBfz1DOmx8QxUWWlYuwArcnBo5nkg1Hx1llouxgSGKtF18XvDB5zLHu6VgJPivZxDHmJbOMTDxBUiGRbKsNMxmAGDtBv4jn7Z+5NOW275gs1jQmku4+lk0Lm681uTxkYoCWFmnU15JffpO2423WC5cx5ktCBf7eyVZVgBg7SX8qjUs1gTIelCLmMuuNrm9pMdHfPpOGwDgwLCftZfw569lSUpvuGY9P38Ro2sL6ygyrF7HAQCu1aV5zQ2mFRewarRqDOOCKIpyOhm\\u002fn6uoAADEMKTVqhYJnqd9Pp0OFgJB0G43IIRrdW5PHbkvCRne7ixopBi+69CrE5rknXrkZAoAFFGS40l8gGgKAEibxb7xQq6pCvEcQgiRJBAIJAUA6CJf+vDx0W6yCJ0nXvehKEpaIPjxXw061gRRJO13e269wXPrDaoa6TE6ecYmBrkAgPZSV2VsVKOqc5HPROgZ4OoqEEUpsszVledsbixiX\\u002faSRE6mpVCE8rth3+H4ph2Oa9dRPpfYP2xeMju+aedEPkVjA6M8TsTQQntvVi7JQmc\\u002fUxxQ38471qS9TVy6kuvrlSqrKYpCg\\u002f0SKJBKKYcPComE0tYqrl7HdXdKhw8KZguxb1cGALx+srKaam8TtTqBQiqZVHq6pMF+ieeJBUvYZFKpqKKqa2mSSu7fI6xczW7ZnF69jnvl+RT28NKzSVzMBisqNnvWEABwYFW1KJlU2o6Ks+YyyUSqvIrSGpIkLFrGDg\\u002fJ2rawc5rmerokggTsUJemKIDdQajRxmMTfUrcPHu2IghyJvsydNrrtS1dGt+3L3u+ZJktLmaLirQ6WMhVVKQ7O0FRsAcxGBzl95SRe8DSvl5msP1dffV7An6yGfRXyd47bpYTqb4f\\u002f1EKRtiassC3Pq1WIYTyPU2pZHK\\u002fsd+AHCYIAUD\\u002fT\\u002f+Uam5VZeO8i8LQxCAXAFDEHGsnOaIaj3wmkSde475aVXzP1+R4Kn2sM\\u002fTwhJ6NRKMu7rI7A6RwLLnrkPm8+ZEnX+PnNfR86\\u002f9pdPIyNrDs2dPOGIhR04exJl0d0mMPxGUZ7v1pBADU4QPvYTi4X2hpFnRPaLW1ilhZq6OMfkrnn3+K4SLW9PmJt95IHz4otDQLWg+4iHns3wnt0z44MLW4Z2dmrOHjD44ywVWqDkaNRJvmg3+PT+3hsEx\\u002fv7mpKbp9O19TAwB8RYUiCMLgIC6Sdjvt88X37tXqYKEwMEC7XJnubuwhvm\\u002fk8uWUkmfAElLdh17VS6cbRJCgKMqEVtVyg2iKrS7F33AAoAMeba3QPcBWFmsl04siiGLfEFNakNxzSF+XBwMT41xOA6TXSTntXV+6W45NYtsRdSJOwsSRTqvQP4yLsde3OT9waeZoZ+Z4tzgw8udXkWQAQGhCvwolDgwrqQxTWpD1QBJ0oTe2aZzdBjm\\u002ft6oQH0xER4tugvj2pjQ+0GlOqqjFoGkdaiQTd25Apqsr090NihLduhUAwps34wZwUejvDz73HABodVQhfvoy6+F0kXsNKx8EQbFmJ0FQjMkOACTNMryNt\\u002fut3nIAIBmet\\u002flozkpz1nw6GCykOYurbC4AkDSHlSeLIohSJMY1VCKKZCqKbVes1tZGnnuTra+wb7yQdNpIu8W0oJEwcVqFkyf0+Cu2y1bx8xsIM0\\u002f53NYLlyKW0SuNJp+JcS6nASUtIJYp+dW3yv7yg9Lf3eW9\\u002fWbEjZMLAFjOX8TWlZN2q\\u002fP9G6ThSOpAduaY3NNCsIx17bLYG9u1+mL\\u002fsCJJpmVzEMeQrvFOuiSHn37dcd16pqwQN6EIYuKdPXq1GU4GPARq\\u002f9ceaIs6oTpG6uSnktwzLIKgFEVWFIVieO1P1TtLZsmSaKoIsGbX8Z1PBGpXCpl4Ojqk4Mm7IptcRRTNsxa3JCRz6wAAQKB2lZCJD7VllzZ8NculTGqwbYcsTvqFNkO\\u002fe8j1wStsl54vdPYN\\u002feFh\\u002f1c\\u002fplYJ3f0DP\\u002fuL\\u002fdqL7FetAVHOdPSkWtpGLHPhuvkK07I5hIlHFFn6u7vkZGro\\u002fkeTuw7q9U4Q3\\u002fwuwTDOD1xKeZ1yLJluaYtt3omr3B9\\u002fHz+\\u002fnjBxiCRLfvc\\u002fSiI1+Nt\\u002fp5qPGpgY5DJZJpsIwbGBb3xy+P5HE7sOgiyTVrP3jpttF60IP\\u002fWaXnU00Zfedn3gMrq0QOjuH7jnb9qpQmzTDuvF5w3c+w+tvhxPDP\\u002fpMef7LnZ\\u002f5Cqhb6jnG7\\u002fQ1o4l\\u002fORriKF9X7qF4Ll0S1v\\u002fT+7PeWl8DoMQcTJXIf8RcFZvQe35gerzAlUrtHKTs7Bo1jpP5SJncRMg5ClfaA\\u002fUsBaXr2opAHA2b\\u002fGcS5zFs3w1y\\u002fPpYLCQt\\u002fmK51yCEFE066LCxjWIGLkjO3plZAQ0ibc\\u002fzzAJuIbK4l9+Uyvx3Pp+5w0btJKxlPzqW+pmkbE4r7\\u002fEfcvVeulZAkIEz7kIgmYZKwAwjIVhLBTJsowNAEiSIQjabPI5bGUEQWWFBM2xdoKgONaheqAozmzyjuiQLMtYcRUAUuUYrUNVp8A\\u002fH8cwA+SbYeX7qfpEsDsR6gFFwQ9eDbZlVxP641sBIBUZ6Nzz3Ih2Lh2MKsT6qejQUPsu7cSyfH1177YuKSlwblPkeIigCXOBNdEfL1pZ2v9urxDP0CaasXOMlQm2DNEmOjWcVG1nmAJi3xDBc\\u002fz8huSeQwRD8\\u002fMaTAsa+3\\u002f2Z73eBEAUhSiSqSy2rFnae9ev9NVnCQX+BdFolztQK0mZoeFDPncjz7kyQlyUUr39u73uxkwmij\\u002fhZcUrOdZ5+Ogzft\\u002fcaKzbbiuTZSGVDmEPGSFutRT6PE1Yp7hwuSAmFEWORrsARmxFKQ0ALGtTHYajHViHZewed0Nv\\u002f25Jyi6c\\u002fSeTe8CiWTNB0qnkYLjvsL4u59VszovYiegAAMDQ8Xd1Et5jKjqvtO2FI846T+R4qGxdNWNjxaRAchQA2ErslVfWd73RpsjZ4x0\\u002f3azzMMOkEIfDg795wPm+i72f+YAiCEL3AL6A1etNAK6x0nvHB+VofPjPjws9A\\u002frqswRZFjnOqSgSTfGyIqUzUQWAoU004hVZQohw2Ct6+nY4HVWpdDgW75OkjCRlItFORZY87vqBoWbsQZIFE+9NpoawTiodymSiDGPlOGcs3qva4kaTySHVIUmyJ3RCmUyUJOmZAQtG3zEegaTYQM2qTCI4cHycOzKniMYPzVMAOl87Vn5Jzf4\\u002f7ixZW8lYGTElmv2WI48dLF1TYfJbDj9yILCoiGRJk9+y694tehczGIIIEkAZZxPGCabw0yEGJpNqOicT92AQxrjgxSPtu8b93jn9A3txUft+Yd37yNWidvlJr3OiSi\\u002fXup1ZvZogvNXnKZ1fMusSfcVpBGl23JRvqKm5tpG1c1nhiZqZJa0pQFAMZbLSFrujfgEAIJJknV6CoimzDdfSVgfJ8qzLx7r8psIKAHA2LqbNNspkpUxWAEAkRduym11VIXaLEMHY3QAIm2A\\u002fAEAwLG22IZKiLXZN0xRtsWNDtWmsOcaQZJ1eRFLa4DVCmjLbsDkA0gaPw1Dj1EZ+zkB5nABg8Og46bLbLj1fL32v0QWMsxiX3JeEQioa7D4QD3bqK04jirpTFKDt2dFXpidqtDozTBDG6XXNWtb96sP4It1Rt4DkTIokyUI6eqzZVjMn1d+ZSvfxvmIxEcM6tMVurZqFABi7J3hwO+fyy6IoRIIAYK+ejYUAyDVrWWqgK9HXAaBgk9DBHbyvOD3c75m3SkwlKM7M2F3drz+O3XoXXsjYXYO73sTxOBoXpfo7nQ2LxFRCZ6iIAsmZhnZtYlx+NXgc+dCuTc5ZK2QhjSg61d8pREOKIqvBq2HgOJP9HWrk5wZMeZH1ohWR596gAl7L6iVCV5+SEdiasszxbikS5+fUpo+0Z4514q8MU1aIq0irObHzgGlhkzgYxBJEkpTPJXT3Ux4n4lihq0+VgAJ0sT\\u002fT3oMIRBcHlHRGCkVxlRxPcg1VmePddLGfMPNSMIIYGh8I3f06z+kj7ThmtqaMKQmQditd4MXmiiThLECSsSTdmlXWkfNmHMJ\\u002fykQhu0v4P5Ov\\u002f63hc\\u002ffU6KVnIbpEzEWViphhXT7WHcBXTIokKbJEciZFFuVMOtHbTpvtrMufCQ0ydjcAZCLBTGhQiEfT4UGColPD\\u002fZynAHtThditLImM3QUIYRPsBxFk1kMsFDm6n7bYcNO4iA0BADed0\\u002fBEkIo2eFWIg8fmAKANHpsTNIPjzESG1cgny+331nzw2+V66XtNpqNH6OgROvtAlmOvbWUrS8xL58qJFFNRbFrUFH3xrcyxkWmHWgUUxVaVAkmqEtJlTx06hh\\u002fRjb22la0tVyVsTVns9W1cYxVd4FMyghxPqlWIY6VQhK0rRxSlJNOIZdSDsZ7VMNja8ugrW+SMoJqrWagSVVlHjhkWQsjmrWI4K0nznc0vGiyWnxtYHJTTx3S0TGJ795nJBBMZ2vUmnqP2vfUsACCEAJTw4T1SOgGKEjq4AwDSwX5cO7x\\u002fCwBgoZbUYHZzc6R1Lz5I9LRjtwgRqh840cqIB4RAUbAweGAbZB+fUlSdnIbOhkUACsmZtMGrwuG9b2O32HBU8CeEI3H25v7TPS4IIUk481aUJBlPVZR0duU+095NmPj04eOU02a7ZFW6pU1OZ5iSAFNaqFYJnb3eOz408Iu\\u002fIAJhCV3gVVIZACA41rJqkRyJAwCWSKGI+bwF0nBEyWToAl+ivYexmnEVV1suJ5IgK6DI2bXCEwdqW6pnFTkSt6xcSDD0iPmJLEYkk4IgaX\\u002flUl959g0h5zbrPxy45TsVeumYicmZzzmTyAyTY+xL84gTV07qgcp4EuvF5+VwiBAA2DeuYcoK7ZevHluVm7FtqahWBge5yO2RonlZlknGZGx8bjBrpV0vOjs5ZxKZYXKMvQYyeDRxPEnind05HCoKAESefUMRpfCzb4ytys3YtlRUK4ODXOS4JAQAUUiSFCOLJ14ocWbzrX81vvtKiGLQ2g\\u002f4eSt54O3I\\u002fd8+FuzLAEBRNf+DZ+b87FOHdr0aUvW\\u002f+Ps6k5X87g0H7vhlbd1iK35V64U3+HDtLQ1b1R8XkkRl461Fa2\\u002f0mW1U5+HEP37Q3rIjiqtmnWe\\u002f9s7i0npTKi5tfW74gZ90pOISrvr63xr2bY4osrL2Jr\\u002fFrjc04D1JBPLnYpyIQbSY3+xYdM9nW9yF7MZbC10F7FB3+se3HBzoTBu0iJl7gePaO4uLqnmazf5BbX4n8oMPNRv7tLnpyz9ZOHe1w13AJKLSoW2Rf3y\\u002fPdifAYA55zuuuaP47ScG3\\u002feFkp0vB5\\u002f4Vdfnf1tHUejeOw+brFS+qiPvxnDrP31prq+UA4Atzwz98s6Rl5EZ9w8YJnLGgl\\u002fJmxNFEIWuE+\\u002fzeY\\u002fIN4FCANnt7PqaM49v\\u002fauxsIo\\u002f8E7klX\\u002f08Vbqxq+VhgaE71y\\u002fX62NDIu\\u002fuK0FFy0O6p63FvzlO22v\\u002fqvfVcAQBPry\\u002ffXH9sYf\\u002fFkHVhjsym7P+\\u002frfGkobzD1Hk4\\u002f\\u002fqiuTlK+9s7igkv\\u002fiml3JmNS4zPbl++vfeGTg7SeGrC7qui+UhAaEH3ywGb9P9ut\\u002fayiuNfUdT401xJ7zcfoTAQCDXIwTMY4WAH6zY9HBrRGGI174S28yKtUutD71+25FNmoRAALl3PefnvPYPZ2v\\u002fKu\\u002fvMn8+d\\u002fUPnZv15O\\u002fzS6Z5fMJAJyJ\\u002fNj3K3a\\u002fHuo7nvaXsjd\\u002fs7xlR\\u002fRnnzoEAHPOd9x+b80r\\u002f+xvOxD\\u002f9E+q2vbHH\\u002fq\\u002fzg0fK5BF5fk\\u002f9+ar+snHso9eIgQmG\\u002fXl++v721O6Acugf4wTmWFq5J5hcRYXSbGs2RXsPnBWbF2TJeXXX2wVMzIAZFLyf\\u002f2hrmaB9fDOKAC8+q\\u002f+j\\u002f2g0u6hw4MCACy91K3IypZnhgBguCcDAJKgpOKS+vXWQtHoZ588FA2KABC7q+17j8+umGU+8E7k2juLD78b++M3jmG1ntbU\\u002fz41e+E657bnhrGE4Yichicc5+U0JwIAxrkYJ2IQLaawiv\\u002fahj14ondoe1Zu3OLcCxxiRn7yt92KAvs2h\\u002fdsCtcttj752xMe8\\u002fgEgFRCUkeTwzujgQpu3QcDai3DEc\\u002fe1xPsz1z3+ZLW3bE9b4S8xeylHy8wrsIoCsTDIk5Th0H\\u002fjJvIDFMg9xpWOh40O0tIij0rRisAON6cUD9PzVsiAFDaYMLFrc8Np2LSeVd6cHH5Fe53XwklIuNMdjBt++P4swgAQ90ZALB7aYpGVXMte14PqWodLYnh3kzTcrsqyWmo1hpwOhMBgHFzyWeIMYgWs+eNkO7He8dtkTWRkpj9+V8AkISRY8xYnznp70jzFpLU\\u002fOhLaDADAPGIONSTAYBkXGJOXKkZVBlj0D\\u002fjJjLDFMh9VmjOgggikxp\\u002fRnCGEA9nPzQAIKTlTEq2ubKfm0xKfuuJwQuu8wKAu5CpWWAd+6Md+YgOj7jFHzdEIN5CEiSKhUaqACAWFK3OkelqTkNVYsDpTAQAxs0lnyHGIFqM1hwzbot73giZrNSaD\\u002fgohqicbZ5zvn3ny0Gt8lifGJJE6272f+PvjT9\\u002fY\\u002f59exd\\u002f7HuV2lpZGvnjK6RPHKFxqsbFoH\\u002fGTWSGKZD7klAS0hRjZriMvuJMxWQdSYRmCYYjwoMjwb\\u002f2wMC6Dwaq51lqF1ljQUH7590Y\\u002fCsAOhJRSZIU7fAEABYndWTXyGc3p+FEOJ2JwARyyWeIMY42J+O22LY\\u002f\\u002frf\\u002fPf6Ruypu\\u002fmZ5sC\\u002fz5G+6X3ugX6ucj5u+WbbiCs9fv9d2aFs0NCCsutpzy3cr9ErTjUH\\u002fTDkRFcrMkDwjxlK0jU8NRAmGoi2sEElxAVuqN4JIRNt4IZIk+ex7FjPBBOM0AYAsSKzLFG8PUiaGNNFCOGsiCxOaj5\\u002fJ5B6wSIrNJMMUazlb1t0rZpsphsCXJw1LbQDQfnBk\\u002f2RHS+LIrtjSy9w18y1vPzWku6BIJyWGyz3TzIkkKi3bonNXO574TXYBtaTW5Aow+JroJDmdicBJ52IcbU4m0uKqqz0P3t0x2fXpBWucbz81uPnErFN3cfqeMLVEVIo3zhbjGQQQOTyQ6o8WX9okJgUAhbZy7Y\\u002fsLtrQGDk8QNu44stnxY4N8YX2nheaHbMK8YGlwh1vD5ZeO08IJ6WMiE30DZyF5P58n13bGgCAYtDt99Y0rbAvXOe85TsVh3dG1XvSmNce6F94kbNilmXsZVTr7tj8Nc6F65wVs8xNK+y62pw89PPOyjmWj\\u002f1vZcNS2+JLXLf\\u002fsubo3vj254f1epPnNCcCJ5fLuNHmxLhFmiVKG0xDPZnJbgHsPZ5qXG6vnmcpqTNt\\u002fHThootdeo2pQlLI6qQohqBZwuKgSGpCkU05ERWCImkLKyaFcHMvAMiSTNs4RVJkUVZkGcudcwqltJgeiie7QgRLqQfmMheiiGRvJNEVVk30DZyF5J5hyZIw0LadoLJTzTOf7c8Hh3rSt95dxZnJ\\u002fW+F\\u002f\\u002fTtNp3CO88M3fj1su6jybZ9cV3VI\\u002f+vy+amP\\u002f79SkSg3mPJ\\u002fW+FdQpjObwz+qOPHLz+iyVfuq8uGZd3vDT8wI87JrISPC6nORE4uVzGjTYnxi2Kgrz79dCnf1r16Z9WAUAsJO59M\\u002fynbx8bd1PIn7597CPfqfjqnxtEQdn5SvCHH27+wdNz9EqT55JbAjd+rQwfV8wy\\u002f2rrQgD44zePvfbvca7vppyISqI73Pdqi\\u002fqEf+cTexGBCtbVg6LQVq7nxYMA0P7obs3LaUYIH+gFAKxTuL4BmwiRc\\u002fTpYIa3+auW2\\u002f1nx\\u002fMc3\\u002fpX423\\u002fV62Xjoai0W+2L7r8U4X6itHo3rA6lnyvs0GIGNd2XKYxkdPARKKdLAjBl++v\\u002f\\u002fxvausWWUsbTOVN5nmrHb\\u002fYNP\\u002f6\\u002fyrRq57ZnDOJ6ECIGPd+xER0pkyOGRZChN1fe3Ytuo876158iYvhiU2PjLwAkyIYimBEOSMpIgJkoh00wZlox2DyeFqMkYiiCFZSBJJg0mL2ModEtM9cNZzsQAilxBhFMNiWIXkAcHIlPbFm1ZAimJQYIxDJkLwgpWmSS4njb3afQiLvIeNGO1kC5dys8+zfvHJve\\u002fPIWlj30ZS7YPwfiD2jODcSQYjgOGc6HaEoDr\\u002f11O1pCAWPIYTS6eyao7EOSdIUbUqnIpBzHjh5cgxYiiKnYoOZRJg1u86WRfd88BayoJJ3+ukPfLXs5X\\u002f0hQdGfueyxDZPlNOyIgpyeihxnCUtAApHWX2mqp5Yc6G1SZIFjrJkpGRPrFmUMwBQaG0gEFVsm81T9oNDr\\u002frNNaKctjAeXMSnpMg2W5IFhjSJcro7dqDcvpCn7OF0byTdP5EBKx8GiZxLDPVmUnHpso8XPnd\\u002fTzImWV304vXOxmW2e28f86ruM5tzI5FAwcJopLOwcJEoZYYGD3q9jQTJFBYu5jjnkSNPiWJ6XB2\\u002ff1402p1OTWh1YiLkGLAAQMwkGZ4J9x8+q0crAPCWsF++vx4U2Pb88L9\\u002fmn1mBUMggia4\\u002fkSrx1TerxxJiCE3X5oUI2kxTiJaUWSa5NSiCBkAkBWZJbmkGI5mBiVZiAvDdrYgJUajmUGWtFgYD36nLU1y2LmiyLiWIphwekK\\u002f\\u002fJ4Pg0TOJTJJ+ccfPXjtHcVf+mO9yUomY9Lx5sT\\u002f+2zLjheDetUzm3MjEUUWed4lKzJN84oiKYpMUVwqFYzFetX30BvriFImEjn1H1eCoAhyQjuzz14KLPUIkJsvszIeLNGtT+VcrsJCY00ECDvPWTvDtJBzxRAhMqf8JDHwmW+95hRFcvrBWaATF\\u002f\\u002f4QC1OXOfUggjSVdhUWHuByT7F1zPOMMN0gX8NkCJZhEiCoMy812EtLfTOw7\\u002fWRxA0S1spkmUZK8vYAp45AIB\\u002f2o8kaIa2AP7FQMaOdSiKM\\u002fOeE26tBCJNnJsgspca6i8P4uYM2sJuA+5ZDG3Rhoeb1kSimthG\\u002fYIhY8850qloHyoaEVIop\\u002fw\\u002fh9yXhARBkQwf6j1E8zYIn9S1zAwznCTF\\u002fsWilJZlQRBTw+FWjrEpoLCM3eus7x3cU+CdJ0kZlrEJYqJ3cA9exCgvOI9jnR197xT5Fh089lSBd1403lNgn4d1rObCeHKwJLBMEBOyLNCUqb33HW1bPQO7fa4GQUzJsmDQlt89iySYYt9CjnWGom2ilB4KtZYVLOdYZ8vxZ3EkRb4FkpRhaLMopRnKhKsCnjnReE8qE9amqeOCKx27NsfMVsJiJ5t3JBweCgBIEs1aan79iRDWIUjkK6KH+0WzjQj2i1gnk5J5MznUJ3AmQpbBX0xb7OSRvUmbkxrqE1iesDrI8JDo9FL9XQL2EA1JTi\\u002fV2ZqmGWRzUomYxFvI0KDoK6L7OjIUjbCtJrr3jNwDFklzBEE7Cxu7Dr2qr5thhtMLgUiK5AYjx92OmoHgwURq2GWvTKVDaSFGELSiyDTF4yLLWM0mHxomUplwNNHnsJbLsgAAkpQJxzpNnDurw3sRIrMmtFmWJfW5ZNyWokiRWLfbUdM\\u002ffCBfW7hIUVwqHYwm+jJC3GYpkuQMblqNBJtgt7gK\\u002f4JhONY5KskxeAropWutPe0Z\\u002fJzj8vX2glLm1ceC2u2fF73PeWRvYuFqZyoub381inVCQ2IiKr32eGjZxbbggIgQKDJc8wmvr5i573+7L9joaN2falhoFtJyf5eAPYSHxKomvrM1jdX6OjPRoChJcGRvQlFGbBOx937rae4BSxLTJM0hRHhK5g22v4uFdbd\\u002ft+f5hyKHdo\\u002fWzcV7dG+RdfvKbriN5M1SItbyq7v01ZPHVFJVsP59rX\\u002f48XTdlIVzuxvzBHyS3ZhID\\u002fcN7nPZK4fCRwAgmQ529+9Uf8uvs2+b9qf9WjteBoDugV0IkAKAW+wZ3K3+r+rgYoF3HoBCU7wgJuBEWwooLGMdCh8xbqt74F1cxP+HYx0w0rSCW8Emfs8s7BZXqZEY0N+VCQ6Ive2ZuSssABDsF0BRGI4orWVJEuF9tkJG9hczkqBYHaQgKFjH5qQsdlIUFDwde+nB4NwVloEeoe1QKpmQkwm5ZXdCFOQla23vvBjBHtIppbiaJSmE1XgLERwQXT7KX8wcO5hSbfUhnuHU3f5dW91cvTQXVR\\u002f\\u002fKjJ4nfMpxt60sPa2\\u002f9ZLp4SppKryo\\u002f+ll54c53A35gv4VHTjfw7Ga\\u002fcEiWC0zvlXONQiPtD+r6IWsYexctBUGcdwOsk9wzoZKKuddWff0nu2k+hoPfrHn+qlp4WzrhsNAn4Pu\\u002fEcwPiVdPg1rVqdN54MqcdYrv1fVwUnPIyVg6bKOIbTidGAhUiyYN21tob5spAZ2vKKLGZX3fjCMu\\u002fKS\\u002fiCEkSQqf7u3hcfSfV3AQCiqIqbb2fdfgBo+K8fY+UDP\\u002fkyKHI+EwNvtZ+9q\\u002felR1yLLuADxUI03P\\u002f605GDuwz082EqqSq7\\u002flOH7v22nM4+SFV0+U0A0PXU3wEAEPKdf5lj1iKSN4nxaHj\\u002fjv43ngEA2uas+OAdJG9SRPHgz78+4i6PvgH5uhHy5GLQjflMDOT5utHAJB\\u002f5erL7uQfyBZy3GwEAwFxa7V21gQ8UK7KcHu7vePD3YiI2hR6eYQYAAM+KdTW3fovzF9NWR\\u002fFVH2788t34WoZxeh2zF9M2B2WyFF72gcoPf0FrxReWNX7lZ7pLAwOTfFW1n72r7o7vWasaSd7sXrqm4Ys\\u002fIk0WA32Vsdcy1Z\\u002f4mnPuMnyMSKr+zu+by7KPSdqbFlV\\u002f6huMy0uyPF9YZi6vHTEDsFY11t\\u002f5fa3EWD8n+boRDHPJ2Y2Q3ySfPF83GphgxnYjGPZkvoAhVzcCAOP0NPzXT7wrL6FtTspis9XNwfIp9PBZx+KKG62cXy81ZHnVRz2WSr108gTsDcurPnpx01cnG8CUmUKyBuT4eKk45ywd2vZ6qq9TiIb6XnkCTuwEywQHQnu3CZGQmIiFdr3N+grAcEcJGJoYVIX2bou2HpCS8aGtrwJBcN4CY\\u002f18hPZusc9ajI8tFXVSKhE\\u002ffgQXCYYBADmTltLJZPfxeFuLapWTyepD\\u002fm6EKeWSzySfHPJ0o7FJPgx6crK4F69OdrcNvPmcEAmKsUjk0B4sn0IPn3VsO\\u002faPaKpPLz0t9Iab327948k8JTZZpjfZvJeEiCBomyMz1I+LQiSoiNl3QlImi2fFOnNZDcFwCCFEkIhA6kswcmJgYlCVHuzN2iuKIggEwxnr5yO0d5t31QbG4c6Ehmz180L7tqm3q8L7tlsqG2o+\\u002fc1oy96hba8ne9pHm+qZrL5BN8KUcslnkk8OebrRwNWJpnJg0JOThfX4E11teunke\\u002fg\\u002fhin28zlG3gELAACQtpsUOfsen+Krb5HTqeP\\u002f\\u002fq0YDZuKystvvl3VyYeBiUGVLOR4XYSBfj7EeDTWesDetGjwnZcs1Y1H779brZKFTMfD93GBYteCleU3f25g03OD77ysMdUzWX0AyNeNMKVc8pnkk0OebgRDk3wY9OSkyXPnaUo9fCZS7Jxb7llOErSsiK39m7pD+wDAa62u9q2ycL7tx\\u002f4RTIzzkJ3DVNRYuIEi2KF4m7qXwsQ4GwsvMTFOBeTjg9vah3fkFDKkaWnVhzuDu4occwhEHel\\u002fHQeQj7EeIE8K5Z6lFMGaGKfTXIoQ2nz49wooK6o+1j68vdg5jya5zuDuw32vQZ5kKZLLqWznC+sL1iGErJw\\u002fIyaODb7dPrT9RHQj5B2wFFkWIkHG7YdjhwCAMlsJhgUARFGm4vLjD\\u002fxWjIYBgHF5dYbZn3tFBED21oKBiUFVTiarrxLcvcV\\u002f4cZkb3uqr0sID+tqU72d3c\\u002f8K3bsUOGG90\\u002fk6zFx\\u002fXzdCOPmMqYbIb9JPrkBUzDB5O3JXAEbkB7q4wMleukJJt7DZyzD8fa+SIsgJc2sZ1nlh\\u002fC3fSB6ZCB65LyaT+i1x4AQmlNyVUvvK73hZoepaEnlhwAAAZpXes2+rqcjyV6a5JZXf+z\\u002ft3fmYVJVZ\\u002f5\\u002f735v7dW1dVf1vm8szSogqwiIuAEqahA16uiMGRNjMkZjjHEcYzTz\\u002fDLxF+NkjE4yKu7EJAMqoiKICyh70wsNvdBbVXdV135v3WX+OE11UXWruhoBWfrz8BR13vN9z\\u002fL2qVP3nnvvqaFIjz\\u002fSk2qMCD4NbRbE8LaW53SMdWbZLYOhjmjMn1wNAKQpdijSrdoFACiwTNl55JW9XX+hCU1MipAEy9FGAiO3tTzHkLqLK\\u002f+h27cvxA+k66yquDrv0jb3dnegNc9U7zTVq85WkGHCAgDf3i8s0+eHO9vEkN8xfwW6SqWIohgKagvLw52HWZvTetHiJC\\u002fBN6DIkqFmcqB5H8FwsYAvg0uGLFXGqo8TbDuUt3S1uWGOb+8XiXZ9eZ3ER3lPL4ZhGldxzDeQmJvKWPWQJowwWl9Sw5jBJZ09AyfhgkgXSdUGZ2Dwy49Lb7vfOmuxb98XoCicsyjU0Srz0ZOI8GkFPdl7Er93p2UsxdaZ6P5VkmAxDB9TIRxloglN71AjAPjCx8K8FwBY2qhj7Q2F18ZlWiZHkMKpxojgA4DeoQMAEOQ9gUifSZPfO3QwrklEtdihSHe6LgwG29GylCCF4y7tgzsBgBeDYd7LUvoQn+kPlyomcEpWJACQZRFLv7aeacLyfL6FMuUU33SPLPCeHZspsxXZu\\u002f\\u002f+Su6l11hmLOQ9Pd0b1xetuTvRS4qGe959wz5ved6S1YLPg27AyeCSIUuVDHrn8jX6slqc5TCcqP7BExIf6f7by6GOVgAARfbt+8Iydd6xv\\u002fwprgcAQqNzLLqK0hsVSYr0dHS982dkz118jaGmgWA4jCCqf\\u002fCEzEe73309ePhgOn0G0oURMvZFNYwZXNLZM5DOJVMYIW0kVRucLowAwA\\u002f0db7xvG3uMtucJYokRd094a4jkP4vckqgcIYmddHYEEmwvBjU0RaKYL2RYyiXwCgCp2UlRuC0KPEETgtSiCE0Zq7QHWpFmzUCAENoRZmnSV0k5mMIbURUOWyhCc3kwpWftj4f4gdoUruw+t5kxZhRAAADTFHkrc3PJP7GoYY2pxppQgMAI598DBLXJZJQLTZDF9D2cEmIEp+QGuXqTaq4qXfzxPyrAlE3gZONPe8l5F6o2OevyFs68h0yzklz7kaSxOk8fW2haYrLUE8TGoum2KIpiucaGHut\\u002fdKynFkFxsnoPbLn6Wtchnq7toLAqDx9jUNXgcpB7+PuiXC0aXHtj0mCAYAy+9yl9Q8m7jYzp+IOsybt6TACw\\u002fD5VffkGmsAwMDlLqn7iVVXigE2p\\u002fyOUttspNGzdhwjVI00oVla\\u002f2BhzlQA0DHWS2rvZynD8bJhXtU\\u002fJd5qoFpCui4UW2fWuS6P+wIASbBL6x+MJ2eV3WbRlcSTSZ1NJy60TKvJWxK3pyPTEdb5AUaQGEFweYXmhllH\\u002fvSb5OxxsuY8iCRD6nS0JSoGKIKTFSkc8yZOWGYuX5JjkZifl4LoPQBoaYuOtvYEGq3akv5QLCQM2LXlQWFAR1v6gk12bXkfqGwiGhF8nYO75pTfKcn8Me\\u002fesOBF9gn5V+gYm4bOqc9fIYihQz2bhyLdJ7oOoyjyns4Nda7LKh0LB0JHPcFWAFBA+arj9eq8S+dX3YNhRIj3fNX+mqxIqUYAkGSRIti5lXdhQDR2b0ILWJMKrtEwOSypn1x4DS+GGrvfDUT7VYtN14Xsyb6zCJd5ot1QhWF4RPB+3fGmIIaSFRcCutLqmh\\u002f+quIff2asnZKcN85YOJ8iiU7uEt9kxqIp1jPHL3EkuGTpfuZBR1jJ1rMVs7bworJbcIxAyVrnsmLrzBMl3yoEw02659+TrWeEyuvu0xdWJ1vPCGVX381ZXUnG3JnLam99pGbdw+bKkVlAVZmObMSm8kmV19038R+fSlVm4z4mVOtSNSJOeQPGgXNtwnIYqmeUfAedcpIEM7P0ZnQu\\u002fO3A2VzGsomJlvN7wkrtbzoonWnCnU8QDAcAiXfAnyZq1j38TaaG7PsFaepSNY5zOji3JiwMw+tcy+dW3n1xxZ1zKu4stc1JVhznTKxhGUvqpTT3Lp554jfgnT6y7y+tN8fCfomPAIDqTlJnFdn3a5xvHUEKv7s\\u002f+fnNsxZFkQ8cy+oR95OZsEhWW37tvYMHPsupmYERZO\\u002fnG71NuwzFtY7pl7a8PrwW65q\\u002fSooEBw5+XrDoOk1usSKJltqZAND08q\\u002fQrRyKLNkaFlpqZxIMN3jw857P\\u002fhcAOHu+a+5KWm+S+EjPjr\\u002f7jx4kGK7y+h969n5iqZuVqMRpJm\\u002fW5YaiWowgZSHa8sZvJD6S6o4ao80tzl94LU4xwa6R3wFijFbX\\u002fFWMyabIkmfPVs++7cieSk7tTPuURThJKZLU+8W73qadAGBrWEjQDG206lxlAFjzK0+J0RClM6n211Bc65ixlLPkHd7wbKjnCADgNFNy+XdpfQ6lNVbf9AAAHN7wbCw0lKpE4tTOAoCqWLW1qqS6p4t2un5lH0NVUhuA0DgKnXOvxjCMs+aL0WD\\u002frg88e7el1pWutenClVpCvMZxksAIXJHGcNdYlmAkDgoABqDA6ShfHZLVTrrn33NqZwIAm+OYcOcTtN4MgFXf9ABnzwcAjCDrbn+M1puRvmDxDbaGhYkloFNCx\\u002fRLAYDSGurv\\u002fDfGbMcppvbWn+sLqwCAMVrrbnuUMdlUlQCQv\\u002fC6oqU34yQNAKgiVXcAwDC8Zt3DpvLJAKDNLZ70T7\\u002fWF1YDhlWu+SFqLcFwNese1jhGrhYlwRitJKsFANbsqL\\u002fjcWS0NSysu\\u002f0xdIKDcuOk9hdRdeOPtXkjl3sBQJtXgmarJJKUqZ1NJEms2lqE6hlZonu6aCOS+5Uxhqp1qRpTw1K++p8NxbUAYK6aWnrlnQDqdaVrrXq41EoYzjpFYETa2x3PGKgN2bQEI\\u002fEMMueyGsaqIzgKZ0gMx3CK4Bx6UsdoC80AQGpoxqrFKYKx6lAWAKhqdMU5pnonUgIAY9XlLa5CrwCAxDhFaArMOEUgGXLEcEzjNAIGcV\\u002fEyRxhIXzNXwFAdLAv4jmmyS0SAl73nq3W+jmdW141ltZH+jqEwCjXQT17PgGAWMgvDHkorZHSGGQhGuhoAgB+yBPobNYXVXsP7UxV8t5+Q3Htkb\\u002f+pywKAIAq0tgLUt15n5symElO62vdDQCh3qP8kAcAaH0OZ3GWXP7d420BxmQL97XHk4kwZrutYQGGYYoCBMNhOK7IMgAEu1oinmMAIEZP7\\u002fXX1M5mIF1rsyc12skKABhjDMcETtKKJAKALIkYTkCaunhfP6i1VjVcqiWcdGtJLU1wtBQWJEHEMEzjMpI6VpNvHNjZwXtCOENSOkaKxAgNJUViBEfzniDBkpSBE4YilI7hB0I4RbC5Bt4doAxczB8hOFrwhmmzJl6F4A3jFEEZOTEYpQxc1B1AixkESxIcHdegpMyLhIbiPSHH\\u002fHL3p22OBRUDOzvEII+KRVXH\\u002fFGMwBRJAVAIjsYIPGeyq2dzU7zGRBiLzja7RIrEhMFw8IjHPDlfFqTBrzoNlfZQh7dw1eTYUIQyclyuYWBXhyxIkb6AfW5ZqibcPaTISvGaqVyuoel3W3lPUJEV9AoAICuGSruxNpfSsx1v7Sm5cRqXa4j0+mNDEVlS\\u002fE19oEDcVwwJ8E0mLIjvfIRhKJTeQ186pi0mGC6nZsbA\\u002fh0JUnUkYXgfOFAAw7AMDy4kKQGQPlECGW7kPQHkhoEiS40vPpahUgTJaosvu6Vp\\u002fdO8t5\\u002fkdHXf\\u002fUU8SxYS79Y9jah1Vp0Mrc2e1Girk3UMx0r3tr8ULV0bHejBCPLY1rcB1OsiGA7UWqseLrUSTpr8KyeIIUEWRDHAD+zqYKw6RVZYm94+u7Rnc5NzaY0YibE2XWwoQmhpMST0vHfIuaTa3+K2zykVIzHPZ0esFxVTelbmRX+LmzKw+SvqG\\u002f\\u002ffh4555ZzTGOke4pzGnvcabbNLuVyDv6nP3+KO9gdQ1Zp8c\\u002f6K+uCRAaQBDMtfUc8PhGJDkZ7NTQRH5S6qYixa++xS38FeVKxzSY2\\u002fxe1YUKHEpGD7YMwfRfbMO3NQOkYWJPNkV\\u002fCIJ9Thtc8pDbUPaotyMBKP9PqFwTAjiME2T6QvYJ9T2r\\u002ftsKom3O3LmVIYdQeCbR4pEtMWmnUlFvSKEThj0WqLckIdXlmUFVlGMkJDC4NhxqLh8gzBNk\\u002fcF7Xq5CesnKppnn3b2RwHZ3GibypZjA0e2mmdOJe15PmPHogrZT5KG5JPZFIJ93fiNKMvrA50HGKMVn1BZd\\u002fO95NFx\\u002fG3H7JPXdT5wXpFEimtUYyG0rnHAl4pGjaVT\\u002fa17ubs+bTJCgCCf5D3uW1TFvbv+gAAOKsz6u1H3+pJ4DSjKIoY8gOAZULaixeJZNnf7EntrGpT4aRamz1J\\u002fco+hmOFzXH4Wr4+tnVD\\u002fEtIta5El0RUw6Vawkm3FicJSse4P+22zizq394WPubLmVKIPqIES8qSTBlYlDTW5lI6RpFkMRIbauzVV9goAyvHZEVSZHHYWLhyksSLAMAPhEBR+MEwKArOkPEP8FDj8Q2CAMwTnRIvIiXOkMZqh8SL8aoVUQZFQUmkBABUi\\u002fWi4thQJNDqzltcJfFifNZQXUs68tKXaK8h9MoPhoNtHkVWWp\\u002ffAQA97x9CMpQbbPMAQKDVrarp3nggXk6ow4ty0Wuo09v6\\u002fA7n0hpQFErPdm9qTNzgCL1PNqL\\u002fxgTJamtu+Vn\\u002frs3mqmkYTqBF9+Esjb76xn8ZOLCjZ8ff43rGbC9aejPJasRoqHn9rwGAYLj6Ox7f88x9SFB53X09O\\u002f4W6GzmbC7XvJW03iwJ0d7PNg617UunJGjWefGVuoIqDCekaKj17f8vRcOp7shLm1eSv\\u002fBanKQDnc2URu\\u002fZtz3QcYg2WFxzr+ZsLgwnot6+I3\\u002f7r3TbsDjnXGmqmCzFeG\\u002fjl5a6WYdeekKRZVvDQtZs79zyarJarb8Fi2\\u002fgLHlsTm4sOBQL+7u3vYOmeG1eScGi6w+99Mu4r6pStbPpxKqtLVq2jjFaWUuu4B8UI8Guj96MDnSnuvO+ftVoo2Rqv1RjqFqXqjG1ASgs1olz82Ytl4QohuH80MDRjS+I4UBqXRhOqLY2XbhSS0j3Fx+V3Euq+j5szplSgD7JcPzTFRfEk0iZmuVcWkNwVO+W5pg\\u002fihahVVHZoSxJnN43bVY6+\\u002fkKWnRPtgIAAEGzE+56kjZakjPGGQuk2oEvSarbzzO0zrKKa+\\u002fFiOGbnvMXrFa9gjHOhUnaywQnBWZrWBDobBKGMu0sMU4iFZXktOk0TWO5uQQAEAQUFRFXX8M5HDgA6HSYw4GzLGa341YrsWIFCwAoSVFYaSlJ05hOh5Ek0DQGADr9cDkchzmdBFICABIjI4YBx2FWG574DwAMBrysnEQ1xl1QsWcSktMqkoiWGgmaZS15sdGuM4xz4XDKvrJNlVNcc68W\\u002fINHN76YnDdOenJzcVmGu+7W5ucTv\\u002fiF\\u002f4oV7N69Yl4ecekSdsPbkVtv03q9MklCKKRs+YBHJwdrbuBCIUVRwGTCX3whtOwyzu+XP9kqAMDatRq\\u002fX3n7rcjKVdz+fbElSxnkuHARYzLh0aiyf1+su1sqLSVvuJFrahKLioj2dqmoiHjrzUhHhzShnly+nPV65Q1vR5ZdxqLykxp8uvEf2a8vrK666QFFlkABX\\u002fMudIV3nHHg5CYsMRqKLxzE8TV\\u002fhW50GGdMHD0qXTyH7u6WDh2KhUMKL0BBAXGsS+p3SxyHoTdFRaTJhJvMeGUlSZIQi4HJhHvcciymSBLs3RNbsJB5710eACgKMxohFoNwSNm9O1ZXT5lMuCAokgixmIKMADBjBhWJKP39sqKA2y0rCrAs5nAQ5RVk2+HhqpGLJCU3+HSjyHLXh68lW8cZZ5yzBHR\\u002fSPwukeOrNyeQ9OtZOA6rVnM3r9OYzfjceXR19fAXz1VXs6lKgBExMma4VyFOkss444xz\\u002flD15E1lD61Mto4zRsoeWll495Jk67nDOToMav\\u002fjVsfV05OtZyXj359jgzRwXLEt2TrOqQLDFPGMn4WOnfFhkJnTF5\\u002fTOGFhBJHhYaVzFMvCevuKqcnWcU4Rh\\u002f\\u002f1zc4\\u002ffJBsPfs4z4bBwX9+oW\\u002fDl8nWb8Dpi8+pmVAwhiKMOpxlCLNhJGnUai+aAAA4y2AEQbnsbGURrmEppw0AAMcpRw5GkaTVdEJZZzeGKSXJpnEuPMaHQWZOX3xO5iphKlSuVb9ouuT1S8FwaNse0pGjXzR94IV30E26mhl1ciiiCDFQFJAVpsQZ63br50\\u002fh245pptUqMVH0+JJLPG1UP73W93kLTpG2y6cQWiaw+2j7bzcJAwEA4Aqtdb+\\u002fo+Xnrw990RrXVzx6HaFlDt3\\u002f57KfrtLXF5AGDgBsyxtQ7q4rnow\\u002f2aCIUt6a2bbLp5A6NnLU3flfHwQPdKEsQ0OJ6+Z5XIldjgjebYe6\\u002fvihFBm+x7rqyZv8Xx8BWbGtmErqkx0ztBYAGl6\\u002f7\\u002fDjb9E2Q96a2bTNIPT7m3+6nu\\u002f1odwMlRqnl7nWzmMLrTg9PAACe9ubHngZvc9QLGnS5F07yzi9jLYbpWA0sL+z8w+bYwNB49RS59p5gx8ecK2b7\\u002fuspWf99vKfX4sReNsvNwQbj2XORZVOeP4uJs8MAINbG9t+uQEZYbT4wGh9SUeGwF4gwwCjiClv3R8\\u002fB\\u002fJubzr8+FvoPYIrsRd8d5GuLl8RZd8XrZ3PvS\\u002f6I\\u002fFcnKGcN15snltNW\\u002fVSRIi2e9qeekdw+0eNj35Skes787hiG4ZjfP+Q5\\u002f19fW99Hi92VE7NhMVWFyu8IHp8ki+AsTRKUk4bnW8PE7jQ1sVNqgx9cYCrLxMHhiinDSMIRZRIuznW7dZMrQnvHN646syQu\\u002fqiwN6OI0+9Q2iZgjsuKXvomsb7\\u002fgQAkQ5P8GCXbemk+EglDZyhoaTj9+8BQOdz72M4VvGva8ItPcf++2MkSHwOyzitjMk1tf92k8zHXGvnlT+8et9tz0phXj+pqOKx6wfe39v1woekUZO\\u002fbkHFo7amB16KP3LhuHoG3+NtfybZEeWmay3CfuU0nCE7ntsshXl9bT7fN4TsGSplXTnlD6\\u002fqfmmb+6frNWW55Y+s7nl5W89rJzysnq5YmRcpq77ntR38MS\\u002fjNBfetZhgL2v5+esAwBXbaLuh\\u002fZlNJfdfwebndPzuPcfKGc4bL25++NVRcwFg3+2\\u002fJ7Rs5eNrjjdhhAzxyaYv6UgX2AtkGCgxadcVT+I0iWvoip+tjheFYHJN1U99J7Cvo\\u002fXRN3CWyr9tYflPVx368f+gXAzHKh67XlNi6355e6i5m9Cy+roCwROA0eJDmbUVj17n2bS7649bMJrUludKgZFJMBtOzYTlf++zxA0z40nv65sBgDAbIntbRLc38NEuUBRkDH7yNeA4yLLQMfJg5xlCVtp+9RclJgGAHI1VPHa9rjY\\u002feLALANwbdxd\\u002ffzll0sZ8IQAwz60BRRn8uBEABLcfABRRlsJCfEAkglFEyyOvoW+hjsB7tc\\u002fcpqnIDexpd62dFzrYdfQ3\\u002f4tk0c6But\\u002fdbppd5d02\\u002fHQozlKqjsPlpm8tALAFlgN3\\u002fQENiOD+zmEXgAyVGqeVyTGp57VPQQH\\u002f10f8u9p09QVw4oc8XbFyRGh7YgN6H2zsYl059iuHlypwmux96\\u002fPYQNC1bn6oqXto52HaYcxdNTObXAAABaRgFHUziQzxyaYvaUkf2AthGCCLLIiyIMopYc+7frYUEQ7\\u002f29uoRtEfqX56raGh2P\\u002f1UQAwzqzQ1xe0PPLa0JeHkT4+uWeOD5NnxmnSvWl35KgbAEZ6lzWnZg0reXvfE5ORfa1CZ1+qffjHzVW2Ajm9hNv64h+MwL4OANCUDm9T5\\u002f2kUY4IlkvqUdKyoM73eYsUOr6BSUbCLb3xY2a+fwgAKLMOIwlttWto5\\u002fDfFQAiR92CJ2CYXBy3qDqO5KZvLQD4d7alPm2fuVKcoxRRij\\u002f+qohy6qOwqsWmwvf6CA0TP62IDYYAQAxEebcfAOSIgDNUXJw5NwMZ4pNNX9KRIbAXwjDIjH5iYWBPe7zGUEsPKKApy43nSiE+PltlT6ilJ3pssPLxG3Kvm0XljPQue07NEda5hRgcGXnoG4Y0Dm8ZKgviwJb91iWTet\\u002f8nLYZdLX5rb94Iy7OTGwoPJJQAAAwHCM0NIZj4onHvaI\\u002fjE7yEaqOcUOG1gJAzJ\\u002fge5zMlQ7tbHOtnWdb3uB5f6+mxG6YVtr1\\u002fJZEJaQpFgAwArctbzDPrWFyTaSBw6mRm1wVWYl\\u002f9yiCeNwhq9zMZIhPNn1JR4bAXgjDIDOkgbMsqrcsGp6yEfEphtRzscFgYlaWKDGp8d4XHStnOK6e7lo7b\\u002fDjg53\\u002fuTlxaWxULsQJi9Qw8fc4TeI0GfOORN+9abf9ymnaape+vkD0hxO\\u002foEZB7VBRCvOKJJOGkZ0kAYA0aEKHukfSao5xMrdWlcyVhlt7O57bXHTPssK7LhU8gd5XP3Vv\\u002fDpRmYGCf1hsWVjX8ez7gf2dMW\\u002fQunhC0fcuSxadctLH55v0JXNgz\\u002fthkBkxEB366kjvqztOMB6fUqUwT5lHpssxIYX57v\\u002f5pGf99px5tfm3Lyr7yTVNP3k5WZSeC3HC0lTkYRSBDnf1E4sAIHJkZDe4yFF36NCxnPk1umrX4EcHk4605aiAs1mdyCAUUQ4e6DROL+t59VNk4YpttFUf2Jvt2Xvm1qoyaqXWxROOvfhRlovTiZhmVgx+dHBgy36U1JQ6Tsz\\u002fFjjpvmQO7IUwDDIQ2NOurXKGj\\u002fSrTqPBfZ32FVMNk4v9u48m5wFAFvFRRHlgy37SwLluWZCcl5FTtIZ1ToFTRPlDKw0NxebZlUXfWxY82BW\\u002fuI5wb9xtuqhSW5nn+WBfoh0AQk3dppnl5tmV2oo8Q0NxUq4qx\\u002f57q7bSWXzvcv3EQvPF1eU\\u002fXRVq7vFub0rWpWHU1qqSoVKcJrlSh+D2Z3lGlgjf7dVPKtJWu7gSe971s01zqpIVJwtG4qSBwygCp0nSwGFkViPzm\\u002fRl1MCe38MgMz3rt1MWXfnDq4zTynQ1rpx5NSX3XxE\\u002fl\\u002fTuaAo195Q+cLV9xRRdTb5xaqnrlgWJa1Lp4mOaVZl\\u002f20LTzAptldM8u9K6bDJaj8ueC\\u002fEIy7u9SXD7S390Fa6h\\u002fV8faX9mU5JgcGtjwZ2LI50D4dbkK5jdL20jzdri718OGBbtGkAXTTITbOxqfugV1y0LKh9bI0UE347mzue3pC6RpmPU1qqSoVI5Jg192VryoytLfnQlAIj+iP+rI+3PbIpfQc9A+283FX1vWdUTNyii5PuspfknL9c9e0eyaOw4rplRcMclw4kKmLz++wDQ\\u002fh8b3Zt2j4jU+CZ9GTWw5\\u002fcwyAzfN3ToB39yrZtf+uMrcYYSBgL+3UdlfnjxURHl5gdfca2dl3vtLCpHJ4X4cEtP4jNV6eITGwxqq5zWJZMIDRPzhYZ2Hj724kdxr5NBo3cYLMUkxXF6OwBQjJ5i9DhO0qwxrsFxktGYkRIAcIKiGH08iXyTNMiIYTirtQBgKDde4Jmk+um1pf9yVbL1RDCSaHj9B7nXzUrOOONk09qxgUHl42vKH1mtqy\\u002fQlDo05bnGGeUT\\u002f3xP\\u002fq0Lk5VnP9+gL9kE9nweBidS9eRNZQ9ek2w9K0k+wqI5IyiKosg6oysS6Lc661mtRYxFWY25bd9fJTEKABZnvSyJkiSg81tOZ8stnjnQcwAlka\\u002fO6EzUIKMxpyTg6wRQUAl82Hti5WeK0XZXMV9cjTPUwPt7kzO+FUZr7ZhgXRZDQ8nBe\\u002f4YbuuLG6OdA7RNn6A6N\\u002fimfRktsOfxMEiCMmnRjVFnP8krBdGgh9Xk0KxBo7djOCFEA5HQAB\\u002fxDfYelKThw+xwoF9rzENKADBaSmQpFk8i3yQNMsqyyGpyAMNQbkK1ZwWEhkGn1gW3L+r\\u002f+1cxbyhZce4juP1SRMhdPVNbkcc6c3S1+QV3XGKYVJzNusbZxmnqy4UwDAAgZ0Gdri5fV+MquOMSNt\\u002fi\\u002ffQbBe2MoTZtY5jKpYEkI0oOG7Hj941k0MRt+PAPw6nWcvqpfnqt4AkkPq0WR1PqqHryJgDFu62p49n35PjtQt8eGVp70uhqXM7vzNOUOQgdK4Wikbb+\\u002fr\\u002fu9H7anKw7FzjpvmQI7AUyDKp\\u002ffbOmxA44Fu0a7H19x+DHB5MV44wzzjjjjDPOOONcEPwfSL8HgUOMkkwAAAAASUVORK5CYII=\",\"type\":\"image\",\"xaxis\":\"x\",\"yaxis\":\"y\",\"hovertemplate\":\"x: %{x}\\u003cbr\\u003ey: %{y}\\u003cbr\\u003ecolor: [%{z[0]}, %{z[1]}, %{z[2]}]\\u003cextra\\u003e\\u003c\\u002fextra\\u003e\"}],                        {\"template\":{\"data\":{\"histogram2dcontour\":[{\"type\":\"histogram2dcontour\",\"colorbar\":{\"outlinewidth\":0,\"ticks\":\"\"},\"colorscale\":[[0.0,\"#0d0887\"],[0.1111111111111111,\"#46039f\"],[0.2222222222222222,\"#7201a8\"],[0.3333333333333333,\"#9c179e\"],[0.4444444444444444,\"#bd3786\"],[0.5555555555555556,\"#d8576b\"],[0.6666666666666666,\"#ed7953\"],[0.7777777777777778,\"#fb9f3a\"],[0.8888888888888888,\"#fdca26\"],[1.0,\"#f0f921\"]]}],\"choropleth\":[{\"type\":\"choropleth\",\"colorbar\":{\"outlinewidth\":0,\"ticks\":\"\"}}],\"histogram2d\":[{\"type\":\"histogram2d\",\"colorbar\":{\"outlinewidth\":0,\"ticks\":\"\"},\"colorscale\":[[0.0,\"#0d0887\"],[0.1111111111111111,\"#46039f\"],[0.2222222222222222,\"#7201a8\"],[0.3333333333333333,\"#9c179e\"],[0.4444444444444444,\"#bd3786\"],[0.5555555555555556,\"#d8576b\"],[0.6666666666666666,\"#ed7953\"],[0.7777777777777778,\"#fb9f3a\"],[0.8888888888888888,\"#fdca26\"],[1.0,\"#f0f921\"]]}],\"heatmap\":[{\"type\":\"heatmap\",\"colorbar\":{\"outlinewidth\":0,\"ticks\":\"\"},\"colorscale\":[[0.0,\"#0d0887\"],[0.1111111111111111,\"#46039f\"],[0.2222222222222222,\"#7201a8\"],[0.3333333333333333,\"#9c179e\"],[0.4444444444444444,\"#bd3786\"],[0.5555555555555556,\"#d8576b\"],[0.6666666666666666,\"#ed7953\"],[0.7777777777777778,\"#fb9f3a\"],[0.8888888888888888,\"#fdca26\"],[1.0,\"#f0f921\"]]}],\"heatmapgl\":[{\"type\":\"heatmapgl\",\"colorbar\":{\"outlinewidth\":0,\"ticks\":\"\"},\"colorscale\":[[0.0,\"#0d0887\"],[0.1111111111111111,\"#46039f\"],[0.2222222222222222,\"#7201a8\"],[0.3333333333333333,\"#9c179e\"],[0.4444444444444444,\"#bd3786\"],[0.5555555555555556,\"#d8576b\"],[0.6666666666666666,\"#ed7953\"],[0.7777777777777778,\"#fb9f3a\"],[0.8888888888888888,\"#fdca26\"],[1.0,\"#f0f921\"]]}],\"contourcarpet\":[{\"type\":\"contourcarpet\",\"colorbar\":{\"outlinewidth\":0,\"ticks\":\"\"}}],\"contour\":[{\"type\":\"contour\",\"colorbar\":{\"outlinewidth\":0,\"ticks\":\"\"},\"colorscale\":[[0.0,\"#0d0887\"],[0.1111111111111111,\"#46039f\"],[0.2222222222222222,\"#7201a8\"],[0.3333333333333333,\"#9c179e\"],[0.4444444444444444,\"#bd3786\"],[0.5555555555555556,\"#d8576b\"],[0.6666666666666666,\"#ed7953\"],[0.7777777777777778,\"#fb9f3a\"],[0.8888888888888888,\"#fdca26\"],[1.0,\"#f0f921\"]]}],\"surface\":[{\"type\":\"surface\",\"colorbar\":{\"outlinewidth\":0,\"ticks\":\"\"},\"colorscale\":[[0.0,\"#0d0887\"],[0.1111111111111111,\"#46039f\"],[0.2222222222222222,\"#7201a8\"],[0.3333333333333333,\"#9c179e\"],[0.4444444444444444,\"#bd3786\"],[0.5555555555555556,\"#d8576b\"],[0.6666666666666666,\"#ed7953\"],[0.7777777777777778,\"#fb9f3a\"],[0.8888888888888888,\"#fdca26\"],[1.0,\"#f0f921\"]]}],\"mesh3d\":[{\"type\":\"mesh3d\",\"colorbar\":{\"outlinewidth\":0,\"ticks\":\"\"}}],\"scatter\":[{\"fillpattern\":{\"fillmode\":\"overlay\",\"size\":10,\"solidity\":0.2},\"type\":\"scatter\"}],\"parcoords\":[{\"type\":\"parcoords\",\"line\":{\"colorbar\":{\"outlinewidth\":0,\"ticks\":\"\"}}}],\"scatterpolargl\":[{\"type\":\"scatterpolargl\",\"marker\":{\"colorbar\":{\"outlinewidth\":0,\"ticks\":\"\"}}}],\"bar\":[{\"error_x\":{\"color\":\"#2a3f5f\"},\"error_y\":{\"color\":\"#2a3f5f\"},\"marker\":{\"line\":{\"color\":\"white\",\"width\":0.5},\"pattern\":{\"fillmode\":\"overlay\",\"size\":10,\"solidity\":0.2}},\"type\":\"bar\"}],\"scattergeo\":[{\"type\":\"scattergeo\",\"marker\":{\"colorbar\":{\"outlinewidth\":0,\"ticks\":\"\"}}}],\"scatterpolar\":[{\"type\":\"scatterpolar\",\"marker\":{\"colorbar\":{\"outlinewidth\":0,\"ticks\":\"\"}}}],\"histogram\":[{\"marker\":{\"pattern\":{\"fillmode\":\"overlay\",\"size\":10,\"solidity\":0.2}},\"type\":\"histogram\"}],\"scattergl\":[{\"type\":\"scattergl\",\"marker\":{\"colorbar\":{\"outlinewidth\":0,\"ticks\":\"\"}}}],\"scatter3d\":[{\"type\":\"scatter3d\",\"line\":{\"colorbar\":{\"outlinewidth\":0,\"ticks\":\"\"}},\"marker\":{\"colorbar\":{\"outlinewidth\":0,\"ticks\":\"\"}}}],\"scattermapbox\":[{\"type\":\"scattermapbox\",\"marker\":{\"colorbar\":{\"outlinewidth\":0,\"ticks\":\"\"}}}],\"scatterternary\":[{\"type\":\"scatterternary\",\"marker\":{\"colorbar\":{\"outlinewidth\":0,\"ticks\":\"\"}}}],\"scattercarpet\":[{\"type\":\"scattercarpet\",\"marker\":{\"colorbar\":{\"outlinewidth\":0,\"ticks\":\"\"}}}],\"carpet\":[{\"aaxis\":{\"endlinecolor\":\"#2a3f5f\",\"gridcolor\":\"#C8D4E3\",\"linecolor\":\"#C8D4E3\",\"minorgridcolor\":\"#C8D4E3\",\"startlinecolor\":\"#2a3f5f\"},\"baxis\":{\"endlinecolor\":\"#2a3f5f\",\"gridcolor\":\"#C8D4E3\",\"linecolor\":\"#C8D4E3\",\"minorgridcolor\":\"#C8D4E3\",\"startlinecolor\":\"#2a3f5f\"},\"type\":\"carpet\"}],\"table\":[{\"cells\":{\"fill\":{\"color\":\"#EBF0F8\"},\"line\":{\"color\":\"white\"}},\"header\":{\"fill\":{\"color\":\"#C8D4E3\"},\"line\":{\"color\":\"white\"}},\"type\":\"table\"}],\"barpolar\":[{\"marker\":{\"line\":{\"color\":\"white\",\"width\":0.5},\"pattern\":{\"fillmode\":\"overlay\",\"size\":10,\"solidity\":0.2}},\"type\":\"barpolar\"}],\"pie\":[{\"automargin\":true,\"type\":\"pie\"}]},\"layout\":{\"autotypenumbers\":\"strict\",\"colorway\":[\"#636efa\",\"#EF553B\",\"#00cc96\",\"#ab63fa\",\"#FFA15A\",\"#19d3f3\",\"#FF6692\",\"#B6E880\",\"#FF97FF\",\"#FECB52\"],\"font\":{\"color\":\"#2a3f5f\"},\"hovermode\":\"closest\",\"hoverlabel\":{\"align\":\"left\"},\"paper_bgcolor\":\"white\",\"plot_bgcolor\":\"white\",\"polar\":{\"bgcolor\":\"white\",\"angularaxis\":{\"gridcolor\":\"#EBF0F8\",\"linecolor\":\"#EBF0F8\",\"ticks\":\"\"},\"radialaxis\":{\"gridcolor\":\"#EBF0F8\",\"linecolor\":\"#EBF0F8\",\"ticks\":\"\"}},\"ternary\":{\"bgcolor\":\"white\",\"aaxis\":{\"gridcolor\":\"#DFE8F3\",\"linecolor\":\"#A2B1C6\",\"ticks\":\"\"},\"baxis\":{\"gridcolor\":\"#DFE8F3\",\"linecolor\":\"#A2B1C6\",\"ticks\":\"\"},\"caxis\":{\"gridcolor\":\"#DFE8F3\",\"linecolor\":\"#A2B1C6\",\"ticks\":\"\"}},\"coloraxis\":{\"colorbar\":{\"outlinewidth\":0,\"ticks\":\"\"}},\"colorscale\":{\"sequential\":[[0.0,\"#0d0887\"],[0.1111111111111111,\"#46039f\"],[0.2222222222222222,\"#7201a8\"],[0.3333333333333333,\"#9c179e\"],[0.4444444444444444,\"#bd3786\"],[0.5555555555555556,\"#d8576b\"],[0.6666666666666666,\"#ed7953\"],[0.7777777777777778,\"#fb9f3a\"],[0.8888888888888888,\"#fdca26\"],[1.0,\"#f0f921\"]],\"sequentialminus\":[[0.0,\"#0d0887\"],[0.1111111111111111,\"#46039f\"],[0.2222222222222222,\"#7201a8\"],[0.3333333333333333,\"#9c179e\"],[0.4444444444444444,\"#bd3786\"],[0.5555555555555556,\"#d8576b\"],[0.6666666666666666,\"#ed7953\"],[0.7777777777777778,\"#fb9f3a\"],[0.8888888888888888,\"#fdca26\"],[1.0,\"#f0f921\"]],\"diverging\":[[0,\"#8e0152\"],[0.1,\"#c51b7d\"],[0.2,\"#de77ae\"],[0.3,\"#f1b6da\"],[0.4,\"#fde0ef\"],[0.5,\"#f7f7f7\"],[0.6,\"#e6f5d0\"],[0.7,\"#b8e186\"],[0.8,\"#7fbc41\"],[0.9,\"#4d9221\"],[1,\"#276419\"]]},\"xaxis\":{\"gridcolor\":\"#EBF0F8\",\"linecolor\":\"#EBF0F8\",\"ticks\":\"\",\"title\":{\"standoff\":15},\"zerolinecolor\":\"#EBF0F8\",\"automargin\":true,\"zerolinewidth\":2},\"yaxis\":{\"gridcolor\":\"#EBF0F8\",\"linecolor\":\"#EBF0F8\",\"ticks\":\"\",\"title\":{\"standoff\":15},\"zerolinecolor\":\"#EBF0F8\",\"automargin\":true,\"zerolinewidth\":2},\"scene\":{\"xaxis\":{\"backgroundcolor\":\"white\",\"gridcolor\":\"#DFE8F3\",\"linecolor\":\"#EBF0F8\",\"showbackground\":true,\"ticks\":\"\",\"zerolinecolor\":\"#EBF0F8\",\"gridwidth\":2},\"yaxis\":{\"backgroundcolor\":\"white\",\"gridcolor\":\"#DFE8F3\",\"linecolor\":\"#EBF0F8\",\"showbackground\":true,\"ticks\":\"\",\"zerolinecolor\":\"#EBF0F8\",\"gridwidth\":2},\"zaxis\":{\"backgroundcolor\":\"white\",\"gridcolor\":\"#DFE8F3\",\"linecolor\":\"#EBF0F8\",\"showbackground\":true,\"ticks\":\"\",\"zerolinecolor\":\"#EBF0F8\",\"gridwidth\":2}},\"shapedefaults\":{\"line\":{\"color\":\"#2a3f5f\"}},\"annotationdefaults\":{\"arrowcolor\":\"#2a3f5f\",\"arrowhead\":0,\"arrowwidth\":1},\"geo\":{\"bgcolor\":\"white\",\"landcolor\":\"white\",\"subunitcolor\":\"#C8D4E3\",\"showland\":true,\"showlakes\":true,\"lakecolor\":\"white\"},\"title\":{\"x\":0.05},\"mapbox\":{\"style\":\"light\"}}},\"xaxis\":{\"anchor\":\"y\",\"domain\":[0.0,1.0]},\"yaxis\":{\"anchor\":\"x\",\"domain\":[0.0,1.0]},\"title\":{\"text\":\"Hashtags Word Cloud\"}},                        {\"responsive\": true}                    ).then(function(){\n",
              "                            \n",
              "var gd = document.getElementById('977a1e70-b632-4cce-8fa0-63fa44e13ddd');\n",
              "var x = new MutationObserver(function (mutations, observer) {{\n",
              "        var display = window.getComputedStyle(gd).display;\n",
              "        if (!display || display === 'none') {{\n",
              "            console.log([gd, 'removed!']);\n",
              "            Plotly.purge(gd);\n",
              "            observer.disconnect();\n",
              "        }}\n",
              "}});\n",
              "\n",
              "// Listen for the removal of the full notebook cells\n",
              "var notebookContainer = gd.closest('#notebook-container');\n",
              "if (notebookContainer) {{\n",
              "    x.observe(notebookContainer, {childList: true});\n",
              "}}\n",
              "\n",
              "// Listen for the clearing of the current output cell\n",
              "var outputEl = gd.closest('.output');\n",
              "if (outputEl) {{\n",
              "    x.observe(outputEl, {childList: true});\n",
              "}}\n",
              "\n",
              "                        })                };                            </script>        </div>\n",
              "</body>\n",
              "</html>"
            ]
          },
          "metadata": {}
        }
      ]
    },
    {
      "cell_type": "markdown",
      "source": [
        "**Q.11: Have a look at the correlation between all the features as shown below**"
      ],
      "metadata": {
        "id": "ObaQYAxPNcdq"
      }
    },
    {
      "cell_type": "code",
      "source": [
        "corr_matrix = df.corr()\n",
        "\n",
        "fig = go.Figure(data=go.Heatmap(z=corr_matrix.values,\n",
        "                               x=corr_matrix.columns,\n",
        "                               y=corr_matrix.index,\n",
        "                               colorscale='RdBu',\n",
        "                               zmin=-1,\n",
        "                               zmax=1))\n",
        "\n",
        "fig.update_layout(title='Correlation Matrix',\n",
        "                  xaxis_title='Features',\n",
        "                  yaxis_title='Features')\n",
        "\n",
        "fig.show()"
      ],
      "metadata": {
        "colab": {
          "base_uri": "https://localhost:8080/",
          "height": 631
        },
        "id": "nY8nneeqKfWd",
        "outputId": "b862e8d9-a83d-41ee-c732-103139ba6016"
      },
      "execution_count": 32,
      "outputs": [
        {
          "output_type": "stream",
          "name": "stderr",
          "text": [
            "<ipython-input-32-a3ed5f78c793>:1: FutureWarning:\n",
            "\n",
            "The default value of numeric_only in DataFrame.corr is deprecated. In a future version, it will default to False. Select only valid columns or specify the value of numeric_only to silence this warning.\n",
            "\n"
          ]
        },
        {
          "output_type": "display_data",
          "data": {
            "text/html": [
              "<html>\n",
              "<head><meta charset=\"utf-8\" /></head>\n",
              "<body>\n",
              "    <div>            <script src=\"https://cdnjs.cloudflare.com/ajax/libs/mathjax/2.7.5/MathJax.js?config=TeX-AMS-MML_SVG\"></script><script type=\"text/javascript\">if (window.MathJax && window.MathJax.Hub && window.MathJax.Hub.Config) {window.MathJax.Hub.Config({SVG: {font: \"STIX-Web\"}});}</script>                <script type=\"text/javascript\">window.PlotlyConfig = {MathJaxConfig: 'local'};</script>\n",
              "        <script charset=\"utf-8\" src=\"https://cdn.plot.ly/plotly-2.24.1.min.js\"></script>                <div id=\"a607a9db-099c-4216-953c-0a821b0de1e5\" class=\"plotly-graph-div\" style=\"height:525px; width:100%;\"></div>            <script type=\"text/javascript\">                                    window.PLOTLYENV=window.PLOTLYENV || {};                                    if (document.getElementById(\"a607a9db-099c-4216-953c-0a821b0de1e5\")) {                    Plotly.newPlot(                        \"a607a9db-099c-4216-953c-0a821b0de1e5\",                        [{\"colorscale\":[[0.0,\"rgb(103,0,31)\"],[0.1,\"rgb(178,24,43)\"],[0.2,\"rgb(214,96,77)\"],[0.3,\"rgb(244,165,130)\"],[0.4,\"rgb(253,219,199)\"],[0.5,\"rgb(247,247,247)\"],[0.6,\"rgb(209,229,240)\"],[0.7,\"rgb(146,197,222)\"],[0.8,\"rgb(67,147,195)\"],[0.9,\"rgb(33,102,172)\"],[1.0,\"rgb(5,48,97)\"]],\"x\":[\"Impressions\",\"From Home\",\"From Hashtags\",\"From Explore\",\"From Other\",\"Saves\",\"Comments\",\"Shares\",\"Likes\",\"Profile Visits\",\"Follows\"],\"y\":[\"Impressions\",\"From Home\",\"From Hashtags\",\"From Explore\",\"From Other\",\"Saves\",\"Comments\",\"Shares\",\"Likes\",\"Profile Visits\",\"Follows\"],\"z\":[[1.0,0.8446984764644079,0.5607600444158378,0.8936074202433567,0.5929604758091378,0.7792314114268593,-0.028523933548663824,0.6346751252181763,0.8498353377178177,0.7609809286546657,0.8893634430344086],[0.8446984764644079,1.0,0.1775156543309878,0.800573110578866,0.5556659551465412,0.768817005684724,0.012716248342545502,0.6749850448685393,0.698329637893805,0.531076205366268,0.6726750588858736],[0.5607600444158378,0.1775156543309878,1.0,0.1904532189703739,0.2296233181732429,0.30592870314657494,0.1614388259073108,0.21951145515685286,0.6621242000877943,0.6913449048454711,0.5554854735531087],[0.8936074202433567,0.800573110578866,0.1904532189703739,1.0,0.49568473618614567,0.7478028035868068,-0.15856537914498336,0.6157309658741993,0.653699336224973,0.5318502558055156,0.7960189422044351],[0.5929604758091378,0.5556659551465412,0.2296233181732429,0.49568473618614567,1.0,0.3319068864386735,-0.1087029734222875,0.15683375635736396,0.3935104122090607,0.6330799446255249,0.5467370225356449],[0.7792314114268593,0.768817005684724,0.30592870314657494,0.7478028035868068,0.3319068864386735,1.0,-0.026912263707560984,0.860324185158795,0.8456432932068351,0.36062821319868793,0.6284608823148304],[-0.028523933548663824,0.012716248342545502,0.1614388259073108,-0.15856537914498336,-0.1087029734222875,-0.026912263707560984,1.0,0.016932532855360494,0.1235861027264814,0.09671424134518669,-0.060630774375331827],[0.6346751252181763,0.6749850448685393,0.21951145515685286,0.6157309658741993,0.15683375635736396,0.860324185158795,0.016932532855360494,1.0,0.707794002688105,0.24536082330737743,0.4930698051158401],[0.8498353377178177,0.698329637893805,0.6621242000877943,0.653699336224973,0.3935104122090607,0.8456432932068351,0.1235861027264814,0.707794002688105,1.0,0.6261070345218044,0.746333165592919],[0.7609809286546657,0.531076205366268,0.6913449048454711,0.5318502558055156,0.6330799446255249,0.36062821319868793,0.09671424134518669,0.24536082330737743,0.6261070345218044,1.0,0.8531517459145104],[0.8893634430344086,0.6726750588858736,0.5554854735531087,0.7960189422044351,0.5467370225356449,0.6284608823148304,-0.060630774375331827,0.4930698051158401,0.746333165592919,0.8531517459145104,1.0]],\"zmax\":1,\"zmin\":-1,\"type\":\"heatmap\"}],                        {\"template\":{\"data\":{\"histogram2dcontour\":[{\"type\":\"histogram2dcontour\",\"colorbar\":{\"outlinewidth\":0,\"ticks\":\"\"},\"colorscale\":[[0.0,\"#0d0887\"],[0.1111111111111111,\"#46039f\"],[0.2222222222222222,\"#7201a8\"],[0.3333333333333333,\"#9c179e\"],[0.4444444444444444,\"#bd3786\"],[0.5555555555555556,\"#d8576b\"],[0.6666666666666666,\"#ed7953\"],[0.7777777777777778,\"#fb9f3a\"],[0.8888888888888888,\"#fdca26\"],[1.0,\"#f0f921\"]]}],\"choropleth\":[{\"type\":\"choropleth\",\"colorbar\":{\"outlinewidth\":0,\"ticks\":\"\"}}],\"histogram2d\":[{\"type\":\"histogram2d\",\"colorbar\":{\"outlinewidth\":0,\"ticks\":\"\"},\"colorscale\":[[0.0,\"#0d0887\"],[0.1111111111111111,\"#46039f\"],[0.2222222222222222,\"#7201a8\"],[0.3333333333333333,\"#9c179e\"],[0.4444444444444444,\"#bd3786\"],[0.5555555555555556,\"#d8576b\"],[0.6666666666666666,\"#ed7953\"],[0.7777777777777778,\"#fb9f3a\"],[0.8888888888888888,\"#fdca26\"],[1.0,\"#f0f921\"]]}],\"heatmap\":[{\"type\":\"heatmap\",\"colorbar\":{\"outlinewidth\":0,\"ticks\":\"\"},\"colorscale\":[[0.0,\"#0d0887\"],[0.1111111111111111,\"#46039f\"],[0.2222222222222222,\"#7201a8\"],[0.3333333333333333,\"#9c179e\"],[0.4444444444444444,\"#bd3786\"],[0.5555555555555556,\"#d8576b\"],[0.6666666666666666,\"#ed7953\"],[0.7777777777777778,\"#fb9f3a\"],[0.8888888888888888,\"#fdca26\"],[1.0,\"#f0f921\"]]}],\"heatmapgl\":[{\"type\":\"heatmapgl\",\"colorbar\":{\"outlinewidth\":0,\"ticks\":\"\"},\"colorscale\":[[0.0,\"#0d0887\"],[0.1111111111111111,\"#46039f\"],[0.2222222222222222,\"#7201a8\"],[0.3333333333333333,\"#9c179e\"],[0.4444444444444444,\"#bd3786\"],[0.5555555555555556,\"#d8576b\"],[0.6666666666666666,\"#ed7953\"],[0.7777777777777778,\"#fb9f3a\"],[0.8888888888888888,\"#fdca26\"],[1.0,\"#f0f921\"]]}],\"contourcarpet\":[{\"type\":\"contourcarpet\",\"colorbar\":{\"outlinewidth\":0,\"ticks\":\"\"}}],\"contour\":[{\"type\":\"contour\",\"colorbar\":{\"outlinewidth\":0,\"ticks\":\"\"},\"colorscale\":[[0.0,\"#0d0887\"],[0.1111111111111111,\"#46039f\"],[0.2222222222222222,\"#7201a8\"],[0.3333333333333333,\"#9c179e\"],[0.4444444444444444,\"#bd3786\"],[0.5555555555555556,\"#d8576b\"],[0.6666666666666666,\"#ed7953\"],[0.7777777777777778,\"#fb9f3a\"],[0.8888888888888888,\"#fdca26\"],[1.0,\"#f0f921\"]]}],\"surface\":[{\"type\":\"surface\",\"colorbar\":{\"outlinewidth\":0,\"ticks\":\"\"},\"colorscale\":[[0.0,\"#0d0887\"],[0.1111111111111111,\"#46039f\"],[0.2222222222222222,\"#7201a8\"],[0.3333333333333333,\"#9c179e\"],[0.4444444444444444,\"#bd3786\"],[0.5555555555555556,\"#d8576b\"],[0.6666666666666666,\"#ed7953\"],[0.7777777777777778,\"#fb9f3a\"],[0.8888888888888888,\"#fdca26\"],[1.0,\"#f0f921\"]]}],\"mesh3d\":[{\"type\":\"mesh3d\",\"colorbar\":{\"outlinewidth\":0,\"ticks\":\"\"}}],\"scatter\":[{\"fillpattern\":{\"fillmode\":\"overlay\",\"size\":10,\"solidity\":0.2},\"type\":\"scatter\"}],\"parcoords\":[{\"type\":\"parcoords\",\"line\":{\"colorbar\":{\"outlinewidth\":0,\"ticks\":\"\"}}}],\"scatterpolargl\":[{\"type\":\"scatterpolargl\",\"marker\":{\"colorbar\":{\"outlinewidth\":0,\"ticks\":\"\"}}}],\"bar\":[{\"error_x\":{\"color\":\"#2a3f5f\"},\"error_y\":{\"color\":\"#2a3f5f\"},\"marker\":{\"line\":{\"color\":\"white\",\"width\":0.5},\"pattern\":{\"fillmode\":\"overlay\",\"size\":10,\"solidity\":0.2}},\"type\":\"bar\"}],\"scattergeo\":[{\"type\":\"scattergeo\",\"marker\":{\"colorbar\":{\"outlinewidth\":0,\"ticks\":\"\"}}}],\"scatterpolar\":[{\"type\":\"scatterpolar\",\"marker\":{\"colorbar\":{\"outlinewidth\":0,\"ticks\":\"\"}}}],\"histogram\":[{\"marker\":{\"pattern\":{\"fillmode\":\"overlay\",\"size\":10,\"solidity\":0.2}},\"type\":\"histogram\"}],\"scattergl\":[{\"type\":\"scattergl\",\"marker\":{\"colorbar\":{\"outlinewidth\":0,\"ticks\":\"\"}}}],\"scatter3d\":[{\"type\":\"scatter3d\",\"line\":{\"colorbar\":{\"outlinewidth\":0,\"ticks\":\"\"}},\"marker\":{\"colorbar\":{\"outlinewidth\":0,\"ticks\":\"\"}}}],\"scattermapbox\":[{\"type\":\"scattermapbox\",\"marker\":{\"colorbar\":{\"outlinewidth\":0,\"ticks\":\"\"}}}],\"scatterternary\":[{\"type\":\"scatterternary\",\"marker\":{\"colorbar\":{\"outlinewidth\":0,\"ticks\":\"\"}}}],\"scattercarpet\":[{\"type\":\"scattercarpet\",\"marker\":{\"colorbar\":{\"outlinewidth\":0,\"ticks\":\"\"}}}],\"carpet\":[{\"aaxis\":{\"endlinecolor\":\"#2a3f5f\",\"gridcolor\":\"#C8D4E3\",\"linecolor\":\"#C8D4E3\",\"minorgridcolor\":\"#C8D4E3\",\"startlinecolor\":\"#2a3f5f\"},\"baxis\":{\"endlinecolor\":\"#2a3f5f\",\"gridcolor\":\"#C8D4E3\",\"linecolor\":\"#C8D4E3\",\"minorgridcolor\":\"#C8D4E3\",\"startlinecolor\":\"#2a3f5f\"},\"type\":\"carpet\"}],\"table\":[{\"cells\":{\"fill\":{\"color\":\"#EBF0F8\"},\"line\":{\"color\":\"white\"}},\"header\":{\"fill\":{\"color\":\"#C8D4E3\"},\"line\":{\"color\":\"white\"}},\"type\":\"table\"}],\"barpolar\":[{\"marker\":{\"line\":{\"color\":\"white\",\"width\":0.5},\"pattern\":{\"fillmode\":\"overlay\",\"size\":10,\"solidity\":0.2}},\"type\":\"barpolar\"}],\"pie\":[{\"automargin\":true,\"type\":\"pie\"}]},\"layout\":{\"autotypenumbers\":\"strict\",\"colorway\":[\"#636efa\",\"#EF553B\",\"#00cc96\",\"#ab63fa\",\"#FFA15A\",\"#19d3f3\",\"#FF6692\",\"#B6E880\",\"#FF97FF\",\"#FECB52\"],\"font\":{\"color\":\"#2a3f5f\"},\"hovermode\":\"closest\",\"hoverlabel\":{\"align\":\"left\"},\"paper_bgcolor\":\"white\",\"plot_bgcolor\":\"white\",\"polar\":{\"bgcolor\":\"white\",\"angularaxis\":{\"gridcolor\":\"#EBF0F8\",\"linecolor\":\"#EBF0F8\",\"ticks\":\"\"},\"radialaxis\":{\"gridcolor\":\"#EBF0F8\",\"linecolor\":\"#EBF0F8\",\"ticks\":\"\"}},\"ternary\":{\"bgcolor\":\"white\",\"aaxis\":{\"gridcolor\":\"#DFE8F3\",\"linecolor\":\"#A2B1C6\",\"ticks\":\"\"},\"baxis\":{\"gridcolor\":\"#DFE8F3\",\"linecolor\":\"#A2B1C6\",\"ticks\":\"\"},\"caxis\":{\"gridcolor\":\"#DFE8F3\",\"linecolor\":\"#A2B1C6\",\"ticks\":\"\"}},\"coloraxis\":{\"colorbar\":{\"outlinewidth\":0,\"ticks\":\"\"}},\"colorscale\":{\"sequential\":[[0.0,\"#0d0887\"],[0.1111111111111111,\"#46039f\"],[0.2222222222222222,\"#7201a8\"],[0.3333333333333333,\"#9c179e\"],[0.4444444444444444,\"#bd3786\"],[0.5555555555555556,\"#d8576b\"],[0.6666666666666666,\"#ed7953\"],[0.7777777777777778,\"#fb9f3a\"],[0.8888888888888888,\"#fdca26\"],[1.0,\"#f0f921\"]],\"sequentialminus\":[[0.0,\"#0d0887\"],[0.1111111111111111,\"#46039f\"],[0.2222222222222222,\"#7201a8\"],[0.3333333333333333,\"#9c179e\"],[0.4444444444444444,\"#bd3786\"],[0.5555555555555556,\"#d8576b\"],[0.6666666666666666,\"#ed7953\"],[0.7777777777777778,\"#fb9f3a\"],[0.8888888888888888,\"#fdca26\"],[1.0,\"#f0f921\"]],\"diverging\":[[0,\"#8e0152\"],[0.1,\"#c51b7d\"],[0.2,\"#de77ae\"],[0.3,\"#f1b6da\"],[0.4,\"#fde0ef\"],[0.5,\"#f7f7f7\"],[0.6,\"#e6f5d0\"],[0.7,\"#b8e186\"],[0.8,\"#7fbc41\"],[0.9,\"#4d9221\"],[1,\"#276419\"]]},\"xaxis\":{\"gridcolor\":\"#EBF0F8\",\"linecolor\":\"#EBF0F8\",\"ticks\":\"\",\"title\":{\"standoff\":15},\"zerolinecolor\":\"#EBF0F8\",\"automargin\":true,\"zerolinewidth\":2},\"yaxis\":{\"gridcolor\":\"#EBF0F8\",\"linecolor\":\"#EBF0F8\",\"ticks\":\"\",\"title\":{\"standoff\":15},\"zerolinecolor\":\"#EBF0F8\",\"automargin\":true,\"zerolinewidth\":2},\"scene\":{\"xaxis\":{\"backgroundcolor\":\"white\",\"gridcolor\":\"#DFE8F3\",\"linecolor\":\"#EBF0F8\",\"showbackground\":true,\"ticks\":\"\",\"zerolinecolor\":\"#EBF0F8\",\"gridwidth\":2},\"yaxis\":{\"backgroundcolor\":\"white\",\"gridcolor\":\"#DFE8F3\",\"linecolor\":\"#EBF0F8\",\"showbackground\":true,\"ticks\":\"\",\"zerolinecolor\":\"#EBF0F8\",\"gridwidth\":2},\"zaxis\":{\"backgroundcolor\":\"white\",\"gridcolor\":\"#DFE8F3\",\"linecolor\":\"#EBF0F8\",\"showbackground\":true,\"ticks\":\"\",\"zerolinecolor\":\"#EBF0F8\",\"gridwidth\":2}},\"shapedefaults\":{\"line\":{\"color\":\"#2a3f5f\"}},\"annotationdefaults\":{\"arrowcolor\":\"#2a3f5f\",\"arrowhead\":0,\"arrowwidth\":1},\"geo\":{\"bgcolor\":\"white\",\"landcolor\":\"white\",\"subunitcolor\":\"#C8D4E3\",\"showland\":true,\"showlakes\":true,\"lakecolor\":\"white\"},\"title\":{\"x\":0.05},\"mapbox\":{\"style\":\"light\"}}},\"title\":{\"text\":\"Correlation Matrix\"},\"xaxis\":{\"title\":{\"text\":\"Features\"}},\"yaxis\":{\"title\":{\"text\":\"Features\"}}},                        {\"responsive\": true}                    ).then(function(){\n",
              "                            \n",
              "var gd = document.getElementById('a607a9db-099c-4216-953c-0a821b0de1e5');\n",
              "var x = new MutationObserver(function (mutations, observer) {{\n",
              "        var display = window.getComputedStyle(gd).display;\n",
              "        if (!display || display === 'none') {{\n",
              "            console.log([gd, 'removed!']);\n",
              "            Plotly.purge(gd);\n",
              "            observer.disconnect();\n",
              "        }}\n",
              "}});\n",
              "\n",
              "// Listen for the removal of the full notebook cells\n",
              "var notebookContainer = gd.closest('#notebook-container');\n",
              "if (notebookContainer) {{\n",
              "    x.observe(notebookContainer, {childList: true});\n",
              "}}\n",
              "\n",
              "// Listen for the clearing of the current output cell\n",
              "var outputEl = gd.closest('.output');\n",
              "if (outputEl) {{\n",
              "    x.observe(outputEl, {childList: true});\n",
              "}}\n",
              "\n",
              "                        })                };                            </script>        </div>\n",
              "</body>\n",
              "</html>"
            ]
          },
          "metadata": {}
        }
      ]
    },
    {
      "cell_type": "markdown",
      "source": [
        "**Q.12: Havea look at the distribution of hashtags to see which hashtag is used the most in all the\n",
        "posts as shown below**"
      ],
      "metadata": {
        "id": "DK9kWfytNf3b"
      }
    },
    {
      "cell_type": "code",
      "source": [
        "# Create a list to store all hashtags\n",
        "all_hashtags = []\n",
        "\n",
        "# Iterate through each row in the 'Hashtags' column\n",
        "for row in df['Hashtags']:\n",
        "    hashtags = str(row).split()\n",
        "    hashtags = [tag.strip() for tag in hashtags]\n",
        "    all_hashtags.extend(hashtags)\n",
        "\n",
        "# Create a pandas DataFrame to store the hashtag distribution\n",
        "hashtag_distribution = pd.Series(all_hashtags).value_counts().reset_index()\n",
        "hashtag_distribution.columns = ['Hashtag', 'Count']\n",
        "\n",
        "fig = px.bar(hashtag_distribution, x='Hashtag',\n",
        "             y='Count', title='Distribution of Hashtags')\n",
        "fig.show()"
      ],
      "metadata": {
        "colab": {
          "base_uri": "https://localhost:8080/",
          "height": 542
        },
        "id": "bExmGhK1KnT1",
        "outputId": "b389e975-2cfe-401e-f2d7-77452ae35107"
      },
      "execution_count": 33,
      "outputs": [
        {
          "output_type": "display_data",
          "data": {
            "text/html": [
              "<html>\n",
              "<head><meta charset=\"utf-8\" /></head>\n",
              "<body>\n",
              "    <div>            <script src=\"https://cdnjs.cloudflare.com/ajax/libs/mathjax/2.7.5/MathJax.js?config=TeX-AMS-MML_SVG\"></script><script type=\"text/javascript\">if (window.MathJax && window.MathJax.Hub && window.MathJax.Hub.Config) {window.MathJax.Hub.Config({SVG: {font: \"STIX-Web\"}});}</script>                <script type=\"text/javascript\">window.PlotlyConfig = {MathJaxConfig: 'local'};</script>\n",
              "        <script charset=\"utf-8\" src=\"https://cdn.plot.ly/plotly-2.24.1.min.js\"></script>                <div id=\"ac1d6247-ed25-400f-ab6a-f72b16635282\" class=\"plotly-graph-div\" style=\"height:525px; width:100%;\"></div>            <script type=\"text/javascript\">                                    window.PLOTLYENV=window.PLOTLYENV || {};                                    if (document.getElementById(\"ac1d6247-ed25-400f-ab6a-f72b16635282\")) {                    Plotly.newPlot(                        \"ac1d6247-ed25-400f-ab6a-f72b16635282\",                        [{\"alignmentgroup\":\"True\",\"hovertemplate\":\"Hashtag=%{x}\\u003cbr\\u003eCount=%{y}\\u003cextra\\u003e\\u003c\\u002fextra\\u003e\",\"legendgroup\":\"\",\"marker\":{\"color\":\"#636efa\",\"pattern\":{\"shape\":\"\"}},\"name\":\"\",\"offsetgroup\":\"\",\"orientation\":\"v\",\"showlegend\":false,\"textposition\":\"auto\",\"x\":[\"#thecleverprogrammer\",\"#amankharwal\",\"#python\",\"#machinelearning\",\"#pythonprogramming\",\"#datascience\",\"#ai\",\"#pythonprojects\",\"#artificialintelligence\",\"#data\",\"#dataanalytics\",\"#datascientist\",\"#pythoncode\",\"#dataanalysis\",\"#deeplearning\",\"#datascienceprojects\",\"#machinelearningprojects\",\"#programming\",\"#technology\",\"#coding\",\"#tech\",\"#computerscience\",\"#bigdata\",\"#pythonlearning\",\"#pythoncoding\",\"#pythondeveloper\",\"#datavisualization\",\"#pythonprogrammer\",\"#analytics\",\"#business\",\"#statistics\",\"#machinelearningalgorithms\",\"#dataanalyst\",\"#webdevelopment\",\"#algorithm\",\"#software\",\"#naturallanguageprocessing\",\"#algorithms\",\"#nlp\",\"#neuralnetwork\",\"#ml\",\"#database\",\"#javascript\",\"#code\",\"#coder\",\"#programmer\",\"#java\",\"#softwaredeveloper\",\"#codinglife\",\"#sentimentanalysis\",\"#sentiment\",\"#webdeveloper\",\"#css\",\"#html\",\"#machinelearningmodels\",\"#developer\",\"#timeseriesanalysis\",\"#iot\",\"#analysis\",\"#timeseriesmalaysia\",\"#businessintelligence\",\"#datasciencejobs\",\"#datasciencetraining\",\"#datascienceeducation\",\"#datasciencecourse\",\"#datamining\",\"#time\",\"#timeseries\",\"#php\",\"#programminglife\",\"#hacking\",\"#programmingmemes\",\"#programmers\",\"#neuralnetworks\",\"#webdesign\",\"#dataviz\",\"#linux\",\"#casestudy\",\"#businessmodel\",\"#zomato\",\"#money\",\"#interview\",\"#finance\",\"#powerbi\",\"#tensorflow\",\"#job\",\"#artificialintelligenceai\",\"#investing\",\"#trading\",\"#stockmarket\",\"#healthcare\",\"#health\",\"#covid\",\"#investment\",\"#cryptocurrency\",\"#bitcoin\",\"#dataanalysisprojects\",\"#businessanalytics\",\"#python3\",\"#roadmap\",\"#codinginterview\",\"#pythonprogramminglanguage\",\"#otp\",\"#innovation\",\"#recommendationsystem\",\"#recommendations\",\"#recommended\",\"#otpverification\",\"#projects\",\"#casestudies\",\"#amazonfinds\",\"#security\",\"#cybersecurity\",\"#network\",\"#internet\",\"#cloud\",\"#recommendation\",\"#careergoals\",\"#jobsearch\",\"#work\",\"#tableau\",\"#stocks\",\"#forex\",\"#candlestick\",\"#candlestickcharts\",\"#career\",\"#jobs\",\"#stressdetection\",\"#education\",\"#success\",\"#motivation\",\"#clustering\",\"#careerdevelopment\",\"#careeradvice\",\"#digitalmarketing\",\"#media\",\"#socialmedia\",\"#IT\",\"#marketing\",\"#students\",\"#resume\",\"#goals\",\"#careers\",\"#stress\",\"#sql\",\"#pythonbooks\",\"#mysql\",\"#softskills\",\"#instagramreach\",\"#instagram\",\"#ukraine\",\"#pythonprogram\",\"#whatsapp\",\"@codergallery\",\"#google\",\"#news\",\"#flipkart\",\"#bookstagram\",\"#alexnet\",\"#bigdataanalytics\",\"#qrcodes\",\"#datascienceinterview\",\"#facebook\",\"#boxplots\"],\"xaxis\":\"x\",\"y\":[117,117,109,97,95,94,91,90,89,88,87,83,78,77,75,43,43,26,25,24,23,21,20,19,19,19,19,19,16,16,14,13,12,10,9,9,9,9,9,8,8,7,7,7,7,7,7,7,7,7,7,7,7,7,7,7,6,6,6,6,6,6,6,6,6,6,6,6,5,5,5,5,5,5,5,5,5,4,4,4,4,4,4,4,4,4,4,4,3,3,3,3,3,3,3,3,3,3,2,2,2,2,2,2,2,2,2,2,2,2,2,2,2,2,2,2,2,2,2,2,2,2,2,2,2,2,2,2,2,2,2,2,2,2,2,2,2,2,2,2,2,2,2,2,1,1,1,1,1,1,1,1,1,1,1,1,1,1,1,1,1,1,1,1],\"yaxis\":\"y\",\"type\":\"bar\"}],                        {\"template\":{\"data\":{\"histogram2dcontour\":[{\"type\":\"histogram2dcontour\",\"colorbar\":{\"outlinewidth\":0,\"ticks\":\"\"},\"colorscale\":[[0.0,\"#0d0887\"],[0.1111111111111111,\"#46039f\"],[0.2222222222222222,\"#7201a8\"],[0.3333333333333333,\"#9c179e\"],[0.4444444444444444,\"#bd3786\"],[0.5555555555555556,\"#d8576b\"],[0.6666666666666666,\"#ed7953\"],[0.7777777777777778,\"#fb9f3a\"],[0.8888888888888888,\"#fdca26\"],[1.0,\"#f0f921\"]]}],\"choropleth\":[{\"type\":\"choropleth\",\"colorbar\":{\"outlinewidth\":0,\"ticks\":\"\"}}],\"histogram2d\":[{\"type\":\"histogram2d\",\"colorbar\":{\"outlinewidth\":0,\"ticks\":\"\"},\"colorscale\":[[0.0,\"#0d0887\"],[0.1111111111111111,\"#46039f\"],[0.2222222222222222,\"#7201a8\"],[0.3333333333333333,\"#9c179e\"],[0.4444444444444444,\"#bd3786\"],[0.5555555555555556,\"#d8576b\"],[0.6666666666666666,\"#ed7953\"],[0.7777777777777778,\"#fb9f3a\"],[0.8888888888888888,\"#fdca26\"],[1.0,\"#f0f921\"]]}],\"heatmap\":[{\"type\":\"heatmap\",\"colorbar\":{\"outlinewidth\":0,\"ticks\":\"\"},\"colorscale\":[[0.0,\"#0d0887\"],[0.1111111111111111,\"#46039f\"],[0.2222222222222222,\"#7201a8\"],[0.3333333333333333,\"#9c179e\"],[0.4444444444444444,\"#bd3786\"],[0.5555555555555556,\"#d8576b\"],[0.6666666666666666,\"#ed7953\"],[0.7777777777777778,\"#fb9f3a\"],[0.8888888888888888,\"#fdca26\"],[1.0,\"#f0f921\"]]}],\"heatmapgl\":[{\"type\":\"heatmapgl\",\"colorbar\":{\"outlinewidth\":0,\"ticks\":\"\"},\"colorscale\":[[0.0,\"#0d0887\"],[0.1111111111111111,\"#46039f\"],[0.2222222222222222,\"#7201a8\"],[0.3333333333333333,\"#9c179e\"],[0.4444444444444444,\"#bd3786\"],[0.5555555555555556,\"#d8576b\"],[0.6666666666666666,\"#ed7953\"],[0.7777777777777778,\"#fb9f3a\"],[0.8888888888888888,\"#fdca26\"],[1.0,\"#f0f921\"]]}],\"contourcarpet\":[{\"type\":\"contourcarpet\",\"colorbar\":{\"outlinewidth\":0,\"ticks\":\"\"}}],\"contour\":[{\"type\":\"contour\",\"colorbar\":{\"outlinewidth\":0,\"ticks\":\"\"},\"colorscale\":[[0.0,\"#0d0887\"],[0.1111111111111111,\"#46039f\"],[0.2222222222222222,\"#7201a8\"],[0.3333333333333333,\"#9c179e\"],[0.4444444444444444,\"#bd3786\"],[0.5555555555555556,\"#d8576b\"],[0.6666666666666666,\"#ed7953\"],[0.7777777777777778,\"#fb9f3a\"],[0.8888888888888888,\"#fdca26\"],[1.0,\"#f0f921\"]]}],\"surface\":[{\"type\":\"surface\",\"colorbar\":{\"outlinewidth\":0,\"ticks\":\"\"},\"colorscale\":[[0.0,\"#0d0887\"],[0.1111111111111111,\"#46039f\"],[0.2222222222222222,\"#7201a8\"],[0.3333333333333333,\"#9c179e\"],[0.4444444444444444,\"#bd3786\"],[0.5555555555555556,\"#d8576b\"],[0.6666666666666666,\"#ed7953\"],[0.7777777777777778,\"#fb9f3a\"],[0.8888888888888888,\"#fdca26\"],[1.0,\"#f0f921\"]]}],\"mesh3d\":[{\"type\":\"mesh3d\",\"colorbar\":{\"outlinewidth\":0,\"ticks\":\"\"}}],\"scatter\":[{\"fillpattern\":{\"fillmode\":\"overlay\",\"size\":10,\"solidity\":0.2},\"type\":\"scatter\"}],\"parcoords\":[{\"type\":\"parcoords\",\"line\":{\"colorbar\":{\"outlinewidth\":0,\"ticks\":\"\"}}}],\"scatterpolargl\":[{\"type\":\"scatterpolargl\",\"marker\":{\"colorbar\":{\"outlinewidth\":0,\"ticks\":\"\"}}}],\"bar\":[{\"error_x\":{\"color\":\"#2a3f5f\"},\"error_y\":{\"color\":\"#2a3f5f\"},\"marker\":{\"line\":{\"color\":\"white\",\"width\":0.5},\"pattern\":{\"fillmode\":\"overlay\",\"size\":10,\"solidity\":0.2}},\"type\":\"bar\"}],\"scattergeo\":[{\"type\":\"scattergeo\",\"marker\":{\"colorbar\":{\"outlinewidth\":0,\"ticks\":\"\"}}}],\"scatterpolar\":[{\"type\":\"scatterpolar\",\"marker\":{\"colorbar\":{\"outlinewidth\":0,\"ticks\":\"\"}}}],\"histogram\":[{\"marker\":{\"pattern\":{\"fillmode\":\"overlay\",\"size\":10,\"solidity\":0.2}},\"type\":\"histogram\"}],\"scattergl\":[{\"type\":\"scattergl\",\"marker\":{\"colorbar\":{\"outlinewidth\":0,\"ticks\":\"\"}}}],\"scatter3d\":[{\"type\":\"scatter3d\",\"line\":{\"colorbar\":{\"outlinewidth\":0,\"ticks\":\"\"}},\"marker\":{\"colorbar\":{\"outlinewidth\":0,\"ticks\":\"\"}}}],\"scattermapbox\":[{\"type\":\"scattermapbox\",\"marker\":{\"colorbar\":{\"outlinewidth\":0,\"ticks\":\"\"}}}],\"scatterternary\":[{\"type\":\"scatterternary\",\"marker\":{\"colorbar\":{\"outlinewidth\":0,\"ticks\":\"\"}}}],\"scattercarpet\":[{\"type\":\"scattercarpet\",\"marker\":{\"colorbar\":{\"outlinewidth\":0,\"ticks\":\"\"}}}],\"carpet\":[{\"aaxis\":{\"endlinecolor\":\"#2a3f5f\",\"gridcolor\":\"#C8D4E3\",\"linecolor\":\"#C8D4E3\",\"minorgridcolor\":\"#C8D4E3\",\"startlinecolor\":\"#2a3f5f\"},\"baxis\":{\"endlinecolor\":\"#2a3f5f\",\"gridcolor\":\"#C8D4E3\",\"linecolor\":\"#C8D4E3\",\"minorgridcolor\":\"#C8D4E3\",\"startlinecolor\":\"#2a3f5f\"},\"type\":\"carpet\"}],\"table\":[{\"cells\":{\"fill\":{\"color\":\"#EBF0F8\"},\"line\":{\"color\":\"white\"}},\"header\":{\"fill\":{\"color\":\"#C8D4E3\"},\"line\":{\"color\":\"white\"}},\"type\":\"table\"}],\"barpolar\":[{\"marker\":{\"line\":{\"color\":\"white\",\"width\":0.5},\"pattern\":{\"fillmode\":\"overlay\",\"size\":10,\"solidity\":0.2}},\"type\":\"barpolar\"}],\"pie\":[{\"automargin\":true,\"type\":\"pie\"}]},\"layout\":{\"autotypenumbers\":\"strict\",\"colorway\":[\"#636efa\",\"#EF553B\",\"#00cc96\",\"#ab63fa\",\"#FFA15A\",\"#19d3f3\",\"#FF6692\",\"#B6E880\",\"#FF97FF\",\"#FECB52\"],\"font\":{\"color\":\"#2a3f5f\"},\"hovermode\":\"closest\",\"hoverlabel\":{\"align\":\"left\"},\"paper_bgcolor\":\"white\",\"plot_bgcolor\":\"white\",\"polar\":{\"bgcolor\":\"white\",\"angularaxis\":{\"gridcolor\":\"#EBF0F8\",\"linecolor\":\"#EBF0F8\",\"ticks\":\"\"},\"radialaxis\":{\"gridcolor\":\"#EBF0F8\",\"linecolor\":\"#EBF0F8\",\"ticks\":\"\"}},\"ternary\":{\"bgcolor\":\"white\",\"aaxis\":{\"gridcolor\":\"#DFE8F3\",\"linecolor\":\"#A2B1C6\",\"ticks\":\"\"},\"baxis\":{\"gridcolor\":\"#DFE8F3\",\"linecolor\":\"#A2B1C6\",\"ticks\":\"\"},\"caxis\":{\"gridcolor\":\"#DFE8F3\",\"linecolor\":\"#A2B1C6\",\"ticks\":\"\"}},\"coloraxis\":{\"colorbar\":{\"outlinewidth\":0,\"ticks\":\"\"}},\"colorscale\":{\"sequential\":[[0.0,\"#0d0887\"],[0.1111111111111111,\"#46039f\"],[0.2222222222222222,\"#7201a8\"],[0.3333333333333333,\"#9c179e\"],[0.4444444444444444,\"#bd3786\"],[0.5555555555555556,\"#d8576b\"],[0.6666666666666666,\"#ed7953\"],[0.7777777777777778,\"#fb9f3a\"],[0.8888888888888888,\"#fdca26\"],[1.0,\"#f0f921\"]],\"sequentialminus\":[[0.0,\"#0d0887\"],[0.1111111111111111,\"#46039f\"],[0.2222222222222222,\"#7201a8\"],[0.3333333333333333,\"#9c179e\"],[0.4444444444444444,\"#bd3786\"],[0.5555555555555556,\"#d8576b\"],[0.6666666666666666,\"#ed7953\"],[0.7777777777777778,\"#fb9f3a\"],[0.8888888888888888,\"#fdca26\"],[1.0,\"#f0f921\"]],\"diverging\":[[0,\"#8e0152\"],[0.1,\"#c51b7d\"],[0.2,\"#de77ae\"],[0.3,\"#f1b6da\"],[0.4,\"#fde0ef\"],[0.5,\"#f7f7f7\"],[0.6,\"#e6f5d0\"],[0.7,\"#b8e186\"],[0.8,\"#7fbc41\"],[0.9,\"#4d9221\"],[1,\"#276419\"]]},\"xaxis\":{\"gridcolor\":\"#EBF0F8\",\"linecolor\":\"#EBF0F8\",\"ticks\":\"\",\"title\":{\"standoff\":15},\"zerolinecolor\":\"#EBF0F8\",\"automargin\":true,\"zerolinewidth\":2},\"yaxis\":{\"gridcolor\":\"#EBF0F8\",\"linecolor\":\"#EBF0F8\",\"ticks\":\"\",\"title\":{\"standoff\":15},\"zerolinecolor\":\"#EBF0F8\",\"automargin\":true,\"zerolinewidth\":2},\"scene\":{\"xaxis\":{\"backgroundcolor\":\"white\",\"gridcolor\":\"#DFE8F3\",\"linecolor\":\"#EBF0F8\",\"showbackground\":true,\"ticks\":\"\",\"zerolinecolor\":\"#EBF0F8\",\"gridwidth\":2},\"yaxis\":{\"backgroundcolor\":\"white\",\"gridcolor\":\"#DFE8F3\",\"linecolor\":\"#EBF0F8\",\"showbackground\":true,\"ticks\":\"\",\"zerolinecolor\":\"#EBF0F8\",\"gridwidth\":2},\"zaxis\":{\"backgroundcolor\":\"white\",\"gridcolor\":\"#DFE8F3\",\"linecolor\":\"#EBF0F8\",\"showbackground\":true,\"ticks\":\"\",\"zerolinecolor\":\"#EBF0F8\",\"gridwidth\":2}},\"shapedefaults\":{\"line\":{\"color\":\"#2a3f5f\"}},\"annotationdefaults\":{\"arrowcolor\":\"#2a3f5f\",\"arrowhead\":0,\"arrowwidth\":1},\"geo\":{\"bgcolor\":\"white\",\"landcolor\":\"white\",\"subunitcolor\":\"#C8D4E3\",\"showland\":true,\"showlakes\":true,\"lakecolor\":\"white\"},\"title\":{\"x\":0.05},\"mapbox\":{\"style\":\"light\"}}},\"xaxis\":{\"anchor\":\"y\",\"domain\":[0.0,1.0],\"title\":{\"text\":\"Hashtag\"}},\"yaxis\":{\"anchor\":\"x\",\"domain\":[0.0,1.0],\"title\":{\"text\":\"Count\"}},\"legend\":{\"tracegroupgap\":0},\"title\":{\"text\":\"Distribution of Hashtags\"},\"barmode\":\"relative\"},                        {\"responsive\": true}                    ).then(function(){\n",
              "                            \n",
              "var gd = document.getElementById('ac1d6247-ed25-400f-ab6a-f72b16635282');\n",
              "var x = new MutationObserver(function (mutations, observer) {{\n",
              "        var display = window.getComputedStyle(gd).display;\n",
              "        if (!display || display === 'none') {{\n",
              "            console.log([gd, 'removed!']);\n",
              "            Plotly.purge(gd);\n",
              "            observer.disconnect();\n",
              "        }}\n",
              "}});\n",
              "\n",
              "// Listen for the removal of the full notebook cells\n",
              "var notebookContainer = gd.closest('#notebook-container');\n",
              "if (notebookContainer) {{\n",
              "    x.observe(notebookContainer, {childList: true});\n",
              "}}\n",
              "\n",
              "// Listen for the clearing of the current output cell\n",
              "var outputEl = gd.closest('.output');\n",
              "if (outputEl) {{\n",
              "    x.observe(outputEl, {childList: true});\n",
              "}}\n",
              "\n",
              "                        })                };                            </script>        </div>\n",
              "</body>\n",
              "</html>"
            ]
          },
          "metadata": {}
        }
      ]
    },
    {
      "cell_type": "markdown",
      "source": [
        "**Q.13: Have a look at the distribution of likes and impressions received from the presence of each\n",
        "hashtag on the post as shown below**"
      ],
      "metadata": {
        "id": "74smpsbcNm8A"
      }
    },
    {
      "cell_type": "code",
      "source": [
        "# Create a dictionary to store the likes and impressions for each hashtag\n",
        "hashtag_likes = {}\n",
        "hashtag_impressions = {}\n",
        "\n",
        "# Iterate through each row in the dataset\n",
        "for index, row in df.iterrows():\n",
        "    hashtags = str(row['Hashtags']).split()\n",
        "    for hashtag in hashtags:\n",
        "        hashtag = hashtag.strip()\n",
        "        if hashtag not in hashtag_likes:\n",
        "            hashtag_likes[hashtag] = 0\n",
        "            hashtag_impressions[hashtag] = 0\n",
        "        hashtag_likes[hashtag] += row['Likes']\n",
        "        hashtag_impressions[hashtag] += row['Impressions']\n",
        "# Create a DataFrame for likes distribution\n",
        "likes_distribution = pd.DataFrame(list(hashtag_likes.items()), columns=['Hashtag', 'Likes'])\n",
        "\n",
        "# Create a DataFrame for impressions distribution\n",
        "impressions_distribution = pd.DataFrame(list(hashtag_impressions.items()), columns=['Hashtag', 'Impressions'])\n",
        "\n",
        "fig_likes = px.bar(likes_distribution, x='Hashtag', y='Likes',\n",
        "                   title='Likes Distribution for Each Hashtag')\n",
        "\n",
        "fig_impressions = px.bar(impressions_distribution, x='Hashtag',\n",
        "                         y='Impressions',\n",
        "                         title='Impressions Distribution for Each Hashtag')\n",
        "fig_likes.show()\n",
        "fig_impressions.show()"
      ],
      "metadata": {
        "colab": {
          "base_uri": "https://localhost:8080/",
          "height": 1000
        },
        "id": "fRxywPLNK85N",
        "outputId": "8893783d-c974-44a6-fd79-61d774429af0"
      },
      "execution_count": 35,
      "outputs": [
        {
          "output_type": "display_data",
          "data": {
            "text/html": [
              "<html>\n",
              "<head><meta charset=\"utf-8\" /></head>\n",
              "<body>\n",
              "    <div>            <script src=\"https://cdnjs.cloudflare.com/ajax/libs/mathjax/2.7.5/MathJax.js?config=TeX-AMS-MML_SVG\"></script><script type=\"text/javascript\">if (window.MathJax && window.MathJax.Hub && window.MathJax.Hub.Config) {window.MathJax.Hub.Config({SVG: {font: \"STIX-Web\"}});}</script>                <script type=\"text/javascript\">window.PlotlyConfig = {MathJaxConfig: 'local'};</script>\n",
              "        <script charset=\"utf-8\" src=\"https://cdn.plot.ly/plotly-2.24.1.min.js\"></script>                <div id=\"9f41080e-a055-4a43-ba2c-344fe2133c36\" class=\"plotly-graph-div\" style=\"height:525px; width:100%;\"></div>            <script type=\"text/javascript\">                                    window.PLOTLYENV=window.PLOTLYENV || {};                                    if (document.getElementById(\"9f41080e-a055-4a43-ba2c-344fe2133c36\")) {                    Plotly.newPlot(                        \"9f41080e-a055-4a43-ba2c-344fe2133c36\",                        [{\"alignmentgroup\":\"True\",\"hovertemplate\":\"Hashtag=%{x}\\u003cbr\\u003eLikes=%{y}\\u003cextra\\u003e\\u003c\\u002fextra\\u003e\",\"legendgroup\":\"\",\"marker\":{\"color\":\"#636efa\",\"pattern\":{\"shape\":\"\"}},\"name\":\"\",\"offsetgroup\":\"\",\"orientation\":\"v\",\"showlegend\":false,\"textposition\":\"auto\",\"x\":[\"#finance\",\"#money\",\"#business\",\"#investing\",\"#investment\",\"#trading\",\"#stockmarket\",\"#data\",\"#datascience\",\"#dataanalysis\",\"#dataanalytics\",\"#datascientist\",\"#machinelearning\",\"#python\",\"#pythonprogramming\",\"#pythonprojects\",\"#pythoncode\",\"#artificialintelligence\",\"#ai\",\"#dataanalyst\",\"#amankharwal\",\"#thecleverprogrammer\",\"#healthcare\",\"#health\",\"#covid\",\"#deeplearning\",\"#machinelearningprojects\",\"#datascienceprojects\",\"#machinelearningmodels\",\"#pythonlearning\",\"#pythondeveloper\",\"#pythoncoding\",\"#pythonprogrammer\",\"#datavisualization\",\"#bigdata\",\"#dataviz\",\"#analytics\",\"#technology\",\"#programming\",\"#statistics\",\"#coding\",\"#businessintelligence\",\"#datamining\",\"#tech\",\"#computerscience\",\"#tableau\",\"#database\",\"#algorithm\",\"#algorithms\",\"#machinelearningalgorithms\",\"#ml\",\"#softskills\",\"#stocks\",\"#forex\",\"#candlestick\",\"#candlestickcharts\",\"#pythonbooks\",\"#bookstagram\",\"#powerbi\",\"#dataanalysisprojects\",\"#businessanalytics\",\"#neuralnetwork\",\"#neuralnetworks\",\"#tensorflow\",\"#artificialintelligenceai\",\"#alexnet\",\"#sentimentanalysis\",\"#sentiment\",\"#nlp\",\"#naturallanguageprocessing\",\"#timeseries\",\"#time\",\"#timeseriesanalysis\",\"#iot\",\"#analysis\",\"#timeseriesmalaysia\",\"#career\",\"#job\",\"#jobs\",\"#jobsearch\",\"#education\",\"#success\",\"#careergoals\",\"#motivation\",\"#work\",\"#careerdevelopment\",\"#careers\",\"#goals\",\"#resume\",\"#students\",\"#careeradvice\",\"#marketing\",\"#digitalmarketing\",\"#media\",\"#socialmedia\",\"#IT\",\"#webdevelopment\",\"#stress\",\"#stressdetection\",\"#zomato\",\"#casestudy\",\"#businessmodel\",\"#boxplots\",\"#programmer\",\"#developer\",\"#javascript\",\"#code\",\"#coder\",\"#java\",\"#html\",\"#css\",\"#webdeveloper\",\"#software\",\"#codinglife\",\"#softwaredeveloper\",\"#linux\",\"#programmingmemes\",\"#webdesign\",\"#programmers\",\"#php\",\"#programminglife\",\"#hacking\",\"#bitcoin\",\"#cryptocurrency\",\"#projects\",\"#casestudies\",\"#amazonfinds\",\"#security\",\"#cybersecurity\",\"#network\",\"#internet\",\"#cloud\",\"#innovation\",\"#google\",\"#facebook\",\"#interview\",\"#datascienceinterview\",\"#otp\",\"#otpverification\",\"#qrcodes\",\"#bigdataanalytics\",\"#recommended\",\"#recommendations\",\"#recommendationsystem\",\"#recommendation\",\"#codinginterview\",\"#flipkart\",\"#news\",\"#pythonprogram\",\"@codergallery\",\"#whatsapp\",\"#roadmap\",\"#ukraine\",\"#instagram\",\"#instagramreach\",\"#datasciencejobs\",\"#datasciencetraining\",\"#datascienceeducation\",\"#datasciencecourse\",\"#sql\",\"#mysql\",\"#python3\",\"#pythonprogramminglanguage\",\"#clustering\"],\"xaxis\":\"x\",\"y\":[529,529,2012,529,380,380,380,15077,16311,13801,15283,14703,16509,18238,16251,16818,14239,15515,15733,1845,20462,20462,729,729,729,13204,8458,8458,761,3659,3659,3659,3659,2382,2671,567,2001,3187,3355,1766,3129,728,728,2961,2818,265,887,1615,1615,2065,1058,144,218,218,218,218,124,124,529,387,387,1120,600,450,450,81,1057,1057,1238,1238,812,812,812,812,812,812,410,680,410,410,410,410,410,410,410,410,410,410,410,410,410,410,410,410,410,410,1456,302,302,328,328,328,76,878,878,878,878,878,878,878,878,878,1113,878,878,608,608,608,608,608,608,608,390,390,302,302,184,235,235,235,235,235,235,150,85,600,180,272,272,167,142,373,373,373,373,270,94,96,118,118,178,525,203,171,171,1814,1814,1814,1814,308,308,296,296,240],\"yaxis\":\"y\",\"type\":\"bar\"}],                        {\"template\":{\"data\":{\"histogram2dcontour\":[{\"type\":\"histogram2dcontour\",\"colorbar\":{\"outlinewidth\":0,\"ticks\":\"\"},\"colorscale\":[[0.0,\"#0d0887\"],[0.1111111111111111,\"#46039f\"],[0.2222222222222222,\"#7201a8\"],[0.3333333333333333,\"#9c179e\"],[0.4444444444444444,\"#bd3786\"],[0.5555555555555556,\"#d8576b\"],[0.6666666666666666,\"#ed7953\"],[0.7777777777777778,\"#fb9f3a\"],[0.8888888888888888,\"#fdca26\"],[1.0,\"#f0f921\"]]}],\"choropleth\":[{\"type\":\"choropleth\",\"colorbar\":{\"outlinewidth\":0,\"ticks\":\"\"}}],\"histogram2d\":[{\"type\":\"histogram2d\",\"colorbar\":{\"outlinewidth\":0,\"ticks\":\"\"},\"colorscale\":[[0.0,\"#0d0887\"],[0.1111111111111111,\"#46039f\"],[0.2222222222222222,\"#7201a8\"],[0.3333333333333333,\"#9c179e\"],[0.4444444444444444,\"#bd3786\"],[0.5555555555555556,\"#d8576b\"],[0.6666666666666666,\"#ed7953\"],[0.7777777777777778,\"#fb9f3a\"],[0.8888888888888888,\"#fdca26\"],[1.0,\"#f0f921\"]]}],\"heatmap\":[{\"type\":\"heatmap\",\"colorbar\":{\"outlinewidth\":0,\"ticks\":\"\"},\"colorscale\":[[0.0,\"#0d0887\"],[0.1111111111111111,\"#46039f\"],[0.2222222222222222,\"#7201a8\"],[0.3333333333333333,\"#9c179e\"],[0.4444444444444444,\"#bd3786\"],[0.5555555555555556,\"#d8576b\"],[0.6666666666666666,\"#ed7953\"],[0.7777777777777778,\"#fb9f3a\"],[0.8888888888888888,\"#fdca26\"],[1.0,\"#f0f921\"]]}],\"heatmapgl\":[{\"type\":\"heatmapgl\",\"colorbar\":{\"outlinewidth\":0,\"ticks\":\"\"},\"colorscale\":[[0.0,\"#0d0887\"],[0.1111111111111111,\"#46039f\"],[0.2222222222222222,\"#7201a8\"],[0.3333333333333333,\"#9c179e\"],[0.4444444444444444,\"#bd3786\"],[0.5555555555555556,\"#d8576b\"],[0.6666666666666666,\"#ed7953\"],[0.7777777777777778,\"#fb9f3a\"],[0.8888888888888888,\"#fdca26\"],[1.0,\"#f0f921\"]]}],\"contourcarpet\":[{\"type\":\"contourcarpet\",\"colorbar\":{\"outlinewidth\":0,\"ticks\":\"\"}}],\"contour\":[{\"type\":\"contour\",\"colorbar\":{\"outlinewidth\":0,\"ticks\":\"\"},\"colorscale\":[[0.0,\"#0d0887\"],[0.1111111111111111,\"#46039f\"],[0.2222222222222222,\"#7201a8\"],[0.3333333333333333,\"#9c179e\"],[0.4444444444444444,\"#bd3786\"],[0.5555555555555556,\"#d8576b\"],[0.6666666666666666,\"#ed7953\"],[0.7777777777777778,\"#fb9f3a\"],[0.8888888888888888,\"#fdca26\"],[1.0,\"#f0f921\"]]}],\"surface\":[{\"type\":\"surface\",\"colorbar\":{\"outlinewidth\":0,\"ticks\":\"\"},\"colorscale\":[[0.0,\"#0d0887\"],[0.1111111111111111,\"#46039f\"],[0.2222222222222222,\"#7201a8\"],[0.3333333333333333,\"#9c179e\"],[0.4444444444444444,\"#bd3786\"],[0.5555555555555556,\"#d8576b\"],[0.6666666666666666,\"#ed7953\"],[0.7777777777777778,\"#fb9f3a\"],[0.8888888888888888,\"#fdca26\"],[1.0,\"#f0f921\"]]}],\"mesh3d\":[{\"type\":\"mesh3d\",\"colorbar\":{\"outlinewidth\":0,\"ticks\":\"\"}}],\"scatter\":[{\"fillpattern\":{\"fillmode\":\"overlay\",\"size\":10,\"solidity\":0.2},\"type\":\"scatter\"}],\"parcoords\":[{\"type\":\"parcoords\",\"line\":{\"colorbar\":{\"outlinewidth\":0,\"ticks\":\"\"}}}],\"scatterpolargl\":[{\"type\":\"scatterpolargl\",\"marker\":{\"colorbar\":{\"outlinewidth\":0,\"ticks\":\"\"}}}],\"bar\":[{\"error_x\":{\"color\":\"#2a3f5f\"},\"error_y\":{\"color\":\"#2a3f5f\"},\"marker\":{\"line\":{\"color\":\"white\",\"width\":0.5},\"pattern\":{\"fillmode\":\"overlay\",\"size\":10,\"solidity\":0.2}},\"type\":\"bar\"}],\"scattergeo\":[{\"type\":\"scattergeo\",\"marker\":{\"colorbar\":{\"outlinewidth\":0,\"ticks\":\"\"}}}],\"scatterpolar\":[{\"type\":\"scatterpolar\",\"marker\":{\"colorbar\":{\"outlinewidth\":0,\"ticks\":\"\"}}}],\"histogram\":[{\"marker\":{\"pattern\":{\"fillmode\":\"overlay\",\"size\":10,\"solidity\":0.2}},\"type\":\"histogram\"}],\"scattergl\":[{\"type\":\"scattergl\",\"marker\":{\"colorbar\":{\"outlinewidth\":0,\"ticks\":\"\"}}}],\"scatter3d\":[{\"type\":\"scatter3d\",\"line\":{\"colorbar\":{\"outlinewidth\":0,\"ticks\":\"\"}},\"marker\":{\"colorbar\":{\"outlinewidth\":0,\"ticks\":\"\"}}}],\"scattermapbox\":[{\"type\":\"scattermapbox\",\"marker\":{\"colorbar\":{\"outlinewidth\":0,\"ticks\":\"\"}}}],\"scatterternary\":[{\"type\":\"scatterternary\",\"marker\":{\"colorbar\":{\"outlinewidth\":0,\"ticks\":\"\"}}}],\"scattercarpet\":[{\"type\":\"scattercarpet\",\"marker\":{\"colorbar\":{\"outlinewidth\":0,\"ticks\":\"\"}}}],\"carpet\":[{\"aaxis\":{\"endlinecolor\":\"#2a3f5f\",\"gridcolor\":\"#C8D4E3\",\"linecolor\":\"#C8D4E3\",\"minorgridcolor\":\"#C8D4E3\",\"startlinecolor\":\"#2a3f5f\"},\"baxis\":{\"endlinecolor\":\"#2a3f5f\",\"gridcolor\":\"#C8D4E3\",\"linecolor\":\"#C8D4E3\",\"minorgridcolor\":\"#C8D4E3\",\"startlinecolor\":\"#2a3f5f\"},\"type\":\"carpet\"}],\"table\":[{\"cells\":{\"fill\":{\"color\":\"#EBF0F8\"},\"line\":{\"color\":\"white\"}},\"header\":{\"fill\":{\"color\":\"#C8D4E3\"},\"line\":{\"color\":\"white\"}},\"type\":\"table\"}],\"barpolar\":[{\"marker\":{\"line\":{\"color\":\"white\",\"width\":0.5},\"pattern\":{\"fillmode\":\"overlay\",\"size\":10,\"solidity\":0.2}},\"type\":\"barpolar\"}],\"pie\":[{\"automargin\":true,\"type\":\"pie\"}]},\"layout\":{\"autotypenumbers\":\"strict\",\"colorway\":[\"#636efa\",\"#EF553B\",\"#00cc96\",\"#ab63fa\",\"#FFA15A\",\"#19d3f3\",\"#FF6692\",\"#B6E880\",\"#FF97FF\",\"#FECB52\"],\"font\":{\"color\":\"#2a3f5f\"},\"hovermode\":\"closest\",\"hoverlabel\":{\"align\":\"left\"},\"paper_bgcolor\":\"white\",\"plot_bgcolor\":\"white\",\"polar\":{\"bgcolor\":\"white\",\"angularaxis\":{\"gridcolor\":\"#EBF0F8\",\"linecolor\":\"#EBF0F8\",\"ticks\":\"\"},\"radialaxis\":{\"gridcolor\":\"#EBF0F8\",\"linecolor\":\"#EBF0F8\",\"ticks\":\"\"}},\"ternary\":{\"bgcolor\":\"white\",\"aaxis\":{\"gridcolor\":\"#DFE8F3\",\"linecolor\":\"#A2B1C6\",\"ticks\":\"\"},\"baxis\":{\"gridcolor\":\"#DFE8F3\",\"linecolor\":\"#A2B1C6\",\"ticks\":\"\"},\"caxis\":{\"gridcolor\":\"#DFE8F3\",\"linecolor\":\"#A2B1C6\",\"ticks\":\"\"}},\"coloraxis\":{\"colorbar\":{\"outlinewidth\":0,\"ticks\":\"\"}},\"colorscale\":{\"sequential\":[[0.0,\"#0d0887\"],[0.1111111111111111,\"#46039f\"],[0.2222222222222222,\"#7201a8\"],[0.3333333333333333,\"#9c179e\"],[0.4444444444444444,\"#bd3786\"],[0.5555555555555556,\"#d8576b\"],[0.6666666666666666,\"#ed7953\"],[0.7777777777777778,\"#fb9f3a\"],[0.8888888888888888,\"#fdca26\"],[1.0,\"#f0f921\"]],\"sequentialminus\":[[0.0,\"#0d0887\"],[0.1111111111111111,\"#46039f\"],[0.2222222222222222,\"#7201a8\"],[0.3333333333333333,\"#9c179e\"],[0.4444444444444444,\"#bd3786\"],[0.5555555555555556,\"#d8576b\"],[0.6666666666666666,\"#ed7953\"],[0.7777777777777778,\"#fb9f3a\"],[0.8888888888888888,\"#fdca26\"],[1.0,\"#f0f921\"]],\"diverging\":[[0,\"#8e0152\"],[0.1,\"#c51b7d\"],[0.2,\"#de77ae\"],[0.3,\"#f1b6da\"],[0.4,\"#fde0ef\"],[0.5,\"#f7f7f7\"],[0.6,\"#e6f5d0\"],[0.7,\"#b8e186\"],[0.8,\"#7fbc41\"],[0.9,\"#4d9221\"],[1,\"#276419\"]]},\"xaxis\":{\"gridcolor\":\"#EBF0F8\",\"linecolor\":\"#EBF0F8\",\"ticks\":\"\",\"title\":{\"standoff\":15},\"zerolinecolor\":\"#EBF0F8\",\"automargin\":true,\"zerolinewidth\":2},\"yaxis\":{\"gridcolor\":\"#EBF0F8\",\"linecolor\":\"#EBF0F8\",\"ticks\":\"\",\"title\":{\"standoff\":15},\"zerolinecolor\":\"#EBF0F8\",\"automargin\":true,\"zerolinewidth\":2},\"scene\":{\"xaxis\":{\"backgroundcolor\":\"white\",\"gridcolor\":\"#DFE8F3\",\"linecolor\":\"#EBF0F8\",\"showbackground\":true,\"ticks\":\"\",\"zerolinecolor\":\"#EBF0F8\",\"gridwidth\":2},\"yaxis\":{\"backgroundcolor\":\"white\",\"gridcolor\":\"#DFE8F3\",\"linecolor\":\"#EBF0F8\",\"showbackground\":true,\"ticks\":\"\",\"zerolinecolor\":\"#EBF0F8\",\"gridwidth\":2},\"zaxis\":{\"backgroundcolor\":\"white\",\"gridcolor\":\"#DFE8F3\",\"linecolor\":\"#EBF0F8\",\"showbackground\":true,\"ticks\":\"\",\"zerolinecolor\":\"#EBF0F8\",\"gridwidth\":2}},\"shapedefaults\":{\"line\":{\"color\":\"#2a3f5f\"}},\"annotationdefaults\":{\"arrowcolor\":\"#2a3f5f\",\"arrowhead\":0,\"arrowwidth\":1},\"geo\":{\"bgcolor\":\"white\",\"landcolor\":\"white\",\"subunitcolor\":\"#C8D4E3\",\"showland\":true,\"showlakes\":true,\"lakecolor\":\"white\"},\"title\":{\"x\":0.05},\"mapbox\":{\"style\":\"light\"}}},\"xaxis\":{\"anchor\":\"y\",\"domain\":[0.0,1.0],\"title\":{\"text\":\"Hashtag\"}},\"yaxis\":{\"anchor\":\"x\",\"domain\":[0.0,1.0],\"title\":{\"text\":\"Likes\"}},\"legend\":{\"tracegroupgap\":0},\"title\":{\"text\":\"Likes Distribution for Each Hashtag\"},\"barmode\":\"relative\"},                        {\"responsive\": true}                    ).then(function(){\n",
              "                            \n",
              "var gd = document.getElementById('9f41080e-a055-4a43-ba2c-344fe2133c36');\n",
              "var x = new MutationObserver(function (mutations, observer) {{\n",
              "        var display = window.getComputedStyle(gd).display;\n",
              "        if (!display || display === 'none') {{\n",
              "            console.log([gd, 'removed!']);\n",
              "            Plotly.purge(gd);\n",
              "            observer.disconnect();\n",
              "        }}\n",
              "}});\n",
              "\n",
              "// Listen for the removal of the full notebook cells\n",
              "var notebookContainer = gd.closest('#notebook-container');\n",
              "if (notebookContainer) {{\n",
              "    x.observe(notebookContainer, {childList: true});\n",
              "}}\n",
              "\n",
              "// Listen for the clearing of the current output cell\n",
              "var outputEl = gd.closest('.output');\n",
              "if (outputEl) {{\n",
              "    x.observe(outputEl, {childList: true});\n",
              "}}\n",
              "\n",
              "                        })                };                            </script>        </div>\n",
              "</body>\n",
              "</html>"
            ]
          },
          "metadata": {}
        },
        {
          "output_type": "display_data",
          "data": {
            "text/html": [
              "<html>\n",
              "<head><meta charset=\"utf-8\" /></head>\n",
              "<body>\n",
              "    <div>            <script src=\"https://cdnjs.cloudflare.com/ajax/libs/mathjax/2.7.5/MathJax.js?config=TeX-AMS-MML_SVG\"></script><script type=\"text/javascript\">if (window.MathJax && window.MathJax.Hub && window.MathJax.Hub.Config) {window.MathJax.Hub.Config({SVG: {font: \"STIX-Web\"}});}</script>                <script type=\"text/javascript\">window.PlotlyConfig = {MathJaxConfig: 'local'};</script>\n",
              "        <script charset=\"utf-8\" src=\"https://cdn.plot.ly/plotly-2.24.1.min.js\"></script>                <div id=\"43c870f5-47ed-48c6-ae47-7386cce2ab0e\" class=\"plotly-graph-div\" style=\"height:525px; width:100%;\"></div>            <script type=\"text/javascript\">                                    window.PLOTLYENV=window.PLOTLYENV || {};                                    if (document.getElementById(\"43c870f5-47ed-48c6-ae47-7386cce2ab0e\")) {                    Plotly.newPlot(                        \"43c870f5-47ed-48c6-ae47-7386cce2ab0e\",                        [{\"alignmentgroup\":\"True\",\"hovertemplate\":\"Hashtag=%{x}\\u003cbr\\u003eImpressions=%{y}\\u003cextra\\u003e\\u003c\\u002fextra\\u003e\",\"legendgroup\":\"\",\"marker\":{\"color\":\"#636efa\",\"pattern\":{\"shape\":\"\"}},\"name\":\"\",\"offsetgroup\":\"\",\"orientation\":\"v\",\"showlegend\":false,\"textposition\":\"auto\",\"x\":[\"#finance\",\"#money\",\"#business\",\"#investing\",\"#investment\",\"#trading\",\"#stockmarket\",\"#data\",\"#datascience\",\"#dataanalysis\",\"#dataanalytics\",\"#datascientist\",\"#machinelearning\",\"#python\",\"#pythonprogramming\",\"#pythonprojects\",\"#pythoncode\",\"#artificialintelligence\",\"#ai\",\"#dataanalyst\",\"#amankharwal\",\"#thecleverprogrammer\",\"#healthcare\",\"#health\",\"#covid\",\"#deeplearning\",\"#machinelearningprojects\",\"#datascienceprojects\",\"#machinelearningmodels\",\"#pythonlearning\",\"#pythondeveloper\",\"#pythoncoding\",\"#pythonprogrammer\",\"#datavisualization\",\"#bigdata\",\"#dataviz\",\"#analytics\",\"#technology\",\"#programming\",\"#statistics\",\"#coding\",\"#businessintelligence\",\"#datamining\",\"#tech\",\"#computerscience\",\"#tableau\",\"#database\",\"#algorithm\",\"#algorithms\",\"#machinelearningalgorithms\",\"#ml\",\"#softskills\",\"#stocks\",\"#forex\",\"#candlestick\",\"#candlestickcharts\",\"#pythonbooks\",\"#bookstagram\",\"#powerbi\",\"#dataanalysisprojects\",\"#businessanalytics\",\"#neuralnetwork\",\"#neuralnetworks\",\"#tensorflow\",\"#artificialintelligenceai\",\"#alexnet\",\"#sentimentanalysis\",\"#sentiment\",\"#nlp\",\"#naturallanguageprocessing\",\"#timeseries\",\"#time\",\"#timeseriesanalysis\",\"#iot\",\"#analysis\",\"#timeseriesmalaysia\",\"#career\",\"#job\",\"#jobs\",\"#jobsearch\",\"#education\",\"#success\",\"#careergoals\",\"#motivation\",\"#work\",\"#careerdevelopment\",\"#careers\",\"#goals\",\"#resume\",\"#students\",\"#careeradvice\",\"#marketing\",\"#digitalmarketing\",\"#media\",\"#socialmedia\",\"#IT\",\"#webdevelopment\",\"#stress\",\"#stressdetection\",\"#zomato\",\"#casestudy\",\"#businessmodel\",\"#boxplots\",\"#programmer\",\"#developer\",\"#javascript\",\"#code\",\"#coder\",\"#java\",\"#html\",\"#css\",\"#webdeveloper\",\"#software\",\"#codinglife\",\"#softwaredeveloper\",\"#linux\",\"#programmingmemes\",\"#webdesign\",\"#programmers\",\"#php\",\"#programminglife\",\"#hacking\",\"#bitcoin\",\"#cryptocurrency\",\"#projects\",\"#casestudies\",\"#amazonfinds\",\"#security\",\"#cybersecurity\",\"#network\",\"#internet\",\"#cloud\",\"#innovation\",\"#google\",\"#facebook\",\"#interview\",\"#datascienceinterview\",\"#otp\",\"#otpverification\",\"#qrcodes\",\"#bigdataanalytics\",\"#recommended\",\"#recommendations\",\"#recommendationsystem\",\"#recommendation\",\"#codinginterview\",\"#flipkart\",\"#news\",\"#pythonprogram\",\"@codergallery\",\"#whatsapp\",\"#roadmap\",\"#ukraine\",\"#instagram\",\"#instagramreach\",\"#datasciencejobs\",\"#datasciencetraining\",\"#datascienceeducation\",\"#datasciencecourse\",\"#sql\",\"#mysql\",\"#python3\",\"#pythonprogramminglanguage\",\"#clustering\"],\"xaxis\":\"x\",\"y\":[14224,14224,51387,14224,9757,9757,9757,484761,524640,457923,497787,483746,532627,578243,525346,567608,470276,506190,512027,47051,672166,672166,18292,18292,18292,445317,297427,297427,27201,135901,135901,135901,135901,64864,70884,15438,53464,85523,90132,47283,83264,17971,17971,78655,75019,6506,22088,57289,57289,71529,30316,3884,5837,5837,5837,5837,3541,3541,13389,9401,9401,31660,18529,14240,14240,2218,34102,34102,42567,42567,22444,22444,22444,22444,22444,22444,8004,14856,8004,8004,8004,8004,8004,8004,8004,8004,8004,8004,8004,8004,8004,8004,8004,8004,8004,8004,35456,12336,12336,10844,10844,10844,2064,22843,22843,22843,22843,22843,22843,22843,22843,22843,29024,22843,22843,15991,15991,15991,15991,15991,15991,15991,14121,14121,7848,7848,6030,6181,6181,6181,6181,6181,6181,3854,2327,16139,4998,8030,8030,3786,3988,10036,10036,10036,10036,6852,3601,3525,2957,2957,5538,10682,8001,7231,7231,86691,86691,86691,86691,17713,17713,15991,15991,9870],\"yaxis\":\"y\",\"type\":\"bar\"}],                        {\"template\":{\"data\":{\"histogram2dcontour\":[{\"type\":\"histogram2dcontour\",\"colorbar\":{\"outlinewidth\":0,\"ticks\":\"\"},\"colorscale\":[[0.0,\"#0d0887\"],[0.1111111111111111,\"#46039f\"],[0.2222222222222222,\"#7201a8\"],[0.3333333333333333,\"#9c179e\"],[0.4444444444444444,\"#bd3786\"],[0.5555555555555556,\"#d8576b\"],[0.6666666666666666,\"#ed7953\"],[0.7777777777777778,\"#fb9f3a\"],[0.8888888888888888,\"#fdca26\"],[1.0,\"#f0f921\"]]}],\"choropleth\":[{\"type\":\"choropleth\",\"colorbar\":{\"outlinewidth\":0,\"ticks\":\"\"}}],\"histogram2d\":[{\"type\":\"histogram2d\",\"colorbar\":{\"outlinewidth\":0,\"ticks\":\"\"},\"colorscale\":[[0.0,\"#0d0887\"],[0.1111111111111111,\"#46039f\"],[0.2222222222222222,\"#7201a8\"],[0.3333333333333333,\"#9c179e\"],[0.4444444444444444,\"#bd3786\"],[0.5555555555555556,\"#d8576b\"],[0.6666666666666666,\"#ed7953\"],[0.7777777777777778,\"#fb9f3a\"],[0.8888888888888888,\"#fdca26\"],[1.0,\"#f0f921\"]]}],\"heatmap\":[{\"type\":\"heatmap\",\"colorbar\":{\"outlinewidth\":0,\"ticks\":\"\"},\"colorscale\":[[0.0,\"#0d0887\"],[0.1111111111111111,\"#46039f\"],[0.2222222222222222,\"#7201a8\"],[0.3333333333333333,\"#9c179e\"],[0.4444444444444444,\"#bd3786\"],[0.5555555555555556,\"#d8576b\"],[0.6666666666666666,\"#ed7953\"],[0.7777777777777778,\"#fb9f3a\"],[0.8888888888888888,\"#fdca26\"],[1.0,\"#f0f921\"]]}],\"heatmapgl\":[{\"type\":\"heatmapgl\",\"colorbar\":{\"outlinewidth\":0,\"ticks\":\"\"},\"colorscale\":[[0.0,\"#0d0887\"],[0.1111111111111111,\"#46039f\"],[0.2222222222222222,\"#7201a8\"],[0.3333333333333333,\"#9c179e\"],[0.4444444444444444,\"#bd3786\"],[0.5555555555555556,\"#d8576b\"],[0.6666666666666666,\"#ed7953\"],[0.7777777777777778,\"#fb9f3a\"],[0.8888888888888888,\"#fdca26\"],[1.0,\"#f0f921\"]]}],\"contourcarpet\":[{\"type\":\"contourcarpet\",\"colorbar\":{\"outlinewidth\":0,\"ticks\":\"\"}}],\"contour\":[{\"type\":\"contour\",\"colorbar\":{\"outlinewidth\":0,\"ticks\":\"\"},\"colorscale\":[[0.0,\"#0d0887\"],[0.1111111111111111,\"#46039f\"],[0.2222222222222222,\"#7201a8\"],[0.3333333333333333,\"#9c179e\"],[0.4444444444444444,\"#bd3786\"],[0.5555555555555556,\"#d8576b\"],[0.6666666666666666,\"#ed7953\"],[0.7777777777777778,\"#fb9f3a\"],[0.8888888888888888,\"#fdca26\"],[1.0,\"#f0f921\"]]}],\"surface\":[{\"type\":\"surface\",\"colorbar\":{\"outlinewidth\":0,\"ticks\":\"\"},\"colorscale\":[[0.0,\"#0d0887\"],[0.1111111111111111,\"#46039f\"],[0.2222222222222222,\"#7201a8\"],[0.3333333333333333,\"#9c179e\"],[0.4444444444444444,\"#bd3786\"],[0.5555555555555556,\"#d8576b\"],[0.6666666666666666,\"#ed7953\"],[0.7777777777777778,\"#fb9f3a\"],[0.8888888888888888,\"#fdca26\"],[1.0,\"#f0f921\"]]}],\"mesh3d\":[{\"type\":\"mesh3d\",\"colorbar\":{\"outlinewidth\":0,\"ticks\":\"\"}}],\"scatter\":[{\"fillpattern\":{\"fillmode\":\"overlay\",\"size\":10,\"solidity\":0.2},\"type\":\"scatter\"}],\"parcoords\":[{\"type\":\"parcoords\",\"line\":{\"colorbar\":{\"outlinewidth\":0,\"ticks\":\"\"}}}],\"scatterpolargl\":[{\"type\":\"scatterpolargl\",\"marker\":{\"colorbar\":{\"outlinewidth\":0,\"ticks\":\"\"}}}],\"bar\":[{\"error_x\":{\"color\":\"#2a3f5f\"},\"error_y\":{\"color\":\"#2a3f5f\"},\"marker\":{\"line\":{\"color\":\"white\",\"width\":0.5},\"pattern\":{\"fillmode\":\"overlay\",\"size\":10,\"solidity\":0.2}},\"type\":\"bar\"}],\"scattergeo\":[{\"type\":\"scattergeo\",\"marker\":{\"colorbar\":{\"outlinewidth\":0,\"ticks\":\"\"}}}],\"scatterpolar\":[{\"type\":\"scatterpolar\",\"marker\":{\"colorbar\":{\"outlinewidth\":0,\"ticks\":\"\"}}}],\"histogram\":[{\"marker\":{\"pattern\":{\"fillmode\":\"overlay\",\"size\":10,\"solidity\":0.2}},\"type\":\"histogram\"}],\"scattergl\":[{\"type\":\"scattergl\",\"marker\":{\"colorbar\":{\"outlinewidth\":0,\"ticks\":\"\"}}}],\"scatter3d\":[{\"type\":\"scatter3d\",\"line\":{\"colorbar\":{\"outlinewidth\":0,\"ticks\":\"\"}},\"marker\":{\"colorbar\":{\"outlinewidth\":0,\"ticks\":\"\"}}}],\"scattermapbox\":[{\"type\":\"scattermapbox\",\"marker\":{\"colorbar\":{\"outlinewidth\":0,\"ticks\":\"\"}}}],\"scatterternary\":[{\"type\":\"scatterternary\",\"marker\":{\"colorbar\":{\"outlinewidth\":0,\"ticks\":\"\"}}}],\"scattercarpet\":[{\"type\":\"scattercarpet\",\"marker\":{\"colorbar\":{\"outlinewidth\":0,\"ticks\":\"\"}}}],\"carpet\":[{\"aaxis\":{\"endlinecolor\":\"#2a3f5f\",\"gridcolor\":\"#C8D4E3\",\"linecolor\":\"#C8D4E3\",\"minorgridcolor\":\"#C8D4E3\",\"startlinecolor\":\"#2a3f5f\"},\"baxis\":{\"endlinecolor\":\"#2a3f5f\",\"gridcolor\":\"#C8D4E3\",\"linecolor\":\"#C8D4E3\",\"minorgridcolor\":\"#C8D4E3\",\"startlinecolor\":\"#2a3f5f\"},\"type\":\"carpet\"}],\"table\":[{\"cells\":{\"fill\":{\"color\":\"#EBF0F8\"},\"line\":{\"color\":\"white\"}},\"header\":{\"fill\":{\"color\":\"#C8D4E3\"},\"line\":{\"color\":\"white\"}},\"type\":\"table\"}],\"barpolar\":[{\"marker\":{\"line\":{\"color\":\"white\",\"width\":0.5},\"pattern\":{\"fillmode\":\"overlay\",\"size\":10,\"solidity\":0.2}},\"type\":\"barpolar\"}],\"pie\":[{\"automargin\":true,\"type\":\"pie\"}]},\"layout\":{\"autotypenumbers\":\"strict\",\"colorway\":[\"#636efa\",\"#EF553B\",\"#00cc96\",\"#ab63fa\",\"#FFA15A\",\"#19d3f3\",\"#FF6692\",\"#B6E880\",\"#FF97FF\",\"#FECB52\"],\"font\":{\"color\":\"#2a3f5f\"},\"hovermode\":\"closest\",\"hoverlabel\":{\"align\":\"left\"},\"paper_bgcolor\":\"white\",\"plot_bgcolor\":\"white\",\"polar\":{\"bgcolor\":\"white\",\"angularaxis\":{\"gridcolor\":\"#EBF0F8\",\"linecolor\":\"#EBF0F8\",\"ticks\":\"\"},\"radialaxis\":{\"gridcolor\":\"#EBF0F8\",\"linecolor\":\"#EBF0F8\",\"ticks\":\"\"}},\"ternary\":{\"bgcolor\":\"white\",\"aaxis\":{\"gridcolor\":\"#DFE8F3\",\"linecolor\":\"#A2B1C6\",\"ticks\":\"\"},\"baxis\":{\"gridcolor\":\"#DFE8F3\",\"linecolor\":\"#A2B1C6\",\"ticks\":\"\"},\"caxis\":{\"gridcolor\":\"#DFE8F3\",\"linecolor\":\"#A2B1C6\",\"ticks\":\"\"}},\"coloraxis\":{\"colorbar\":{\"outlinewidth\":0,\"ticks\":\"\"}},\"colorscale\":{\"sequential\":[[0.0,\"#0d0887\"],[0.1111111111111111,\"#46039f\"],[0.2222222222222222,\"#7201a8\"],[0.3333333333333333,\"#9c179e\"],[0.4444444444444444,\"#bd3786\"],[0.5555555555555556,\"#d8576b\"],[0.6666666666666666,\"#ed7953\"],[0.7777777777777778,\"#fb9f3a\"],[0.8888888888888888,\"#fdca26\"],[1.0,\"#f0f921\"]],\"sequentialminus\":[[0.0,\"#0d0887\"],[0.1111111111111111,\"#46039f\"],[0.2222222222222222,\"#7201a8\"],[0.3333333333333333,\"#9c179e\"],[0.4444444444444444,\"#bd3786\"],[0.5555555555555556,\"#d8576b\"],[0.6666666666666666,\"#ed7953\"],[0.7777777777777778,\"#fb9f3a\"],[0.8888888888888888,\"#fdca26\"],[1.0,\"#f0f921\"]],\"diverging\":[[0,\"#8e0152\"],[0.1,\"#c51b7d\"],[0.2,\"#de77ae\"],[0.3,\"#f1b6da\"],[0.4,\"#fde0ef\"],[0.5,\"#f7f7f7\"],[0.6,\"#e6f5d0\"],[0.7,\"#b8e186\"],[0.8,\"#7fbc41\"],[0.9,\"#4d9221\"],[1,\"#276419\"]]},\"xaxis\":{\"gridcolor\":\"#EBF0F8\",\"linecolor\":\"#EBF0F8\",\"ticks\":\"\",\"title\":{\"standoff\":15},\"zerolinecolor\":\"#EBF0F8\",\"automargin\":true,\"zerolinewidth\":2},\"yaxis\":{\"gridcolor\":\"#EBF0F8\",\"linecolor\":\"#EBF0F8\",\"ticks\":\"\",\"title\":{\"standoff\":15},\"zerolinecolor\":\"#EBF0F8\",\"automargin\":true,\"zerolinewidth\":2},\"scene\":{\"xaxis\":{\"backgroundcolor\":\"white\",\"gridcolor\":\"#DFE8F3\",\"linecolor\":\"#EBF0F8\",\"showbackground\":true,\"ticks\":\"\",\"zerolinecolor\":\"#EBF0F8\",\"gridwidth\":2},\"yaxis\":{\"backgroundcolor\":\"white\",\"gridcolor\":\"#DFE8F3\",\"linecolor\":\"#EBF0F8\",\"showbackground\":true,\"ticks\":\"\",\"zerolinecolor\":\"#EBF0F8\",\"gridwidth\":2},\"zaxis\":{\"backgroundcolor\":\"white\",\"gridcolor\":\"#DFE8F3\",\"linecolor\":\"#EBF0F8\",\"showbackground\":true,\"ticks\":\"\",\"zerolinecolor\":\"#EBF0F8\",\"gridwidth\":2}},\"shapedefaults\":{\"line\":{\"color\":\"#2a3f5f\"}},\"annotationdefaults\":{\"arrowcolor\":\"#2a3f5f\",\"arrowhead\":0,\"arrowwidth\":1},\"geo\":{\"bgcolor\":\"white\",\"landcolor\":\"white\",\"subunitcolor\":\"#C8D4E3\",\"showland\":true,\"showlakes\":true,\"lakecolor\":\"white\"},\"title\":{\"x\":0.05},\"mapbox\":{\"style\":\"light\"}}},\"xaxis\":{\"anchor\":\"y\",\"domain\":[0.0,1.0],\"title\":{\"text\":\"Hashtag\"}},\"yaxis\":{\"anchor\":\"x\",\"domain\":[0.0,1.0],\"title\":{\"text\":\"Impressions\"}},\"legend\":{\"tracegroupgap\":0},\"title\":{\"text\":\"Impressions Distribution for Each Hashtag\"},\"barmode\":\"relative\"},                        {\"responsive\": true}                    ).then(function(){\n",
              "                            \n",
              "var gd = document.getElementById('43c870f5-47ed-48c6-ae47-7386cce2ab0e');\n",
              "var x = new MutationObserver(function (mutations, observer) {{\n",
              "        var display = window.getComputedStyle(gd).display;\n",
              "        if (!display || display === 'none') {{\n",
              "            console.log([gd, 'removed!']);\n",
              "            Plotly.purge(gd);\n",
              "            observer.disconnect();\n",
              "        }}\n",
              "}});\n",
              "\n",
              "// Listen for the removal of the full notebook cells\n",
              "var notebookContainer = gd.closest('#notebook-container');\n",
              "if (notebookContainer) {{\n",
              "    x.observe(notebookContainer, {childList: true});\n",
              "}}\n",
              "\n",
              "// Listen for the clearing of the current output cell\n",
              "var outputEl = gd.closest('.output');\n",
              "if (outputEl) {{\n",
              "    x.observe(outputEl, {childList: true});\n",
              "}}\n",
              "\n",
              "                        })                };                            </script>        </div>\n",
              "</body>\n",
              "</html>"
            ]
          },
          "metadata": {}
        }
      ]
    },
    {
      "cell_type": "markdown",
      "source": [
        "**Q.14: Write summary as per your observation**"
      ],
      "metadata": {
        "id": "7Jh8c_WhNrNM"
      }
    },
    {
      "cell_type": "markdown",
      "source": [
        "**Summary:**\n",
        "Exploratory data analysis (EDA) is a Data Science concept where we analyze a dataset to discover patterns, trends, and relationships within the data. It helps us better understand the information contained in the dataset and guides us in making informed decisions and formulating strategies to solve real business problems.\n"
      ],
      "metadata": {
        "id": "2IIhJIYALODh"
      }
    }
  ]
}