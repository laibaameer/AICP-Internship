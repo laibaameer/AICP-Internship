{
  "nbformat": 4,
  "nbformat_minor": 0,
  "metadata": {
    "colab": {
      "provenance": []
    },
    "kernelspec": {
      "name": "python3",
      "display_name": "Python 3"
    },
    "language_info": {
      "name": "python"
    }
  },
  "cells": [
    {
      "cell_type": "markdown",
      "source": [
        "**Write a NumPy program to create an array of all even integers from 30 to 70**"
      ],
      "metadata": {
        "id": "t_Jb86Pa9vEt"
      }
    },
    {
      "cell_type": "code",
      "source": [
        "# Importing the NumPy library with 'np'\n",
        "import numpy as np\n",
        "\n",
        "# Creating an array of even integers from 30 to 70 (inclusive) with a step size of 2 using np.arange()\n",
        "array = np.arange(30, 71, 2)\n",
        "\n",
        "# Printing a message indicating an array of all the even integers from 30 to 70\n",
        "print(\"Array of all the even integers from 30 to 70\")\n",
        "\n",
        "# Printing the array of all the even integers from 30 to 70\n",
        "print(array)"
      ],
      "metadata": {
        "colab": {
          "base_uri": "https://localhost:8080/"
        },
        "id": "8r4kNQBw7vsc",
        "outputId": "c1f5eb91-7a20-46d5-efa9-6ab0e6b2c8e8"
      },
      "execution_count": 1,
      "outputs": [
        {
          "output_type": "stream",
          "name": "stdout",
          "text": [
            "Array of all the even integers from 30 to 70\n",
            "[30 32 34 36 38 40 42 44 46 48 50 52 54 56 58 60 62 64 66 68 70]\n"
          ]
        }
      ]
    },
    {
      "cell_type": "markdown",
      "source": [
        "**Write a NumPy program to generate an array of 15 random numbers from a standard normal distribution.**"
      ],
      "metadata": {
        "id": "As_4g6zO93aD"
      }
    },
    {
      "cell_type": "code",
      "source": [
        "# Importing the NumPy library with an'np'\n",
        "import numpy as np\n",
        "\n",
        "# Generating an array of 15 random numbers from a standard normal distribution using np.random.normal()\n",
        "rand_num = np.random.normal(0, 1, 15)\n",
        "\n",
        "# Printing a message indicating 15 random numbers from a standard normal distribution\n",
        "print(\"15 random numbers from a standard normal distribution:\")\n",
        "\n",
        "# Printing the array of 15 random numbers\n",
        "print(rand_num)"
      ],
      "metadata": {
        "colab": {
          "base_uri": "https://localhost:8080/"
        },
        "id": "qw6FS0Bz8crP",
        "outputId": "9beada9f-72cc-4b1a-84df-61ce0ea9ec05"
      },
      "execution_count": 2,
      "outputs": [
        {
          "output_type": "stream",
          "name": "stdout",
          "text": [
            "15 random numbers from a standard normal distribution:\n",
            "[ 1.03569214  0.30315663 -1.27421569 -1.37541344  1.43960076 -0.51922584\n",
            "  0.87998741  0.0988791  -0.44583461  0.18992937 -0.79697768 -0.52414543\n",
            "  0.38219705 -0.29445532 -0.56205986]\n"
          ]
        }
      ]
    },
    {
      "cell_type": "markdown",
      "source": [
        "**How to compute the cross-product of two matrices in NumPy?**"
      ],
      "metadata": {
        "id": "21aWGH0n-CZH"
      }
    },
    {
      "cell_type": "code",
      "source": [
        "#For finding the cross product of two given vectors we are using numpy.cross() function of NumPy library.\n",
        "# import library\n",
        "import numpy as np\n",
        "\n",
        "# declare vectors\n",
        "x = [1, 2]\n",
        "y = [3, 4]\n",
        "\n",
        "# find cross product of\n",
        "# two given vectors\n",
        "result = np.cross(x, y)\n",
        "\n",
        "# show the result\n",
        "print(result)"
      ],
      "metadata": {
        "colab": {
          "base_uri": "https://localhost:8080/"
        },
        "id": "1iR6jQg88up0",
        "outputId": "e3d6e417-b2dc-4ef7-9b4c-8497aecfb3f0"
      },
      "execution_count": 3,
      "outputs": [
        {
          "output_type": "stream",
          "name": "stdout",
          "text": [
            "-2\n"
          ]
        }
      ]
    },
    {
      "cell_type": "markdown",
      "source": [
        "**How to compute the determinant of an array using NumPy?**"
      ],
      "metadata": {
        "id": "Db6oSxF2-GEH"
      }
    },
    {
      "cell_type": "code",
      "source": [
        "# Import the NumPy library and alias it as 'np'\n",
        "import numpy as np\n",
        "\n",
        "# Create a 2x2 NumPy array 'a' containing specific values\n",
        "a = np.array([[1,2],[3,4]])\n",
        "\n",
        "# Display the original array 'a'\n",
        "print(\"Original array:\")\n",
        "print(a)\n",
        "\n",
        "# Calculate the determinant of the array 'a' using np.linalg.det() function\n",
        "result =  np.linalg.det(a)\n",
        "\n",
        "# Display the determinant of the array 'a'\n",
        "print(\"Determinant of the said array:\")\n",
        "print(result)"
      ],
      "metadata": {
        "colab": {
          "base_uri": "https://localhost:8080/"
        },
        "id": "uvSN22-6-KMJ",
        "outputId": "184393a3-05c2-4e2a-a18d-1023e9a23479"
      },
      "execution_count": 5,
      "outputs": [
        {
          "output_type": "stream",
          "name": "stdout",
          "text": [
            "Original array:\n",
            "[[1 2]\n",
            " [3 4]]\n",
            "Determinant of the said array:\n",
            "-2.0000000000000004\n"
          ]
        }
      ]
    },
    {
      "cell_type": "markdown",
      "source": [
        "**How to create a 3x3x3 array with random values using NumPy?**"
      ],
      "metadata": {
        "id": "tIVf6KOi-pet"
      }
    },
    {
      "cell_type": "code",
      "source": [
        "# Importing the NumPy library as np\n",
        "\n",
        "import numpy as np\n",
        "\n",
        "# Generating a 3x3x3 NumPy array 'x' filled with random floats between 0 and 1 using np.random.random()\n",
        "\n",
        "x = np.random.random((3, 3, 3))\n",
        "\n",
        "# Printing the array 'x'\n",
        "print(x)"
      ],
      "metadata": {
        "colab": {
          "base_uri": "https://localhost:8080/"
        },
        "id": "esPTCYiZ-7Vh",
        "outputId": "753c51eb-93f4-4503-e22f-434fb7692422"
      },
      "execution_count": 4,
      "outputs": [
        {
          "output_type": "stream",
          "name": "stdout",
          "text": [
            "[[[0.93312487 0.35130654 0.85115986]\n",
            "  [0.62449251 0.8239271  0.53369081]\n",
            "  [0.35519893 0.12754957 0.92093724]]\n",
            "\n",
            " [[0.37393492 0.89869905 0.24478536]\n",
            "  [0.18895331 0.55021379 0.31907802]\n",
            "  [0.67248222 0.86990724 0.92263597]]\n",
            "\n",
            " [[0.41732362 0.62123219 0.86661827]\n",
            "  [0.62525391 0.27641374 0.7699392 ]\n",
            "  [0.36094567 0.7965225  0.2631533 ]]]\n"
          ]
        }
      ]
    },
    {
      "cell_type": "markdown",
      "source": [
        "**How to create a 5x5 array with random values and find the minimum and maximum values using NumPy?**"
      ],
      "metadata": {
        "id": "lzx68IJg-sBd"
      }
    },
    {
      "cell_type": "code",
      "source": [
        "# Importing the NumPy library as np\n",
        "\n",
        "import numpy as np\n",
        "\n",
        "# Generating a 5x5 NumPy array 'x' filled with random floats between 0 and 1 using np.random.random()\n",
        "\n",
        "x = np.random.random((5, 5))\n",
        "\n",
        "# Printing the original array 'x'\n",
        "print(\"Original Array:\")\n",
        "print(x)\n",
        "\n",
        "# Calculating the minimum and maximum values in array 'x' using x.min() and x.max() functions\n",
        "xmin, xmax = x.min(), x.max()\n",
        "\n",
        "# Printing the minimum and maximum values of the array 'x'\n",
        "print(\"Minimum and Maximum Values:\")\n",
        "print(xmin, xmax)"
      ],
      "metadata": {
        "colab": {
          "base_uri": "https://localhost:8080/"
        },
        "id": "S4Bp2tDF_6L1",
        "outputId": "2777616d-f43e-4ad4-ac43-4a067d6f4ac7"
      },
      "execution_count": 6,
      "outputs": [
        {
          "output_type": "stream",
          "name": "stdout",
          "text": [
            "Original Array:\n",
            "[[0.69809815 0.30918438 0.61073611 0.02551501 0.89779581]\n",
            " [0.33133233 0.56527695 0.70362411 0.84010739 0.32221677]\n",
            " [0.07137599 0.58611445 0.54809569 0.17966083 0.92388315]\n",
            " [0.92515711 0.54830524 0.11671481 0.95577158 0.61859725]\n",
            " [0.54617039 0.67924264 0.24500007 0.12665195 0.17041188]]\n",
            "Minimum and Maximum Values:\n",
            "0.02551500985600752 0.9557715777164139\n"
          ]
        }
      ]
    },
    {
      "cell_type": "markdown",
      "source": [
        "**How to compute the mean, standard deviation, and variance of a given array along the second axis in\n",
        "NumPy?**"
      ],
      "metadata": {
        "id": "A7PDqAt4AIki"
      }
    },
    {
      "cell_type": "code",
      "source": [
        "# Importing the NumPy library\n",
        "import numpy as np\n",
        "\n",
        "# Creating an array 'x' using arange with 6 elements\n",
        "x = np.arange(6)\n",
        "\n",
        "# Displaying the original array 'x'\n",
        "print(\"\\nOriginal array:\")\n",
        "print(x)\n",
        "\n",
        "# Calculating the mean of the array 'x' using np.mean()\n",
        "r1 = np.mean(x)\n",
        "\n",
        "# Calculating the average of the array 'x' using np.average()\n",
        "r2 = np.average(x)\n",
        "\n",
        "# Asserting if the results from np.mean() and np.average() are close\n",
        "assert np.allclose(r1, r2)\n",
        "\n",
        "# Displaying the calculated mean of the array 'x'\n",
        "print(\"\\nMean: \", r1)\n",
        "\n",
        "# Calculating the standard deviation of the array 'x' using np.std()\n",
        "r1 = np.std(x)\n",
        "\n",
        "# Calculating the standard deviation manually\n",
        "r2 = np.sqrt(np.mean((x - np.mean(x)) ** 2))\n",
        "\n",
        "# Asserting if the results from np.std() and manual calculation are close\n",
        "assert np.allclose(r1, r2)\n",
        "\n",
        "# Displaying the calculated standard deviation of the array 'x'\n",
        "print(\"\\nstd: \", r1)\n",
        "\n",
        "# Calculating the variance of the array 'x' using np.var()\n",
        "r1 = np.var(x)\n",
        "\n",
        "# Calculating the variance manually\n",
        "r2 = np.mean((x - np.mean(x)) ** 2)\n",
        "\n",
        "# Asserting if the results from np.var() and manual calculation are close\n",
        "assert np.allclose(r1, r2)\n",
        "\n",
        "# Displaying the calculated variance of the array 'x'\n",
        "print(\"\\nvariance: \", r1)\n"
      ],
      "metadata": {
        "colab": {
          "base_uri": "https://localhost:8080/"
        },
        "id": "fqMeCSBFAUHt",
        "outputId": "6f0e897a-3259-4b8b-8710-b069b21ee2a4"
      },
      "execution_count": 7,
      "outputs": [
        {
          "output_type": "stream",
          "name": "stdout",
          "text": [
            "\n",
            "Original array:\n",
            "[0 1 2 3 4 5]\n",
            "\n",
            "Mean:  2.5\n",
            "\n",
            "std:  1.707825127659933\n",
            "\n",
            "variance:  2.9166666666666665\n"
          ]
        }
      ]
    }
  ]
}